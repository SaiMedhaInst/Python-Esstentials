{
 "cells": [
  {
   "cell_type": "markdown",
   "metadata": {},
   "source": [
    "### Functional Programming VS Object Oriented Programming (OOP)?"
   ]
  },
  {
   "cell_type": "markdown",
   "metadata": {},
   "source": [
    "Functional programming is the form of programming that attempts to avoid changing state and mutable data. In a functional program, the output of a function should always be the same, given the same exact inputs to the function.\n",
    "\n",
    "\n",
    "This is because the outputs of a function in functional programming purely relies on arguments of the function, and there is no magic that is happening behind the scenes. This is called eliminating side effects in your code.\n",
    "\n",
    "\n",
    "For example, if you call function getAddition() it calculates the sum of two inputs and returns the sum. Given the same inputs for x and y, we will always get the same output for sum.\n",
    "\n",
    "\n",
    "Functional programming provides the advantages like efficiency, lazy evaluation, nested functions, bug-free code, parallel programming. In simple language, functional programming is to write the function having statements to execute a particular task for the application"
   ]
  },
  {
   "cell_type": "markdown",
   "metadata": {},
   "source": [
    "- Object oriented programming is a programming paradigm in which you program using objects to represent things you are programming about (sometimes real world things). These objects could be data structures. The objects hold data about them in attributes. The attributes in the objects are manipulated through methods or functions that are given to the object.\n",
    "\n",
    "- For example we might have a car object that represents of all of data the data a car can have , like speed , weight , color , horse power , model name , engine type etc\n",
    "\n",
    "\n",
    "- The main deal with OOP is the ability to encapsulate data from outsiders. Encapsulation is the ability to hide variables within the class from outside access — which makes it great for security reasons, along with leaky, unwanted or accidental usage"
   ]
  },
  {
   "cell_type": "code",
   "execution_count": 1,
   "metadata": {},
   "outputs": [
    {
     "data": {
      "text/plain": [
       "200"
      ]
     },
     "execution_count": 1,
     "metadata": {},
     "output_type": "execute_result"
    }
   ],
   "source": [
    "def add(a,b):\n",
    "    def mult(a):\n",
    "        return a*10\n",
    "    def addition(a,b):\n",
    "        return a**b\n",
    "    return addition(a,b) + mult(a)\n",
    "\n",
    "\n",
    "\n",
    "add(10,2)"
   ]
  },
  {
   "cell_type": "code",
   "execution_count": null,
   "metadata": {},
   "outputs": [],
   "source": []
  },
  {
   "cell_type": "markdown",
   "metadata": {},
   "source": [
    "<img src = \"https://miro.medium.com/max/875/1*9OCTlnrfdIvV6dsBv-ECow.jpeg\">"
   ]
  },
  {
   "cell_type": "markdown",
   "metadata": {},
   "source": [
    "### OOP's\n",
    "\n",
    "Object means a real-world entity such as a pen, chair, table, computer, watch, etc. Object-Oriented Programming is a methodology or paradigm to design a program using classes and objects. It simplifies software development and maintenance by providing some concepts:\n",
    "\n",
    "- Object\n",
    "- Class\n",
    "- Inheritance\n",
    "- Polymorphism\n",
    "- Abstraction\n",
    "- Encapsulation"
   ]
  },
  {
   "cell_type": "markdown",
   "metadata": {},
   "source": [
    "<img src =\"https://i.pinimg.com/564x/7d/9d/82/7d9d82a724a956883aa64cff9d112c63.jpg \">"
   ]
  },
  {
   "cell_type": "markdown",
   "metadata": {},
   "source": [
    "### Class & Object\n",
    "\n",
    "- As we know all , Python is an object oriented programming language.\n",
    "- In python almost everything is an object with properties and methods\n",
    "\n",
    "\n",
    "### Class\n",
    "\n",
    "- A class is like a object constuctor \n",
    "- A class defines the specification of the instance ( object) , in simple words it design a blue print ,for the object with all behavourial things defined.\n",
    "\n",
    "- It is like a template\n",
    "\n",
    "- In Python to create a class CLASS keyword is used.\n",
    "\n",
    "- Class names should be singular and pascal case style\n",
    "\n",
    "\n",
    "### object :\n",
    "\n",
    "- An object is defined as Real entity derived from class definition\n",
    "\n",
    "- An object is data formatted to represent a real world object that has a state and behavior\n",
    "\n",
    "- State = defined by attributes \n",
    "\n",
    "- Behaviour = defined by methods\n",
    "\n",
    "- An object cant exist without a Class.\n",
    "- Object will have attributes(variables) and methods(functions) and their associated properties\n",
    "\n",
    "- Object expose the data to the outside world using methods\n",
    "- Always attributes are private scope and methods are public scope , bounded together.\n",
    "\n"
   ]
  },
  {
   "cell_type": "markdown",
   "metadata": {},
   "source": [
    "<img src = \"https://javatutorial.net/wp-content/uploads/2014/11/class-object-featured-image-1280x720.png \">"
   ]
  },
  {
   "cell_type": "code",
   "execution_count": 10,
   "metadata": {},
   "outputs": [],
   "source": [
    "def add(n1,n2):\n",
    "    return n1+n2"
   ]
  },
  {
   "cell_type": "code",
   "execution_count": 11,
   "metadata": {},
   "outputs": [
    {
     "name": "stdout",
     "output_type": "stream",
     "text": [
      "<function add at 0x000002D6CE3B8940> <class 'function'>\n"
     ]
    }
   ],
   "source": [
    "a =  {10,20}\n",
    "print(add , type(add))"
   ]
  },
  {
   "cell_type": "code",
   "execution_count": null,
   "metadata": {},
   "outputs": [],
   "source": []
  },
  {
   "cell_type": "code",
   "execution_count": null,
   "metadata": {},
   "outputs": [],
   "source": []
  },
  {
   "cell_type": "code",
   "execution_count": null,
   "metadata": {},
   "outputs": [],
   "source": []
  },
  {
   "cell_type": "code",
   "execution_count": null,
   "metadata": {},
   "outputs": [],
   "source": []
  },
  {
   "cell_type": "markdown",
   "metadata": {},
   "source": [
    "\n",
    "### Class"
   ]
  },
  {
   "cell_type": "markdown",
   "metadata": {},
   "source": [
    "#### class declaration example-1"
   ]
  },
  {
   "cell_type": "code",
   "execution_count": 12,
   "metadata": {},
   "outputs": [],
   "source": [
    "class Computer: #blue print/ class specification/ template\n",
    "    #attributes\n",
    "    name = 'win-11'\n",
    "    ram = '16GB'\n",
    "    price = 55000\n",
    "    hdd = '2TB'\n",
    "\n",
    "    \n",
    "    \n",
    "## object creation...\n",
    "\n",
    "com = Computer()\n"
   ]
  },
  {
   "cell_type": "code",
   "execution_count": 30,
   "metadata": {},
   "outputs": [
    {
     "name": "stdout",
     "output_type": "stream",
     "text": [
      "win-11\n"
     ]
    }
   ],
   "source": [
    "com2 = Computer()\n",
    "\n",
    "print(com2.name)"
   ]
  },
  {
   "cell_type": "code",
   "execution_count": 19,
   "metadata": {},
   "outputs": [
    {
     "name": "stdout",
     "output_type": "stream",
     "text": [
      "win-11\n",
      "55000\n",
      "2TB\n"
     ]
    }
   ],
   "source": [
    "# print(com)\n",
    "\n",
    "# access \n",
    "# objectname.attributeName\n",
    "\n",
    "print(com.name) \n",
    "print(com.price)\n",
    "print(com.hdd)"
   ]
  },
  {
   "cell_type": "code",
   "execution_count": null,
   "metadata": {},
   "outputs": [],
   "source": []
  },
  {
   "cell_type": "code",
   "execution_count": null,
   "metadata": {},
   "outputs": [],
   "source": []
  },
  {
   "cell_type": "markdown",
   "metadata": {},
   "source": [
    "#### class declaration example-2"
   ]
  },
  {
   "cell_type": "code",
   "execution_count": null,
   "metadata": {},
   "outputs": [],
   "source": []
  },
  {
   "cell_type": "code",
   "execution_count": 20,
   "metadata": {},
   "outputs": [
    {
     "name": "stdout",
     "output_type": "stream",
     "text": [
      "<__main__.Test object at 0x000002D6CF676170>\n",
      "['__class__', '__delattr__', '__dict__', '__dir__', '__doc__', '__eq__', '__format__', '__ge__', '__getattribute__', '__gt__', '__hash__', '__init__', '__init_subclass__', '__le__', '__lt__', '__module__', '__ne__', '__new__', '__reduce__', '__reduce_ex__', '__repr__', '__setattr__', '__sizeof__', '__str__', '__subclasshook__', '__weakref__']\n"
     ]
    }
   ],
   "source": [
    "\n",
    "class Test:\n",
    "    pass\n",
    "\n",
    "a = Test()\n",
    "print(a)\n",
    "print(dir(a))"
   ]
  },
  {
   "cell_type": "code",
   "execution_count": null,
   "metadata": {},
   "outputs": [],
   "source": [
    "\n"
   ]
  },
  {
   "cell_type": "markdown",
   "metadata": {},
   "source": [
    "#### class declaration example-3"
   ]
  },
  {
   "cell_type": "code",
   "execution_count": null,
   "metadata": {},
   "outputs": [],
   "source": []
  },
  {
   "cell_type": "code",
   "execution_count": 21,
   "metadata": {},
   "outputs": [],
   "source": [
    "\n",
    "class  Test1:\n",
    "    pass\n",
    "\n",
    "b = Test1()\n",
    "\n",
    "#attributes - variables\n",
    "b.name=\"AK\"\n",
    "b.age=21\n",
    "b.year_of_birth=1999\n"
   ]
  },
  {
   "cell_type": "code",
   "execution_count": 22,
   "metadata": {},
   "outputs": [
    {
     "data": {
      "text/plain": [
       "<__main__.Test1 at 0x2d6cf5270d0>"
      ]
     },
     "execution_count": 22,
     "metadata": {},
     "output_type": "execute_result"
    }
   ],
   "source": [
    "b # its is an instance of type \"test1\""
   ]
  },
  {
   "cell_type": "code",
   "execution_count": 23,
   "metadata": {},
   "outputs": [
    {
     "name": "stdout",
     "output_type": "stream",
     "text": [
      "['__class__', '__delattr__', '__dict__', '__dir__', '__doc__', '__eq__', '__format__', '__ge__', '__getattribute__', '__gt__', '__hash__', '__init__', '__init_subclass__', '__le__', '__lt__', '__module__', '__ne__', '__new__', '__reduce__', '__reduce_ex__', '__repr__', '__setattr__', '__sizeof__', '__str__', '__subclasshook__', '__weakref__', 'age', 'name', 'year_of_birth']\n"
     ]
    }
   ],
   "source": [
    "print(dir(b))"
   ]
  },
  {
   "cell_type": "code",
   "execution_count": null,
   "metadata": {},
   "outputs": [],
   "source": []
  },
  {
   "cell_type": "code",
   "execution_count": 25,
   "metadata": {},
   "outputs": [],
   "source": [
    "##creating another object\n",
    "\n",
    "c=Test1()\n",
    "c.name=\"Wick\"\n",
    "c.age=19\n",
    "c.year_of_birth=2002\n",
    "c.course = \"CSE\"\n",
    "c.surname = \"John\""
   ]
  },
  {
   "cell_type": "code",
   "execution_count": 27,
   "metadata": {},
   "outputs": [
    {
     "name": "stdout",
     "output_type": "stream",
     "text": [
      "{'name': 'AK', 'age': 21, 'year_of_birth': 1999}\n"
     ]
    }
   ],
   "source": [
    "print(b.__dict__)"
   ]
  },
  {
   "cell_type": "code",
   "execution_count": 26,
   "metadata": {},
   "outputs": [
    {
     "name": "stdout",
     "output_type": "stream",
     "text": [
      "{'name': 'Wick', 'age': 19, 'year_of_birth': 2002, 'course': 'CSE', 'surname': 'John'}\n"
     ]
    }
   ],
   "source": [
    "print(c.__dict__)"
   ]
  },
  {
   "cell_type": "code",
   "execution_count": null,
   "metadata": {},
   "outputs": [],
   "source": [
    "#accessing the attributes\n",
    "print(c.name)\n",
    "print(c.age)\n",
    "print(c.year_of_birth)\n",
    "print(c.surname) # ERROR"
   ]
  },
  {
   "cell_type": "code",
   "execution_count": null,
   "metadata": {},
   "outputs": [],
   "source": []
  },
  {
   "cell_type": "code",
   "execution_count": null,
   "metadata": {},
   "outputs": [],
   "source": []
  },
  {
   "cell_type": "markdown",
   "metadata": {},
   "source": [
    "#### class declaration example-4"
   ]
  },
  {
   "cell_type": "code",
   "execution_count": 36,
   "metadata": {},
   "outputs": [
    {
     "name": "stdout",
     "output_type": "stream",
     "text": [
      "hey hi am initialisation method....\n",
      "3121602420816\n",
      "3121602420816\n"
     ]
    }
   ],
   "source": [
    "class A():\n",
    "    def __init__(self):\n",
    "        print(\"hey hi am initialisation method....\")\n",
    "        print(id(saimedha))\n",
    "    \n",
    "    \n",
    "    \n",
    "a = A() #object creation\n",
    "\n",
    "print(id(a))"
   ]
  },
  {
   "cell_type": "code",
   "execution_count": 37,
   "metadata": {},
   "outputs": [
    {
     "name": "stdout",
     "output_type": "stream",
     "text": [
      "hey hi am initialisation method....\n",
      "3121602412896\n",
      "3121602412896\n"
     ]
    }
   ],
   "source": [
    "b = A()\n",
    "print(id(b))"
   ]
  },
  {
   "cell_type": "code",
   "execution_count": null,
   "metadata": {},
   "outputs": [],
   "source": []
  },
  {
   "cell_type": "code",
   "execution_count": 45,
   "metadata": {},
   "outputs": [
    {
     "name": "stdout",
     "output_type": "stream",
     "text": [
      "kumar\n",
      "10002.278\n"
     ]
    }
   ],
   "source": [
    "#method 4 , real life way of defining the class\n",
    "\n",
    "class Person:\n",
    "    def __init__(self,a,b,c,d):\n",
    "        self.name = a\n",
    "        self.college = b\n",
    "        self.fee = c\n",
    "    \n",
    "    #instance methods\n",
    "    def display(self):\n",
    "        print(self.name , self.college ,self.fee ,sep = '')\n",
    "        \n",
    "\n",
    "p = Person(\"kumar\",\"NITS\",10002.278,3) #Creating a object\n",
    "\n",
    "# print(name)\n",
    "\n",
    "print(p.name)\n",
    "print(p.fee)"
   ]
  },
  {
   "cell_type": "code",
   "execution_count": 46,
   "metadata": {},
   "outputs": [
    {
     "name": "stdout",
     "output_type": "stream",
     "text": [
      "kumar, NITS, 10002.278\n"
     ]
    }
   ],
   "source": [
    "p.display()"
   ]
  },
  {
   "cell_type": "code",
   "execution_count": null,
   "metadata": {},
   "outputs": [],
   "source": []
  },
  {
   "cell_type": "markdown",
   "metadata": {},
   "source": [
    "### __init__()\n",
    "\n",
    "All classes have a function called __init__(), which is always executed when the class is being initiated (when object is create).\n",
    "- It a constructor called automatically , Note: The __init__() function is called automatically every time the class is being used to create a new object\n",
    "- Use the __init__() function to assign values to object properties, or other operations that are necessary to do when the object is being created:\n",
    "\n",
    "\n",
    "#### self \n",
    "- The self parameter is a reference to the current instance of the class, and is used to access variables that belong to the class.\n",
    "\n",
    "- self ,You can name it in your way , you can call in what ever you like but it has to be first parameter of any class  "
   ]
  },
  {
   "cell_type": "code",
   "execution_count": 48,
   "metadata": {},
   "outputs": [
    {
     "name": "stdout",
     "output_type": "stream",
     "text": [
      "Object created\n",
      "3121625373072\n",
      "3121625373072\n"
     ]
    }
   ],
   "source": [
    "class A:\n",
    "    def __init__(self):\n",
    "        print(\"Object created\")\n",
    "        print(id(self))\n",
    "\n",
    "obj = A()\n",
    "print(id(obj))\n"
   ]
  },
  {
   "cell_type": "code",
   "execution_count": null,
   "metadata": {},
   "outputs": [],
   "source": []
  },
  {
   "cell_type": "code",
   "execution_count": 49,
   "metadata": {},
   "outputs": [
    {
     "name": "stdout",
     "output_type": "stream",
     "text": [
      "Object created\n",
      "3121625379888\n",
      "Object created\n",
      "3121625382528\n",
      "Object created\n",
      "3121625379888\n",
      "Object created\n",
      "3121625382528\n"
     ]
    }
   ],
   "source": [
    "for i in range(1,5):\n",
    "    o = A()\n",
    "    "
   ]
  },
  {
   "cell_type": "code",
   "execution_count": null,
   "metadata": {},
   "outputs": [],
   "source": []
  },
  {
   "cell_type": "code",
   "execution_count": 53,
   "metadata": {},
   "outputs": [
    {
     "name": "stdout",
     "output_type": "stream",
     "text": [
      "<__main__.Car object at 0x000002D6CF5F1BD0>\n"
     ]
    }
   ],
   "source": [
    "class Car:\n",
    "    user_name  = \"Ak\" # class variable #created only once \n",
    "    def __init__(self,name,price,color): #constructor \n",
    "        self.carName = name #instance variables/ object variables\n",
    "        self.carPrice = price\n",
    "        self.carColor = color\n",
    "\n",
    "\n",
    "\n",
    "tata = Car('tata nex' , '14L' , 'blue')\n",
    "print(tata)"
   ]
  },
  {
   "cell_type": "code",
   "execution_count": 55,
   "metadata": {},
   "outputs": [
    {
     "name": "stdout",
     "output_type": "stream",
     "text": [
      "blue\n"
     ]
    }
   ],
   "source": [
    "print(tata.carColor)"
   ]
  },
  {
   "cell_type": "code",
   "execution_count": 56,
   "metadata": {},
   "outputs": [
    {
     "name": "stdout",
     "output_type": "stream",
     "text": [
      "enter the car namemercedes II\n",
      "enter the price10228920820\n",
      "enter the color carred\n",
      "<__main__.Car object at 0x000002D6CF61F550>\n"
     ]
    }
   ],
   "source": [
    "mercedes = Car(input(\"enter the car name\"),int(input(\"enter the price\")),input(\"enter the color car\"))\n",
    "print(mercedes)"
   ]
  },
  {
   "cell_type": "code",
   "execution_count": 57,
   "metadata": {},
   "outputs": [
    {
     "name": "stdout",
     "output_type": "stream",
     "text": [
      "mercedes II\n"
     ]
    }
   ],
   "source": [
    "print(mercedes.carName)"
   ]
  },
  {
   "cell_type": "code",
   "execution_count": 59,
   "metadata": {},
   "outputs": [
    {
     "name": "stdout",
     "output_type": "stream",
     "text": [
      "{'carName': 'tata nex', 'carPrice': '14L', 'carColor': 'blue'}\n",
      "{'carName': 'mercedes II', 'carPrice': 10228920820, 'carColor': 'red'}\n"
     ]
    }
   ],
   "source": [
    "print(tata.__dict__)\n",
    "print(mercedes.__dict__)"
   ]
  },
  {
   "cell_type": "code",
   "execution_count": 61,
   "metadata": {},
   "outputs": [
    {
     "data": {
      "text/plain": [
       "['__class__',\n",
       " '__delattr__',\n",
       " '__dict__',\n",
       " '__dir__',\n",
       " '__doc__',\n",
       " '__eq__',\n",
       " '__format__',\n",
       " '__ge__',\n",
       " '__getattribute__',\n",
       " '__gt__',\n",
       " '__hash__',\n",
       " '__init__',\n",
       " '__init_subclass__',\n",
       " '__le__',\n",
       " '__lt__',\n",
       " '__module__',\n",
       " '__ne__',\n",
       " '__new__',\n",
       " '__reduce__',\n",
       " '__reduce_ex__',\n",
       " '__repr__',\n",
       " '__setattr__',\n",
       " '__sizeof__',\n",
       " '__str__',\n",
       " '__subclasshook__',\n",
       " '__weakref__',\n",
       " 'carColor',\n",
       " 'carName',\n",
       " 'carPrice',\n",
       " 'user_name']"
      ]
     },
     "execution_count": 61,
     "metadata": {},
     "output_type": "execute_result"
    }
   ],
   "source": [
    "dir(mercedes)"
   ]
  },
  {
   "cell_type": "code",
   "execution_count": null,
   "metadata": {},
   "outputs": [],
   "source": []
  },
  {
   "cell_type": "code",
   "execution_count": 62,
   "metadata": {},
   "outputs": [
    {
     "name": "stdout",
     "output_type": "stream",
     "text": [
      "{'carName': 'Audi', 'carPrice': 2002802, 'carColor': 'white'}\n"
     ]
    }
   ],
   "source": [
    "audi = Car(\"Audi\",2002802,\"white\")\n",
    "print(audi.__dict__)"
   ]
  },
  {
   "cell_type": "code",
   "execution_count": null,
   "metadata": {},
   "outputs": [],
   "source": [
    "# class variable\n",
    "Car.user_name"
   ]
  },
  {
   "cell_type": "code",
   "execution_count": 71,
   "metadata": {},
   "outputs": [],
   "source": [
    "Car.user_name = 'kumar'"
   ]
  },
  {
   "cell_type": "code",
   "execution_count": 72,
   "metadata": {},
   "outputs": [
    {
     "name": "stdout",
     "output_type": "stream",
     "text": [
      "kumar\n",
      "kumar\n",
      "kumar\n"
     ]
    }
   ],
   "source": [
    "print(tata.user_name)\n",
    "print(audi.user_name)\n",
    "print(mercedes.user_name)"
   ]
  },
  {
   "cell_type": "code",
   "execution_count": null,
   "metadata": {},
   "outputs": [],
   "source": []
  },
  {
   "cell_type": "markdown",
   "metadata": {},
   "source": [
    "### Try these \n",
    "\n",
    "\n",
    "- create class Student with following attrbites and method\n",
    "\t\n",
    "\tattributes\n",
    "\t==================\n",
    "\t- name \n",
    "\t- id \n",
    "\t- branch\n",
    "\t- college\n",
    "\t- marks\n",
    "\n",
    "    methods\n",
    "\t\n",
    "    - attendCollege()\n",
    "\t- writeExam()\n",
    "\t- getMarks()\n",
    "\t- display()\n",
    "\t\n",
    "    "
   ]
  },
  {
   "cell_type": "code",
   "execution_count": 83,
   "metadata": {},
   "outputs": [],
   "source": [
    "class Student:\n",
    "    def __init__(self,name,sid,branch,college,marks):\n",
    "        self.stuName = name\n",
    "        self.stuId = sid\n",
    "        self.stuBranch = branch\n",
    "        self.stuCollege = college\n",
    "        self.stuMarks = marks\n",
    "        \n",
    "    def attendCollege(self):\n",
    "        print(self.stuName , \"is attending college\")\n",
    "        \n",
    "    def writeExam(self):\n",
    "        print(self.stuName , 'is writing exam')\n",
    "    \n",
    "    def getMarks(self):\n",
    "        print(self.stuMarks)\n",
    "    \n",
    "    def display(self):\n",
    "        return self.__dict__"
   ]
  },
  {
   "cell_type": "code",
   "execution_count": 84,
   "metadata": {},
   "outputs": [],
   "source": [
    "\n",
    "ramObj = Student('ram' , 101 , 'ECE' , 'CMR' ,[99,88,77,90])"
   ]
  },
  {
   "cell_type": "code",
   "execution_count": 85,
   "metadata": {},
   "outputs": [
    {
     "name": "stdout",
     "output_type": "stream",
     "text": [
      "CMR\n"
     ]
    }
   ],
   "source": [
    "print(ramObj.stuCollege)"
   ]
  },
  {
   "cell_type": "code",
   "execution_count": 86,
   "metadata": {},
   "outputs": [
    {
     "name": "stdout",
     "output_type": "stream",
     "text": [
      "Vasavi\n"
     ]
    }
   ],
   "source": [
    "pallaviObj = Student('pallavi' ,102, 'CSE' , 'Vasavi' , [99,77,90,67])\n",
    "\n",
    "print(pallaviObj.stuCollege)"
   ]
  },
  {
   "cell_type": "code",
   "execution_count": 87,
   "metadata": {},
   "outputs": [
    {
     "name": "stdout",
     "output_type": "stream",
     "text": [
      "ram is attending college\n"
     ]
    }
   ],
   "source": [
    "ramObj.attendCollege()"
   ]
  },
  {
   "cell_type": "code",
   "execution_count": 88,
   "metadata": {},
   "outputs": [
    {
     "name": "stdout",
     "output_type": "stream",
     "text": [
      "pallavi is attending college\n"
     ]
    }
   ],
   "source": [
    "pallaviObj.attendCollege()"
   ]
  },
  {
   "cell_type": "code",
   "execution_count": 89,
   "metadata": {},
   "outputs": [
    {
     "name": "stdout",
     "output_type": "stream",
     "text": [
      "[99, 77, 90, 67]\n"
     ]
    }
   ],
   "source": [
    "pallaviObj.getMarks()"
   ]
  },
  {
   "cell_type": "code",
   "execution_count": 91,
   "metadata": {},
   "outputs": [
    {
     "data": {
      "text/plain": [
       "{'stuName': 'pallavi',\n",
       " 'stuId': 102,\n",
       " 'stuBranch': 'CSE',\n",
       " 'stuCollege': 'Vasavi',\n",
       " 'stuMarks': [99, 77, 90, 67]}"
      ]
     },
     "execution_count": 91,
     "metadata": {},
     "output_type": "execute_result"
    }
   ],
   "source": [
    "pallaviObj.display()"
   ]
  },
  {
   "cell_type": "code",
   "execution_count": 92,
   "metadata": {},
   "outputs": [
    {
     "data": {
      "text/plain": [
       "{'stuName': 'ram',\n",
       " 'stuId': 101,\n",
       " 'stuBranch': 'ECE',\n",
       " 'stuCollege': 'CMR',\n",
       " 'stuMarks': [99, 88, 77, 90]}"
      ]
     },
     "execution_count": 92,
     "metadata": {},
     "output_type": "execute_result"
    }
   ],
   "source": [
    "ramObj.display()"
   ]
  },
  {
   "cell_type": "markdown",
   "metadata": {},
   "source": [
    "**NOTE**\n",
    "- with className we can access only class variables\n",
    "- with objName we can access both class and obj variables"
   ]
  },
  {
   "cell_type": "code",
   "execution_count": null,
   "metadata": {},
   "outputs": [],
   "source": []
  },
  {
   "cell_type": "code",
   "execution_count": null,
   "metadata": {},
   "outputs": [],
   "source": []
  },
  {
   "cell_type": "code",
   "execution_count": null,
   "metadata": {},
   "outputs": [],
   "source": []
  },
  {
   "cell_type": "code",
   "execution_count": null,
   "metadata": {},
   "outputs": [],
   "source": []
  },
  {
   "cell_type": "code",
   "execution_count": null,
   "metadata": {},
   "outputs": [],
   "source": []
  },
  {
   "cell_type": "code",
   "execution_count": null,
   "metadata": {},
   "outputs": [],
   "source": []
  },
  {
   "cell_type": "code",
   "execution_count": null,
   "metadata": {},
   "outputs": [],
   "source": [
    "from datetime import datetime\n",
    "a = datetime.now()"
   ]
  },
  {
   "cell_type": "code",
   "execution_count": null,
   "metadata": {},
   "outputs": [],
   "source": [
    "print(a)\n",
    "print(a.year)"
   ]
  },
  {
   "cell_type": "code",
   "execution_count": null,
   "metadata": {},
   "outputs": [],
   "source": [
    "dir(time)"
   ]
  },
  {
   "cell_type": "code",
   "execution_count": null,
   "metadata": {},
   "outputs": [],
   "source": [
    "\n",
    "class Person:\n",
    "    from datetime import datetime\n",
    "    a = datetime.now() #class variable\n",
    "    \n",
    "    def __init__(self,name,surname ,yob):\n",
    "        #instance vaiable\n",
    "        self.first_name=name\n",
    "        self.surname=surname\n",
    "        self.Birth_date=yob\n",
    "        \n",
    "    def _display(self):\n",
    "        print(f\"The Person name is {self.first_name} {self.surname} and she was born in {self.Birth_date}\")\n",
    "    \n",
    "\n",
    "    #instance methods\n",
    "    def full_name(self):\n",
    "        print(f\"Full name is {self.first_name + self.surname}\")\n",
    "    \n",
    "    def ageOfPerson(self):\n",
    "        print(f\" {self.first_name} age is {Person.a.year - self.Birth_date}\")\n",
    "    \n",
    "\n",
    "p1 = Person(\"Debora\",\"Willams\",2009)\n",
    "\n",
    "print(p1.first_name)\n",
    "p1._display()\n",
    "\n",
    "p1.full_name()\n",
    "\n",
    "p1.ageOfPerson()\n",
    "\n",
    "\n",
    "\n"
   ]
  },
  {
   "cell_type": "code",
   "execution_count": null,
   "metadata": {},
   "outputs": [],
   "source": [
    "p1 = Person(\"John\",\"Willams\",2013)\n",
    "p1._display()\n",
    "\n",
    "p1.full_name()\n",
    "\n",
    "p1.ageOfPerson()\n"
   ]
  },
  {
   "cell_type": "code",
   "execution_count": null,
   "metadata": {},
   "outputs": [],
   "source": [
    "class cal:\n",
    "    def __init__(self,a,b):\n",
    "        self.a = a\n",
    "        self.b = b\n",
    "        \n",
    "    def add(self):\n",
    "        return self.a + self.b\n",
    "    def sub(self):\n",
    "        return self.a - self.b\n",
    "    def multiply(self):\n",
    "        return self.a * self.b\n",
    "    def divide(self):\n",
    "        return self.a / self.b\n",
    "\n",
    "# outside    \n",
    "\n",
    "p = cal(10,20)\n",
    "print(p)\n",
    "print(dir(p))\n",
    "print(p.add())\n",
    "print(p.sub())\n",
    "print(p.divide())\n",
    "\n"
   ]
  },
  {
   "cell_type": "code",
   "execution_count": null,
   "metadata": {},
   "outputs": [],
   "source": [
    "p2 = cal(10.21,10.3)\n",
    "print(p2.add())\n",
    "print(p2.sub())\n",
    "print(p2.divide())"
   ]
  },
  {
   "cell_type": "code",
   "execution_count": null,
   "metadata": {},
   "outputs": [],
   "source": [
    "p.__dict__"
   ]
  },
  {
   "cell_type": "code",
   "execution_count": null,
   "metadata": {},
   "outputs": [],
   "source": [
    "# a ,b\n",
    "# add()\n",
    "# mult()\n",
    "# div()\n",
    "# mod()\n"
   ]
  },
  {
   "cell_type": "code",
   "execution_count": null,
   "metadata": {},
   "outputs": [],
   "source": [
    "p1.__dict__"
   ]
  },
  {
   "cell_type": "code",
   "execution_count": null,
   "metadata": {},
   "outputs": [],
   "source": [
    "# Modify Object Properties\n",
    "p1.first_name = \"Ak\"\n",
    "p1.surname =\"Rajamoni\"\n",
    "p1.Birth_date = \"1990\"\n",
    "p1._display()"
   ]
  },
  {
   "cell_type": "code",
   "execution_count": null,
   "metadata": {},
   "outputs": [],
   "source": [
    "# Delete Object Properties\n",
    "# You can delete properties on objects by using the del keyword:\n",
    "print(p1.__dict__)\n",
    "\n",
    "del p1.first_name\n",
    "\n",
    "print(p1.__dict__)\n",
    "\n",
    "\n"
   ]
  },
  {
   "cell_type": "code",
   "execution_count": null,
   "metadata": {},
   "outputs": [],
   "source": [
    "print(p1.__dict__)"
   ]
  },
  {
   "cell_type": "code",
   "execution_count": null,
   "metadata": {},
   "outputs": [],
   "source": [
    "p1._display()"
   ]
  },
  {
   "cell_type": "code",
   "execution_count": null,
   "metadata": {},
   "outputs": [],
   "source": [
    "p1.first_name = \"Wick\"\n",
    "p1._display()\n",
    "print(p1)"
   ]
  },
  {
   "cell_type": "code",
   "execution_count": null,
   "metadata": {},
   "outputs": [],
   "source": [
    "class Son():\n",
    "    def __init__(self,name):\n",
    "        self.Name = name\n",
    "    \n",
    "    #instance method\n",
    "    def walk(self,kms):\n",
    "        return f\" {self.Name} walked {kms} kms....\"\n",
    "        \n",
    "s = Son(\"Kumar\")\n",
    "print(s) #__str__()\n"
   ]
  },
  {
   "cell_type": "markdown",
   "metadata": {},
   "source": [
    "### methods\n",
    "\n",
    "- methods define behaviour of the class\n",
    "- TYPES\n",
    "- instance (self)\n",
    "- class (cls)\n",
    "- static methods"
   ]
  },
  {
   "cell_type": "code",
   "execution_count": null,
   "metadata": {},
   "outputs": [],
   "source": [
    "class Person:\n",
    "    city = \"Hyderbad\" # class variable - bound to class\n",
    "    def __init__(self,name,sname,year_of_birth):\n",
    "#         instance variable - bound to object\n",
    "        self.name=name\n",
    "        self.surname=sname\n",
    "        self.yob=year_of_birth\n",
    "   \n",
    "        \n",
    "    def age(self,current_year):\n",
    "        \"\"\" caculate the age \"\"\"\n",
    "        return current_year-self.yob\n",
    "    \n",
    "    def __str__(self): #dundder methods or magic methods.\n",
    "        return f'{self.name} {self.surname} was born in {self.yob} in {Person.city}'"
   ]
  },
  {
   "cell_type": "code",
   "execution_count": null,
   "metadata": {},
   "outputs": [],
   "source": [
    "alec=Person(\"Gladitor\",\"Maximus\",1999) #creating a object"
   ]
  },
  {
   "cell_type": "code",
   "execution_count": null,
   "metadata": {},
   "outputs": [],
   "source": [
    "alec.__dict__"
   ]
  },
  {
   "cell_type": "code",
   "execution_count": null,
   "metadata": {},
   "outputs": [],
   "source": [
    "print(alec)\n",
    "#string representation of object"
   ]
  },
  {
   "cell_type": "code",
   "execution_count": null,
   "metadata": {},
   "outputs": [],
   "source": [
    "dir(alec)"
   ]
  },
  {
   "cell_type": "markdown",
   "metadata": {},
   "source": [
    "### mutliple init()'s"
   ]
  },
  {
   "cell_type": "code",
   "execution_count": null,
   "metadata": {},
   "outputs": [],
   "source": [
    "class Person1():\n",
    "   \n",
    "     \n",
    "    def __init__(self):\n",
    "        print(\"Hey HI!!\")\n",
    "        \n",
    "    def __init__(self,name):\n",
    "        self.a=name\n",
    "        \n",
    "        \n",
    "    def __init__(self,fullname,year,place):\n",
    "        \"\"\"\n",
    "        constructor\n",
    "        \"\"\"\n",
    "        self.x=fullname\n",
    "        self.y=year\n",
    "        self.z=place\n",
    "            \n",
    "    def __init__(self,surname,age):\n",
    "        self.c=surname\n",
    "        self.d=age\n",
    "        \n",
    "    def display(self):\n",
    "        print(self)\n",
    "        \n",
    "    def __str__(self):\n",
    "        return f\"{self.x} and {self.y} and {self.z}\"\n",
    "        \n",
    "\n",
    "# per=Person1()\n",
    "\n",
    "# per1 = Person1(\"Ak\")\n",
    "# per2 = Person1(\"Kumar\",2000,\"India\")\n",
    "per = Person1(\"Rajamoni\",25)\n",
    "print(per)\n",
    "\n",
    "per.display()\n",
    "\n",
    "print(per)\n",
    "\n",
    "#in mutliple init methds always consider the last one"
   ]
  },
  {
   "cell_type": "code",
   "execution_count": null,
   "metadata": {},
   "outputs": [],
   "source": [
    "#####Simple Handon Question######\n",
    "\n",
    "#attributes\n",
    "name \n",
    "city\n",
    "election_id\n",
    "have_card\n",
    "age\n",
    "#conditions age>=18 allowed and if election card if available ->to vote otherwise -> not allowed to vote. \n",
    "# election_id = 10 digits (A-Z0-9)\n"
   ]
  },
  {
   "cell_type": "code",
   "execution_count": null,
   "metadata": {},
   "outputs": [],
   "source": [
    "import re\n",
    "class Election:\n",
    "    city = \"HYD\"\n",
    "    def __init__(self,name,age,eid,have_card):\n",
    "        self.name = name\n",
    "        self.age = age\n",
    "        self.electionid = eid\n",
    "        self.have_card = have_card\n",
    "    def isEligiable(self):\n",
    "        if(self.age>=18):\n",
    "            if(self.have_card == True):\n",
    "                if(re.search(\"[A-Z0-9]{10}\",self.electionid)):\n",
    "                    print(\"eligible to vote\")\n",
    "                else:\n",
    "                    print(\"invalid card\")\n",
    "            else:\n",
    "                print(\"please apply the card..\")\n",
    "        else:\n",
    "            print(\"not eligible\")\n",
    "                \n",
    "\n",
    "    "
   ]
  },
  {
   "cell_type": "code",
   "execution_count": null,
   "metadata": {},
   "outputs": [],
   "source": [
    "e = Election(\"Ravi\",20,\"12652AHFSG\",True)\n"
   ]
  },
  {
   "cell_type": "code",
   "execution_count": null,
   "metadata": {},
   "outputs": [],
   "source": [
    "print(e.__dict__)"
   ]
  },
  {
   "cell_type": "code",
   "execution_count": null,
   "metadata": {},
   "outputs": [],
   "source": [
    "e.isEligiable()"
   ]
  },
  {
   "cell_type": "code",
   "execution_count": null,
   "metadata": {},
   "outputs": [],
   "source": []
  },
  {
   "cell_type": "code",
   "execution_count": null,
   "metadata": {},
   "outputs": [],
   "source": []
  },
  {
   "cell_type": "code",
   "execution_count": null,
   "metadata": {},
   "outputs": [],
   "source": []
  },
  {
   "cell_type": "code",
   "execution_count": null,
   "metadata": {},
   "outputs": [],
   "source": [
    "import re\n",
    "class Election:\n",
    "    city = \"HYD\"\n",
    "    def __init__(self,name,election_id,age):\n",
    "        self.Name=name\n",
    "        self.ElectionId=election_id\n",
    "        self.Age=age\n",
    "    def election_eligibility(self):\n",
    "        if(self.Age>=18):\n",
    "            if(re.findall(\"[A-Z 0-9]{10}\",self.ElectionId)):\n",
    "                print(\"allowed to vote and electionid is valid\")\n",
    "            else:\n",
    "                print(\"Invalid Election Id\")\n",
    "        else:\n",
    "            print(\"not allowed to vote\")\n",
    "                 \n",
    "    \n",
    "\n",
    "user=Election(\"Hemanth\",\"ABC122HGF2\",16)\n",
    "user.election_eligibility()\n"
   ]
  },
  {
   "cell_type": "code",
   "execution_count": null,
   "metadata": {},
   "outputs": [],
   "source": [
    "re.findall(\"[A-Z0-9]{10}\",\"ABC123\")"
   ]
  },
  {
   "cell_type": "code",
   "execution_count": null,
   "metadata": {},
   "outputs": [],
   "source": [
    "def Accept_voter(name,city,election_id):\n",
    "    age = int(input(\"Enter your age :\"))\n",
    "    if(age>=18):\n",
    "        print(\"Allowed to vote\")\n",
    "    else:\n",
    "        print(\"Not allowed to vote\")\n",
    "\n",
    "Accept_voter(\"Hemanth\",\"Kandukur\",33)\n"
   ]
  },
  {
   "cell_type": "markdown",
   "metadata": {},
   "source": [
    "### type of variable\n",
    "\n",
    "- instance variable  (object level)\n",
    "- class variable (class level) also know as static variables\n",
    "- class variable are accessed with both object and class name"
   ]
  },
  {
   "cell_type": "code",
   "execution_count": null,
   "metadata": {},
   "outputs": [],
   "source": [
    "\n",
    "class abc:\n",
    "    \n",
    "    #class variables - one copy avaiable to all objs\n",
    "    some_var=123\n",
    "    \n",
    "    def __init__(self,name):\n",
    "        #instance variable\n",
    "        self.a=name #private scope\n",
    "    def __str__(self):\n",
    "        return \"Hello\""
   ]
  },
  {
   "cell_type": "code",
   "execution_count": null,
   "metadata": {},
   "outputs": [],
   "source": [
    "p = abc(\"Ak\")"
   ]
  },
  {
   "cell_type": "code",
   "execution_count": null,
   "metadata": {},
   "outputs": [],
   "source": [
    "print(p)\n",
    "p.__dict__"
   ]
  },
  {
   "cell_type": "code",
   "execution_count": null,
   "metadata": {},
   "outputs": [],
   "source": [
    "p.a"
   ]
  },
  {
   "cell_type": "code",
   "execution_count": null,
   "metadata": {},
   "outputs": [],
   "source": [
    "abc.some_var"
   ]
  },
  {
   "cell_type": "code",
   "execution_count": null,
   "metadata": {},
   "outputs": [],
   "source": [
    "p.some_var\n"
   ]
  },
  {
   "cell_type": "code",
   "execution_count": null,
   "metadata": {},
   "outputs": [],
   "source": []
  },
  {
   "cell_type": "code",
   "execution_count": null,
   "metadata": {},
   "outputs": [],
   "source": [
    "class A:\n",
    "    def set_name(self,name):\n",
    "        self.name=name\n",
    "    def set_surname(self,name):\n",
    "        self.surname=name\n",
    "    def display_user(self):\n",
    "        return f\"{self.name} {self.surname}\"\n",
    "a=A()\n",
    "a.set_name(\"Virat\")\n",
    "a.set_surname(\"Kholi\")\n",
    "a.display_user()\n",
    "print(a.__dict__)"
   ]
  },
  {
   "cell_type": "code",
   "execution_count": null,
   "metadata": {},
   "outputs": [],
   "source": [
    "class Student:\n",
    "    __college = \"UCEOU\" #private variable \n",
    "    def __init__(self):\n",
    "        self.__name = \"Ram\"\n",
    "        self.course = \"OS\"\n",
    "        print(self.__name)\n",
    "\n",
    "s = Student()\n",
    "print(s.__dict__)\n",
    "print(s.__name)"
   ]
  },
  {
   "cell_type": "code",
   "execution_count": null,
   "metadata": {},
   "outputs": [],
   "source": [
    "print(s.__college)"
   ]
  },
  {
   "cell_type": "markdown",
   "metadata": {},
   "source": [
    "### access modifers\n",
    "\n",
    "- Python control access modifications which are used to restrict access to the variables and methods of the class. \n",
    "- Most programming languages has three forms of access modifiers, which are Public, Protected and Private in a class.\n",
    "\n",
    "- A Class in Python has three types of access modifiers –\n",
    "\n",
    "    Public Access Modifier\n",
    "    \n",
    "    Protected Access Modifier\n",
    "    \n",
    "    Private Access Modifier"
   ]
  },
  {
   "cell_type": "markdown",
   "metadata": {},
   "source": [
    "#### public \n",
    "Public Access Modifier:\n",
    "\n",
    "The members of a class that are declared public are easily accessible from any part of the program. All data members and member functions of a class are public by default"
   ]
  },
  {
   "cell_type": "code",
   "execution_count": null,
   "metadata": {},
   "outputs": [],
   "source": [
    "\n"
   ]
  },
  {
   "cell_type": "code",
   "execution_count": 7,
   "metadata": {},
   "outputs": [],
   "source": [
    "class Person:\n",
    "    def __init__(a,name,sname,year_of_birth):\n",
    "        #public \n",
    "        a.name=name\n",
    "        a.surname=sname\n",
    "        a.yob=year_of_birth\n",
    "        \n",
    "    def age(a,current_year): #public\n",
    "        \"\"\"\n",
    "        caculate the age\n",
    "        \"\"\"\n",
    "        return current_year-a.yob\n",
    "    def __str__(a):\n",
    "        return f'{a.name} {a.surname} was born in {a.yob}'"
   ]
  },
  {
   "cell_type": "code",
   "execution_count": 8,
   "metadata": {},
   "outputs": [
    {
     "name": "stdout",
     "output_type": "stream",
     "text": [
      "AK\n",
      "Rajamoni\n",
      "190101\n",
      "<__main__.Person object at 0x0000015A4F9E3D30>\n"
     ]
    }
   ],
   "source": [
    "p = Person(\"AK\",\"Rajamoni\",190101)\n",
    "\n",
    "#if it is possible only if is public \n",
    "print(p.name)\n",
    "print(p.surname)\n",
    "print(p.yob)\n",
    "print(p)"
   ]
  },
  {
   "cell_type": "code",
   "execution_count": null,
   "metadata": {},
   "outputs": [],
   "source": [
    "p.age(2000)"
   ]
  },
  {
   "cell_type": "markdown",
   "metadata": {},
   "source": [
    "#### protected\n",
    "\n",
    "Protected Access Modifier:\n",
    "\n",
    "- The members of a class that are declared protected are only accessible to a class derived from it. (same package)\n",
    "\n",
    "- Data members of a class are declared protected by adding a single underscore ‘_’ symbol before the data member of that class."
   ]
  },
  {
   "cell_type": "code",
   "execution_count": 9,
   "metadata": {},
   "outputs": [],
   "source": [
    "# super class\n",
    "class Student:\n",
    "     # constructor\n",
    "     def __init__(self, name, roll, branch):\n",
    "            #proctected variables\n",
    "            print(\"Base\")\n",
    "            self._name = name\n",
    "            self._roll = roll\n",
    "            self._branch = branch\n",
    "     \n",
    "     # protected member function   \n",
    "    # accessing protected data members\n",
    "     def _displayRollAndBranch(self): \n",
    "          print(\"Roll: \", self._roll)\n",
    "          print(\"Branch: \", self._branch)\n",
    "\n"
   ]
  },
  {
   "cell_type": "code",
   "execution_count": 10,
   "metadata": {},
   "outputs": [
    {
     "name": "stdout",
     "output_type": "stream",
     "text": [
      "Derived\n",
      "Base\n",
      "Name:  R2J\n",
      "Roll:  1706256\n",
      "Branch:  Information Technology\n"
     ]
    }
   ],
   "source": [
    "# derived class\n",
    "class Geek(Student):\n",
    "  \n",
    "       # constructor \n",
    "       def __init__(self, name, roll, branch): \n",
    "                print(\"Derived\")\n",
    "                #calling super init() methods\n",
    "                Student.__init__(self, name, roll, branch) \n",
    "          \n",
    "       # public member function \n",
    "       def displayDetails(self):\n",
    "                    \n",
    "                 # accessing protected data members of super class \n",
    "                print(\"Name: \", self._name) \n",
    "                    \n",
    "                 # accessing protected member functions of super class \n",
    "                self._displayRollAndBranch()\n",
    "  \n",
    "\n",
    "# creating objects of the derived class      \n",
    "\n",
    "obj = Geek(\"R2J\", 1706256, \"Information Technology\") \n",
    "  \n",
    "# calling public member functions of the class\n",
    "obj.displayDetails() \n"
   ]
  },
  {
   "cell_type": "code",
   "execution_count": null,
   "metadata": {},
   "outputs": [],
   "source": [
    "obj._displayRollAndBranch()"
   ]
  },
  {
   "cell_type": "markdown",
   "metadata": {},
   "source": [
    "### private\n",
    "\n",
    "Private Access Modifier:\n",
    "\n",
    "- The members of a class that are declared private are accessible within the class only, \n",
    "\n",
    "\n",
    "\n",
    "- private access modifier is the most secure access modifier. Data members of a class are declared private by adding a double underscore ‘__’ symbol before the data member of that class."
   ]
  },
  {
   "cell_type": "code",
   "execution_count": 25,
   "metadata": {},
   "outputs": [
    {
     "ename": "AttributeError",
     "evalue": "'A' object has no attribute '__display'",
     "output_type": "error",
     "traceback": [
      "\u001b[1;31m---------------------------------------------------------------------------\u001b[0m",
      "\u001b[1;31mAttributeError\u001b[0m                            Traceback (most recent call last)",
      "\u001b[1;32m<ipython-input-25-634be169ed53>\u001b[0m in \u001b[0;36m<module>\u001b[1;34m\u001b[0m\n\u001b[0;32m     10\u001b[0m \u001b[0ma\u001b[0m \u001b[1;33m=\u001b[0m \u001b[0mA\u001b[0m\u001b[1;33m(\u001b[0m\u001b[1;33m)\u001b[0m\u001b[1;33m\u001b[0m\u001b[1;33m\u001b[0m\u001b[0m\n\u001b[0;32m     11\u001b[0m \u001b[1;33m\u001b[0m\u001b[0m\n\u001b[1;32m---> 12\u001b[1;33m \u001b[0ma\u001b[0m\u001b[1;33m.\u001b[0m\u001b[0m__display\u001b[0m\u001b[1;33m(\u001b[0m\u001b[1;33m)\u001b[0m\u001b[1;33m\u001b[0m\u001b[1;33m\u001b[0m\u001b[0m\n\u001b[0m\u001b[0;32m     13\u001b[0m \u001b[1;33m\u001b[0m\u001b[0m\n\u001b[0;32m     14\u001b[0m \u001b[0mprint\u001b[0m\u001b[1;33m(\u001b[0m\u001b[0ma\u001b[0m\u001b[1;33m.\u001b[0m\u001b[0m__name\u001b[0m\u001b[1;33m)\u001b[0m\u001b[1;33m\u001b[0m\u001b[1;33m\u001b[0m\u001b[0m\n",
      "\u001b[1;31mAttributeError\u001b[0m: 'A' object has no attribute '__display'"
     ]
    }
   ],
   "source": [
    "class A:\n",
    "    def __init__(self):\n",
    "        self.__name = \"Python\"\n",
    "        self.__duration = 2\n",
    "    def _display(self):\n",
    "        print(\"display method ...\")\n",
    "        print(self.__name,self.__duration)\n",
    "        \n",
    "\n",
    "a = A()\n",
    "\n",
    "a.__display() \n",
    "\n",
    "print(a.__name)\n",
    "# print(a.__duration)"
   ]
  },
  {
   "cell_type": "code",
   "execution_count": null,
   "metadata": {},
   "outputs": [],
   "source": []
  },
  {
   "cell_type": "code",
   "execution_count": null,
   "metadata": {},
   "outputs": [],
   "source": []
  },
  {
   "cell_type": "code",
   "execution_count": 29,
   "metadata": {},
   "outputs": [
    {
     "name": "stdout",
     "output_type": "stream",
     "text": [
      "Name:  R2J\n",
      "Roll:  1706256\n",
      "Branch:  Information Technology\n"
     ]
    }
   ],
   "source": [
    "class Geek:\n",
    "     \n",
    "     # private members class variables\n",
    "     __name = None\n",
    "     __roll = None\n",
    "     __branch = None\n",
    "  \n",
    "     # constructor\n",
    "     def __init__(self, name, roll, branch):  \n",
    "          self.__name = name\n",
    "          self.__roll = roll\n",
    "          self.__branch = branch\n",
    "  \n",
    "     # private member function  \n",
    "     def __displayDetails(self):\n",
    "            \n",
    "           # accessing private data members\n",
    "           print(\"Name: \", self.__name)\n",
    "           print(\"Roll: \", self.__roll)\n",
    "           print(\"Branch: \", self.__branch)\n",
    "     \n",
    "     # public member function\n",
    "     def accessPrivateFunction(self):\n",
    "            \n",
    "           # accesing private member function\n",
    "           self.__displayDetails()  \n",
    "            \n",
    "            \n",
    "  \n",
    "# creating object    \n",
    "obj = Geek(\"R2J\", 1706256, \"Information Technology\")\n",
    "\n",
    "\n",
    "# print(obj.__name) ##private variable.\n",
    "\n",
    "\n",
    "\n",
    "# obj.__displayDetails() ##private method\n",
    "\n",
    "\n",
    "\n",
    "# calling public member function of the class\n",
    "\n",
    "obj.accessPrivateFunction()\n",
    "\n"
   ]
  },
  {
   "cell_type": "code",
   "execution_count": 30,
   "metadata": {},
   "outputs": [],
   "source": [
    "class Parent:\n",
    "    name = None #public\n",
    "    _year = None #protected\n",
    "    __ceo =None #private\n",
    "    \n",
    "    def __init__(self,a,b,c):\n",
    "        self.name = a\n",
    "        self._age= b\n",
    "        self.__ceo = c\n",
    "\n",
    "    #public \n",
    "    def displayPublicMembers(self):\n",
    "        print(\"Accessing public variable \",self.name)\n",
    "\n",
    "        # protected member function   \n",
    "    def _displayProtectedMembers(self):\n",
    "        print(\"Protected Data Member: \", self._age)\n",
    "\n",
    "    # private member function   \n",
    "    def __displayPrivateMembers(self):\n",
    "        # accessing private data members\n",
    "        print(\"Private Data Member: \", self.__ceo)\n",
    "        \n",
    "    #public member function\n",
    "    def accessPrivateMembers(self):\n",
    "        self.__displayPrivateMembers()"
   ]
  },
  {
   "cell_type": "code",
   "execution_count": 31,
   "metadata": {},
   "outputs": [],
   "source": [
    "# derived class\n",
    "class Child(Parent):\n",
    "   \n",
    "      # constructor \n",
    "       def __init__(self, var1, var2, var3): \n",
    "                Parent.__init__(self, var1, var2, var3)\n",
    "            \n",
    "      # public member function \n",
    "       def accessProtectedMemebers(self):  \n",
    "                # accessing protected member functions of super class \n",
    "                self._displayProtectedMembers()"
   ]
  },
  {
   "cell_type": "code",
   "execution_count": 32,
   "metadata": {},
   "outputs": [],
   "source": [
    "obj = Child(\"Tesla\",1390,\"Elon Musk\")"
   ]
  },
  {
   "cell_type": "code",
   "execution_count": 33,
   "metadata": {},
   "outputs": [
    {
     "name": "stdout",
     "output_type": "stream",
     "text": [
      "Accessing public variable  Tesla\n",
      "Protected Data Member:  1390\n",
      "Private Data Member:  Elon Musk\n"
     ]
    }
   ],
   "source": [
    "  \n",
    "# calling public member functions of the class\n",
    "obj.displayPublicMembers()\n",
    "\n",
    "obj.accessProtectedMemebers()\n",
    "obj.accessPrivateMembers() "
   ]
  },
  {
   "cell_type": "code",
   "execution_count": null,
   "metadata": {},
   "outputs": [],
   "source": [
    "obj._displayProtectedMembers() #protected"
   ]
  },
  {
   "cell_type": "code",
   "execution_count": null,
   "metadata": {},
   "outputs": [],
   "source": [
    "import re\n",
    "class voter:\n",
    "   \n",
    "    def __init__(self,vname,vage,vid,vcity):\n",
    "        self.vname=vname\n",
    "        self.vage=vage\n",
    "        self.vid=vid\n",
    "        self.vcity=vcity\n",
    "  \n",
    "    def isEligibleToVote(self):\n",
    "     \n",
    "        if self.vage>=18:\n",
    "            if re.search(\"[a-zA-Z0-9]+\",self.vid):\n",
    "                print(f\"{self.vname}is eligible to vote\")\n",
    "            else:\n",
    "                print(f\"invalid voter id\")\n",
    "        else:\n",
    "            print(f\"{self.vname}is not eligible to vote\")\n",
    "\n",
    "            \n",
    "v1=voter(\"Sharan\",23,\"Ex5894r\",\"hyderabad\")  \n",
    "v1.isEligibleToVote()"
   ]
  },
  {
   "cell_type": "code",
   "execution_count": null,
   "metadata": {},
   "outputs": [],
   "source": []
  },
  {
   "cell_type": "code",
   "execution_count": null,
   "metadata": {},
   "outputs": [],
   "source": [
    "#CLASS \n",
    "#OBJECT\n",
    "    # 4 WAYS  of class \n",
    "        \n",
    "    # INT()\n",
    "    # Types of variable \n",
    "        - class var\n",
    "        - instance var \n",
    "    # access modifies\n",
    "        - public \n",
    "        - protected\n",
    "        - private "
   ]
  },
  {
   "cell_type": "code",
   "execution_count": null,
   "metadata": {},
   "outputs": [],
   "source": [
    "# BANKING APPLIACATION\n",
    "1. CREATE/LOGIN ACCOUNT\n",
    "2. DEPOSIT / WITHDRAW \n",
    "3. MODIFY ACCOUNT DETAILS\n",
    "4. BALANCE ENQ\n",
    "5. DISPLAY ACCOUNT DETAILS.\n",
    "\n",
    "files ---> DB"
   ]
  },
  {
   "cell_type": "code",
   "execution_count": null,
   "metadata": {},
   "outputs": [],
   "source": []
  }
 ],
 "metadata": {
  "kernelspec": {
   "display_name": "Python 3 (ipykernel)",
   "language": "python",
   "name": "python3"
  },
  "language_info": {
   "codemirror_mode": {
    "name": "ipython",
    "version": 3
   },
   "file_extension": ".py",
   "mimetype": "text/x-python",
   "name": "python",
   "nbconvert_exporter": "python",
   "pygments_lexer": "ipython3",
   "version": "3.10.9"
  }
 },
 "nbformat": 4,
 "nbformat_minor": 4
}
