{
 "cells": [
  {
   "cell_type": "markdown",
   "metadata": {},
   "source": [
    "### Types of Methods in Classes\n",
    "\n",
    " Usally methods are used to expose the data to the outside world and define the behaviour.\n",
    "\n",
    "- Instance methods\n",
    "- class methods\n",
    "- static methods "
   ]
  },
  {
   "cell_type": "markdown",
   "metadata": {},
   "source": [
    "### Instance methods\n",
    "\n",
    "- They are used to define behaviour for the Objects\n",
    "- They are specific to the Object or Instance\n",
    "- The First parameter is \"self\" keyword ,it reference to current object\n",
    "- these are called with Object name / Class Name"
   ]
  },
  {
   "cell_type": "code",
   "execution_count": 4,
   "metadata": {},
   "outputs": [
    {
     "data": {
      "text/plain": [
       "'AK RAJAMONI'"
      ]
     },
     "execution_count": 4,
     "metadata": {},
     "output_type": "execute_result"
    }
   ],
   "source": [
    "class A:\n",
    "    def __init__(self):\n",
    "        self.__name = \"AK RAJAMONI\"\n",
    "    \n",
    "    #instance method\n",
    "    def _displayname(self):\n",
    "        return self.__name\n",
    "    \n",
    "a  = A()\n",
    "# a.__name\n",
    "a._displayname()\n"
   ]
  },
  {
   "cell_type": "code",
   "execution_count": 5,
   "metadata": {},
   "outputs": [
    {
     "name": "stdout",
     "output_type": "stream",
     "text": [
      "The MOvie Name is Night Crawler\n"
     ]
    }
   ],
   "source": [
    "\n",
    "class Movie:\n",
    "    def __init__(self, name):\n",
    "        self.__movie_name = name\n",
    "        \n",
    "    def display_movie_name(self):\n",
    "        print(f\"The MOvie Name is {self.__movie_name}\")\n",
    "\n",
    "obj = Movie(\"Night Crawler\")\n",
    "\n",
    "obj.display_movie_name()"
   ]
  },
  {
   "cell_type": "code",
   "execution_count": 6,
   "metadata": {},
   "outputs": [],
   "source": [
    "class Person:\n",
    "    def __init__(self, fname):\n",
    "        self.__firstname = fname\n",
    "        \n",
    "    def display_(self):\n",
    "        print(\"private attribute displaying through public methods\" )\n",
    "        print(self.__firstname)\n"
   ]
  },
  {
   "cell_type": "code",
   "execution_count": 7,
   "metadata": {},
   "outputs": [
    {
     "name": "stdout",
     "output_type": "stream",
     "text": [
      "private attribute displaying through public methods\n",
      "Anil\n"
     ]
    }
   ],
   "source": [
    "person = Person(\"Anil\")\n",
    "\n",
    "# person.__firstname  #private variable\n",
    "\n",
    "person.display_()\n"
   ]
  },
  {
   "cell_type": "code",
   "execution_count": null,
   "metadata": {},
   "outputs": [],
   "source": [
    "class Movie:\n",
    "    \n",
    "    #class variable\n",
    "    movie_counts=0\n",
    "    \n",
    "    def __init__(self, name):\n",
    "        #instance variables\n",
    "        self.__movie_name = name\n",
    "        Movie.movie_counts+=1\n",
    "        \n",
    "    def display_movie_name(self):\n",
    "        print(f\"The Movie Name is {self.__movie_name} {Movie.movie_counts}\")\n",
    "        \n",
    "    #instance\n",
    "    def returnMovieCounts(self):\n",
    "        return Movie.movie_counts\n",
    "        \n",
    "    @classmethod\n",
    "    def getMovieCounts(cls):\n",
    "        return f\"no of movies are {Movie.movie_counts}\"\n",
    "\n",
    "obj = Movie(\"Night Crawler\")\n",
    "\n",
    "obj.display_movie_name()"
   ]
  },
  {
   "cell_type": "code",
   "execution_count": null,
   "metadata": {},
   "outputs": [],
   "source": [
    "obj1 = Movie(\"Dark Knight\")\n",
    "\n",
    "obj1.display_movie_name()"
   ]
  },
  {
   "cell_type": "code",
   "execution_count": null,
   "metadata": {},
   "outputs": [],
   "source": [
    "obj3 = Movie(\"get out\")\n",
    "\n",
    "obj3.display_movie_name()"
   ]
  },
  {
   "cell_type": "code",
   "execution_count": null,
   "metadata": {},
   "outputs": [],
   "source": [
    "obj4 = Movie(\"Inside out\")\n",
    "\n",
    "obj4.display_movie_name()"
   ]
  },
  {
   "cell_type": "code",
   "execution_count": null,
   "metadata": {},
   "outputs": [],
   "source": [
    "Movie.getMovieCounts()"
   ]
  },
  {
   "cell_type": "code",
   "execution_count": null,
   "metadata": {},
   "outputs": [],
   "source": [
    "obj4. returnMovieCounts()"
   ]
  },
  {
   "cell_type": "code",
   "execution_count": null,
   "metadata": {},
   "outputs": [],
   "source": [
    "#college - class variable\n",
    "# name , rollno - instance variable"
   ]
  },
  {
   "cell_type": "markdown",
   "metadata": {},
   "source": [
    "### Decorators\n",
    "\n",
    "- Decorators are very powerful and useful tool in Python since it allows programmers to modify the behavior of function or class.\n",
    "\n",
    "-  Decorators allow us to wrap another function in order to extend the behavior of the wrapped function, without permanently modifying it. \n",
    "\n",
    "\n",
    "##### First class Objects\n",
    "- In Python, functions are first class objects that means that functions in Python can be used or passed as arguments.\n",
    "\n",
    "\n",
    "Properties of first class functions:\n",
    "\n",
    "A function is an instance of the Object type.\n",
    "\n",
    "You can store the function in a variable.\n",
    "\n",
    "You can pass the function as a parameter to another function.\n",
    "\n",
    "You can return the function from a function.\n",
    "\n",
    "You can store them in data structures such as hash tables, lists, …"
   ]
  },
  {
   "cell_type": "code",
   "execution_count": null,
   "metadata": {},
   "outputs": [],
   "source": [
    "def A(b):\n",
    "    b()\n",
    "    return b\n",
    "\n",
    "\n"
   ]
  },
  {
   "cell_type": "code",
   "execution_count": null,
   "metadata": {},
   "outputs": [],
   "source": [
    "def helo():\n",
    "    print(\"Hello\")\n",
    "    \n",
    "helo()\n",
    "\n",
    "print(type(helo) , id(helo))\n",
    "a = helo\n",
    "print(type(a) , id(a))\n",
    "a()\n",
    "\n",
    "res = A(a)\n",
    "\n",
    "res()\n",
    "\n",
    "print(id(res))"
   ]
  },
  {
   "cell_type": "code",
   "execution_count": null,
   "metadata": {},
   "outputs": [],
   "source": [
    "def shout(text): \n",
    "    return text.upper() \n",
    "  \n",
    "print(shout('Hello'))\n",
    "  \n",
    "yell = shout \n",
    "  \n",
    "print(yell('Hello')) "
   ]
  },
  {
   "cell_type": "code",
   "execution_count": null,
   "metadata": {},
   "outputs": [],
   "source": [
    "print(type(yell))\n",
    "print(type(shout))\n",
    "print(id(yell),id(shout))"
   ]
  },
  {
   "cell_type": "code",
   "execution_count": null,
   "metadata": {},
   "outputs": [],
   "source": [
    "def shout(text): \n",
    "    return text.upper() \n",
    "  \n",
    "def whisper(text): \n",
    "    return text.lower() \n",
    "  \n",
    "def greet(func): \n",
    "    # storing the function in a variable \n",
    "    greeting = func(\"\"\"Hi, I am created by a function passed as an argument.\"\"\") \n",
    "    print (greeting) \n",
    "  \n",
    "greet(shout) \n",
    "greet(whisper)"
   ]
  },
  {
   "cell_type": "code",
   "execution_count": null,
   "metadata": {},
   "outputs": [],
   "source": [
    "def create_adder(x): \n",
    "    \n",
    "    def adder(y): \n",
    "        return x+y \n",
    "  \n",
    "    return adder \n",
    "  \n",
    "add_15 = create_adder(15) \n",
    "  \n",
    "print(add_15(10)) "
   ]
  },
  {
   "cell_type": "code",
   "execution_count": null,
   "metadata": {
    "scrolled": true
   },
   "outputs": [],
   "source": [
    "def GreetHey(func):\n",
    "    \n",
    "    def inner():\n",
    "        print(\"************\")\n",
    "        func()\n",
    "        print(\"##############\")\n",
    "    return inner\n",
    "\n",
    "\n",
    "def fun_hi():\n",
    "    print(\"This is test function \")\n",
    "    \n",
    "\n",
    "return_fun = GreetHey(fun_hi)\n",
    "\n",
    "return_fun()"
   ]
  },
  {
   "cell_type": "code",
   "execution_count": null,
   "metadata": {},
   "outputs": [],
   "source": [
    "def GreetHey(func):\n",
    "    \n",
    "    def inner():\n",
    "        print(\"Hey , this is decorator ..\")\n",
    "        func()\n",
    "        print(\"after the function execution\")\n",
    "    return inner\n",
    "\n",
    "\n",
    "@GreetHey\n",
    "def fun_hi():\n",
    "    print(\"This is test function \")\n",
    "    \n",
    "fun_hi()"
   ]
  },
  {
   "cell_type": "code",
   "execution_count": null,
   "metadata": {},
   "outputs": [],
   "source": [
    "def GreetHey(func):\n",
    "    \n",
    "    def inner(*args):\n",
    "        print(\"##########################\")\n",
    "        func(*args)\n",
    "        print(\"############################\")\n",
    "    return inner\n",
    "\n",
    "\n",
    "@GreetHey\n",
    "def fun_hi(name):\n",
    "    print(name)\n",
    "    \n",
    "fun_hi(\"AK\")"
   ]
  },
  {
   "cell_type": "code",
   "execution_count": null,
   "metadata": {},
   "outputs": [],
   "source": [
    "fun_hi.__name__"
   ]
  },
  {
   "cell_type": "code",
   "execution_count": null,
   "metadata": {},
   "outputs": [],
   "source": [
    "#factorial - \n",
    "#3 ways to write the fact code\n",
    "# 1. loop\n",
    "# 2. formula\n",
    "# 3. recursion\n",
    "\n",
    "# n = 5\n",
    "# 1*2*3*4*5 = 120"
   ]
  },
  {
   "cell_type": "code",
   "execution_count": null,
   "metadata": {},
   "outputs": [],
   "source": [
    "\n",
    "import time\n",
    "import math\n",
    "  \n",
    "\n",
    "def calculate_time(func):\n",
    " \n",
    "    def inner1(*args, **kwargs):\n",
    "  \n",
    "        # storing time before function execution\n",
    "        begin = time.time()\n",
    "          \n",
    "        func(*args, **kwargs)\n",
    "  \n",
    "        # storing time after function execution\n",
    "        end = time.time()\n",
    "        print(\"Total time taken in : \", func.__name__, end - begin)\n",
    "  \n",
    "    return inner1\n",
    "\n",
    "\n",
    "\n",
    "@calculate_time\n",
    "def factorial(num):\n",
    "    fact = 1\n",
    "    for i in range(1,num+1):\n",
    "        fact = fact*i\n",
    "    print(fact)\n",
    "  \n",
    "# calling the function.\n",
    "factorial(100000)\n",
    "\n",
    "\n"
   ]
  },
  {
   "cell_type": "code",
   "execution_count": null,
   "metadata": {},
   "outputs": [],
   "source": [
    "@calculate_time\n",
    "def factorial_math(num):\n",
    "#     time.sleep(10)\n",
    "    print(math.factorial(num))\n",
    "\n",
    "factorial_math(100000)"
   ]
  },
  {
   "cell_type": "code",
   "execution_count": null,
   "metadata": {},
   "outputs": [],
   "source": []
  },
  {
   "cell_type": "code",
   "execution_count": null,
   "metadata": {},
   "outputs": [],
   "source": []
  },
  {
   "cell_type": "code",
   "execution_count": null,
   "metadata": {},
   "outputs": [],
   "source": [
    "def decor1(func): \n",
    "    def inner(): \n",
    "        x = func() \n",
    "        return x * x \n",
    "    return inner \n",
    "  \n",
    "def decor(func): \n",
    "    def inner(): \n",
    "        x = func() \n",
    "        return 2 * x \n",
    "    return inner \n",
    "  \n",
    "@decor1\n",
    "@decor\n",
    "def num(): \n",
    "    return 10\n",
    "  \n",
    "print(num()) \n",
    "\n"
   ]
  },
  {
   "cell_type": "code",
   "execution_count": null,
   "metadata": {},
   "outputs": [],
   "source": []
  },
  {
   "cell_type": "markdown",
   "metadata": {},
   "source": [
    "### Class method"
   ]
  },
  {
   "cell_type": "markdown",
   "metadata": {},
   "source": [
    "The @classmethod decorator, is a builtin function decorator that is an expression that gets evaluated after your function is defined. \n",
    "- The result of that evaluation shadows your function definition.\n",
    "\n",
    "- A class method receives the class as implicit first argument, \n",
    "just like an instance method receives the instance"
   ]
  },
  {
   "cell_type": "markdown",
   "metadata": {},
   "source": [
    "class C(object):\n",
    "\n",
    "    @classmethod\n",
    "    def fun(cls, arg1, arg2, ...):\n",
    "    \n",
    "       ....\n",
    "fun: function that needs to be converted into a class method\n",
    "\n",
    "returns: a class method for function.\n",
    "\n",
    "\n",
    "- A class method is a method which is bound to the class and not the object of the class.\n",
    "\n",
    "- They have the access to the state of the class as it takes a class parameter that points to the class and not the object instance.\n",
    "\n",
    "- It can modify a class state that would apply across all the instances of the class. For example it can modify a class variable that will be applicable to all the instances."
   ]
  },
  {
   "cell_type": "markdown",
   "metadata": {},
   "source": [
    "### Static methods\n",
    "\n",
    "- A static method does not receive an implicit first argument.\n",
    "\n",
    "- class C(object):\n",
    "\n",
    "    @staticmethod\n",
    "    \n",
    "    def fun(arg1, arg2, ...):\n",
    "        ...\n",
    "returns: a static method for function fun.\n",
    "\n",
    "\n",
    "- A static method is also a method which is bound to the class and not the object of the class.\n",
    "\n",
    "- A static method can’t access or modify class state.\n",
    "\n",
    "- It is present in a class because it makes sense for the method to be present in class."
   ]
  },
  {
   "cell_type": "markdown",
   "metadata": {},
   "source": [
    "### Class methods vs Static \n",
    "\n",
    " - class method takes cls as first parameter while a static method needs no specific parameters.\n",
    "\n",
    "- A class method can access or modify class state while a static method can’t access or modify it.\n",
    "\n",
    "- In general, static methods know nothing about class state. They are utility type methods that take some parameters and work upon those parameters. On the other hand class methods must have class as parameter.\n",
    "\n",
    "    We use @classmethod decorator -> class method and we use @staticmethod -> static methods"
   ]
  },
  {
   "cell_type": "markdown",
   "metadata": {},
   "source": [
    "### when  to use ?\n",
    "\n",
    "- We generally use class method to create factory methods. Factory methods return class object ( similar to a constructor ) for different use cases.\n",
    "\n",
    "- We generally use static methods to create utility functions."
   ]
  },
  {
   "cell_type": "code",
   "execution_count": null,
   "metadata": {},
   "outputs": [],
   "source": [
    "from datetime import date\n",
    "date.today().year-1996"
   ]
  },
  {
   "cell_type": "code",
   "execution_count": null,
   "metadata": {},
   "outputs": [],
   "source": [
    "class Person:\n",
    "    def __init__(self, name, age):\n",
    "        self.name = name\n",
    "        self.age = age\n",
    "       \n",
    "    # a class method to create a Person object by birth year.\n",
    "    @classmethod\n",
    "    def fromBirthYear(cls, name, year):\n",
    "        return cls(name, date.today().year - year)\n",
    "       \n",
    "    # a static method to check if a Person is adult or not.\n",
    "    @staticmethod\n",
    "    def isAdult(age):\n",
    "        return age > 18\n",
    "    \n",
    "    def hi(self):\n",
    "        print(\"Im instance method\")\n",
    "   \n",
    "person1 = Person('mayank', 21)\n",
    "\n",
    "person2 = Person.fromBirthYear('AK', 1996)\n",
    "   \n",
    "print (person1.age)\n",
    "print (person2.age)\n",
    "person1.hi()\n",
    "# print the result\n",
    "# person1.isAdult(12)\n",
    "Person.isAdult(2)\n",
    "Person.hi() # cant call "
   ]
  },
  {
   "cell_type": "code",
   "execution_count": null,
   "metadata": {},
   "outputs": [],
   "source": [
    "# check for anagrams \n",
    "\n",
    "# Listen = Silent.\n",
    "# The eyes = They see.\n",
    "s1 =\"Listen\"\n",
    "s2 = \"Silent\"\n",
    "sorted(s2.lower())==sorted(s1.lower())"
   ]
  },
  {
   "cell_type": "code",
   "execution_count": null,
   "metadata": {},
   "outputs": [],
   "source": []
  }
 ],
 "metadata": {
  "kernelspec": {
   "display_name": "Python 3",
   "language": "python",
   "name": "python3"
  },
  "language_info": {
   "codemirror_mode": {
    "name": "ipython",
    "version": 3
   },
   "file_extension": ".py",
   "mimetype": "text/x-python",
   "name": "python",
   "nbconvert_exporter": "python",
   "pygments_lexer": "ipython3",
   "version": "3.8.8"
  }
 },
 "nbformat": 4,
 "nbformat_minor": 4
}
