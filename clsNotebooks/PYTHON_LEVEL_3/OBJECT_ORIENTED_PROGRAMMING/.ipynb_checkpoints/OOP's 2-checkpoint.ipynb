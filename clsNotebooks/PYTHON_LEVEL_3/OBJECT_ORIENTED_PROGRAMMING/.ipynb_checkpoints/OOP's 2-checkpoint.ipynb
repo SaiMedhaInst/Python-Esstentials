{
 "cells": [
  {
   "cell_type": "markdown",
   "metadata": {},
   "source": [
    "## Inheritance\n",
    "\n",
    "- Parent child relationship , in the same way like Class and sub class relationship.\n",
    "\n",
    "- Inheritance is the capability of one class to derive or inherit the properties from another class. The benefits of inheritance are:\n",
    "\n",
    "- The process of driving is called Inheriting .\n",
    "\n",
    "- It represents real-world relationships well.\n",
    "- It provides reusability of a code. We don’t have to write the same code again and again. Also, it allows us to add more features to a class without modifying it.\n",
    "- It is transitive in nature, which means that if class B inherits from another class A, then all the subclasses of B would automatically inherit from class A.\n",
    "\n",
    "\n",
    "Inheritance allows us to define a class that inherits all the methods and properties from another class.\n",
    "\n",
    "Parent class is the class being inherited from, also called base class.\n",
    "\n",
    "Child class is the class that inherits from another class, also called derived class."
   ]
  },
  {
   "cell_type": "markdown",
   "metadata": {},
   "source": [
    "<img src = \"https://scaler.com/topics/images/single-inheritance-in-python-1024x615.webp\" width=\"600\" height=\"600\">"
   ]
  },
  {
   "cell_type": "markdown",
   "metadata": {},
   "source": [
    "syntax :\n",
    "\n",
    "class BaseClassName:\n",
    "\n",
    "    //attributes\n",
    "    \n",
    "    //methods\n",
    "\n",
    "\n",
    "\n",
    "class DerivedClassName(BaseClassName):\n",
    "\n",
    "    pass"
   ]
  },
  {
   "cell_type": "markdown",
   "metadata": {},
   "source": [
    "#### Parent"
   ]
  },
  {
   "cell_type": "code",
   "execution_count": null,
   "metadata": {},
   "outputs": [],
   "source": [
    "class Person:\n",
    "    def __init__(self, fname, lname):\n",
    "        \n",
    "        #instance attributes\n",
    "        self.firstname = fname\n",
    "        self.lastname = lname\n",
    "    \n",
    "    # instance methods\n",
    "    def printname(self):\n",
    "        print(self.firstname, self.lastname)\n",
    "    def welcome(self):\n",
    "        print(\"Hello from parent class\")\n",
    "\n",
    "#Use the Person class to create an object, \n",
    "# and then execute the printname method:\n",
    "\n",
    "x = Person(\"John\", None) #object creation\n",
    "x.printname()\n",
    "print(x.firstname)\n",
    "print(x.lastname)"
   ]
  },
  {
   "cell_type": "code",
   "execution_count": null,
   "metadata": {},
   "outputs": [],
   "source": [
    "x.__dict__"
   ]
  },
  {
   "cell_type": "markdown",
   "metadata": {},
   "source": [
    "##### child\n",
    "\n",
    "- To create a class that inherits the functionality from another class, send the parent class as a parameter when creating the child class:\n",
    "\n",
    "- Note: Use the pass keyword when you do not want to add any other properties or methods to the class."
   ]
  },
  {
   "cell_type": "code",
   "execution_count": null,
   "metadata": {},
   "outputs": [],
   "source": [
    "class Student(Person):\n",
    "    pass\n",
    "\n",
    "# Now the Student class has the same properties and methods \n",
    "# as the Person class.\n",
    "\n",
    "s = Student(\"Ellen\" ,\"Page\")\n",
    "s.printname()\n",
    "\n",
    "\n",
    "#creating a object to the parent class\n",
    "\n",
    "p = Person(\"Python\",\"1990\")\n",
    "p.printname()\n"
   ]
  },
  {
   "cell_type": "markdown",
   "metadata": {},
   "source": [
    "### __init__() method in child class\n",
    "\n",
    "- When you want to add the init() method in  child  and also in parent class , it will raise to new concept\n",
    "\n",
    "##### Note: The __init__() function is called automatically every time the class is being used to create a new object.\n",
    "\n",
    "- When you add the __init__() function, the child class will no longer inherit the parent's __init__() function.\n",
    "\n",
    "- To keep the inheritance of the parent's __init__() function, add a call to the parent's __init__() function:"
   ]
  },
  {
   "cell_type": "code",
   "execution_count": null,
   "metadata": {},
   "outputs": [],
   "source": [
    "class Student(Person):\n",
    "    def __init__(self, fname, lname):\n",
    "        pass\n",
    "        #add properties etc.\n",
    "\n",
    "        \n",
    "x = Student(\"Ellen\" ,\"Page\")\n",
    "x.printname()"
   ]
  },
  {
   "cell_type": "code",
   "execution_count": null,
   "metadata": {},
   "outputs": [],
   "source": [
    "class Student(Person):\n",
    "    def __init__(self, fname, lname):\n",
    "        Person.__init__(self,fname, lname)\n",
    "        #add properties etc.\n",
    "\n",
    "        \n",
    "x = Student(\"Ellen\" ,\"Page\")\n",
    "x.printname()\n"
   ]
  },
  {
   "cell_type": "code",
   "execution_count": null,
   "metadata": {},
   "outputs": [],
   "source": [
    "class Person:\n",
    "    def __init__(self, fname, lname):\n",
    "        \n",
    "        #instance attributes\n",
    "        self.firstname = fname\n",
    "        self.lastname = lname\n",
    "    \n",
    "    # instance methods\n",
    "    def printname(self):\n",
    "        print(self.firstname, self.lastname)\n",
    "    def welcome(self):\n",
    "        print(\"Hello from parent class\")\n",
    "\n",
    "#Use the Person class to create an object, \n",
    "# and then execute the printname method:\n",
    "\n",
    "x = Person(\"John\", None) #object creation\n",
    "x.printname()\n",
    "print(x.firstname)\n",
    "print(x.lastname)"
   ]
  },
  {
   "cell_type": "code",
   "execution_count": null,
   "metadata": {},
   "outputs": [],
   "source": [
    "class Student(Person):\n",
    "    def __init__(self, fname, lname,clg):\n",
    "        #calling the parent class init method\n",
    "        Person.__init__(self, fname, lname)\n",
    "        self.college = clg\n",
    "    \n",
    "    def display_child(self):\n",
    "        print(f\"{self.firstname} belongs to {self.college}\")\n",
    "        \n",
    "        \n",
    "#by this way , you are inheriting the parent class init() method also.\n",
    "\n",
    "s = Student(\"Ellen\" ,\"Page\",\"MIT\")\n",
    "s.printname()\n",
    "s.display_child()"
   ]
  },
  {
   "cell_type": "code",
   "execution_count": null,
   "metadata": {
    "scrolled": true
   },
   "outputs": [],
   "source": [
    "x.__dict__"
   ]
  },
  {
   "cell_type": "code",
   "execution_count": null,
   "metadata": {},
   "outputs": [],
   "source": [
    "s.__dict__"
   ]
  },
  {
   "cell_type": "markdown",
   "metadata": {},
   "source": [
    "#### Super() method\n",
    "\n",
    "- Python also has a super() function that will make the child class inherit all the methods and properties from its parent:\n",
    "\n",
    "- It is the first method in Child class init() method"
   ]
  },
  {
   "cell_type": "code",
   "execution_count": null,
   "metadata": {},
   "outputs": [],
   "source": [
    "class Student(Person):\n",
    "    def __init__(self, fname, lname):\n",
    "        super().__init__(fname, lname)\n",
    "        \n",
    "\n",
    "s = Student(\"Ellen\" ,\"Page\")\n",
    "s.printname()"
   ]
  },
  {
   "cell_type": "code",
   "execution_count": null,
   "metadata": {},
   "outputs": [],
   "source": [
    "#adding the attributes\n",
    "class Student(Person):\n",
    "    def __init__(self, fname, lname, year):\n",
    "        super().__init__(fname, lname)\n",
    "        self.graduationyear = year\n"
   ]
  },
  {
   "cell_type": "code",
   "execution_count": null,
   "metadata": {},
   "outputs": [],
   "source": [
    "#adding the methods\n",
    "\n",
    "class Student(Person):\n",
    "    def __init__(self, fname, lname, year):\n",
    "        super().__init__(fname, lname)\n",
    "        self.graduationyear = year\n",
    "    def welcome(self):\n",
    "        print(\"Welcome\", self.firstname, self.lastname, \"to the class of\", self.graduationyear)"
   ]
  },
  {
   "cell_type": "code",
   "execution_count": null,
   "metadata": {},
   "outputs": [],
   "source": [
    "x = Student(\"Java\", \"Gosling\", 1982)\n",
    "x.printname()\n",
    "x.welcome()"
   ]
  },
  {
   "cell_type": "code",
   "execution_count": null,
   "metadata": {},
   "outputs": [],
   "source": [
    "p = Person(\"Dennis\",\"Ritchie\")\n",
    "p.welcome()"
   ]
  },
  {
   "cell_type": "code",
   "execution_count": null,
   "metadata": {},
   "outputs": [],
   "source": []
  },
  {
   "cell_type": "code",
   "execution_count": null,
   "metadata": {},
   "outputs": [],
   "source": [
    "#If you add a method in the child class \n",
    "# with the same name as a function \n",
    "# in the parent class, the inheritance of the \n",
    "# parent method will be overridden."
   ]
  },
  {
   "cell_type": "code",
   "execution_count": null,
   "metadata": {},
   "outputs": [],
   "source": [
    "class A:\n",
    "    def welcome(self):\n",
    "        print(\"Hey Iam from Parent\")\n",
    "        \n",
    "class B(A):\n",
    "    def welcome(self):\n",
    "        print(\"Hey Iam from Child\")\n",
    "        \n",
    "        \n",
    "b = B()\n",
    "b.welcome()\n",
    "\n",
    "a = A()\n",
    "\n",
    "a.welcome()"
   ]
  },
  {
   "cell_type": "markdown",
   "metadata": {},
   "source": [
    "### Single level "
   ]
  },
  {
   "cell_type": "code",
   "execution_count": null,
   "metadata": {},
   "outputs": [],
   "source": [
    "class A:\n",
    "    def __init__(self,a,b):\n",
    "        self.num1=a\n",
    "        self.num2=b\n",
    "        \n",
    "    def addition(self):\n",
    "        print(\"Parent method\")\n",
    "        print(f\"{self.num1} + {self.num2} ={self.num1+self.num2}\")\n",
    "    \n",
    "    def mult(self):\n",
    "        print(f\"{self.num1} * {self.num1} ={self.num1*self.num1}\")\n",
    "    \n",
    "\n",
    "class B(A):\n",
    "    def __init__(self,a,b,c):\n",
    "        super().__init__(a,b)\n",
    "        A.__init__(self,a,b)\n",
    "        self.num3=c;\n",
    "        \n",
    "    def add(self):\n",
    "        print(\"Child Method\")\n",
    "        print(f\"{self.num1} + {self.num2} + {self.num3}={self.num1+self.num2+self.num2+self.num3}\")\n",
    "\n",
    "b = B(10,20,30)\n",
    "\n",
    "b.add()#Child class method is called , Parent class is overriden because of same name\n",
    "b.mult()\n",
    "b.addition()"
   ]
  },
  {
   "cell_type": "markdown",
   "metadata": {},
   "source": [
    "## Guess the output"
   ]
  },
  {
   "cell_type": "code",
   "execution_count": 22,
   "metadata": {},
   "outputs": [],
   "source": [
    "class X:\n",
    "    def hi(self):\n",
    "        print(\"Hi from Parent method\")\n",
    "\n",
    "class Y(X):\n",
    "    def hi(self):\n",
    "        print(\"Hi from Child method\")"
   ]
  },
  {
   "cell_type": "code",
   "execution_count": 23,
   "metadata": {},
   "outputs": [
    {
     "name": "stdout",
     "output_type": "stream",
     "text": [
      "Hi from Parent method\n"
     ]
    }
   ],
   "source": [
    "x = X()\n",
    "x.hi()"
   ]
  },
  {
   "cell_type": "code",
   "execution_count": 24,
   "metadata": {},
   "outputs": [
    {
     "name": "stdout",
     "output_type": "stream",
     "text": [
      "Hi from Child method\n"
     ]
    }
   ],
   "source": [
    "y= Y()\n",
    "y.hi()"
   ]
  },
  {
   "cell_type": "code",
   "execution_count": null,
   "metadata": {},
   "outputs": [],
   "source": []
  },
  {
   "cell_type": "code",
   "execution_count": 27,
   "metadata": {},
   "outputs": [
    {
     "name": "stdout",
     "output_type": "stream",
     "text": [
      "Ak\n",
      "23\n"
     ]
    }
   ],
   "source": [
    "class A:\n",
    "      def __init__(self, n = 'Rahul'):\n",
    "              self.name = n\n",
    "class B(A):\n",
    "      def __init__(self, roll):\n",
    "            A.__init__(self,\"Ak\")\n",
    "            self.roll = roll\n",
    "  \n",
    "object = B(23)\n",
    "print (object.name)\n",
    "print(object.roll)"
   ]
  },
  {
   "cell_type": "code",
   "execution_count": null,
   "metadata": {},
   "outputs": [],
   "source": []
  },
  {
   "cell_type": "code",
   "execution_count": null,
   "metadata": {},
   "outputs": [],
   "source": [
    "class C():\n",
    "    def __init__(self):\n",
    "            self.c = 21\n",
    "            self.__d = 42\n",
    "    def display_d(self):\n",
    "        print(\"IM displaying private attributes\")\n",
    "        print(self.__d)\n",
    "class D(C):\n",
    "       def __init__(self):\n",
    "            C.__init__(self)\n",
    "            self.e = 84\n",
    "            \n",
    "\n",
    "#accesing out side            \n",
    "object1 = D()\n",
    "  \n",
    "\n",
    "object1.display_d()\n",
    "\n",
    "print(object1.__d) #private variable"
   ]
  },
  {
   "cell_type": "code",
   "execution_count": null,
   "metadata": {},
   "outputs": [],
   "source": []
  },
  {
   "cell_type": "code",
   "execution_count": null,
   "metadata": {},
   "outputs": [],
   "source": []
  },
  {
   "cell_type": "markdown",
   "metadata": {},
   "source": [
    "### Different forms of Inheritance\n",
    "\n",
    "1. Single inheritance: When a child class inherits from only one parent class, it is called single inheritance. We saw an example above.\n",
    "\n",
    "\n",
    "2. Multilevel inheritance: When we have a child and grandchild relationship.\n",
    "\n",
    "\n",
    "3. Multiple inheritance: When a child class inherits from multiple parent classes, it is called multiple inheritance. \n",
    "\n",
    "\n",
    "4. Hierarchical inheritance More than one derived classes are created from a single base.\n",
    "\n",
    "5. Hybrid inheritance: This form combines more than one form of inheritance. Basically, it is a blend of more than one type of inheritance.\n",
    "\n",
    "\n",
    "Unlike Java and like C++, Python supports multiple inheritance. We specify all parent classes as a comma-separated list in the bracket. "
   ]
  },
  {
   "cell_type": "markdown",
   "metadata": {},
   "source": [
    "###### Mutilevel\n",
    "\n",
    "A\n",
    "\n",
    "^\n",
    "\n",
    "|\n",
    "\n",
    "\n",
    "|\n",
    "\n",
    "B\n",
    "\n",
    "^\n",
    "\n",
    "|\n",
    "\n",
    "|\n",
    "\n",
    "^\n",
    "\n",
    "C\n",
    "\n",
    "|\n",
    "\n",
    "|\n",
    "\n",
    "^\n",
    "\n",
    "D\n",
    "\n"
   ]
  },
  {
   "cell_type": "code",
   "execution_count": 28,
   "metadata": {},
   "outputs": [
    {
     "name": "stdout",
     "output_type": "stream",
     "text": [
      "Iam Child.\n",
      "IAM Parent\n",
      "IAM GRAND\n",
      "Geek1 23 Noida\n"
     ]
    }
   ],
   "source": [
    "class GrandP():\n",
    "      \n",
    "    # Constructor\n",
    "    def __init__(self, name):\n",
    "        print(\"IAM GRAND\")\n",
    "        self.name = name\n",
    "  \n",
    "    # To get name\n",
    "    def getName(self):\n",
    "        return self.name\n",
    "  \n",
    "  \n",
    "# Inherited or Sub class (Note Person in bracket)\n",
    "class Parent(GrandP):\n",
    "      \n",
    "    # Constructor\n",
    "    def __init__(self, name, age):\n",
    "        print(\"IAM Parent\")\n",
    "        GrandP.__init__(self, name)\n",
    "        self.age = age\n",
    "  \n",
    "    # To get name\n",
    "    def getAge(self):\n",
    "        return self.age\n",
    "  \n",
    "# Inherited or Sub class (Note Person in bracket)\n",
    "\n",
    "class GrandChild(Parent):\n",
    "      \n",
    "    # Constructor\n",
    "    def __init__(self, name, age, address):\n",
    "        print(\"Iam Child.\")\n",
    "        Parent.__init__(self, name, age)\n",
    "        self.address = address\n",
    "  \n",
    "    # To get address\n",
    "    def getAddress(self):\n",
    "        return self.address        \n",
    "  \n",
    "# Driver code\n",
    "g = GrandChild(\"Geek1\", 23, \"Noida\")  \n",
    "print(g.getName(), g.getAge(), g.getAddress())"
   ]
  },
  {
   "cell_type": "markdown",
   "metadata": {},
   "source": [
    "### Mutliple \n",
    "\n",
    "<img src = \"https://csharpcorner.azureedge.net/article/types-of-inheritance-in-python/Images/d2.png\"> \n"
   ]
  },
  {
   "cell_type": "code",
   "execution_count": 29,
   "metadata": {},
   "outputs": [
    {
     "name": "stdout",
     "output_type": "stream",
     "text": [
      "Base1\n",
      "Base2\n",
      "Derived\n",
      "Geek1 Geek2\n"
     ]
    }
   ],
   "source": [
    "class Base1():\n",
    "    def __init__(self):\n",
    "        self.str1 = \"Geek1\"\n",
    "        print(\"Base1\")\n",
    "  \n",
    "class Base2():\n",
    "    def __init__(self):\n",
    "        self.str2 = \"Geek2\"        \n",
    "        print(\"Base2\")\n",
    "  \n",
    "class Derived(Base1, Base2):\n",
    "    def __init__(self):\n",
    "          \n",
    "        # Calling constructors of Base1\n",
    "        # and Base2 classes\n",
    "        Base1.__init__(self)\n",
    "        Base2.__init__(self)\n",
    "        print(\"Derived\")\n",
    "          \n",
    "    def printStrs(self):\n",
    "        print(self.str1, self.str2)\n",
    "         \n",
    "  \n",
    "ob = Derived()\n",
    "\n",
    "ob.printStrs()"
   ]
  },
  {
   "cell_type": "code",
   "execution_count": 33,
   "metadata": {},
   "outputs": [],
   "source": [
    "class Mi:\n",
    "    def __init__(self,r,p):\n",
    "        print(\"Mi class\")\n",
    "        self.ram = r\n",
    "        self.processor = p\n",
    "        self.model_name = \"Mi\"\n",
    "        \n",
    "    def mobile_description(self):\n",
    "        print(self.model_name)\n",
    "        print(f\"RAM:{self.ram}\\nProcessor: {self.processor}\\n \")\n",
    "#         print(\"RAM :\"+self.ram +\" \"+\"Processor\"+self.processor)\n",
    "\n",
    "class OnePlus:\n",
    "    def __init__(self,r,p):\n",
    "        print(\"One Plus Class\")\n",
    "        self.ram = r\n",
    "        self.processor = p\n",
    "        self.model_name = \"OnePlus\"\n",
    "        \n",
    "    def mobile_description(self):\n",
    "        print(self.model_name)\n",
    "        print(f\"RAM: {self.ram} \\nProcessor: {self.processor}\\n \")\n",
    "        \n",
    "    def print_greet(self):\n",
    "        print(\"Hey Hi Hi\")\n",
    "\n",
    "\n",
    "class NewMobile(OnePlus,Mi): #it will inherit the properties from the first passed parent class.\n",
    "    pass\n",
    "    \n",
    "        "
   ]
  },
  {
   "cell_type": "code",
   "execution_count": 34,
   "metadata": {},
   "outputs": [
    {
     "name": "stdout",
     "output_type": "stream",
     "text": [
      "One Plus Class\n",
      "OnePlus\n",
      "RAM: 8GB \n",
      "Processor: SanpD\n",
      " \n",
      "Hey Hi Hi\n"
     ]
    }
   ],
   "source": [
    "ob = NewMobile(\"8GB\",'SanpD')\n",
    "ob.mobile_description()\n",
    "ob.print_greet()"
   ]
  },
  {
   "cell_type": "markdown",
   "metadata": {},
   "source": [
    "### Encapsulation\n",
    "\n",
    "<img src = \" https://media.geeksforgeeks.org/wp-content/uploads/20191013164254/encapsulation-in-python.png\">\n",
    "\n",
    "\n",
    "- Wrapping data and the methods of class that work on data within one unit\n",
    "\n",
    "- A class is an example of encapsulation as it encapsulates all the data that is member functions, variables , etc\n",
    "\n",
    "- This Puts the restrictions on accessing variables and methods directly\n",
    "\n",
    "- Prevents accidental modification # private variables\n",
    "\n",
    "- Provides Security\n"
   ]
  },
  {
   "cell_type": "code",
   "execution_count": 2,
   "metadata": {},
   "outputs": [
    {
     "name": "stdout",
     "output_type": "stream",
     "text": [
      "Calling protected member of base class: \n",
      "2\n"
     ]
    }
   ],
   "source": [
    "class Base:\n",
    "    def __init__(self):\n",
    "        self._a = 2 \n",
    " \n",
    "# Creating a derived class   \n",
    "class Derived(Base):\n",
    "    def __init__(self):\n",
    "         \n",
    "        # Calling constructor of\n",
    "        # Base class\n",
    "        Base.__init__(self)\n",
    "        \n",
    "        print(\"Calling protected member of base class: \")\n",
    "        print(self._a)\n",
    " \n",
    "obj1 = Derived()\n",
    "         \n",
    "obj2 = Base()"
   ]
  },
  {
   "cell_type": "code",
   "execution_count": 3,
   "metadata": {},
   "outputs": [
    {
     "name": "stdout",
     "output_type": "stream",
     "text": [
      "Calling protected member of base class: \n"
     ]
    },
    {
     "ename": "AttributeError",
     "evalue": "'Derived' object has no attribute '_Derived__a'",
     "output_type": "error",
     "traceback": [
      "\u001b[1;31m---------------------------------------------------------------------------\u001b[0m",
      "\u001b[1;31mAttributeError\u001b[0m                            Traceback (most recent call last)",
      "\u001b[1;32m<ipython-input-3-6e8fed941d29>\u001b[0m in \u001b[0;36m<module>\u001b[1;34m\u001b[0m\n\u001b[0;32m     16\u001b[0m         \u001b[0mprint\u001b[0m\u001b[1;33m(\u001b[0m\u001b[0mself\u001b[0m\u001b[1;33m.\u001b[0m\u001b[0m__a\u001b[0m\u001b[1;33m)\u001b[0m\u001b[1;33m\u001b[0m\u001b[1;33m\u001b[0m\u001b[0m\n\u001b[0;32m     17\u001b[0m \u001b[1;33m\u001b[0m\u001b[0m\n\u001b[1;32m---> 18\u001b[1;33m \u001b[0mobj1\u001b[0m \u001b[1;33m=\u001b[0m \u001b[0mDerived\u001b[0m\u001b[1;33m(\u001b[0m\u001b[1;33m)\u001b[0m\u001b[1;33m\u001b[0m\u001b[1;33m\u001b[0m\u001b[0m\n\u001b[0m\u001b[0;32m     19\u001b[0m \u001b[1;33m\u001b[0m\u001b[0m\n\u001b[0;32m     20\u001b[0m \u001b[0mobj2\u001b[0m \u001b[1;33m=\u001b[0m \u001b[0mBase\u001b[0m\u001b[1;33m(\u001b[0m\u001b[1;33m)\u001b[0m\u001b[1;33m\u001b[0m\u001b[1;33m\u001b[0m\u001b[0m\n",
      "\u001b[1;32m<ipython-input-3-6e8fed941d29>\u001b[0m in \u001b[0;36m__init__\u001b[1;34m(self)\u001b[0m\n\u001b[0;32m     14\u001b[0m \u001b[1;33m\u001b[0m\u001b[0m\n\u001b[0;32m     15\u001b[0m         \u001b[0mprint\u001b[0m\u001b[1;33m(\u001b[0m\u001b[1;34m\"Calling protected member of base class: \"\u001b[0m\u001b[1;33m)\u001b[0m\u001b[1;33m\u001b[0m\u001b[1;33m\u001b[0m\u001b[0m\n\u001b[1;32m---> 16\u001b[1;33m         \u001b[0mprint\u001b[0m\u001b[1;33m(\u001b[0m\u001b[0mself\u001b[0m\u001b[1;33m.\u001b[0m\u001b[0m__a\u001b[0m\u001b[1;33m)\u001b[0m\u001b[1;33m\u001b[0m\u001b[1;33m\u001b[0m\u001b[0m\n\u001b[0m\u001b[0;32m     17\u001b[0m \u001b[1;33m\u001b[0m\u001b[0m\n\u001b[0;32m     18\u001b[0m \u001b[0mobj1\u001b[0m \u001b[1;33m=\u001b[0m \u001b[0mDerived\u001b[0m\u001b[1;33m(\u001b[0m\u001b[1;33m)\u001b[0m\u001b[1;33m\u001b[0m\u001b[1;33m\u001b[0m\u001b[0m\n",
      "\u001b[1;31mAttributeError\u001b[0m: 'Derived' object has no attribute '_Derived__a'"
     ]
    }
   ],
   "source": [
    "class Base:\n",
    "    def __init__(self):\n",
    "        self.__a = 2 \n",
    "    def display(self):\n",
    "        print(self.__a)\n",
    " \n",
    "# Creating a derived class   \n",
    "class Derived(Base):\n",
    "    def __init__(self):\n",
    "         \n",
    "        # Calling constructor of\n",
    "        # Base class\n",
    "        Base.__init__(self)\n",
    "        \n",
    "        print(\"Calling protected member of base class: \")\n",
    "        print(self.__a)\n",
    " \n",
    "obj1 = Derived()\n",
    "         \n",
    "obj2 = Base()"
   ]
  },
  {
   "cell_type": "markdown",
   "metadata": {},
   "source": [
    "### Polymorphism\n",
    "\n",
    " - The word polymorphism means having many forms. In programming, polymorphism means same function name \n",
    " (but different signatures) being uses for different types."
   ]
  },
  {
   "cell_type": "code",
   "execution_count": 4,
   "metadata": {},
   "outputs": [
    {
     "name": "stdout",
     "output_type": "stream",
     "text": [
      "6\n",
      "3\n",
      "4\n"
     ]
    }
   ],
   "source": [
    "# Python program to demonstrate in-built poly-\n",
    "# morphic functions\n",
    "  \n",
    "# len() being used for a string\n",
    "print(len(\"python\"))\n",
    "  \n",
    "# len() being used for a list\n",
    "print(len([10, 20, 30]))\n",
    "\n",
    "print(len({12,3,4,8}))"
   ]
  },
  {
   "cell_type": "code",
   "execution_count": 5,
   "metadata": {},
   "outputs": [
    {
     "name": "stdout",
     "output_type": "stream",
     "text": [
      "30\n",
      "[10, 230, 20, 30]\n",
      "('r', 'k', 'a', 'k')\n"
     ]
    }
   ],
   "source": [
    "def add(a,b):\n",
    "    print(a+b)\n",
    "\n",
    "    \n",
    "add(10,20) #acts a addition of intergers\n",
    "\n",
    "add([10,230],[20,30]) #addition of two list\n",
    "\n",
    "add(('r','k'),('a','k')) #addition of two tuples"
   ]
  },
  {
   "cell_type": "code",
   "execution_count": 7,
   "metadata": {},
   "outputs": [
    {
     "name": "stdout",
     "output_type": "stream",
     "text": [
      "There are many types of birds.\n",
      "Most of the birds can fly but some cannot.\n",
      "There are many types of birds.\n",
      "Sparrows can fly.\n",
      "There are many types of birds.\n",
      "Sparrows can fly.\n"
     ]
    }
   ],
   "source": [
    "class Bird:\n",
    "  def intro(self):\n",
    "    print(\"There are many types of birds.\")\n",
    "      \n",
    "  def flight(self):\n",
    "    print(\"Most of the birds can fly but some cannot.\")\n",
    "    \n",
    "class sparrow(Bird):\n",
    "    #overridding\n",
    "  def flight(self):\n",
    "    print(\"Sparrows can fly.\")\n",
    "      \n",
    "class ostrich(sparrow):\n",
    "    pass\n",
    "      \n",
    "obj_bird = Bird()\n",
    "obj_spr = sparrow()\n",
    "obj_ost = ostrich()\n",
    "  \n",
    "obj_bird.intro()\n",
    "obj_bird.flight()\n",
    "  \n",
    "obj_spr.intro()\n",
    "obj_spr.flight()\n",
    "  \n",
    "obj_ost.intro()\n",
    "obj_ost.flight()"
   ]
  },
  {
   "cell_type": "markdown",
   "metadata": {},
   "source": [
    "### method overloading\n",
    "\n",
    "- Writing same function names with different signature's\n",
    "\n",
    "- Its is not possible in python"
   ]
  },
  {
   "cell_type": "code",
   "execution_count": 8,
   "metadata": {},
   "outputs": [],
   "source": [
    "class Calci:\n",
    "    \n",
    "    def add():\n",
    "        print(\"Empty add\")\n",
    "    def add(self,a,b):\n",
    "        print(\"Two args add() \")\n",
    "        print(a+b)\n",
    "    def add(self,a,b,c):\n",
    "        print(\"Three args add() \")\n",
    "        print(a+b+c)\n",
    "    \n",
    "    def add(self,a,b,c,d):\n",
    "        print(\"Four args add() \")\n",
    "        print(a+b+c+d)"
   ]
  },
  {
   "cell_type": "code",
   "execution_count": 9,
   "metadata": {},
   "outputs": [],
   "source": [
    "c = Calci()"
   ]
  },
  {
   "cell_type": "code",
   "execution_count": 11,
   "metadata": {},
   "outputs": [
    {
     "name": "stdout",
     "output_type": "stream",
     "text": [
      "Four args add() \n",
      "130\n"
     ]
    }
   ],
   "source": [
    "# c.add()\n",
    "# c.add(10,20)\n",
    "c.add(10,30,40,50)\n",
    "\n"
   ]
  },
  {
   "cell_type": "code",
   "execution_count": null,
   "metadata": {},
   "outputs": [],
   "source": [
    "#TIP\n",
    "#Variables should be PRIVATE , PROTECTED\n",
    "#methods shouble be PUBLIC"
   ]
  },
  {
   "cell_type": "code",
   "execution_count": 12,
   "metadata": {},
   "outputs": [
    {
     "name": "stdout",
     "output_type": "stream",
     "text": [
      "AK Should apply for the ELECTION CARD\n"
     ]
    }
   ],
   "source": [
    "class Election:\n",
    "    \n",
    "    def __init__(self,name, city,election_id, age):\n",
    "        self._name = name\n",
    "        self._city = city\n",
    "        self._election_id = election_id\n",
    "        self._age = age\n",
    "        \n",
    "    def isEligible(self):\n",
    "        if(self._age>=18):\n",
    "            \n",
    "            #is valid or not\n",
    "            if(self._election_id==\"Yes\"):\n",
    "                print(f\"Hey {self._name} you are Eligible to Vote\")\n",
    "            else:\n",
    "                print(f\"{self._name} Should apply for the ELECTION CARD\")\n",
    "\n",
    "        else:\n",
    "            print(\"NOT ELIGIBLE\")\n",
    "        \n",
    "\n",
    "ob = Election(\"AK\",\"DELHI\",True,26)\n",
    "ob.isEligible()"
   ]
  },
  {
   "cell_type": "code",
   "execution_count": null,
   "metadata": {},
   "outputs": [],
   "source": [
    "name = input(\"Enter the name: \")\n",
    "city= input(\"Enter city name: \")\n",
    "e_id = input(\"Do you have ID Yes or No :\")\n",
    "\n",
    "age = int(input(\"Enter the age: \"))"
   ]
  },
  {
   "cell_type": "code",
   "execution_count": null,
   "metadata": {},
   "outputs": [],
   "source": [
    "ob2 = Election(name ,city,e_id,age)"
   ]
  },
  {
   "cell_type": "code",
   "execution_count": null,
   "metadata": {},
   "outputs": [],
   "source": [
    "ob2.isEligible()"
   ]
  },
  {
   "cell_type": "code",
   "execution_count": null,
   "metadata": {},
   "outputs": [],
   "source": []
  }
 ],
 "metadata": {
  "kernelspec": {
   "display_name": "Python 3",
   "language": "python",
   "name": "python3"
  },
  "language_info": {
   "codemirror_mode": {
    "name": "ipython",
    "version": 3
   },
   "file_extension": ".py",
   "mimetype": "text/x-python",
   "name": "python",
   "nbconvert_exporter": "python",
   "pygments_lexer": "ipython3",
   "version": "3.8.8"
  }
 },
 "nbformat": 4,
 "nbformat_minor": 4
}
