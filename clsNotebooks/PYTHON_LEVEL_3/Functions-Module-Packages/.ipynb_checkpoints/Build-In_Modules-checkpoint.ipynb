{
 "cells": [
  {
   "cell_type": "markdown",
   "id": "52c66ab3",
   "metadata": {},
   "source": [
    "### What is Modules? and Why we have to use?\n",
    "\n",
    "- A module , is Large Python file  , which provides function definitions to all methods\n",
    "- In python we have many built-in modules\n",
    "- In development environment we wont develop , everything from scratch  , we will need predefined methods, modules , to Faster our development process.\n",
    "\n",
    "- In modules , the functionality of different modules is coded , what we've to do is just import those when ever need.\n",
    "\n",
    "- It's saves a lot of development time & makes code structured and concise.\n",
    "\n",
    "\n",
    "#### Built-in modules are\n",
    "- os\n",
    "- sys\n",
    "- array\n",
    "- random\n",
    "- sqllite3\n",
    "- hashlib\n",
    "- pathlib\n",
    "- socket\n",
    "- datatime\n",
    "- requests\n",
    "\n",
    "- collections\n",
    "\n",
    "<a href = \"https://docs.python.org/3/py-modindex.html\"> Click on this , for all modules</a>"
   ]
  },
  {
   "cell_type": "code",
   "execution_count": 1,
   "id": "faef1117",
   "metadata": {},
   "outputs": [
    {
     "name": "stdout",
     "output_type": "stream",
     "text": [
      "['__add__', '__class__', '__contains__', '__delattr__', '__delitem__', '__dir__', '__doc__', '__eq__', '__format__', '__ge__', '__getattribute__', '__getitem__', '__gt__', '__hash__', '__iadd__', '__imul__', '__init__', '__init_subclass__', '__iter__', '__le__', '__len__', '__lt__', '__mul__', '__ne__', '__new__', '__reduce__', '__reduce_ex__', '__repr__', '__reversed__', '__rmul__', '__setattr__', '__setitem__', '__sizeof__', '__str__', '__subclasshook__', 'append', 'clear', 'copy', 'count', 'extend', 'index', 'insert', 'pop', 'remove', 'reverse', 'sort']\n"
     ]
    }
   ],
   "source": [
    "lst = [10,20,30,49]\n",
    "print(dir(lst))"
   ]
  },
  {
   "cell_type": "code",
   "execution_count": 2,
   "id": "3c1fcbfd",
   "metadata": {},
   "outputs": [
    {
     "name": "stdout",
     "output_type": "stream",
     "text": [
      "['Calendar', 'EPOCH', 'FRIDAY', 'February', 'HTMLCalendar', 'IllegalMonthError', 'IllegalWeekdayError', 'January', 'LocaleHTMLCalendar', 'LocaleTextCalendar', 'MONDAY', 'SATURDAY', 'SUNDAY', 'THURSDAY', 'TUESDAY', 'TextCalendar', 'WEDNESDAY', '_EPOCH_ORD', '__all__', '__builtins__', '__cached__', '__doc__', '__file__', '__loader__', '__name__', '__package__', '__spec__', '_colwidth', '_locale', '_localized_day', '_localized_month', '_monthlen', '_nextmonth', '_prevmonth', '_spacing', 'c', 'calendar', 'datetime', 'day_abbr', 'day_name', 'different_locale', 'error', 'firstweekday', 'format', 'formatstring', 'isleap', 'leapdays', 'main', 'mdays', 'month', 'month_abbr', 'month_name', 'monthcalendar', 'monthrange', 'prcal', 'prmonth', 'prweek', 'repeat', 'setfirstweekday', 'sys', 'timegm', 'week', 'weekday', 'weekheader']\n"
     ]
    }
   ],
   "source": [
    "import calendar \n",
    "\n",
    "print(dir(calendar))"
   ]
  },
  {
   "cell_type": "code",
   "execution_count": 6,
   "id": "3b17513a",
   "metadata": {},
   "outputs": [
    {
     "data": {
      "text/plain": [
       "True"
      ]
     },
     "execution_count": 6,
     "metadata": {},
     "output_type": "execute_result"
    }
   ],
   "source": [
    "calendar.isleap(2024)"
   ]
  },
  {
   "cell_type": "code",
   "execution_count": null,
   "id": "1fc2641e",
   "metadata": {},
   "outputs": [],
   "source": []
  },
  {
   "cell_type": "code",
   "execution_count": 10,
   "id": "b8672640",
   "metadata": {},
   "outputs": [
    {
     "name": "stdout",
     "output_type": "stream",
     "text": [
      "21\n",
      "hey hi kumar\n"
     ]
    }
   ],
   "source": [
    "### User Defined Modules \n",
    "import calculator #module \n",
    "\n",
    "#  module is a large python file which has user defined functions\n",
    "# import <module-name>\n",
    "\n",
    "\n",
    "print(calculator.add(1,20))\n",
    "print(calculator.greet(\"kumar\"))"
   ]
  },
  {
   "cell_type": "code",
   "execution_count": null,
   "id": "c22acd0e",
   "metadata": {},
   "outputs": [],
   "source": []
  },
  {
   "cell_type": "code",
   "execution_count": null,
   "id": "388b92c0",
   "metadata": {},
   "outputs": [],
   "source": []
  },
  {
   "cell_type": "code",
   "execution_count": 8,
   "id": "1649b531",
   "metadata": {},
   "outputs": [
    {
     "name": "stdout",
     "output_type": "stream",
     "text": [
      "['__builtins__', '__cached__', '__doc__', '__file__', '__loader__', '__name__', '__package__', '__spec__', 'add', 'greet', 'modulus', 'sub']\n"
     ]
    }
   ],
   "source": [
    "print(dir(calculator))"
   ]
  },
  {
   "cell_type": "code",
   "execution_count": null,
   "id": "c8bb2b18",
   "metadata": {},
   "outputs": [],
   "source": [
    "### 4 ways  of importing\n",
    "\n",
    "#basic \n",
    "import math\n",
    "\n",
    "math.gcd()\n",
    "\n",
    "#2\n",
    "import math as mt\n",
    "mt.gcd()\n",
    "\n",
    "# 3\n",
    "from math import pi , gcd\n",
    "gcd()\n",
    "\n",
    "\n",
    "# 4 code complexity\n",
    "from math import *\n",
    "gcd()\n"
   ]
  },
  {
   "cell_type": "markdown",
   "id": "71ce20e3",
   "metadata": {},
   "source": [
    "### OS MODULE"
   ]
  },
  {
   "cell_type": "code",
   "execution_count": 12,
   "id": "c793664f",
   "metadata": {},
   "outputs": [
    {
     "name": "stdout",
     "output_type": "stream",
     "text": [
      "['DirEntry', 'F_OK', 'MutableMapping', 'O_APPEND', 'O_BINARY', 'O_CREAT', 'O_EXCL', 'O_NOINHERIT', 'O_RANDOM', 'O_RDONLY', 'O_RDWR', 'O_SEQUENTIAL', 'O_SHORT_LIVED', 'O_TEMPORARY', 'O_TEXT', 'O_TRUNC', 'O_WRONLY', 'P_DETACH', 'P_NOWAIT', 'P_NOWAITO', 'P_OVERLAY', 'P_WAIT', 'PathLike', 'R_OK', 'SEEK_CUR', 'SEEK_END', 'SEEK_SET', 'TMP_MAX', 'W_OK', 'X_OK', '_AddedDllDirectory', '_Environ', '__all__', '__builtins__', '__cached__', '__doc__', '__file__', '__loader__', '__name__', '__package__', '__spec__', '_check_methods', '_execvpe', '_exists', '_exit', '_fspath', '_get_exports_list', '_putenv', '_unsetenv', '_wrap_close', 'abc', 'abort', 'access', 'add_dll_directory', 'altsep', 'chdir', 'chmod', 'close', 'closerange', 'cpu_count', 'curdir', 'defpath', 'device_encoding', 'devnull', 'dup', 'dup2', 'environ', 'error', 'execl', 'execle', 'execlp', 'execlpe', 'execv', 'execve', 'execvp', 'execvpe', 'extsep', 'fdopen', 'fsdecode', 'fsencode', 'fspath', 'fstat', 'fsync', 'ftruncate', 'get_exec_path', 'get_handle_inheritable', 'get_inheritable', 'get_terminal_size', 'getcwd', 'getcwdb', 'getenv', 'getlogin', 'getpid', 'getppid', 'isatty', 'kill', 'linesep', 'link', 'listdir', 'lseek', 'lstat', 'makedirs', 'mkdir', 'name', 'open', 'pardir', 'path', 'pathsep', 'pipe', 'popen', 'putenv', 'read', 'readlink', 'remove', 'removedirs', 'rename', 'renames', 'replace', 'rmdir', 'scandir', 'sep', 'set_handle_inheritable', 'set_inheritable', 'spawnl', 'spawnle', 'spawnv', 'spawnve', 'st', 'startfile', 'stat', 'stat_result', 'statvfs_result', 'strerror', 'supports_bytes_environ', 'supports_dir_fd', 'supports_effective_ids', 'supports_fd', 'supports_follow_symlinks', 'symlink', 'sys', 'system', 'terminal_size', 'times', 'times_result', 'truncate', 'umask', 'uname_result', 'unlink', 'urandom', 'utime', 'waitpid', 'walk', 'write']\n"
     ]
    }
   ],
   "source": [
    "import os\n",
    "print(dir(os))"
   ]
  },
  {
   "cell_type": "code",
   "execution_count": 13,
   "id": "40d1cd06",
   "metadata": {},
   "outputs": [
    {
     "data": {
      "text/plain": [
       "'D:\\\\SaiMedha\\\\Python Essentials\\\\clsNotebooks\\\\Functions-Module-Packages'"
      ]
     },
     "execution_count": 13,
     "metadata": {},
     "output_type": "execute_result"
    }
   ],
   "source": [
    "os.getcwd() #current working directory"
   ]
  },
  {
   "cell_type": "code",
   "execution_count": 14,
   "id": "1458691f",
   "metadata": {},
   "outputs": [
    {
     "data": {
      "text/plain": [
       "['.ipynb_checkpoints',\n",
       " 'Build-In_Modules.ipynb',\n",
       " 'calculator.py',\n",
       " 'Coding Question.ipynb',\n",
       " 'Collections & Itertools.ipynb',\n",
       " 'Modules Installation And Environment.ipynb',\n",
       " 'Packages .ipynb',\n",
       " 'Python Functions .ipynb',\n",
       " '__pycache__']"
      ]
     },
     "execution_count": 14,
     "metadata": {},
     "output_type": "execute_result"
    }
   ],
   "source": [
    "os.listdir() #listing all the files.."
   ]
  },
  {
   "cell_type": "code",
   "execution_count": 15,
   "id": "d4dce0e3",
   "metadata": {},
   "outputs": [],
   "source": [
    "os.mkdir(\"MARCH-PYTHON\")"
   ]
  },
  {
   "cell_type": "code",
   "execution_count": 16,
   "id": "96949758",
   "metadata": {},
   "outputs": [],
   "source": [
    "for i in range(1000):\n",
    "    os.mkdir(\"MARCH_\"+str(i))\n",
    "    "
   ]
  },
  {
   "cell_type": "code",
   "execution_count": 17,
   "id": "de24daca",
   "metadata": {},
   "outputs": [],
   "source": [
    "os.rmdir(\"MARCH-PYTHON\")"
   ]
  },
  {
   "cell_type": "code",
   "execution_count": 18,
   "id": "1223d42f",
   "metadata": {},
   "outputs": [],
   "source": [
    "for i in range(1000):\n",
    "    os.rmdir(\"MARCH_\"+str(i))\n",
    "    "
   ]
  },
  {
   "cell_type": "code",
   "execution_count": 20,
   "id": "4adfc52e",
   "metadata": {},
   "outputs": [
    {
     "ename": "FileExistsError",
     "evalue": "[WinError 183] Cannot create a file when that file already exists: 'MARCH-SESSION'",
     "output_type": "error",
     "traceback": [
      "\u001b[1;31m---------------------------------------------------------------------------\u001b[0m",
      "\u001b[1;31mFileExistsError\u001b[0m                           Traceback (most recent call last)",
      "\u001b[1;32m<ipython-input-20-8c540a14dc03>\u001b[0m in \u001b[0;36m<module>\u001b[1;34m\u001b[0m\n\u001b[1;32m----> 1\u001b[1;33m \u001b[0mos\u001b[0m\u001b[1;33m.\u001b[0m\u001b[0mmkdir\u001b[0m\u001b[1;33m(\u001b[0m\u001b[1;34m\"MARCH-SESSION\"\u001b[0m\u001b[1;33m)\u001b[0m\u001b[1;33m\u001b[0m\u001b[1;33m\u001b[0m\u001b[0m\n\u001b[0m",
      "\u001b[1;31mFileExistsError\u001b[0m: [WinError 183] Cannot create a file when that file already exists: 'MARCH-SESSION'"
     ]
    }
   ],
   "source": [
    "os.mkdir(\"MARCH-SESSION\")"
   ]
  },
  {
   "cell_type": "code",
   "execution_count": 21,
   "id": "7c1100fe",
   "metadata": {},
   "outputs": [
    {
     "data": {
      "text/plain": [
       "[]"
      ]
     },
     "execution_count": 21,
     "metadata": {},
     "output_type": "execute_result"
    }
   ],
   "source": [
    "os.chdir(\"./MARCH-SESSION\")\n",
    "os.listdir()"
   ]
  },
  {
   "cell_type": "code",
   "execution_count": 22,
   "id": "3d0feec0",
   "metadata": {},
   "outputs": [
    {
     "data": {
      "text/plain": [
       "['calculator.py']"
      ]
     },
     "execution_count": 22,
     "metadata": {},
     "output_type": "execute_result"
    }
   ],
   "source": [
    "os.listdir()"
   ]
  },
  {
   "cell_type": "code",
   "execution_count": null,
   "id": "1ff0ab40",
   "metadata": {},
   "outputs": [],
   "source": [
    "#SUMMARY \n",
    "os.listdir()\n",
    "os.getcwd()\n",
    "os.chdir()\n",
    "\n",
    "os.mkdir()\n",
    "os.rmdir()\n"
   ]
  },
  {
   "cell_type": "code",
   "execution_count": null,
   "id": "2dffc94b",
   "metadata": {},
   "outputs": [],
   "source": []
  },
  {
   "cell_type": "markdown",
   "id": "8e3f6658",
   "metadata": {},
   "source": [
    "### sys module"
   ]
  },
  {
   "cell_type": "code",
   "execution_count": 23,
   "id": "2b47d918",
   "metadata": {},
   "outputs": [
    {
     "name": "stdout",
     "output_type": "stream",
     "text": [
      "['__breakpointhook__', '__displayhook__', '__doc__', '__excepthook__', '__interactivehook__', '__loader__', '__name__', '__package__', '__spec__', '__stderr__', '__stdin__', '__stdout__', '__unraisablehook__', '_base_executable', '_clear_type_cache', '_current_frames', '_debugmallocstats', '_enablelegacywindowsfsencoding', '_framework', '_getframe', '_git', '_home', '_xoptions', 'addaudithook', 'api_version', 'argv', 'audit', 'base_exec_prefix', 'base_prefix', 'breakpointhook', 'builtin_module_names', 'byteorder', 'call_tracing', 'callstats', 'copyright', 'displayhook', 'dllhandle', 'dont_write_bytecode', 'exc_info', 'excepthook', 'exec_prefix', 'executable', 'exit', 'flags', 'float_info', 'float_repr_style', 'get_asyncgen_hooks', 'get_coroutine_origin_tracking_depth', 'getallocatedblocks', 'getcheckinterval', 'getdefaultencoding', 'getfilesystemencodeerrors', 'getfilesystemencoding', 'getprofile', 'getrecursionlimit', 'getrefcount', 'getsizeof', 'getswitchinterval', 'gettrace', 'getwindowsversion', 'hash_info', 'hexversion', 'implementation', 'int_info', 'intern', 'is_finalizing', 'last_traceback', 'last_type', 'last_value', 'maxsize', 'maxunicode', 'meta_path', 'modules', 'path', 'path_hooks', 'path_importer_cache', 'platform', 'prefix', 'ps1', 'ps2', 'ps3', 'pycache_prefix', 'set_asyncgen_hooks', 'set_coroutine_origin_tracking_depth', 'setcheckinterval', 'setprofile', 'setrecursionlimit', 'setswitchinterval', 'settrace', 'stderr', 'stdin', 'stdout', 'thread_info', 'unraisablehook', 'version', 'version_info', 'warnoptions', 'winver']\n"
     ]
    }
   ],
   "source": [
    "import sys\n",
    "\n",
    "print(dir(sys))"
   ]
  },
  {
   "cell_type": "code",
   "execution_count": 24,
   "id": "5e446986",
   "metadata": {},
   "outputs": [
    {
     "name": "stdout",
     "output_type": "stream",
     "text": [
      "3.8.8 (default, Apr 13 2021, 15:08:03) [MSC v.1916 64 bit (AMD64)]\n"
     ]
    }
   ],
   "source": [
    "print(sys.version)"
   ]
  },
  {
   "cell_type": "code",
   "execution_count": 28,
   "id": "8c26ba5a",
   "metadata": {},
   "outputs": [
    {
     "name": "stdout",
     "output_type": "stream",
     "text": [
      "3.8\n"
     ]
    }
   ],
   "source": [
    "print(sys.winver)"
   ]
  },
  {
   "cell_type": "code",
   "execution_count": 29,
   "id": "40c5cb2e",
   "metadata": {},
   "outputs": [
    {
     "name": "stdout",
     "output_type": "stream",
     "text": [
      "C:\\Users\\ACER\\anaconda3\\python.exe\n"
     ]
    }
   ],
   "source": [
    "print(sys.executable)"
   ]
  },
  {
   "cell_type": "code",
   "execution_count": 36,
   "id": "5a436589",
   "metadata": {},
   "outputs": [
    {
     "name": "stdout",
     "output_type": "stream",
     "text": [
      "88\n",
      "64\n",
      "54\n"
     ]
    }
   ],
   "source": [
    "marks = [10,20,30,40]\n",
    "print(sys.getsizeof(marks))\n",
    "\n",
    "colors = (\"red\",\"green\",\"yellow\")\n",
    "print(sys.getsizeof(colors))\n",
    "\n",
    "\n",
    "a = \"kumar\"\n",
    "print(sys.getsizeof(a))"
   ]
  },
  {
   "cell_type": "code",
   "execution_count": null,
   "id": "d4ec5804",
   "metadata": {},
   "outputs": [],
   "source": []
  },
  {
   "cell_type": "markdown",
   "id": "70ee6f32",
   "metadata": {},
   "source": [
    "### array module"
   ]
  },
  {
   "cell_type": "code",
   "execution_count": 40,
   "id": "180b7e41",
   "metadata": {},
   "outputs": [
    {
     "name": "stdout",
     "output_type": "stream",
     "text": [
      "['ArrayType', '__doc__', '__loader__', '__name__', '__package__', '__spec__', '_array_reconstructor', 'array', 'typecodes']\n"
     ]
    }
   ],
   "source": [
    "import array as arr\n",
    "print(dir(arr))"
   ]
  },
  {
   "cell_type": "code",
   "execution_count": 42,
   "id": "040b1603",
   "metadata": {},
   "outputs": [
    {
     "name": "stdout",
     "output_type": "stream",
     "text": [
      "['__add__', '__class__', '__contains__', '__copy__', '__deepcopy__', '__delattr__', '__delitem__', '__dir__', '__doc__', '__eq__', '__format__', '__ge__', '__getattribute__', '__getitem__', '__gt__', '__hash__', '__iadd__', '__imul__', '__init__', '__init_subclass__', '__iter__', '__le__', '__len__', '__lt__', '__mul__', '__ne__', '__new__', '__reduce__', '__reduce_ex__', '__repr__', '__rmul__', '__setattr__', '__setitem__', '__sizeof__', '__str__', '__subclasshook__', 'append', 'buffer_info', 'byteswap', 'count', 'extend', 'frombytes', 'fromfile', 'fromlist', 'fromstring', 'fromunicode', 'index', 'insert', 'itemsize', 'pop', 'remove', 'reverse', 'tobytes', 'tofile', 'tolist', 'tostring', 'tounicode', 'typecode']\n"
     ]
    }
   ],
   "source": [
    "from array import array\n",
    "print(dir(array))"
   ]
  },
  {
   "cell_type": "code",
   "execution_count": 46,
   "id": "60a4d63a",
   "metadata": {},
   "outputs": [
    {
     "name": "stdout",
     "output_type": "stream",
     "text": [
      "[10, 20, 30, 30.2, 'lkumar'] <class 'list'>\n"
     ]
    }
   ],
   "source": [
    "students_marks = [10,20,30,30.2,\"lkumar\"]\n",
    "print(students_marks,type(students_marks))"
   ]
  },
  {
   "cell_type": "code",
   "execution_count": 49,
   "id": "b6b1b320",
   "metadata": {},
   "outputs": [
    {
     "name": "stdout",
     "output_type": "stream",
     "text": [
      "array('i', [10, 20, 30, -30])\n",
      "<class 'array.array'>\n"
     ]
    }
   ],
   "source": [
    "data = array('i',[10,20,30,-30])\n",
    "\n",
    "print(data)\n",
    "print(type(data))"
   ]
  },
  {
   "cell_type": "code",
   "execution_count": null,
   "id": "6867840f",
   "metadata": {},
   "outputs": [],
   "source": [
    "# types codes\n",
    " Type code   C Type             Minimum size in bytes\n",
    "    'b'         signed integer     1\n",
    "    'B'         unsigned integer   1\n",
    "    'u'         Unicode character  2 (see note)\n",
    "    'h'         signed integer     2\n",
    "    'H'         unsigned integer   2\n",
    "    'i'         signed integer     2\n",
    "    'I'         unsigned integer   2\n",
    "    'l'         signed integer     4\n",
    "    'L'         unsigned integer   4\n",
    "    'q'         signed integer     8 (see note)\n",
    "    'Q'         unsigned integer   8 (see note)\n",
    "    'f'         floating point     4\n",
    "    'd'         floating point     8"
   ]
  },
  {
   "cell_type": "code",
   "execution_count": 50,
   "id": "b15aa066",
   "metadata": {},
   "outputs": [
    {
     "ename": "OverflowError",
     "evalue": "can't convert negative value to unsigned int",
     "output_type": "error",
     "traceback": [
      "\u001b[1;31m---------------------------------------------------------------------------\u001b[0m",
      "\u001b[1;31mOverflowError\u001b[0m                             Traceback (most recent call last)",
      "\u001b[1;32m<ipython-input-50-6f90a5621991>\u001b[0m in \u001b[0;36m<module>\u001b[1;34m\u001b[0m\n\u001b[1;32m----> 1\u001b[1;33m \u001b[0mdata2\u001b[0m \u001b[1;33m=\u001b[0m \u001b[0marray\u001b[0m\u001b[1;33m(\u001b[0m\u001b[1;34m'I'\u001b[0m\u001b[1;33m,\u001b[0m\u001b[1;33m[\u001b[0m\u001b[1;36m10\u001b[0m\u001b[1;33m,\u001b[0m\u001b[1;36m20\u001b[0m\u001b[1;33m,\u001b[0m\u001b[1;36m30\u001b[0m\u001b[1;33m,\u001b[0m\u001b[1;33m-\u001b[0m\u001b[1;36m30\u001b[0m\u001b[1;33m]\u001b[0m\u001b[1;33m)\u001b[0m\u001b[1;33m\u001b[0m\u001b[1;33m\u001b[0m\u001b[0m\n\u001b[0m\u001b[0;32m      2\u001b[0m \u001b[1;33m\u001b[0m\u001b[0m\n\u001b[0;32m      3\u001b[0m \u001b[0mprint\u001b[0m\u001b[1;33m(\u001b[0m\u001b[0mdata2\u001b[0m\u001b[1;33m)\u001b[0m\u001b[1;33m\u001b[0m\u001b[1;33m\u001b[0m\u001b[0m\n",
      "\u001b[1;31mOverflowError\u001b[0m: can't convert negative value to unsigned int"
     ]
    }
   ],
   "source": [
    "data2 = array('I',[10,20,30,-30])\n",
    "\n",
    "print(data2)"
   ]
  },
  {
   "cell_type": "code",
   "execution_count": 51,
   "id": "3ea45476",
   "metadata": {},
   "outputs": [
    {
     "name": "stdout",
     "output_type": "stream",
     "text": [
      "array('f', [10.199999809265137, 20.299999237060547, 30.0])\n"
     ]
    }
   ],
   "source": [
    "data3  = array(\"f\",[10.2,20.3,30])\n",
    "\n",
    "print(data3)"
   ]
  },
  {
   "cell_type": "code",
   "execution_count": 55,
   "id": "7cb60dcb",
   "metadata": {},
   "outputs": [],
   "source": [
    "#methods \n",
    "\n",
    "data.append(10)\n",
    "data3.append(10.22)"
   ]
  },
  {
   "cell_type": "code",
   "execution_count": 56,
   "id": "f88c6d21",
   "metadata": {},
   "outputs": [
    {
     "name": "stdout",
     "output_type": "stream",
     "text": [
      "array('i', [10, 20, 30, -30, 10, 10])\n"
     ]
    }
   ],
   "source": [
    "print(data)"
   ]
  },
  {
   "cell_type": "code",
   "execution_count": 57,
   "id": "084e4196",
   "metadata": {},
   "outputs": [
    {
     "name": "stdout",
     "output_type": "stream",
     "text": [
      "array('i', [10, 3096, 20, 30, -30, 10, 10])\n"
     ]
    }
   ],
   "source": [
    "data.insert(1,3096)\n",
    "print(data)"
   ]
  },
  {
   "cell_type": "code",
   "execution_count": 58,
   "id": "6cea3753",
   "metadata": {},
   "outputs": [],
   "source": [
    "data.reverse()"
   ]
  },
  {
   "cell_type": "code",
   "execution_count": 59,
   "id": "d1e7c6f6",
   "metadata": {},
   "outputs": [
    {
     "name": "stdout",
     "output_type": "stream",
     "text": [
      "array('i', [10, 10, -30, 30, 20, 3096, 10])\n"
     ]
    }
   ],
   "source": [
    "print(data)"
   ]
  },
  {
   "cell_type": "code",
   "execution_count": 61,
   "id": "133f0601",
   "metadata": {},
   "outputs": [
    {
     "name": "stdout",
     "output_type": "stream",
     "text": [
      "None\n",
      "array('i', [10, 10, 30, 20, 3096, 10])\n"
     ]
    }
   ],
   "source": [
    "print(data.remove(-30))\n",
    "print(data)"
   ]
  },
  {
   "cell_type": "code",
   "execution_count": 62,
   "id": "3544faed",
   "metadata": {},
   "outputs": [
    {
     "name": "stdout",
     "output_type": "stream",
     "text": [
      "3096\n",
      "array('i', [10, 10, 30, 20, 10])\n"
     ]
    }
   ],
   "source": [
    "print(data.pop(4))\n",
    "print(data)"
   ]
  },
  {
   "cell_type": "code",
   "execution_count": null,
   "id": "02d0abc0",
   "metadata": {},
   "outputs": [],
   "source": [
    "## Summary \n",
    "array.array(typecode,[data])\n",
    "\n",
    "methods\n",
    "-----------\n",
    "append()\n",
    "insert()\n",
    "pop()\n",
    "remove()\n",
    "reverse()\n",
    "index()\n"
   ]
  },
  {
   "cell_type": "markdown",
   "id": "66a80d20",
   "metadata": {},
   "source": [
    "### random module"
   ]
  },
  {
   "cell_type": "code",
   "execution_count": 63,
   "id": "95cd1a4d",
   "metadata": {},
   "outputs": [
    {
     "name": "stdout",
     "output_type": "stream",
     "text": [
      "['BPF', 'LOG4', 'NV_MAGICCONST', 'RECIP_BPF', 'Random', 'SG_MAGICCONST', 'SystemRandom', 'TWOPI', '_Sequence', '_Set', '__all__', '__builtins__', '__cached__', '__doc__', '__file__', '__loader__', '__name__', '__package__', '__spec__', '_accumulate', '_acos', '_bisect', '_ceil', '_cos', '_e', '_exp', '_inst', '_log', '_os', '_pi', '_random', '_repeat', '_sha512', '_sin', '_sqrt', '_test', '_test_generator', '_urandom', '_warn', 'betavariate', 'choice', 'choices', 'expovariate', 'gammavariate', 'gauss', 'getrandbits', 'getstate', 'lognormvariate', 'normalvariate', 'paretovariate', 'randint', 'random', 'randrange', 'sample', 'seed', 'setstate', 'shuffle', 'triangular', 'uniform', 'vonmisesvariate', 'weibullvariate']\n"
     ]
    }
   ],
   "source": [
    "import random \n",
    "print(dir(random))"
   ]
  },
  {
   "cell_type": "code",
   "execution_count": 67,
   "id": "bf6fec36",
   "metadata": {},
   "outputs": [
    {
     "name": "stdout",
     "output_type": "stream",
     "text": [
      "36\n"
     ]
    }
   ],
   "source": [
    "# random.randint(start,stop)\n",
    "\n",
    "print(random.randint(1,100))"
   ]
  },
  {
   "cell_type": "code",
   "execution_count": 73,
   "id": "9e67da53",
   "metadata": {},
   "outputs": [
    {
     "name": "stdout",
     "output_type": "stream",
     "text": [
      "18\n",
      "40\n",
      "27\n",
      "9\n",
      "89\n",
      "83\n",
      "13\n",
      "61\n",
      "41\n",
      "83\n"
     ]
    }
   ],
   "source": [
    "\n",
    "for i in range(10):print(random.randint(1,100))"
   ]
  },
  {
   "cell_type": "code",
   "execution_count": 75,
   "id": "210ab88f",
   "metadata": {},
   "outputs": [
    {
     "name": "stdout",
     "output_type": "stream",
     "text": [
      "25\n"
     ]
    }
   ],
   "source": [
    "# random.randomrange(start,stop,step)\n",
    "print(random.randrange(1,100,2))"
   ]
  },
  {
   "cell_type": "code",
   "execution_count": 83,
   "id": "a4edf66d",
   "metadata": {},
   "outputs": [
    {
     "name": "stdout",
     "output_type": "stream",
     "text": [
      "ekam\n"
     ]
    }
   ],
   "source": [
    "names = [\"alex\",\"avan\",\"tori\",\"becca\",\"ram\",\"krish\",\"ekam\",\"emma\"]\n",
    "\n",
    "print(random.choice(names))"
   ]
  },
  {
   "cell_type": "code",
   "execution_count": 85,
   "id": "f5bef2ae",
   "metadata": {},
   "outputs": [
    {
     "name": "stdout",
     "output_type": "stream",
     "text": [
      "['ram', 'avan', 'becca', 'tori', 'alex', 'ekam', 'krish', 'emma']\n"
     ]
    }
   ],
   "source": [
    "random.shuffle(names)\n",
    "\n",
    "print(names)"
   ]
  },
  {
   "cell_type": "code",
   "execution_count": null,
   "id": "22865d1b",
   "metadata": {},
   "outputs": [],
   "source": [
    "#summary \n",
    "random.randint()\n",
    "random.randrange()\n",
    "random.choice()\n",
    "random.shuffle()\n"
   ]
  },
  {
   "cell_type": "markdown",
   "id": "a727a21b",
   "metadata": {},
   "source": [
    "### datetime module"
   ]
  },
  {
   "cell_type": "code",
   "execution_count": 86,
   "id": "a0c281ad",
   "metadata": {},
   "outputs": [],
   "source": [
    "import datetime"
   ]
  },
  {
   "cell_type": "code",
   "execution_count": 88,
   "id": "c604b6d4",
   "metadata": {},
   "outputs": [
    {
     "data": {
      "text/plain": [
       "['MAXYEAR',\n",
       " 'MINYEAR',\n",
       " '__builtins__',\n",
       " '__cached__',\n",
       " '__doc__',\n",
       " '__file__',\n",
       " '__loader__',\n",
       " '__name__',\n",
       " '__package__',\n",
       " '__spec__',\n",
       " 'date',\n",
       " 'datetime',\n",
       " 'datetime_CAPI',\n",
       " 'sys',\n",
       " 'time',\n",
       " 'timedelta',\n",
       " 'timezone',\n",
       " 'tzinfo']"
      ]
     },
     "execution_count": 88,
     "metadata": {},
     "output_type": "execute_result"
    }
   ],
   "source": [
    "dir(datetime)"
   ]
  },
  {
   "cell_type": "code",
   "execution_count": 89,
   "id": "d585c5d5",
   "metadata": {},
   "outputs": [],
   "source": [
    "#  1st submodule\n",
    "\n",
    "from datetime import datetime"
   ]
  },
  {
   "cell_type": "code",
   "execution_count": 90,
   "id": "822483b7",
   "metadata": {},
   "outputs": [
    {
     "name": "stdout",
     "output_type": "stream",
     "text": [
      "['__add__', '__class__', '__delattr__', '__dir__', '__doc__', '__eq__', '__format__', '__ge__', '__getattribute__', '__gt__', '__hash__', '__init__', '__init_subclass__', '__le__', '__lt__', '__ne__', '__new__', '__radd__', '__reduce__', '__reduce_ex__', '__repr__', '__rsub__', '__setattr__', '__sizeof__', '__str__', '__sub__', '__subclasshook__', 'astimezone', 'combine', 'ctime', 'date', 'day', 'dst', 'fold', 'fromisocalendar', 'fromisoformat', 'fromordinal', 'fromtimestamp', 'hour', 'isocalendar', 'isoformat', 'isoweekday', 'max', 'microsecond', 'min', 'minute', 'month', 'now', 'replace', 'resolution', 'second', 'strftime', 'strptime', 'time', 'timestamp', 'timetuple', 'timetz', 'today', 'toordinal', 'tzinfo', 'tzname', 'utcfromtimestamp', 'utcnow', 'utcoffset', 'utctimetuple', 'weekday', 'year']\n"
     ]
    }
   ],
   "source": [
    "print(dir(datetime))"
   ]
  },
  {
   "cell_type": "code",
   "execution_count": 91,
   "id": "e8ae63f3",
   "metadata": {},
   "outputs": [
    {
     "name": "stdout",
     "output_type": "stream",
     "text": [
      "2023-03-05 13:44:54.905649\n"
     ]
    }
   ],
   "source": [
    "today = datetime.now()\n",
    "print(today)"
   ]
  },
  {
   "cell_type": "code",
   "execution_count": 97,
   "id": "de94ba1e",
   "metadata": {},
   "outputs": [
    {
     "name": "stdout",
     "output_type": "stream",
     "text": [
      "<class 'datetime.datetime'>\n",
      "['__add__', '__class__', '__delattr__', '__dir__', '__doc__', '__eq__', '__format__', '__ge__', '__getattribute__', '__gt__', '__hash__', '__init__', '__init_subclass__', '__le__', '__lt__', '__ne__', '__new__', '__radd__', '__reduce__', '__reduce_ex__', '__repr__', '__rsub__', '__setattr__', '__sizeof__', '__str__', '__sub__', '__subclasshook__', 'astimezone', 'combine', 'ctime', 'date', 'day', 'dst', 'fold', 'fromisocalendar', 'fromisoformat', 'fromordinal', 'fromtimestamp', 'hour', 'isocalendar', 'isoformat', 'isoweekday', 'max', 'microsecond', 'min', 'minute', 'month', 'now', 'replace', 'resolution', 'second', 'strftime', 'strptime', 'time', 'timestamp', 'timetuple', 'timetz', 'today', 'toordinal', 'tzinfo', 'tzname', 'utcfromtimestamp', 'utcnow', 'utcoffset', 'utctimetuple', 'weekday', 'year']\n"
     ]
    }
   ],
   "source": [
    "print(type(today) )\n",
    "print(dir(today))"
   ]
  },
  {
   "cell_type": "code",
   "execution_count": 98,
   "id": "018f4b6d",
   "metadata": {},
   "outputs": [
    {
     "name": "stdout",
     "output_type": "stream",
     "text": [
      "3\n",
      "2023-03-05\n",
      "2023\n"
     ]
    }
   ],
   "source": [
    "print(today.month)\n",
    "print(today.date())\n",
    "print(today.year)\n"
   ]
  },
  {
   "cell_type": "code",
   "execution_count": 99,
   "id": "dbf8e7da",
   "metadata": {},
   "outputs": [
    {
     "name": "stdout",
     "output_type": "stream",
     "text": [
      "1980-03-05 00:00:00\n"
     ]
    }
   ],
   "source": [
    "dob = datetime(1980,3,5)\n",
    "print(dob)"
   ]
  },
  {
   "cell_type": "code",
   "execution_count": 102,
   "id": "ec22f58d",
   "metadata": {},
   "outputs": [
    {
     "name": "stdout",
     "output_type": "stream",
     "text": [
      "1980\n",
      "3\n",
      "5\n"
     ]
    }
   ],
   "source": [
    "print(dob.year)\n",
    "print(dob.month)\n",
    "print(dob.day)"
   ]
  },
  {
   "cell_type": "code",
   "execution_count": null,
   "id": "251bfd08",
   "metadata": {},
   "outputs": [],
   "source": [
    "#SUMMARY\n",
    "1. from datetime import datetime\n",
    "    now()\n",
    "    - attrbites \n",
    "        year\n",
    "        month\n",
    "        day"
   ]
  },
  {
   "cell_type": "code",
   "execution_count": null,
   "id": "f47ee2c3",
   "metadata": {},
   "outputs": [],
   "source": []
  },
  {
   "cell_type": "markdown",
   "id": "f21baa3a",
   "metadata": {},
   "source": [
    "### hashlib module"
   ]
  },
  {
   "cell_type": "code",
   "execution_count": 106,
   "id": "670c5045",
   "metadata": {},
   "outputs": [
    {
     "name": "stdout",
     "output_type": "stream",
     "text": [
      "['__all__', '__block_openssl_constructor', '__builtin_constructor_cache', '__builtins__', '__cached__', '__doc__', '__file__', '__get_builtin_constructor', '__loader__', '__name__', '__package__', '__spec__', '_hashlib', 'algorithms_available', 'algorithms_guaranteed', 'blake2b', 'blake2s', 'md5', 'new', 'pbkdf2_hmac', 'scrypt', 'sha1', 'sha224', 'sha256', 'sha384', 'sha3_224', 'sha3_256', 'sha3_384', 'sha3_512', 'sha512', 'shake_128', 'shake_256']\n"
     ]
    }
   ],
   "source": [
    "import hashlib\n",
    "print(dir(hashlib))\n",
    "\n",
    "db = {}"
   ]
  },
  {
   "cell_type": "code",
   "execution_count": 114,
   "id": "6dcfcb98",
   "metadata": {},
   "outputs": [
    {
     "name": "stdout",
     "output_type": "stream",
     "text": [
      "51cceafee3e2329af9522255baaaa5ed\n",
      "{'username': 'kumar', 'password': '51cceafee3e2329af9522255baaaa5ed'}\n"
     ]
    }
   ],
   "source": [
    "password = \"Kumar@123\"\n",
    "username = \"kumar\"\n",
    "\n",
    "encrypted = hashlib.md5(password.encode()).hexdigest()\n",
    "print(encrypted)\n",
    "\n",
    "db['username'] = username\n",
    "db['password'] = encrypted\n",
    "\n",
    "print(db)"
   ]
  },
  {
   "cell_type": "code",
   "execution_count": null,
   "id": "8ee941f0",
   "metadata": {},
   "outputs": [],
   "source": [
    "def LoginAPP()"
   ]
  }
 ],
 "metadata": {
  "kernelspec": {
   "display_name": "Python 3",
   "language": "python",
   "name": "python3"
  },
  "language_info": {
   "codemirror_mode": {
    "name": "ipython",
    "version": 3
   },
   "file_extension": ".py",
   "mimetype": "text/x-python",
   "name": "python",
   "nbconvert_exporter": "python",
   "pygments_lexer": "ipython3",
   "version": "3.8.8"
  }
 },
 "nbformat": 4,
 "nbformat_minor": 5
}
