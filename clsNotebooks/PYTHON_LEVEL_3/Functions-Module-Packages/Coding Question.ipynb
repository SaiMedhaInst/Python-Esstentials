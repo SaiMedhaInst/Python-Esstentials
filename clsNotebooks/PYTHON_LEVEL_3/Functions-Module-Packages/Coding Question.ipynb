{
 "cells": [
  {
   "cell_type": "markdown",
   "metadata": {},
   "source": [
    "### Replace the Duplicate Character's"
   ]
  },
  {
   "cell_type": "markdown",
   "metadata": {},
   "source": [
    "1.Find the Duplicate Characters in the Given Sequence or Strinh\n",
    "\n",
    "ex:\n",
    "\n",
    "input:\n",
    "    Hello\n",
    "\n",
    "output:\n",
    "       l"
   ]
  },
  {
   "cell_type": "code",
   "execution_count": null,
   "metadata": {},
   "outputs": [],
   "source": []
  },
  {
   "cell_type": "code",
   "execution_count": 1,
   "metadata": {},
   "outputs": [
    {
     "name": "stdout",
     "output_type": "stream",
     "text": [
      "17\n",
      "y h e e r e "
     ]
    }
   ],
   "source": [
    "#approach1\n",
    "s=\"pythonisverywhere\"\n",
    "print(len(s))\n",
    "for i in range(len(s)):\n",
    "    for j in range(i+1,len(s)):\n",
    "        if(s[i]==s[j]):\n",
    "            print(s[i],end =\" \")"
   ]
  },
  {
   "cell_type": "code",
   "execution_count": 5,
   "metadata": {},
   "outputs": [
    {
     "name": "stdout",
     "output_type": "stream",
     "text": [
      "{'p': 1, 'y': 2, 't': 1, 'h': 2, 'o': 1, 'n': 1, 'i': 1, 's': 1, 'v': 1, 'e': 3, 'r': 2, 'w': 1}\n"
     ]
    }
   ],
   "source": [
    "#approach 2 using Dictionary\n",
    "d={}\n",
    "for i in s:\n",
    "    if i in d:\n",
    "        d[i]+=1\n",
    "    else:\n",
    "        d[i]=1\n",
    "print(d)"
   ]
  },
  {
   "cell_type": "code",
   "execution_count": 6,
   "metadata": {},
   "outputs": [
    {
     "name": "stdout",
     "output_type": "stream",
     "text": [
      "y 2\n",
      "h 2\n",
      "e 3\n",
      "r 2\n"
     ]
    }
   ],
   "source": [
    "for i in d:\n",
    "    if d[i]>1:\n",
    "        print(i,d[i])"
   ]
  },
  {
   "cell_type": "code",
   "execution_count": 7,
   "metadata": {},
   "outputs": [],
   "source": [
    "#approach3  \n",
    "\n",
    "remove_dup = set(s)"
   ]
  },
  {
   "cell_type": "code",
   "execution_count": 8,
   "metadata": {},
   "outputs": [
    {
     "data": {
      "text/plain": [
       "{'e', 'h', 'i', 'n', 'o', 'p', 'r', 's', 't', 'v', 'w', 'y'}"
      ]
     },
     "execution_count": 8,
     "metadata": {},
     "output_type": "execute_result"
    }
   ],
   "source": [
    "remove_dup"
   ]
  },
  {
   "cell_type": "code",
   "execution_count": null,
   "metadata": {},
   "outputs": [],
   "source": [
    "#exercise\n",
    "# 1.replace dup's with uppercase\n"
   ]
  },
  {
   "cell_type": "markdown",
   "metadata": {},
   "source": [
    "#### First and Last Occurence"
   ]
  },
  {
   "cell_type": "code",
   "execution_count": 11,
   "metadata": {},
   "outputs": [],
   "source": [
    "# 2.Find the Duplicated in the List of Integers\n",
    "#  replace with the power of them\n",
    "    \n",
    "# ex:\n",
    "# input:\n",
    "#     [1,2,3,4,2,3]\n",
    "# output:\n",
    "#     [1,4,9,4,4,9]"
   ]
  },
  {
   "cell_type": "markdown",
   "metadata": {},
   "source": [
    "2. Find the first and last Occurence of a Number in a Sequence of Integers.\n",
    "\n",
    "arr = [1,2,3,3,4,5,6,7]\n",
    "\n",
    "ele= 3 \n",
    "\n",
    "- first occurence\n",
    "\n",
    "output: 2\n",
    "\n",
    "- Last occurence\n",
    "\n",
    "output:\n",
    "3"
   ]
  },
  {
   "cell_type": "code",
   "execution_count": null,
   "metadata": {},
   "outputs": [],
   "source": []
  },
  {
   "cell_type": "code",
   "execution_count": null,
   "metadata": {},
   "outputs": [],
   "source": []
  },
  {
   "cell_type": "code",
   "execution_count": null,
   "metadata": {},
   "outputs": [],
   "source": []
  },
  {
   "cell_type": "markdown",
   "metadata": {},
   "source": [
    "#### GCD & LCM"
   ]
  },
  {
   "cell_type": "code",
   "execution_count": 1,
   "metadata": {},
   "outputs": [
    {
     "name": "stdout",
     "output_type": "stream",
     "text": [
      "4\n",
      "6\n",
      "2\n"
     ]
    }
   ],
   "source": [
    "#gcd\n",
    "#the greatest number which divides both the number\n",
    "#n1=4\n",
    "#n2=8\n",
    "#gcd = 4\n",
    "n1=int(input())\n",
    "n2=int(input())\n",
    "for i in range(max(n1,n2),0,-1):\n",
    "    if (n1%i==0) and (n2%i==0):\n",
    "        gcd=i\n",
    "        break\n",
    "print(gcd)"
   ]
  },
  {
   "cell_type": "code",
   "execution_count": null,
   "metadata": {},
   "outputs": [],
   "source": [
    "#3rd way of doing it.\n",
    "\n",
    "n1=int(input())\n",
    "n2=int(input())\n",
    "while n1!=n2: #exit\n",
    "    if(n1>n2):\n",
    "        n1=n1-n2\n",
    "    else:\n",
    "        n2=n2-n1\n",
    "print(n2)\n"
   ]
  },
  {
   "cell_type": "code",
   "execution_count": 2,
   "metadata": {},
   "outputs": [],
   "source": [
    "#4 - using the recursion\n",
    "def gcd(a,b):\n",
    "    if b==0:\n",
    "        return a\n",
    "    return gcd(b,a%b)\n"
   ]
  },
  {
   "cell_type": "code",
   "execution_count": 3,
   "metadata": {},
   "outputs": [
    {
     "name": "stdout",
     "output_type": "stream",
     "text": [
      "lcm  12.0\n"
     ]
    }
   ],
   "source": [
    "#lcm*gcd = n1*n2\n",
    "\n",
    "# lcm = (n1*n2)/gcd\n",
    "n1=4\n",
    "n2=6\n",
    "lcm = (n1*n2)/gcd(n1,n2)\n",
    "print(\"lcm \",lcm)"
   ]
  },
  {
   "cell_type": "code",
   "execution_count": 4,
   "metadata": {},
   "outputs": [
    {
     "name": "stdout",
     "output_type": "stream",
     "text": [
      "12\n"
     ]
    }
   ],
   "source": [
    "def lcm_of_two_Numbers(a,b):\n",
    "    lcm=max(a,b)\n",
    "    while True:\n",
    "        if (lcm%a==0) and (lcm%b==0):\n",
    "            return lcm\n",
    "        else:\n",
    "            lcm+=1\n",
    "res = lcm_of_two_Numbers(4,6)\n",
    "print(res)"
   ]
  },
  {
   "cell_type": "markdown",
   "metadata": {},
   "source": [
    "### String Reverse SwapCase\n",
    "- Write a function to perform \n",
    "- Given a String s =\"aWESOME iS cODING\"\n",
    "-  return  revere swapcase  of the given string\n",
    "- output: Coding Is Awesome . "
   ]
  },
  {
   "cell_type": "code",
   "execution_count": 13,
   "metadata": {},
   "outputs": [
    {
     "data": {
      "text/plain": [
       "'CBA'"
      ]
     },
     "execution_count": 13,
     "metadata": {},
     "output_type": "execute_result"
    }
   ],
   "source": [
    "s=\"ABC\"\n",
    "s=\"\".join(reversed(s))\n",
    "s"
   ]
  },
  {
   "cell_type": "code",
   "execution_count": 14,
   "metadata": {},
   "outputs": [
    {
     "data": {
      "text/plain": [
       "'ABC'"
      ]
     },
     "execution_count": 14,
     "metadata": {},
     "output_type": "execute_result"
    }
   ],
   "source": [
    "s[::-1]"
   ]
  },
  {
   "cell_type": "code",
   "execution_count": 16,
   "metadata": {},
   "outputs": [
    {
     "name": "stdout",
     "output_type": "stream",
     "text": [
      "CBA\n"
     ]
    }
   ],
   "source": [
    "res = \"\"\n",
    "for i in s:\n",
    "    res = res+i\n",
    "print(res)"
   ]
  },
  {
   "cell_type": "code",
   "execution_count": 19,
   "metadata": {},
   "outputs": [
    {
     "data": {
      "text/plain": [
       "'Awesome Is Coding'"
      ]
     },
     "execution_count": 19,
     "metadata": {},
     "output_type": "execute_result"
    }
   ],
   "source": [
    "s1=\"aWESOME iS cODING\"\n",
    "s1[::-1].swapcase()"
   ]
  },
  {
   "cell_type": "code",
   "execution_count": 20,
   "metadata": {},
   "outputs": [
    {
     "data": {
      "text/plain": [
       "['aWESOME', 'iS', 'cODING']"
      ]
     },
     "execution_count": 20,
     "metadata": {},
     "output_type": "execute_result"
    }
   ],
   "source": [
    "s1.split()"
   ]
  },
  {
   "cell_type": "code",
   "execution_count": 27,
   "metadata": {},
   "outputs": [],
   "source": [
    "def String_SwapCase(String):\n",
    "    s = String.split()\n",
    "    s = s[::-1]\n",
    "    res = \" \".join(s)\n",
    "    print(res.swapcase())\n",
    "    "
   ]
  },
  {
   "cell_type": "code",
   "execution_count": 28,
   "metadata": {},
   "outputs": [
    {
     "name": "stdout",
     "output_type": "stream",
     "text": [
      "Coding Is Awesome\n"
     ]
    }
   ],
   "source": [
    "String_SwapCase(\"aWESOME iS cODING\")"
   ]
  },
  {
   "cell_type": "code",
   "execution_count": null,
   "metadata": {},
   "outputs": [],
   "source": []
  },
  {
   "cell_type": "markdown",
   "metadata": {},
   "source": [
    "### Linear Search\n",
    "- Write a function with name LinearSearch(arr,element) \n",
    "- Given a list lst =[10,3,4,7,12,56,4] , find the index of the element\n",
    "- if the element is not in list return -1\n",
    "- if element is duplicated return the second found index of the element.\n",
    "\n",
    "ex: \n",
    "- testcase 1\n",
    "    element = 4\n",
    "    output:2\n",
    "\n",
    "- testcase 2\n",
    "    element = 9\n",
    "    output = -1\n"
   ]
  },
  {
   "cell_type": "code",
   "execution_count": null,
   "metadata": {},
   "outputs": [],
   "source": []
  },
  {
   "cell_type": "code",
   "execution_count": null,
   "metadata": {},
   "outputs": [],
   "source": []
  },
  {
   "cell_type": "code",
   "execution_count": null,
   "metadata": {},
   "outputs": [],
   "source": []
  },
  {
   "cell_type": "markdown",
   "metadata": {},
   "source": [
    "### Switch Case\n",
    "- Develop a function with the following functionality\n",
    "- Given a list with integers [6,-3,4 , 5,-3,5,4]\n",
    "- change the sign of the unqiue numbers\n",
    "- Do subtraction of all elements\n",
    "\n",
    "ex: after changing the sign [-6,-3,4,5,-3,5,-4]\n"
   ]
  },
  {
   "cell_type": "code",
   "execution_count": null,
   "metadata": {},
   "outputs": [],
   "source": []
  },
  {
   "cell_type": "code",
   "execution_count": null,
   "metadata": {},
   "outputs": [],
   "source": []
  },
  {
   "cell_type": "code",
   "execution_count": null,
   "metadata": {},
   "outputs": [],
   "source": []
  },
  {
   "cell_type": "markdown",
   "metadata": {},
   "source": [
    "####  Find the Maximum and Minimum from List\n",
    "- Given a list arr=[1,22,33,4,50,6]\n",
    "- print the maximum and minimum number from the list\n",
    "- return the average of maximum and minimum numbers"
   ]
  },
  {
   "cell_type": "code",
   "execution_count": null,
   "metadata": {},
   "outputs": [],
   "source": []
  },
  {
   "cell_type": "code",
   "execution_count": null,
   "metadata": {},
   "outputs": [],
   "source": []
  },
  {
   "cell_type": "code",
   "execution_count": null,
   "metadata": {},
   "outputs": [],
   "source": []
  },
  {
   "cell_type": "markdown",
   "metadata": {},
   "source": [
    "#### Unique pairs from array with sum of target\n",
    "\n",
    "- Amazon\n"
   ]
  },
  {
   "cell_type": "code",
   "execution_count": 1,
   "metadata": {},
   "outputs": [
    {
     "data": {
      "text/plain": [
       "'Given an int array nums and an int target, find how many unique pairs in the array such that their sum is equal to target. Return the number of pairs.\\n\\nExample 1:\\n\\nInput: nums = [1, 1, 2, 45, 46, 46], target = 47\\nOutput: 2\\nExplanation:\\n1 + 46 = 47\\n2 + 45 = 47\\n\\n\\n'"
      ]
     },
     "execution_count": 1,
     "metadata": {},
     "output_type": "execute_result"
    }
   ],
   "source": [
    "\"\"\"Given an int array nums and an int target, find how many unique pairs in the array such that their sum is equal to target. Return the number of pairs.\n",
    "\n",
    "Example 1:\n",
    "\n",
    "Input: nums = [1, 1, 2, 45, 46, 46], target = 47\n",
    "Output: 2\n",
    "Explanation:\n",
    "1 + 46 = 47\n",
    "2 + 45 = 47\n",
    "\n",
    "Example 2:\n",
    "\n",
    "Input: nums = [1, 1], target = 2\n",
    "Output: 1\n",
    "Explanation:\n",
    "1 + 1 = 2\n",
    "\n",
    "\n",
    "Input: nums = [1, 5, 1, 5], target = 6\n",
    "Output: 1\n",
    "Explanation:\n",
    "[1, 5] and [5, 1] are considered the same.\n",
    "\n",
    "\"\"\"\n",
    "\n",
    "\n"
   ]
  },
  {
   "cell_type": "code",
   "execution_count": null,
   "metadata": {},
   "outputs": [],
   "source": []
  }
 ],
 "metadata": {
  "kernelspec": {
   "display_name": "Python 3",
   "language": "python",
   "name": "python3"
  },
  "language_info": {
   "codemirror_mode": {
    "name": "ipython",
    "version": 3
   },
   "file_extension": ".py",
   "mimetype": "text/x-python",
   "name": "python",
   "nbconvert_exporter": "python",
   "pygments_lexer": "ipython3",
   "version": "3.8.8"
  }
 },
 "nbformat": 4,
 "nbformat_minor": 4
}
