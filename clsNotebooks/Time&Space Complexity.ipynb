{
 "cells": [
  {
   "cell_type": "markdown",
   "id": "67f28285",
   "metadata": {},
   "source": [
    "## Complexity"
   ]
  },
  {
   "attachments": {},
   "cell_type": "markdown",
   "id": "745790bf",
   "metadata": {},
   "source": [
    "<img src = \"https://miro.medium.com/max/828/1*xq73u1N7ZsTE2MJ9jsj0CA.webp\">\n",
    "\n",
    "Generally, there is always more than one way to solve a problem in computer science with different algorithms. \n",
    "Therefore, it is highly required to use a method to compare the solutions in order to judge which one is more optimal. \n",
    "The method must be:\n",
    "\n",
    "- Independent of the machine and its configuration, on which the algorithm is running on.\n",
    "- Shows a direct correlation with the number of inputs.\n",
    "- Can distinguish two algorithms clearly without ambiguity.\n",
    "\n",
    "**Time Complexity != Time Taken** \n",
    "\n",
    "<img src = \"https://i.imgur.com/TPkhjFx.png\">\n",
    "\n",
    "ex: Linear Search on array/List of integers \n",
    "\n",
    "**Time Complexity is a mathematical function that tells us how time is going to increase when input size increases/grows.**\n",
    "\n",
    "- Function that gives us the relationship about how the time will grow as the input grows.\n",
    "\n",
    "- Time & Space Complexity is independent of Programming Language.\n",
    "        - while calculating complexity don't take the computer's configurations into consideration.\n",
    "        - Like CPU Speed,Memory Capacity.\n",
    "\n",
    "### What do we consider when thinking about complexity?\n",
    "     1. Always look for worst case complexity.\n",
    "     2. Always look at complexity for larger data.\n",
    "     3. We don't care actual time taken , as time taken will be vary from machine to machine . we only care about relationship b/w time vs input \n",
    "    ex: y = x\n",
    "        y = 2x\n",
    "        y = 4x+1\n",
    " <img src = \"https://i.imgur.com/pkFtU9S.png\">\n",
    "        even the values of actual time is diff but they are all growing linear , so we **ignore constants**.\n",
    "        \n",
    "    4. Always ignore less dominating terms.\n",
    "            O(N^3 + logN) \n",
    "        "
   ]
  },
  {
   "cell_type": "code",
   "execution_count": null,
   "id": "2272f45b",
   "metadata": {},
   "outputs": [],
   "source": []
  },
  {
   "cell_type": "code",
   "execution_count": null,
   "id": "9fdb55b2",
   "metadata": {},
   "outputs": [],
   "source": []
  },
  {
   "cell_type": "code",
   "execution_count": null,
   "id": "0c2f1741",
   "metadata": {},
   "outputs": [],
   "source": []
  },
  {
   "cell_type": "markdown",
   "id": "5dba2389",
   "metadata": {},
   "source": [
    "### What is time complexity?\n",
    "According to Wikipedia,\n",
    "\n",
    "*In computer science, the time complexity is the computational complexity that describes the amount of time it takes to run an algorithm.*\n",
    "\n",
    "In simple words,\n",
    "**Time complexity of a program is a simple measurement of how fast the time taken by a program grows, if the input increases.**"
   ]
  },
  {
   "cell_type": "markdown",
   "id": "e560a121",
   "metadata": {},
   "source": [
    "### Types"
   ]
  },
  {
   "cell_type": "markdown",
   "id": "ef332416",
   "metadata": {},
   "source": [
    "### Big-Oh \n",
    "    - Consider upper bound or worst case complexity\n",
    "    - Algorithm will never extends the complexity of this.\n",
    "    - denoted by O()\n",
    "    \n",
    "    \n",
    "    Example: prove that f(n) = 5n² + 3n + 2 has Big Oh O(n²)\n",
    "\n",
    "Since we know that the highest order of f(n) is 2, we can conclude that f(n) can not have a time complexity greater then that of n², which means it’s the worst case running time.\n",
    "\n",
    "\n",
    "<img src = \"https://i.imgur.com/qkGpTWp.png\">"
   ]
  },
  {
   "attachments": {},
   "cell_type": "markdown",
   "id": "1e117d94",
   "metadata": {},
   "source": [
    "### Big Omega.\n",
    "    - best case running time\n",
    "    - Opposite of Big Oh notation\n",
    "    - Consider the lower bound of values or least complexity.\n",
    "    - denoted by O\n",
    "    \n",
    "    \n",
    "Example: prove that f(n) = 5n² + 3n has Big Ω(n)\n",
    "\n",
    "We know that the lowest order of the polynomial function f(n) (i.e. 1) is less than n², thus we can conclude that f(n) has a big Ω(n)\n",
    "\n",
    "<img src = \"https://i.imgur.com/PpWdTaX.png\" heigth=\"400\" width=\"800\">\n",
    "    \n",
    "    \n",
    "### Big - Theta\n",
    "    - both best and worst case running time\n",
    "    - combing both Big-oh and Big omega \n",
    "    - combing both upper bound and lower bound.\n",
    "    \n",
    " \n",
    "Example: prove that f(n) = 3n has Big Θ(n)\n",
    "\n",
    "Since the highest and the lowest order of the polynomial is 1, the big Θ of f(n) is going to be n.\n",
    "    \n",
    "    \n",
    "<img src = \"https://i.imgur.com/DUQrf2X.png\" heigth=\"400\" width=\"800\">"
   ]
  },
  {
   "cell_type": "markdown",
   "id": "a4b9d55a",
   "metadata": {},
   "source": [
    "### Examples\n",
    "\n",
    "        ╔══════════════════╦═════════════════╗\n",
    "        ║       Name       ║ Time Complexity ║\n",
    "        ╠══════════════════╬═════════════════╣\n",
    "        ║ Constant Time    ║       O(1)      ║\n",
    "        ╠══════════════════╬═════════════════╣\n",
    "        ║ Logarithmic Time ║     O(log n)    ║\n",
    "        ╠══════════════════╬═════════════════╣\n",
    "        ║ Linear Time      ║       O(n)      ║\n",
    "        ╠══════════════════╬═════════════════╣\n",
    "        ║ Quasilinear Time ║    O(n log n)   ║\n",
    "        ╠══════════════════╬═════════════════╣\n",
    "        ║ Quadratic Time   ║      O(n^2)     ║\n",
    "        ╠══════════════════╬═════════════════╣\n",
    "        ║ Exponential Time ║      O(2^n)     ║\n",
    "        ╠══════════════════╬═════════════════╣\n",
    "        ║ Factorial Time   ║       O(n!)     ║\n",
    "        ╚══════════════════╩═════════════════╝"
   ]
  },
  {
   "cell_type": "markdown",
   "id": "c369cae5",
   "metadata": {},
   "source": [
    "#### O(1) — Constant Time\n",
    "\n",
    "Constant time means the running time is constant, it’s not affected by the input size (i.e. Basic Operations (arithmetic, comparisons, accessing array’s elements, assignment))\n"
   ]
  },
  {
   "cell_type": "code",
   "execution_count": 2,
   "id": "4280ccfd",
   "metadata": {},
   "outputs": [
    {
     "name": "stdout",
     "output_type": "stream",
     "text": [
      "10 is < 20\n"
     ]
    }
   ],
   "source": [
    "a = 10\n",
    "b = 20\n",
    "\n",
    "if (a>b):\n",
    "    print(f\"{a} is > {b}\")\n",
    "else:\n",
    "    print(f\"{a} is < {b}\")"
   ]
  },
  {
   "cell_type": "markdown",
   "id": "e3e7d080",
   "metadata": {},
   "source": [
    "#### 2) O(log n) — Logarithmic Time\n",
    "\n",
    "- Algorithm that has running time O(log n) is slight faster than O(n).\n",
    "- Commonly, algorithm divides the problem into sub problems with the same size. \n",
    "\n",
    "Example: binary search algorithm, binary conversion algorithm.\n",
    "\n",
    "**Analysis of input size at each iteration of Binary Search:**\n",
    "\n",
    "**At Iteration 1:**\n",
    "Length of array = n\n",
    "\n",
    "**At Iteration 2:**\n",
    "Length of array = n/2\n",
    "\n",
    "\n",
    "**At Iteration 3:**\n",
    "Length of array = (n/2)/2 = n/2^2\n",
    "\n",
    "Therefore, after Iteration k:\n",
    "Length of array = n/2^k\n",
    "\n",
    "\n",
    "\n",
    "**Also, we know that after k iterations, the length of the array becomes 1 Therefore, the Length of the array **\n",
    "n/2^k = 1\n",
    "=> n = 2^k\n",
    "Applying log function on both sides: \n",
    "\n",
    "=> log2n = log2^2^k\n",
    "\n",
    "=> log2n = k * log2^2\n",
    "\n",
    "**As (loga (a) = 1) Therefore, k = log2(n)**"
   ]
  },
  {
   "cell_type": "code",
   "execution_count": null,
   "id": "07625058",
   "metadata": {},
   "outputs": [],
   "source": []
  },
  {
   "cell_type": "code",
   "execution_count": 13,
   "id": "1a8f2360",
   "metadata": {},
   "outputs": [
    {
     "name": "stdout",
     "output_type": "stream",
     "text": [
      "Found At Index 3\n"
     ]
    }
   ],
   "source": [
    "v = [1, 3, 4, 5, 6]\n",
    "lo = 0\n",
    "hi = len(v) - 1\n",
    "To_Find = 5\n",
    "\n",
    "\n",
    "# This below check covers all cases , so need to check\n",
    "# for mid=lo-(hi-lo)/2\n",
    "while hi - lo > 1:\n",
    "    mid = (hi + lo) // 2\n",
    "    if v[mid] < To_Find:\n",
    "        lo = mid + 1\n",
    "    else:\n",
    "        hi = mid\n",
    "\n",
    "if v[lo] == To_Find:\n",
    "    print(\"Found At Index\", lo)\n",
    "elif v[hi] == To_Find:\n",
    "    print(\"Found At Index\", hi)\n",
    "else:\n",
    "    print(\"Not Found\")"
   ]
  },
  {
   "cell_type": "code",
   "execution_count": null,
   "id": "00c13ce7",
   "metadata": {},
   "outputs": [],
   "source": []
  },
  {
   "cell_type": "markdown",
   "id": "be06fee0",
   "metadata": {},
   "source": [
    "#### 3) O(n) — Linear Time\n",
    "\n",
    "When an algorithm accepts n input size, it would perform n operations as well.\n",
    "\n",
    "Consider the following example, below linearly searching for an element, this has a time complexity of O(n) because it goes through the loop n times."
   ]
  },
  {
   "cell_type": "code",
   "execution_count": 7,
   "id": "09b94d29",
   "metadata": {},
   "outputs": [
    {
     "name": "stdout",
     "output_type": "stream",
     "text": [
      "  96 found at index no. 2\n"
     ]
    }
   ],
   "source": [
    "#LINEAR SEARCH \n",
    "key = 96 \n",
    "index = -1\n",
    "arr = [3,0,96,25,26,31,18]\n",
    "n = len(arr)\n",
    "for i in range(n):\n",
    "    if(key == arr[i]):\n",
    "        index = i\n",
    "        break\n",
    "if index!=-1:\n",
    "    print(f\"  {key} found at index no. {index}\")\n",
    "else:\n",
    "    print(f\" {key} not found.\")"
   ]
  },
  {
   "cell_type": "code",
   "execution_count": null,
   "id": "ff1c267d",
   "metadata": {},
   "outputs": [],
   "source": []
  },
  {
   "cell_type": "markdown",
   "id": "237cd3e0",
   "metadata": {},
   "source": [
    "#### 4) O(n log n) — Linearithmic Time\n",
    "\n",
    "This running time is often found in “divide & conquer algorithms” which divide the problem into sub problems recursively and then merge them in n time. Example: Merge Sort algorithm."
   ]
  },
  {
   "cell_type": "code",
   "execution_count": null,
   "id": "441d3a1b",
   "metadata": {},
   "outputs": [],
   "source": []
  },
  {
   "cell_type": "markdown",
   "id": "f815c1e0",
   "metadata": {},
   "source": [
    "#### 5) O(n²) — Quadratic Time\n",
    "\n",
    "An algorithm is said to have a quadratic time complexity when it needs to perform a linear time operation for each value in the input data.\n"
   ]
  },
  {
   "cell_type": "code",
   "execution_count": null,
   "id": "ddbe0531",
   "metadata": {},
   "outputs": [],
   "source": []
  },
  {
   "cell_type": "code",
   "execution_count": null,
   "id": "190c975f",
   "metadata": {},
   "outputs": [],
   "source": [
    "for i in range(n):\n",
    "    for j in range(n):\n",
    "        print(i*j,end=\" \")\n",
    "    print()"
   ]
  },
  {
   "cell_type": "code",
   "execution_count": null,
   "id": "d2c91b7d",
   "metadata": {},
   "outputs": [],
   "source": []
  },
  {
   "cell_type": "markdown",
   "id": "963b3a14",
   "metadata": {},
   "source": [
    "#### 6) O(n³) — Cubic Time\n",
    "\n",
    "It has the same principle as O(n²)."
   ]
  },
  {
   "cell_type": "code",
   "execution_count": null,
   "id": "0f5f0988",
   "metadata": {},
   "outputs": [],
   "source": []
  },
  {
   "cell_type": "markdown",
   "id": "c65b85f9",
   "metadata": {},
   "source": [
    "#### 7) O(2^n) — Exponential Time\n",
    "\n",
    "It is very slow as input get larger, if n = 1000.000, T(n) would be 21000.000. Brute Force algorithm has this running time."
   ]
  },
  {
   "cell_type": "markdown",
   "id": "1d869655",
   "metadata": {},
   "source": [
    "#### 8) O(n!) —Factorial Time\n",
    "\n",
    "Its the slowest of them all.\n",
    "\n"
   ]
  },
  {
   "cell_type": "code",
   "execution_count": null,
   "id": "f366b3d5",
   "metadata": {},
   "outputs": [],
   "source": []
  },
  {
   "cell_type": "markdown",
   "id": "5e0a9ca2",
   "metadata": {},
   "source": [
    "<img src = \"https://i.imgur.com/NYsJAyI.png\">"
   ]
  },
  {
   "cell_type": "markdown",
   "id": "b63fd646",
   "metadata": {},
   "source": [
    "<img src = \"https://i.imgur.com/6gIx9Un.png\">"
   ]
  },
  {
   "cell_type": "code",
   "execution_count": null,
   "id": "dd52719b",
   "metadata": {},
   "outputs": [],
   "source": []
  },
  {
   "cell_type": "code",
   "execution_count": null,
   "id": "db35f59a",
   "metadata": {},
   "outputs": [],
   "source": []
  },
  {
   "cell_type": "markdown",
   "id": "c47bd9d4",
   "metadata": {},
   "source": [
    "## What is space complexity?\n",
    "According to Wikipedia,\n",
    "\n",
    "*In computer science, the space complexity of an algorithm or a computer program is the amount of memory space required to solve an instance of the computational problem as a function of the size of the input.*\n",
    "\n",
    "In simple words,\n",
    "\n",
    "**Space complexity of a program is a simple measurement of how fast the space taken by a algo/program grows, if the input increase**"
   ]
  },
  {
   "cell_type": "markdown",
   "id": "6bf155a3",
   "metadata": {},
   "source": [
    "Auxiliary Space is the extra space or temporary space used by an algorithm.\n",
    "\n",
    "**Space Complexity of an algo is total space taken by the algorithm with respect to the input size.**\n",
    "\n",
    "> Space Complexity includes both Auxiliary Space and Space used by input\n",
    "\n"
   ]
  },
  {
   "cell_type": "markdown",
   "id": "747103b5",
   "metadata": {},
   "source": [
    "ex: if we want to compare standard sorting algorithms on the basis of space,\n",
    "    then Auxiliary Space would be a better criteria than Space Complexity.\n",
    "    \n",
    "     Merge Sort uses O(n)\n",
    "     Heap Sort uses O(1)\n",
    "     Bubble Sort O(1)\n",
    "     Binary Search O(1)\n",
    "     \n",
    "     \n",
    "**Space Complexity = Input Size + Extra Space(Auxiliary Space)**\n",
    "    "
   ]
  },
  {
   "cell_type": "code",
   "execution_count": null,
   "id": "e2435504",
   "metadata": {},
   "outputs": [],
   "source": [
    "n = int(input())\n",
    "arr = []\n",
    "for i in range(n):\n",
    "    arr.append(int(input()))"
   ]
  },
  {
   "cell_type": "code",
   "execution_count": null,
   "id": "37c9152b",
   "metadata": {},
   "outputs": [],
   "source": []
  },
  {
   "cell_type": "code",
   "execution_count": 16,
   "id": "f52eda8c",
   "metadata": {},
   "outputs": [
    {
     "name": "stdout",
     "output_type": "stream",
     "text": [
      "4\n",
      "3 0 9 6\n",
      "[6, 9, 0, 3]\n"
     ]
    }
   ],
   "source": [
    "#REVESE \n",
    "n = int(input())\n",
    "arr = list(map(int,input().split()))\n",
    "\n",
    "rev_arr = [0]*n\n",
    "\n",
    "for i in range(n):\n",
    "    rev_arr[i] = arr[n-i-1]\n",
    "    \n",
    "print(rev_arr)\n"
   ]
  },
  {
   "cell_type": "code",
   "execution_count": null,
   "id": "e6fd40b3",
   "metadata": {},
   "outputs": [],
   "source": []
  }
 ],
 "metadata": {
  "kernelspec": {
   "display_name": "Python 3",
   "language": "python",
   "name": "python3"
  },
  "language_info": {
   "codemirror_mode": {
    "name": "ipython",
    "version": 3
   },
   "file_extension": ".py",
   "mimetype": "text/x-python",
   "name": "python",
   "nbconvert_exporter": "python",
   "pygments_lexer": "ipython3",
   "version": "3.8.8"
  }
 },
 "nbformat": 4,
 "nbformat_minor": 5
}
