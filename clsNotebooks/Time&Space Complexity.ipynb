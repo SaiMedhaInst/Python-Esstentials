{
 "cells": [
  {
   "cell_type": "markdown",
   "id": "5dba2389",
   "metadata": {},
   "source": [
    "### Time Complexity.\n",
    "\n",
    "- The time complexity of an algorithm is the total amount of time required by an algorithm to complete its execution.\n",
    "\n"
   ]
  },
  {
   "cell_type": "code",
   "execution_count": null,
   "id": "131ae171",
   "metadata": {},
   "outputs": [],
   "source": []
  },
  {
   "cell_type": "code",
   "execution_count": null,
   "id": "f366b3d5",
   "metadata": {},
   "outputs": [],
   "source": []
  },
  {
   "cell_type": "code",
   "execution_count": null,
   "id": "2a63d324",
   "metadata": {},
   "outputs": [],
   "source": []
  },
  {
   "cell_type": "code",
   "execution_count": null,
   "id": "e8945c88",
   "metadata": {},
   "outputs": [],
   "source": []
  },
  {
   "cell_type": "code",
   "execution_count": null,
   "id": "eb118022",
   "metadata": {},
   "outputs": [],
   "source": []
  },
  {
   "cell_type": "code",
   "execution_count": null,
   "id": "e2435504",
   "metadata": {},
   "outputs": [],
   "source": []
  },
  {
   "cell_type": "code",
   "execution_count": 1,
   "id": "14415290",
   "metadata": {},
   "outputs": [
    {
     "name": "stdout",
     "output_type": "stream",
     "text": [
      "enter the key: 15\n",
      "enter the no's 10 20 15 25 30\n",
      "15 [10, 20, 15, 25, 30]\n"
     ]
    }
   ],
   "source": [
    "\n",
    "\n",
    "lst = list(map(int,input(\"enter the no's \").split()))\n",
    "\n",
    "print(key , lst)\n"
   ]
  },
  {
   "cell_type": "code",
   "execution_count": 7,
   "id": "8d5c0805",
   "metadata": {},
   "outputs": [
    {
     "name": "stdout",
     "output_type": "stream",
     "text": [
      "Enter a number10\n",
      "Enter a number20\n",
      "Enter a number303\n",
      "Enter a number30\n",
      "Enter a number20\n"
     ]
    }
   ],
   "source": [
    "a = []\n",
    "for i in range(5):\n",
    "    a.append(int(input(\"Enter a number\")))"
   ]
  },
  {
   "cell_type": "code",
   "execution_count": 8,
   "id": "c42e8913",
   "metadata": {},
   "outputs": [
    {
     "name": "stdout",
     "output_type": "stream",
     "text": [
      "[10, 20, 303, 30, 20]\n"
     ]
    }
   ],
   "source": [
    "print(a)"
   ]
  },
  {
   "cell_type": "code",
   "execution_count": 5,
   "id": "ead43a84",
   "metadata": {},
   "outputs": [
    {
     "name": "stdout",
     "output_type": "stream",
     "text": [
      "enter the key: 35\n",
      "key 35 not found\n"
     ]
    }
   ],
   "source": [
    "# linear Search\n",
    "key = int(input(\"enter the key: \"))\n",
    "\n",
    "isFound = -1\n",
    "for i in range(len(lst)):\n",
    "    if(lst[i] == key):\n",
    "        isFound = i\n",
    "        break\n",
    "if(isFound != -1):\n",
    "    print(f\"key {key} found at index: {isFound} \")\n",
    "else:\n",
    "     print(f\"key {key} not found\")\n",
    "        "
   ]
  },
  {
   "cell_type": "code",
   "execution_count": 6,
   "id": "5e40f900",
   "metadata": {},
   "outputs": [],
   "source": [
    "# BEST CASE - O(1)\n",
    "# AVG CASE  - O(n//2)\n",
    "# WORST CASE - O(n)\n"
   ]
  },
  {
   "cell_type": "code",
   "execution_count": null,
   "id": "58d560d6",
   "metadata": {},
   "outputs": [],
   "source": [
    "print(\"Hello SaiMedha\")\n",
    "a = 10\n",
    "b = 20\n",
    "print(a+b)"
   ]
  },
  {
   "cell_type": "code",
   "execution_count": null,
   "id": "00dc5f44",
   "metadata": {},
   "outputs": [],
   "source": [
    "age = 18\n",
    "if age>=18:\n",
    "    print(\"eligiable\")\n",
    "else:\n",
    "    print(\"not eligiable\")"
   ]
  },
  {
   "cell_type": "code",
   "execution_count": null,
   "id": "65392d24",
   "metadata": {},
   "outputs": [],
   "source": [
    "for i in range(10):\n",
    "    print(i)"
   ]
  },
  {
   "cell_type": "code",
   "execution_count": null,
   "id": "dcf13b13",
   "metadata": {},
   "outputs": [],
   "source": []
  },
  {
   "cell_type": "code",
   "execution_count": null,
   "id": "848c303b",
   "metadata": {},
   "outputs": [],
   "source": [
    "n = int(input())\n",
    "for i in range(n):\n",
    "    print(i)\n",
    "    \n",
    "    "
   ]
  },
  {
   "cell_type": "code",
   "execution_count": null,
   "id": "76f8e4ae",
   "metadata": {},
   "outputs": [],
   "source": [
    "n = int(input())\n",
    "for i in range(n):\n",
    "    for j in range(n):\n",
    "        print)i+j)"
   ]
  },
  {
   "cell_type": "code",
   "execution_count": null,
   "id": "501ba466",
   "metadata": {},
   "outputs": [],
   "source": [
    "n = int(input())\n",
    "i = 0\n",
    "while i<n:\n",
    "    print(i)\n",
    "    i+=1\n"
   ]
  },
  {
   "cell_type": "code",
   "execution_count": null,
   "id": "3373587e",
   "metadata": {},
   "outputs": [],
   "source": [
    "n = int(input())\n",
    "for i in range(n):\n",
    "    if i==1:\n",
    "        print(i)\n",
    "        break\n",
    "    "
   ]
  },
  {
   "cell_type": "code",
   "execution_count": null,
   "id": "72b5477d",
   "metadata": {},
   "outputs": [],
   "source": [
    "#  Binary Search \n",
    "# Prime number checking "
   ]
  }
 ],
 "metadata": {
  "kernelspec": {
   "display_name": "Python 3",
   "language": "python",
   "name": "python3"
  },
  "language_info": {
   "codemirror_mode": {
    "name": "ipython",
    "version": 3
   },
   "file_extension": ".py",
   "mimetype": "text/x-python",
   "name": "python",
   "nbconvert_exporter": "python",
   "pygments_lexer": "ipython3",
   "version": "3.8.8"
  }
 },
 "nbformat": 4,
 "nbformat_minor": 5
}
