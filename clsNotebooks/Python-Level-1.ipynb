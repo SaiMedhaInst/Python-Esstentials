{
 "cells": [
  {
   "cell_type": "markdown",
   "id": "365629e7",
   "metadata": {},
   "source": [
    "\n",
    "### Python 2 Vs Python 3\n",
    "\n",
    "<img src = \"https://media.geeksforgeeks.org/wp-content/uploads/20190503154837/Python2_python3.jpg\"  width=\"500\" height=\"600\">"
   ]
  },
  {
   "cell_type": "markdown",
   "id": "1dd311ec",
   "metadata": {},
   "source": [
    "#### Python Syntax\n",
    "\n",
    " - A Python script can be written in Python interactive shell or in the code editor. A Python file has an extension .py.\n",
    " \n",
    "##### Python Indentation\n",
    "\n",
    "- An indentation is a white space in a text. \n",
    "- Indentation in many languages is used to increase code readability, however Python uses indentation to create block of codes. - In other programming languages curly brackets are used to create blocks of codes instead of indentation.\n",
    "- One of the common bugs when writing python code is wrong indentation."
   ]
  },
  {
   "cell_type": "code",
   "execution_count": null,
   "id": "9ac55d6c",
   "metadata": {},
   "outputs": [],
   "source": [
    "print(\"Hello World \")"
   ]
  },
  {
   "cell_type": "code",
   "execution_count": null,
   "id": "6649e262",
   "metadata": {},
   "outputs": [],
   "source": [
    "var = \"Holiday\"\n",
    "\n",
    "if var == \"Holiday\":\n",
    "    print(\"Let's plan something\")\n",
    "    print(\"Thinking .....\")\n",
    "else:\n",
    "    print(\"Go to class\")\n",
    "    print(\"Uhgggggg\")"
   ]
  },
  {
   "cell_type": "code",
   "execution_count": null,
   "id": "4f0ffff3",
   "metadata": {},
   "outputs": [],
   "source": []
  },
  {
   "cell_type": "code",
   "execution_count": null,
   "id": "fee6cc64",
   "metadata": {},
   "outputs": [],
   "source": []
  },
  {
   "cell_type": "markdown",
   "id": "9313d463",
   "metadata": {},
   "source": [
    "### OUTPUT Function\n",
    "\n",
    "- It is used to print the information or objects data to the console \n",
    "\n",
    ">syntax:\n",
    "\n",
    "\n",
    "> print(value, ..., sep=' ', end='\\n', file=sys.stdout, flush=False)\n",
    "\n",
    "- attributes \n",
    "    - value \n",
    "    - sep\n",
    "    - end\n",
    "    - file \n",
    "    - flush"
   ]
  },
  {
   "cell_type": "code",
   "execution_count": null,
   "id": "6e84e15c",
   "metadata": {},
   "outputs": [],
   "source": [
    "print(\"Hello World Python .. \")"
   ]
  },
  {
   "cell_type": "code",
   "execution_count": null,
   "id": "3e806867",
   "metadata": {},
   "outputs": [],
   "source": [
    "print('Hii Hey')"
   ]
  },
  {
   "cell_type": "code",
   "execution_count": null,
   "id": "addc207f",
   "metadata": {},
   "outputs": [],
   "source": [
    "print('Hey Geeks') #string\n",
    "\n",
    "print(10) #int \n",
    "\n",
    "print(10.2) #float\n",
    "\n",
    "print(1+2j) #complex\n",
    "\n",
    "print(True) #booleam\n",
    "\n",
    "print([10,20,30,40]) #list\n",
    "\n",
    "print((\"IND\",\"NZ\",\"AUS\")) #tuple\n",
    "\n",
    "print({\"blue\",\"yellow\",\"red\",\"blue\"}) #set\n",
    "\n",
    "print({\"name\":\"Kumar\",\"course\":\"Python\",\"fee\":10.23893}) #dictionary"
   ]
  },
  {
   "cell_type": "code",
   "execution_count": null,
   "id": "161b4412",
   "metadata": {},
   "outputs": [],
   "source": [
    "##IN OTHER LANG's\n",
    "#static types\n",
    "\n",
    "int age = 10;\n",
    "float salary = 10.28938;\n",
    "char ch = 'a';\n",
    "String name = \"Kumar\";\n",
    "\n",
    "age = 10.5; ##valid?"
   ]
  },
  {
   "cell_type": "code",
   "execution_count": null,
   "id": "31503117",
   "metadata": {},
   "outputs": [],
   "source": [
    "name = \"Kumar\"\n",
    "role = \"SDE\"\n",
    "age = 45\n",
    "\n",
    "print(name)\n",
    "print(role)\n",
    "print(age)"
   ]
  },
  {
   "cell_type": "code",
   "execution_count": null,
   "id": "f94046fa",
   "metadata": {},
   "outputs": [],
   "source": [
    "print(name,role,age)"
   ]
  },
  {
   "cell_type": "code",
   "execution_count": null,
   "id": "db3b30ff",
   "metadata": {},
   "outputs": [],
   "source": [
    "print(name,age,role,sep=\" # \")"
   ]
  },
  {
   "cell_type": "code",
   "execution_count": null,
   "id": "cdbf5850",
   "metadata": {},
   "outputs": [],
   "source": [
    "print(name,age,role,sep=\" , \")"
   ]
  },
  {
   "cell_type": "code",
   "execution_count": null,
   "id": "a91bc953",
   "metadata": {},
   "outputs": [],
   "source": [
    "print(name,age,role,sep=\"\\n\")"
   ]
  },
  {
   "cell_type": "code",
   "execution_count": null,
   "id": "3bec3846",
   "metadata": {},
   "outputs": [],
   "source": [
    "print(age,role , sep = \" %% \")"
   ]
  },
  {
   "cell_type": "code",
   "execution_count": null,
   "id": "1ef86ade",
   "metadata": {},
   "outputs": [],
   "source": [
    "for i in range(10):\n",
    "    print(i)\n",
    "    "
   ]
  },
  {
   "cell_type": "code",
   "execution_count": null,
   "id": "2028d8cc",
   "metadata": {},
   "outputs": [],
   "source": [
    "#end= \"\\n\"\n",
    "for i in range(10):\n",
    "    print(i, end = \" , \")"
   ]
  },
  {
   "cell_type": "code",
   "execution_count": null,
   "id": "40e9e57b",
   "metadata": {},
   "outputs": [],
   "source": [
    "#file=sys.stdout\n",
    "\n",
    "s = open(\"demo.txt\",mode=\"a\")\n",
    "\n",
    "print(\"Hey Hi Introduction to python\" , file = s)\n",
    "\n"
   ]
  },
  {
   "cell_type": "code",
   "execution_count": null,
   "id": "0bc09742",
   "metadata": {},
   "outputs": [],
   "source": []
  },
  {
   "cell_type": "code",
   "execution_count": null,
   "id": "50fab813",
   "metadata": {},
   "outputs": [],
   "source": [
    "a = 10\n",
    "b = 30\n",
    "\n",
    "print(a)\n",
    "\n",
    "print() #\\n\n",
    "print()\n",
    "print()\n",
    "print()\n",
    "print()\n",
    "\n",
    "\n",
    "print(b)"
   ]
  },
  {
   "cell_type": "code",
   "execution_count": null,
   "id": "8ffcd401",
   "metadata": {},
   "outputs": [],
   "source": []
  },
  {
   "cell_type": "markdown",
   "id": "74162d82",
   "metadata": {},
   "source": [
    "### Comments\n",
    "\n",
    "> Comments are very important to make the code more readable and to leave remarks in our code. Python does not run comment parts of our code. Any text starting with hash(#) in Python is a comment.\n",
    "\n",
    "\n",
    "####  Single Line Comment\n",
    "\n",
    "        # This is the first comment\n",
    "        # This is the second comment\n",
    "        # Python is eating the world\n",
    "        \n",
    "#### Multiline Comment\n",
    "\n",
    "Triple quote can be used for multiline comment if it is not assigned to a variable\n",
    "\n",
    "    \"\"\"This is multiline comment\n",
    "    multiline comment takes multiple lines.\n",
    "    python is eating the world\n",
    "    \"\"\"\n"
   ]
  },
  {
   "cell_type": "code",
   "execution_count": null,
   "id": "4881bf01",
   "metadata": {},
   "outputs": [],
   "source": [
    "#single line comment.\n",
    "var = \"kumar\" # var declaration \n",
    "\n",
    "\n",
    "#multi line comment\n",
    "def fun(a,b):\n",
    "    '''this is a function which \n",
    "        return addition'''\n",
    "    print(a+b)\n",
    "    \n",
    "fun(10,20)"
   ]
  },
  {
   "cell_type": "code",
   "execution_count": null,
   "id": "f4ccc92d",
   "metadata": {},
   "outputs": [],
   "source": []
  },
  {
   "cell_type": "markdown",
   "id": "0369f99a",
   "metadata": {},
   "source": [
    "## Variables "
   ]
  },
  {
   "cell_type": "markdown",
   "id": "a248a0af",
   "metadata": {},
   "source": [
    "- Variables store data in a computer memory.\n",
    ">  Mnemonic variables are recommended to use in many programming languages.\n",
    "- A mnemonic variable is a variable name that can be easily remembered and associated. \n",
    "> A variable refers to a memory address in which data is stored. Number at the beginning, special character, hyphen are not allowed when naming a variable. \n",
    "\n",
    "- *A variable can have a short name (like x, y, z), but a more descriptive name (firstname, lastname, age, country) is highly recommended.*"
   ]
  },
  {
   "cell_type": "markdown",
   "id": "b9b6eb4c",
   "metadata": {},
   "source": [
    "### Rules\n",
    "\n",
    "Python Variable Name Rules\n",
    "\n",
    "    - A variable name must start with a letter or the underscore character\n",
    "    - A variable name cannot start with a number\n",
    "    - A variable name can only contain alpha-numeric characters and underscores (A-z, 0-9, and _ )\n",
    "    - Variable names are case-sensitive (firstname, Firstname, FirstName and FIRSTNAME) are different variables)\n",
    "    - A variable cannot have same name as Reserved word or KEYWORD."
   ]
  },
  {
   "cell_type": "code",
   "execution_count": null,
   "id": "0029c202",
   "metadata": {},
   "outputs": [],
   "source": [
    "#Valid variables.\n",
    "\n",
    "# firstname\n",
    "# lastname\n",
    "# age\n",
    "# country\n",
    "# city\n",
    "# first_name\n",
    "# last_name\n",
    "# capital_city\n",
    "# _if # if we want to use reserved word as a variable\n",
    "# year_2021\n",
    "# year2021\n",
    "# current_year_2021\n",
    "# birth_year\n",
    "# num1\n",
    "# num2"
   ]
  },
  {
   "cell_type": "code",
   "execution_count": null,
   "id": "d6c584a5",
   "metadata": {},
   "outputs": [],
   "source": [
    "# Invalid variables \n",
    "\n",
    "\n",
    "# first-name\n",
    "# first@name\n",
    "# first$name\n",
    "# num-1\n",
    "# 1num"
   ]
  },
  {
   "cell_type": "code",
   "execution_count": null,
   "id": "38319d0a",
   "metadata": {},
   "outputs": [],
   "source": [
    "num1 = 10\n"
   ]
  },
  {
   "cell_type": "code",
   "execution_count": null,
   "id": "d0b1a6a9",
   "metadata": {},
   "outputs": [],
   "source": [
    "import keyword\n",
    "print(keyword.kwlist)"
   ]
  },
  {
   "cell_type": "code",
   "execution_count": null,
   "id": "713dfac7",
   "metadata": {},
   "outputs": [],
   "source": [
    "class = 102.2 #reserved word \n",
    "print(class)"
   ]
  },
  {
   "cell_type": "code",
   "execution_count": null,
   "id": "56a8fd54",
   "metadata": {},
   "outputs": [],
   "source": [
    "\n",
    "# Variables in Python\n",
    "first_name = 'Kumar'\n",
    "last_name = 'Rajamoni'\n",
    "country = 'India'\n",
    "city = 'Noida'\n",
    "age = 25\n",
    "is_married = False\n",
    "skills = ['HTML', 'CSS', 'JS', 'React', 'Python','JAVA']\n",
    "person_info = {\n",
    "   'firstname':'Kumar',\n",
    "   'lastname':'Rajamoni',\n",
    "   'country':'India',\n",
    "   'city':'Hyd'\n",
    "   }"
   ]
  },
  {
   "cell_type": "code",
   "execution_count": null,
   "id": "8a8a4ce8",
   "metadata": {},
   "outputs": [],
   "source": [
    "# Printing the values stored in the variables\n",
    "\n",
    "print('First name:', first_name)\n",
    "print('First name length:', len(first_name))\n",
    "print('Last name: ', last_name)\n",
    "print('Last name length: ', len(last_name))\n",
    "print('Country: ', country)\n",
    "print('City: ', city)\n",
    "print('Age: ', age)\n",
    "print('Married: ', is_married)\n",
    "print('Skills: ', skills)\n",
    "print('Person information: ', person_info)"
   ]
  },
  {
   "cell_type": "code",
   "execution_count": null,
   "id": "eef8f9cf",
   "metadata": {},
   "outputs": [],
   "source": [
    "#type(var_name)  --> gives type of data\n",
    "#len(var_name)   --> length \n",
    "#id(var_name)    ---> memory addres.\n",
    "\n",
    "print(type(first_name))\n",
    "\n",
    "print(type(age))\n",
    "\n",
    "print(type(skills))\n",
    "\n",
    "\n",
    "print(len(skills))\n",
    "\n",
    "print(len(\"Py\"))\n",
    "\n",
    "# print(len(10)) #can't used for numeric data types."
   ]
  },
  {
   "cell_type": "code",
   "execution_count": null,
   "id": "fa5798c7",
   "metadata": {},
   "outputs": [],
   "source": [
    "\n"
   ]
  },
  {
   "cell_type": "code",
   "execution_count": null,
   "id": "3a852772",
   "metadata": {},
   "outputs": [],
   "source": [
    "first_name, last_name, country, age, is_married = 'Asabeneh', 'Yetayeh', 'Helsink', 250, True\n",
    "\n",
    "print(first_name, last_name, country, age, is_married)\n",
    "print('First name:', first_name)\n",
    "print('Last name: ', last_name)\n",
    "print('Country: ', country)\n",
    "print('Age: ', age)\n",
    "print('Married: ', is_married)\n"
   ]
  },
  {
   "cell_type": "code",
   "execution_count": null,
   "id": "14289502",
   "metadata": {},
   "outputs": [],
   "source": []
  },
  {
   "cell_type": "markdown",
   "id": "bdf3065a",
   "metadata": {},
   "source": [
    "### INPUT FUNCTION\n",
    " - input() used to read data from user or any input device.\n",
    " - by default it will read all types of data in STRING format as input.\n",
    " \n",
    "\n",
    "Syntax:\n",
    "    \n",
    "   >variable_name = input(\"Prompt\")\n",
    "    "
   ]
  },
  {
   "cell_type": "code",
   "execution_count": null,
   "id": "685623d9",
   "metadata": {},
   "outputs": [],
   "source": [
    "var = input(\"Enter some interger .\")\n",
    "print(var , type(var))"
   ]
  },
  {
   "cell_type": "code",
   "execution_count": null,
   "id": "150d4e81",
   "metadata": {},
   "outputs": [],
   "source": []
  },
  {
   "cell_type": "code",
   "execution_count": null,
   "id": "867d813a",
   "metadata": {},
   "outputs": [],
   "source": []
  },
  {
   "cell_type": "code",
   "execution_count": null,
   "id": "d6158e52",
   "metadata": {},
   "outputs": [],
   "source": [
    "first_name = input('What is your name: ')\n",
    "age = input('How old are you? ')\n",
    "\n",
    "print(first_name)\n",
    "print(age)"
   ]
  },
  {
   "cell_type": "code",
   "execution_count": null,
   "id": "e57edc6b",
   "metadata": {},
   "outputs": [],
   "source": [
    "score1 = input(\"Enter the score1: \")\n",
    "\n",
    "score1 = int(score1) #str -- int\n",
    "\n",
    "score2 = input(\"Enter the score2: \")\n",
    "\n",
    "score2 = int(score2) #str -- int\n",
    "\n",
    "print(score1 + score2)"
   ]
  },
  {
   "cell_type": "code",
   "execution_count": null,
   "id": "35b5f29e",
   "metadata": {},
   "outputs": [],
   "source": [
    "print(\"98\"+\"85\")\n",
    "print(98+85)"
   ]
  },
  {
   "cell_type": "code",
   "execution_count": null,
   "id": "9d5a9fde",
   "metadata": {},
   "outputs": [],
   "source": [
    "#Reading + Converting to required type in oneline.\n",
    "\n",
    "age = int(input(\"Enter the age? \"))\n",
    "print(age , type(age))"
   ]
  },
  {
   "cell_type": "code",
   "execution_count": null,
   "id": "e6af959c",
   "metadata": {},
   "outputs": [],
   "source": [
    "stockPrice = float(input(\"Enter the price: \"))\n",
    "\n",
    "print(stockPrice , type(stockPrice))"
   ]
  },
  {
   "cell_type": "code",
   "execution_count": null,
   "id": "571ad5d6",
   "metadata": {},
   "outputs": [],
   "source": [
    "numbers = input(\"Enter the numbers : \")\n",
    "print(numbers , type(numbers))\n",
    "\n",
    "# O/P : [10,30,40]"
   ]
  },
  {
   "cell_type": "markdown",
   "id": "f5e4116d",
   "metadata": {},
   "source": [
    "## Data Types\n",
    "    - Which defines the data and representation of real world data.\n",
    "    - In python we have various types .\n",
    "    \n",
    "    \n",
    "##### Number\n",
    "- Integer: Integer(negative, zero and positive) numbers Example: ... -3, -2, -1, 0, 1, 2, 3 ...\n",
    "- Float: Decimal number Example ... -3.5, -2.25, -1.0, 0.0, 1.1, 2.2, 3.5 ...\n",
    "- Complex Example 1 + j, 2 + 4j\n",
    "\n",
    "\n",
    "##### String\n",
    " - A collection of one or more characters under a single or double quote. If a string is more than one sentence then we use a triple quote.\n",
    "\n",
    "Example:\n",
    "\n",
    "    'Asabeneh'\n",
    "    'Finland'\n",
    "    'Python'\n",
    "    'I love teaching'\n",
    "    'I hope you are enjoying the first day of 30DaysOfPython Challenge'\n",
    "\n",
    "\n",
    "#### Booleans\n",
    "- A boolean data type is either a True or False value. T and F should be always uppercase.\n",
    "\n",
    "Example:\n",
    "\n",
    "    True  #  Is the light on? If it is on, then the value is True\n",
    "    \n",
    "    False # Is the light on? If it is off, then the value is False\n",
    "    \n",
    "#### List\n",
    "Python list is an ordered collection which allows to store different data type items. A list is similar to an array in JavaScript.\n",
    "\n",
    "    Example:\n",
    "\n",
    "    [0, 1, 2, 3, 4, 5]  # all are the same data types - a list of numbers\n",
    "    ['Banana', 'Orange', 'Mango', 'Avocado'] # all the same data types - a list of strings (fruits)\n",
    "    ['Finland','Estonia', 'Sweden','Norway'] # all the same data types - a list of strings (countries)\n",
    "    ['Banana', 10, False, 9.81] # different data types in the list - string, integer, boolean and float\n",
    "    \n",
    "\n",
    "#### Tuple\n",
    " > A tuple is an ordered collection of different data types like list but tuples can not be modified once they are created. They are immutable.\n",
    " \n",
    " \n",
    "     Example:\n",
    "     ('Earth', 'Jupiter', 'Neptune', 'Mars', 'Venus', 'Saturn', 'Uranus', 'Mercury') # planets\n",
    "     \n",
    "     \n",
    "### Set\n",
    "A set is a collection of data types similar to list and tuple. Unlike list and tuple, set is not an ordered collection of items. Like in Mathematics, set in Python stores only unique items.\n",
    "\n",
    "        Example:\n",
    "\n",
    "        {2, 4, 3, 5}\n",
    "        {3.14, 9.81, 2.7} # order is not important in set\n",
    "        \n",
    "        \n",
    "#### Dictionary\n",
    "A Python dictionary object is an unordered collection of data in a key value pair format.\n",
    "\n",
    "    Example:\n",
    "\n",
    "    {\n",
    "    'cricketTeamName':'India',\n",
    "    'Captain':'RS',\n",
    "    'country':'India', \n",
    "    'year':2022, \n",
    "    'is_top20':True,\n",
    "    'Players':['Virat', 'Rohit', 'Bhu', 'Python']\n",
    "    }"
   ]
  },
  {
   "cell_type": "code",
   "execution_count": null,
   "id": "aa02099f",
   "metadata": {},
   "outputs": [],
   "source": []
  },
  {
   "cell_type": "markdown",
   "id": "df119212",
   "metadata": {},
   "source": [
    "### List \n",
    "    - List is a collectional & indexed & ordered data type , which stores multiple items/elements in single variable.\n",
    "    - declared with []\n",
    "    - Indexing \n",
    "        - Postive indexing : 0 -> N-1\n",
    "        - Indexing : -1 ->  -N\n",
    "    - Mutable --> Changes are allowed at locations.\n",
    "        \n",
    "        "
   ]
  },
  {
   "cell_type": "code",
   "execution_count": null,
   "id": "d056e80b",
   "metadata": {},
   "outputs": [],
   "source": [
    "fruits = ['Banana', 'Orange', 'Mango', 'Avocado'] # all the same data types - a list of strings (fruits)\n",
    "\n",
    "print(fruits, type(fruits) , len(fruits))"
   ]
  },
  {
   "cell_type": "code",
   "execution_count": null,
   "id": "8eae1968",
   "metadata": {},
   "outputs": [],
   "source": [
    "print(fruits[0])"
   ]
  },
  {
   "cell_type": "code",
   "execution_count": null,
   "id": "68b4bb11",
   "metadata": {},
   "outputs": [],
   "source": [
    "print(fruits[3])\n",
    "print(fruits[-4]) #invalid index"
   ]
  },
  {
   "cell_type": "code",
   "execution_count": null,
   "id": "05d22217",
   "metadata": {},
   "outputs": [],
   "source": [
    "print(fruits[-2])"
   ]
  },
  {
   "cell_type": "code",
   "execution_count": null,
   "id": "0d9dae8d",
   "metadata": {},
   "outputs": [],
   "source": [
    "print(fruits[-5])"
   ]
  },
  {
   "cell_type": "code",
   "execution_count": null,
   "id": "c79c0eab",
   "metadata": {},
   "outputs": [],
   "source": [
    "fruits[3] = \"pineapple\"\n",
    "\n",
    "print(fruits)"
   ]
  },
  {
   "cell_type": "code",
   "execution_count": null,
   "id": "96980355",
   "metadata": {},
   "outputs": [],
   "source": [
    "fruits[4] = \"cherry\"\n",
    "print(fruits) #invalid"
   ]
  },
  {
   "cell_type": "markdown",
   "id": "25435764",
   "metadata": {},
   "source": [
    "### List Methods \n",
    "    - append()\n",
    "    - insert()\n",
    "    - extend()\n",
    "    - pop()\n",
    "    - remove()\n",
    "    - reverse()\n",
    "    - copy()\n",
    "    - index()\n",
    "    - sort()\n",
    "    - clear()\n",
    "    - count()"
   ]
  },
  {
   "cell_type": "code",
   "execution_count": 5,
   "id": "28afe298",
   "metadata": {},
   "outputs": [
    {
     "name": "stdout",
     "output_type": "stream",
     "text": [
      "['Finland', 'Estonia', 'Sweden', 'Norway'] 4 <class 'list'>\n",
      "Finland\n",
      "Spain\n",
      "PRESENT LIST ['Finland', 'Estonia', 'Srilanka', 'Norway', 'India', 'Italy']\n",
      "1\n",
      "3\n",
      "['Srilanka', 'Norway', 'Italy', 'India', 'Finland', 'Estonia']\n"
     ]
    }
   ],
   "source": [
    "countries = ['Finland','Estonia', 'Sweden','Norway'] \n",
    "\n",
    "print(countries, len(countries) , type(countries))\n",
    "\n",
    "# insertion\n",
    "countries.append(\"India\")\n",
    "countries.insert(2,\"Srilanka\")\n",
    "countries.extend([\"Spain\",\"Italy\",\"Finland\"])\n",
    "\n",
    "\n",
    "# deletion \n",
    "\n",
    "print(countries.pop())\n",
    "\n",
    "print(countries.pop(-2))\n",
    "\n",
    "countries.remove(\"Sweden\")\n",
    "\n",
    "\n",
    "print(\"PRESENT LIST\", countries)\n",
    "\n",
    "countries.sort()\n",
    "\n",
    "countries.reverse()\n",
    "\n",
    "print(countries.count(\"Finland\"))\n",
    "\n",
    "print(countries.index(\"India\"))\n",
    "\n",
    "print(countries)"
   ]
  },
  {
   "cell_type": "code",
   "execution_count": null,
   "id": "fb45c97b",
   "metadata": {},
   "outputs": [],
   "source": []
  },
  {
   "cell_type": "code",
   "execution_count": null,
   "id": "84cd3dc8",
   "metadata": {},
   "outputs": [],
   "source": []
  },
  {
   "cell_type": "code",
   "execution_count": null,
   "id": "65a7c86f",
   "metadata": {},
   "outputs": [],
   "source": []
  },
  {
   "cell_type": "code",
   "execution_count": null,
   "id": "0fdc1d07",
   "metadata": {},
   "outputs": [],
   "source": [
    "print(dir([10]))"
   ]
  },
  {
   "cell_type": "code",
   "execution_count": null,
   "id": "851ab437",
   "metadata": {},
   "outputs": [],
   "source": [
    "#append() --> add data at end of the list #add only element\n",
    "\n",
    "fruits.append(\"pineapple\")\n",
    "fruits.append(\"cherry\")\n",
    "print(fruits)"
   ]
  },
  {
   "cell_type": "code",
   "execution_count": null,
   "id": "595fe139",
   "metadata": {},
   "outputs": [],
   "source": [
    " #fruits.append(\"dragon\",\"fruit\") #invalid "
   ]
  },
  {
   "cell_type": "code",
   "execution_count": null,
   "id": "7d6ab103",
   "metadata": {},
   "outputs": [],
   "source": [
    "countries = ['Finland','Estonia', 'Sweden','Norway'] # all the same data types - a list of strings (countries)\n",
    "\n",
    "print(countries, type(countries) , len(countries))"
   ]
  },
  {
   "cell_type": "code",
   "execution_count": null,
   "id": "6229553c",
   "metadata": {},
   "outputs": [],
   "source": [
    "#insert()\n",
    "\n",
    "countries.insert(0,\"India\")\n",
    "\n",
    "print(countries)"
   ]
  },
  {
   "cell_type": "code",
   "execution_count": null,
   "id": "594716ac",
   "metadata": {},
   "outputs": [],
   "source": [
    "countries.insert(3,\"England\")\n",
    "\n",
    "print(countries)"
   ]
  },
  {
   "cell_type": "code",
   "execution_count": null,
   "id": "28204f95",
   "metadata": {},
   "outputs": [],
   "source": [
    "#extend() - add more than one data/element at end of the list\n",
    "\n",
    "countries.extend([\"USA\",\"Aus\"])\n",
    "\n",
    "print(countries)"
   ]
  },
  {
   "cell_type": "code",
   "execution_count": null,
   "id": "b6e9fa32",
   "metadata": {},
   "outputs": [],
   "source": [
    "#pop() --> it will remove -1 index data\n",
    "\n",
    "print(countries.pop(4))"
   ]
  },
  {
   "cell_type": "code",
   "execution_count": null,
   "id": "bab81f23",
   "metadata": {},
   "outputs": [],
   "source": [
    "print(countries)"
   ]
  },
  {
   "cell_type": "code",
   "execution_count": null,
   "id": "d06c7524",
   "metadata": {},
   "outputs": [],
   "source": [
    "#remove() --> remove based on the value \n",
    "countries.remove(\"Estonia\")\n",
    "print(countries)"
   ]
  },
  {
   "cell_type": "code",
   "execution_count": null,
   "id": "d6c6e9c5",
   "metadata": {},
   "outputs": [],
   "source": [
    "# countries.remove(\"Estonia\") #error"
   ]
  },
  {
   "cell_type": "code",
   "execution_count": null,
   "id": "d643d22f",
   "metadata": {},
   "outputs": [],
   "source": [
    "companies = ['TCS', \"Info\", \"Accenture\",\"GOOGLE\",\"Amazon\",\"Ola\",\"Netflix\",\"Ola\",\"Info\"]\n",
    "\n",
    "print(companies , type(companies) , len(companies))"
   ]
  },
  {
   "cell_type": "code",
   "execution_count": null,
   "id": "febe54a3",
   "metadata": {},
   "outputs": [],
   "source": [
    "companies.append(\"Wipro\")\n",
    "companies.extend([\"MindTree\",\"Swiggy\"])\n",
    "companies.insert(0,\"Microsft\")\n",
    "\n",
    "print(companies , type(companies) , len(companies))"
   ]
  },
  {
   "cell_type": "code",
   "execution_count": null,
   "id": "f760f6dd",
   "metadata": {},
   "outputs": [],
   "source": [
    "#count() --> occurence of a element.\n",
    "companies.count(\"Info\")"
   ]
  },
  {
   "cell_type": "code",
   "execution_count": null,
   "id": "c6c1b59c",
   "metadata": {},
   "outputs": [],
   "source": [
    "companies.count(\"TCS\")"
   ]
  },
  {
   "cell_type": "code",
   "execution_count": null,
   "id": "bd5772e7",
   "metadata": {},
   "outputs": [],
   "source": [
    "#index() --> it will give you the first index of element.\n",
    "companies.index(\"Ola\") "
   ]
  },
  {
   "cell_type": "code",
   "execution_count": null,
   "id": "c373103c",
   "metadata": {},
   "outputs": [],
   "source": [
    "# companies.index(\"Disney\") # error "
   ]
  },
  {
   "cell_type": "code",
   "execution_count": null,
   "id": "8974277c",
   "metadata": {},
   "outputs": [],
   "source": [
    "companies.reverse()\n",
    "print(companies)"
   ]
  },
  {
   "cell_type": "code",
   "execution_count": null,
   "id": "0ff88722",
   "metadata": {},
   "outputs": [],
   "source": [
    "#sort() - sorting based on the ascii numbering\n",
    "# A-Z : 65 - 90\n",
    "# a-z : 97 - 122\n",
    "companies.sort()\n",
    "\n",
    "print(companies)"
   ]
  },
  {
   "cell_type": "code",
   "execution_count": null,
   "id": "a72cc710",
   "metadata": {},
   "outputs": [],
   "source": [
    "#copy() --> create new copy from original\n",
    "\n",
    "copyVar = companies.copy()\n",
    "\n",
    "print(copyVar)\n",
    "\n",
    "copyVar[0] = \"Acc\" #changing\n",
    "\n",
    "print(copyVar)\n",
    "\n",
    "print(companies)"
   ]
  },
  {
   "cell_type": "code",
   "execution_count": null,
   "id": "8f1ff1b3",
   "metadata": {},
   "outputs": [],
   "source": []
  },
  {
   "cell_type": "code",
   "execution_count": null,
   "id": "8e8a51df",
   "metadata": {},
   "outputs": [],
   "source": [
    "#clear() -- clear all the elements\n",
    "copyVar.clear()\n",
    "print(copyVar)"
   ]
  },
  {
   "cell_type": "code",
   "execution_count": null,
   "id": "0fd94b56",
   "metadata": {},
   "outputs": [],
   "source": [
    "copVar2 = companies.copy()\n",
    "\n",
    "print(copVar2)\n",
    "\n",
    "del copVar2 #delete space from memory\n",
    "\n",
    "print(copVar2)"
   ]
  },
  {
   "cell_type": "code",
   "execution_count": null,
   "id": "4a368f80",
   "metadata": {},
   "outputs": [],
   "source": []
  },
  {
   "cell_type": "code",
   "execution_count": null,
   "id": "3b3b21c9",
   "metadata": {},
   "outputs": [],
   "source": []
  },
  {
   "cell_type": "markdown",
   "id": "ae0e4301",
   "metadata": {},
   "source": [
    "### tuple \n",
    "       - tuple is also collectional & indexed & ordered data type , which stores multiple items/elements in single variable.\n",
    "       - declared with ()\n",
    "       - Indexing \n",
    "            - Postive indexing : 0 -> N-1\n",
    "            - Indexing : -1 ->  -N\n",
    "    - Immutable --> Changes are not allowed at locations. Once assigned it's fixed can't changeable."
   ]
  },
  {
   "cell_type": "code",
   "execution_count": null,
   "id": "f16ef070",
   "metadata": {},
   "outputs": [],
   "source": [
    "planets = ('Earth', 'Jupiter', 'Neptune', 'Mars', 'Venus', 'Saturn', 'Uranus', 'Mercury') # planets\n",
    "\n",
    "print(planets , type(planets) , len(planets))"
   ]
  },
  {
   "cell_type": "markdown",
   "id": "da5dc5a0",
   "metadata": {},
   "source": [
    "#### methods "
   ]
  },
  {
   "cell_type": "code",
   "execution_count": null,
   "id": "08dd9344",
   "metadata": {},
   "outputs": [],
   "source": [
    "#methods \n",
    "\n",
    "print(dir(planets))\n",
    "# 'count', 'index' --> methods()"
   ]
  },
  {
   "cell_type": "code",
   "execution_count": null,
   "id": "3eb57709",
   "metadata": {},
   "outputs": [],
   "source": [
    "planets.count('Pluto')"
   ]
  },
  {
   "cell_type": "code",
   "execution_count": null,
   "id": "021be509",
   "metadata": {},
   "outputs": [],
   "source": [
    "planets.index(\"Earth\")"
   ]
  },
  {
   "cell_type": "code",
   "execution_count": null,
   "id": "1bbd7ceb",
   "metadata": {},
   "outputs": [],
   "source": [
    "# planets.index(\"Pluto\") #error"
   ]
  },
  {
   "cell_type": "code",
   "execution_count": null,
   "id": "6b84b27d",
   "metadata": {},
   "outputs": [],
   "source": [
    "print(planets[8])"
   ]
  },
  {
   "cell_type": "code",
   "execution_count": null,
   "id": "ddc63541",
   "metadata": {},
   "outputs": [],
   "source": [
    "print(planets[-1])"
   ]
  },
  {
   "cell_type": "code",
   "execution_count": null,
   "id": "e0449024",
   "metadata": {},
   "outputs": [],
   "source": []
  },
  {
   "cell_type": "markdown",
   "id": "fee657c9",
   "metadata": {},
   "source": [
    "## Set\n",
    "        - Set is unordered & unindexed datatype\n",
    "        - declared with {} \n",
    "        - Doesn't store duplicate elements \n",
    "        - No Indexing because of no ordering \n",
    "        - Mutable "
   ]
  },
  {
   "cell_type": "code",
   "execution_count": 6,
   "id": "ae3dc2f9",
   "metadata": {},
   "outputs": [
    {
     "name": "stdout",
     "output_type": "stream",
     "text": [
      "{'NZ', 'IND', 'AUS', 'ENG', 'PAK'} <class 'set'> 5\n"
     ]
    }
   ],
   "source": [
    "teams = {\"IND\",\"ENG\",\"PAK\",\"AUS\",\"NZ\",\"IND\",\"IND\"}\n",
    "\n",
    "print(teams, type(teams) , len(teams))"
   ]
  },
  {
   "cell_type": "code",
   "execution_count": 7,
   "id": "74bf349d",
   "metadata": {},
   "outputs": [
    {
     "ename": "TypeError",
     "evalue": "'set' object is not subscriptable",
     "output_type": "error",
     "traceback": [
      "\u001b[1;31m---------------------------------------------------------------------------\u001b[0m",
      "\u001b[1;31mTypeError\u001b[0m                                 Traceback (most recent call last)",
      "\u001b[1;32m<ipython-input-7-b7cbfdf1ea2b>\u001b[0m in \u001b[0;36m<module>\u001b[1;34m\u001b[0m\n\u001b[1;32m----> 1\u001b[1;33m \u001b[0mprint\u001b[0m\u001b[1;33m(\u001b[0m\u001b[0mteams\u001b[0m\u001b[1;33m[\u001b[0m\u001b[1;36m0\u001b[0m\u001b[1;33m]\u001b[0m\u001b[1;33m)\u001b[0m\u001b[1;33m\u001b[0m\u001b[1;33m\u001b[0m\u001b[0m\n\u001b[0m",
      "\u001b[1;31mTypeError\u001b[0m: 'set' object is not subscriptable"
     ]
    }
   ],
   "source": [
    "print(teams[0])"
   ]
  },
  {
   "cell_type": "markdown",
   "id": "3ae651e7",
   "metadata": {},
   "source": [
    "### methods"
   ]
  },
  {
   "cell_type": "code",
   "execution_count": null,
   "id": "cf0c3d32",
   "metadata": {},
   "outputs": [],
   "source": [
    "print(dir(teams))"
   ]
  },
  {
   "cell_type": "code",
   "execution_count": null,
   "id": "67080c95",
   "metadata": {},
   "outputs": [],
   "source": [
    "teams.add(\"SA\")\n",
    "\n",
    "print(teams)"
   ]
  },
  {
   "cell_type": "code",
   "execution_count": null,
   "id": "c81db708",
   "metadata": {},
   "outputs": [],
   "source": [
    "x = {\"google\",\"microsft\",\"amazon\"}\n",
    "\n",
    "y = {\"amazon\",\"ola\",\"google\"}\n",
    "\n",
    "# x-y\n",
    "\n",
    "print(x.difference(y))\n"
   ]
  },
  {
   "cell_type": "code",
   "execution_count": null,
   "id": "23235a66",
   "metadata": {},
   "outputs": [],
   "source": []
  },
  {
   "cell_type": "code",
   "execution_count": null,
   "id": "86bdba65",
   "metadata": {},
   "outputs": [],
   "source": [
    "print(y.difference(x))"
   ]
  },
  {
   "cell_type": "code",
   "execution_count": null,
   "id": "085e8528",
   "metadata": {},
   "outputs": [],
   "source": [
    "\n",
    "#union()\n",
    "\n",
    "print(x.union(y))"
   ]
  },
  {
   "cell_type": "code",
   "execution_count": null,
   "id": "2ceb8aca",
   "metadata": {},
   "outputs": [],
   "source": [
    "#intersection()\n",
    "\n",
    "print(x.intersection(y))"
   ]
  },
  {
   "cell_type": "code",
   "execution_count": null,
   "id": "1204ec9e",
   "metadata": {},
   "outputs": [],
   "source": [
    "#discard() \n",
    "#     if member -- remove\n",
    "#     else : no error : do nothing\n",
    "\n",
    "x.discard(\"google\")\n",
    "\n",
    "print(x)"
   ]
  },
  {
   "cell_type": "code",
   "execution_count": null,
   "id": "aed74a29",
   "metadata": {},
   "outputs": [],
   "source": [
    "x.discard(\"wipro\")\n",
    "\n",
    "print(x)"
   ]
  },
  {
   "cell_type": "code",
   "execution_count": null,
   "id": "8ad1d3ae",
   "metadata": {},
   "outputs": [],
   "source": [
    "#remove()\n",
    "\n",
    "x.remove(\"wipro\") #always throw an error if it's not a member\n"
   ]
  },
  {
   "cell_type": "code",
   "execution_count": null,
   "id": "a1e40374",
   "metadata": {},
   "outputs": [],
   "source": [
    "x.remove(\"amazon\")"
   ]
  },
  {
   "cell_type": "code",
   "execution_count": null,
   "id": "d87920fb",
   "metadata": {},
   "outputs": [],
   "source": [
    "print(x)"
   ]
  },
  {
   "cell_type": "code",
   "execution_count": null,
   "id": "bc14dad9",
   "metadata": {},
   "outputs": [],
   "source": [
    "x = {\"AUS\",\"AMAZON\",\"Netflix\"}\n",
    "x.pop() # always remove random elemets"
   ]
  },
  {
   "cell_type": "code",
   "execution_count": null,
   "id": "5a0625f2",
   "metadata": {},
   "outputs": [],
   "source": [
    "print(x)\n",
    "x.pop()"
   ]
  },
  {
   "cell_type": "code",
   "execution_count": null,
   "id": "f5e666e9",
   "metadata": {},
   "outputs": [],
   "source": [
    "print([].pop())"
   ]
  },
  {
   "cell_type": "code",
   "execution_count": null,
   "id": "fe3f2af0",
   "metadata": {},
   "outputs": [],
   "source": []
  },
  {
   "cell_type": "code",
   "execution_count": 13,
   "id": "566fce13",
   "metadata": {},
   "outputs": [
    {
     "name": "stdout",
     "output_type": "stream",
     "text": [
      "['__add__', '__class__', '__contains__', '__delattr__', '__dir__', '__doc__', '__eq__', '__format__', '__ge__', '__getattribute__', '__getitem__', '__getnewargs__', '__gt__', '__hash__', '__init__', '__init_subclass__', '__iter__', '__le__', '__len__', '__lt__', '__mod__', '__mul__', '__ne__', '__new__', '__reduce__', '__reduce_ex__', '__repr__', '__rmod__', '__rmul__', '__setattr__', '__sizeof__', '__str__', '__subclasshook__', 'capitalize', 'casefold', 'center', 'count', 'encode', 'endswith', 'expandtabs', 'find', 'format', 'format_map', 'index', 'isalnum', 'isalpha', 'isascii', 'isdecimal', 'isdigit', 'isidentifier', 'islower', 'isnumeric', 'isprintable', 'isspace', 'istitle', 'isupper', 'join', 'ljust', 'lower', 'lstrip', 'maketrans', 'partition', 'replace', 'rfind', 'rindex', 'rjust', 'rpartition', 'rsplit', 'rstrip', 'split', 'splitlines', 'startswith', 'strip', 'swapcase', 'title', 'translate', 'upper', 'zfill']\n"
     ]
    }
   ],
   "source": [
    "# len(),type(),id(),dir()\n",
    "print(dir(\"\"))"
   ]
  },
  {
   "cell_type": "code",
   "execution_count": 16,
   "id": "0546c4f1",
   "metadata": {},
   "outputs": [
    {
     "name": "stdout",
     "output_type": "stream",
     "text": [
      "Help on set object:\n",
      "\n",
      "class set(object)\n",
      " |  set() -> new empty set object\n",
      " |  set(iterable) -> new set object\n",
      " |  \n",
      " |  Build an unordered collection of unique elements.\n",
      " |  \n",
      " |  Methods defined here:\n",
      " |  \n",
      " |  __and__(self, value, /)\n",
      " |      Return self&value.\n",
      " |  \n",
      " |  __contains__(...)\n",
      " |      x.__contains__(y) <==> y in x.\n",
      " |  \n",
      " |  __eq__(self, value, /)\n",
      " |      Return self==value.\n",
      " |  \n",
      " |  __ge__(self, value, /)\n",
      " |      Return self>=value.\n",
      " |  \n",
      " |  __getattribute__(self, name, /)\n",
      " |      Return getattr(self, name).\n",
      " |  \n",
      " |  __gt__(self, value, /)\n",
      " |      Return self>value.\n",
      " |  \n",
      " |  __iand__(self, value, /)\n",
      " |      Return self&=value.\n",
      " |  \n",
      " |  __init__(self, /, *args, **kwargs)\n",
      " |      Initialize self.  See help(type(self)) for accurate signature.\n",
      " |  \n",
      " |  __ior__(self, value, /)\n",
      " |      Return self|=value.\n",
      " |  \n",
      " |  __isub__(self, value, /)\n",
      " |      Return self-=value.\n",
      " |  \n",
      " |  __iter__(self, /)\n",
      " |      Implement iter(self).\n",
      " |  \n",
      " |  __ixor__(self, value, /)\n",
      " |      Return self^=value.\n",
      " |  \n",
      " |  __le__(self, value, /)\n",
      " |      Return self<=value.\n",
      " |  \n",
      " |  __len__(self, /)\n",
      " |      Return len(self).\n",
      " |  \n",
      " |  __lt__(self, value, /)\n",
      " |      Return self<value.\n",
      " |  \n",
      " |  __ne__(self, value, /)\n",
      " |      Return self!=value.\n",
      " |  \n",
      " |  __or__(self, value, /)\n",
      " |      Return self|value.\n",
      " |  \n",
      " |  __rand__(self, value, /)\n",
      " |      Return value&self.\n",
      " |  \n",
      " |  __reduce__(...)\n",
      " |      Return state information for pickling.\n",
      " |  \n",
      " |  __repr__(self, /)\n",
      " |      Return repr(self).\n",
      " |  \n",
      " |  __ror__(self, value, /)\n",
      " |      Return value|self.\n",
      " |  \n",
      " |  __rsub__(self, value, /)\n",
      " |      Return value-self.\n",
      " |  \n",
      " |  __rxor__(self, value, /)\n",
      " |      Return value^self.\n",
      " |  \n",
      " |  __sizeof__(...)\n",
      " |      S.__sizeof__() -> size of S in memory, in bytes\n",
      " |  \n",
      " |  __sub__(self, value, /)\n",
      " |      Return self-value.\n",
      " |  \n",
      " |  __xor__(self, value, /)\n",
      " |      Return self^value.\n",
      " |  \n",
      " |  add(...)\n",
      " |      Add an element to a set.\n",
      " |      \n",
      " |      This has no effect if the element is already present.\n",
      " |  \n",
      " |  clear(...)\n",
      " |      Remove all elements from this set.\n",
      " |  \n",
      " |  copy(...)\n",
      " |      Return a shallow copy of a set.\n",
      " |  \n",
      " |  difference(...)\n",
      " |      Return the difference of two or more sets as a new set.\n",
      " |      \n",
      " |      (i.e. all elements that are in this set but not the others.)\n",
      " |  \n",
      " |  difference_update(...)\n",
      " |      Remove all elements of another set from this set.\n",
      " |  \n",
      " |  discard(...)\n",
      " |      Remove an element from a set if it is a member.\n",
      " |      \n",
      " |      If the element is not a member, do nothing.\n",
      " |  \n",
      " |  intersection(...)\n",
      " |      Return the intersection of two sets as a new set.\n",
      " |      \n",
      " |      (i.e. all elements that are in both sets.)\n",
      " |  \n",
      " |  intersection_update(...)\n",
      " |      Update a set with the intersection of itself and another.\n",
      " |  \n",
      " |  isdisjoint(...)\n",
      " |      Return True if two sets have a null intersection.\n",
      " |  \n",
      " |  issubset(...)\n",
      " |      Report whether another set contains this set.\n",
      " |  \n",
      " |  issuperset(...)\n",
      " |      Report whether this set contains another set.\n",
      " |  \n",
      " |  pop(...)\n",
      " |      Remove and return an arbitrary set element.\n",
      " |      Raises KeyError if the set is empty.\n",
      " |  \n",
      " |  remove(...)\n",
      " |      Remove an element from a set; it must be a member.\n",
      " |      \n",
      " |      If the element is not a member, raise a KeyError.\n",
      " |  \n",
      " |  symmetric_difference(...)\n",
      " |      Return the symmetric difference of two sets as a new set.\n",
      " |      \n",
      " |      (i.e. all elements that are in exactly one of the sets.)\n",
      " |  \n",
      " |  symmetric_difference_update(...)\n",
      " |      Update a set with the symmetric difference of itself and another.\n",
      " |  \n",
      " |  union(...)\n",
      " |      Return the union of sets as a new set.\n",
      " |      \n",
      " |      (i.e. all elements that are in either set.)\n",
      " |  \n",
      " |  update(...)\n",
      " |      Update a set with the union of itself and others.\n",
      " |  \n",
      " |  ----------------------------------------------------------------------\n",
      " |  Static methods defined here:\n",
      " |  \n",
      " |  __new__(*args, **kwargs) from builtins.type\n",
      " |      Create and return a new object.  See help(type) for accurate signature.\n",
      " |  \n",
      " |  ----------------------------------------------------------------------\n",
      " |  Data and other attributes defined here:\n",
      " |  \n",
      " |  __hash__ = None\n",
      "\n",
      "None\n"
     ]
    }
   ],
   "source": [
    "print(help({10}))"
   ]
  },
  {
   "cell_type": "code",
   "execution_count": null,
   "id": "a1b4090a",
   "metadata": {},
   "outputs": [],
   "source": []
  },
  {
   "cell_type": "code",
   "execution_count": null,
   "id": "f55cfa40",
   "metadata": {},
   "outputs": [],
   "source": []
  },
  {
   "cell_type": "markdown",
   "id": "5b40bd4f",
   "metadata": {},
   "source": [
    "## Dictionary \n",
    "    - Dictionary is a collection which stores the data in key : value format \n",
    "    - KEY should be unique and immuatble type:\n",
    "        - Keys can  be str,tuple,int, float , complex,bool\n",
    "        - Values can be of any type.\n",
    "        \n",
    "    - {\"key1\":\"value1\" , \n",
    "        \"key2\":\"value2\"\n",
    "          .....}\n",
    "          \n",
    "     - Fastest and efficient one among all collection data types"
   ]
  },
  {
   "cell_type": "code",
   "execution_count": null,
   "id": "4e0f73b9",
   "metadata": {},
   "outputs": [],
   "source": []
  },
  {
   "cell_type": "code",
   "execution_count": 17,
   "id": "e00ab596",
   "metadata": {},
   "outputs": [
    {
     "name": "stdout",
     "output_type": "stream",
     "text": [
      "{'cricketTeamName': 'India', 'Captain': 'RS', 'country': 'India', 'year': 2022, 'is_top20': True, 'Players': ['Virat', 'Rohit', 'Bhu', 'Python']} <class 'dict'> 2638365316096\n"
     ]
    }
   ],
   "source": [
    "team = {\n",
    "'cricketTeamName':'India',\n",
    "'Captain':'RS',\n",
    "'country':'India', \n",
    "'year':2022, \n",
    "'is_top20':True,\n",
    "'Players':['Virat', 'Rohit', 'Bhu', 'Python']\n",
    "}\n",
    "\n",
    "print(team , type(team) , id(team))"
   ]
  },
  {
   "cell_type": "code",
   "execution_count": 19,
   "id": "067126ba",
   "metadata": {},
   "outputs": [],
   "source": [
    "# print(team[0])"
   ]
  },
  {
   "cell_type": "code",
   "execution_count": 20,
   "id": "8f7fd8dc",
   "metadata": {},
   "outputs": [
    {
     "name": "stdout",
     "output_type": "stream",
     "text": [
      "India\n"
     ]
    }
   ],
   "source": [
    "print(team['country'])"
   ]
  },
  {
   "cell_type": "code",
   "execution_count": null,
   "id": "ed19299a",
   "metadata": {},
   "outputs": [],
   "source": []
  },
  {
   "cell_type": "code",
   "execution_count": null,
   "id": "97a51d10",
   "metadata": {},
   "outputs": [],
   "source": []
  },
  {
   "cell_type": "code",
   "execution_count": 22,
   "id": "42d798d6",
   "metadata": {},
   "outputs": [
    {
     "name": "stdout",
     "output_type": "stream",
     "text": [
      "['Virat', 'Rohit', 'Bhu', 'Python']\n"
     ]
    }
   ],
   "source": [
    "print(team['Players'])"
   ]
  },
  {
   "cell_type": "code",
   "execution_count": null,
   "id": "1fadfba2",
   "metadata": {},
   "outputs": [],
   "source": [
    "print(team[\"score\"]) #invalid key"
   ]
  },
  {
   "cell_type": "markdown",
   "id": "4c4100a9",
   "metadata": {},
   "source": [
    "### methods"
   ]
  },
  {
   "cell_type": "code",
   "execution_count": 23,
   "id": "00e9fa04",
   "metadata": {},
   "outputs": [
    {
     "name": "stdout",
     "output_type": "stream",
     "text": [
      "['__class__', '__contains__', '__delattr__', '__delitem__', '__dir__', '__doc__', '__eq__', '__format__', '__ge__', '__getattribute__', '__getitem__', '__gt__', '__hash__', '__init__', '__init_subclass__', '__iter__', '__le__', '__len__', '__lt__', '__ne__', '__new__', '__reduce__', '__reduce_ex__', '__repr__', '__reversed__', '__setattr__', '__setitem__', '__sizeof__', '__str__', '__subclasshook__', 'clear', 'copy', 'fromkeys', 'get', 'items', 'keys', 'pop', 'popitem', 'setdefault', 'update', 'values']\n"
     ]
    }
   ],
   "source": [
    "print(dir(team))"
   ]
  },
  {
   "cell_type": "code",
   "execution_count": 25,
   "id": "b353d148",
   "metadata": {},
   "outputs": [
    {
     "name": "stdout",
     "output_type": "stream",
     "text": [
      "['Virat', 'Rohit', 'Bhu', 'Python']\n"
     ]
    }
   ],
   "source": [
    "#get()\n",
    "# if key is there , fetch the value\n",
    "# if key is not there , print None or String literal\n",
    "\n",
    "print(team.get(\"Players\"))"
   ]
  },
  {
   "cell_type": "code",
   "execution_count": 27,
   "id": "4853c886",
   "metadata": {},
   "outputs": [
    {
     "name": "stdout",
     "output_type": "stream",
     "text": [
      "None\n"
     ]
    }
   ],
   "source": [
    "print(team.get(\"score\"))"
   ]
  },
  {
   "cell_type": "code",
   "execution_count": 29,
   "id": "febdcfd4",
   "metadata": {},
   "outputs": [
    {
     "data": {
      "text/plain": [
       "'Key is not valid'"
      ]
     },
     "execution_count": 29,
     "metadata": {},
     "output_type": "execute_result"
    }
   ],
   "source": [
    "team.get(\"score\",\"Key is not valid\")"
   ]
  },
  {
   "cell_type": "code",
   "execution_count": 30,
   "id": "1a8bdfe9",
   "metadata": {},
   "outputs": [
    {
     "name": "stdout",
     "output_type": "stream",
     "text": [
      "dict_items([('cricketTeamName', 'India'), ('Captain', 'RS'), ('country', 'India'), ('year', 2022), ('is_top20', True), ('Players', ['Virat', 'Rohit', 'Bhu', 'Python'])])\n"
     ]
    }
   ],
   "source": [
    "# items() -- [(K1,V1),(K2,V2),(),()]\n",
    "\n",
    "print(team.items())"
   ]
  },
  {
   "cell_type": "code",
   "execution_count": 31,
   "id": "2bbeda02",
   "metadata": {},
   "outputs": [
    {
     "name": "stdout",
     "output_type": "stream",
     "text": [
      "dict_keys(['cricketTeamName', 'Captain', 'country', 'year', 'is_top20', 'Players'])\n"
     ]
    }
   ],
   "source": [
    "#keys() -- it will print only keys\n",
    "\n",
    "print(team.keys())"
   ]
  },
  {
   "cell_type": "code",
   "execution_count": 32,
   "id": "eb96e939",
   "metadata": {},
   "outputs": [
    {
     "name": "stdout",
     "output_type": "stream",
     "text": [
      "dict_values(['India', 'RS', 'India', 2022, True, ['Virat', 'Rohit', 'Bhu', 'Python']])\n"
     ]
    }
   ],
   "source": [
    "#values --> it will print only values\n",
    "\n",
    "print(team.values())"
   ]
  },
  {
   "cell_type": "code",
   "execution_count": 33,
   "id": "105832e2",
   "metadata": {},
   "outputs": [
    {
     "name": "stdout",
     "output_type": "stream",
     "text": [
      "RS\n",
      "{'cricketTeamName': 'India', 'country': 'India', 'year': 2022, 'is_top20': True, 'Players': ['Virat', 'Rohit', 'Bhu', 'Python']}\n"
     ]
    }
   ],
   "source": [
    "#pop() - remove based on keys \n",
    "\n",
    "poppedEle = team.pop(\"Captain\")\n",
    "\n",
    "print(poppedEle)\n",
    "\n",
    "print(team)"
   ]
  },
  {
   "cell_type": "code",
   "execution_count": 34,
   "id": "88b7e180",
   "metadata": {},
   "outputs": [
    {
     "name": "stdout",
     "output_type": "stream",
     "text": [
      "{'cricketTeamName': 'India', 'country': 'India', 'year': 2022, 'is_top20': True, 'Players': ['Virat', 'Rohit', 'Bhu', 'Python']}\n"
     ]
    }
   ],
   "source": [
    "print(team)"
   ]
  },
  {
   "cell_type": "code",
   "execution_count": 35,
   "id": "f3ecb60b",
   "metadata": {},
   "outputs": [
    {
     "data": {
      "text/plain": [
       "('Players', ['Virat', 'Rohit', 'Bhu', 'Python'])"
      ]
     },
     "execution_count": 35,
     "metadata": {},
     "output_type": "execute_result"
    }
   ],
   "source": [
    "# popitem()  -->last (k,v) paire removed\n",
    "\n",
    "team.popitem()"
   ]
  },
  {
   "cell_type": "code",
   "execution_count": 36,
   "id": "1eb66eb7",
   "metadata": {},
   "outputs": [
    {
     "name": "stdout",
     "output_type": "stream",
     "text": [
      "{'cricketTeamName': 'India', 'country': 'India', 'year': 2022, 'is_top20': True}\n"
     ]
    }
   ],
   "source": [
    "print(team)"
   ]
  },
  {
   "cell_type": "code",
   "execution_count": 37,
   "id": "ce3d2793",
   "metadata": {},
   "outputs": [
    {
     "name": "stdout",
     "output_type": "stream",
     "text": [
      "{'cricketTeamName': 'India', 'country': 'Bharat', 'year': 2022, 'is_top20': True}\n"
     ]
    }
   ],
   "source": [
    "#update()\n",
    "\n",
    "team.update({'country': 'Bharat'})\n",
    "\n",
    "print(team)"
   ]
  },
  {
   "cell_type": "code",
   "execution_count": 38,
   "id": "a4937640",
   "metadata": {},
   "outputs": [
    {
     "name": "stdout",
     "output_type": "stream",
     "text": [
      "{'cricketTeamName': 'India', 'country': 'Bharat', 'year': 2022, 'is_top20': True, 'country1': 'India'}\n"
     ]
    }
   ],
   "source": [
    "team.update({'country1': 'India'})\n",
    "\n",
    "print(team)"
   ]
  },
  {
   "cell_type": "code",
   "execution_count": null,
   "id": "91ecb268",
   "metadata": {},
   "outputs": [],
   "source": [
    "# get()\n",
    "#  items()\n",
    "#  keys()\n",
    "# values\n",
    "# pop()\n",
    "# popitem()\n",
    "# update()\n",
    "\n",
    "\n",
    "# NOTE:\n",
    "    - U can't pop on invalid key\n",
    "    - U can't pop on empty dictionary\n",
    "    - When you try to update invalid key --> it will create a new entry"
   ]
  },
  {
   "cell_type": "code",
   "execution_count": 39,
   "id": "8e432917",
   "metadata": {},
   "outputs": [
    {
     "name": "stdout",
     "output_type": "stream",
     "text": [
      "[]\n"
     ]
    },
    {
     "ename": "IndexError",
     "evalue": "pop from empty list",
     "output_type": "error",
     "traceback": [
      "\u001b[1;31m---------------------------------------------------------------------------\u001b[0m",
      "\u001b[1;31mIndexError\u001b[0m                                Traceback (most recent call last)",
      "\u001b[1;32m<ipython-input-39-abfdb1d5c6a8>\u001b[0m in \u001b[0;36m<module>\u001b[1;34m\u001b[0m\n\u001b[0;32m      3\u001b[0m \u001b[0mlst\u001b[0m\u001b[1;33m.\u001b[0m\u001b[0mpop\u001b[0m\u001b[1;33m(\u001b[0m\u001b[1;33m)\u001b[0m\u001b[1;33m\u001b[0m\u001b[1;33m\u001b[0m\u001b[0m\n\u001b[0;32m      4\u001b[0m \u001b[0mprint\u001b[0m\u001b[1;33m(\u001b[0m\u001b[0mlst\u001b[0m\u001b[1;33m)\u001b[0m\u001b[1;33m\u001b[0m\u001b[1;33m\u001b[0m\u001b[0m\n\u001b[1;32m----> 5\u001b[1;33m \u001b[0mlst\u001b[0m\u001b[1;33m.\u001b[0m\u001b[0mpop\u001b[0m\u001b[1;33m(\u001b[0m\u001b[1;33m)\u001b[0m\u001b[1;33m\u001b[0m\u001b[1;33m\u001b[0m\u001b[0m\n\u001b[0m",
      "\u001b[1;31mIndexError\u001b[0m: pop from empty list"
     ]
    }
   ],
   "source": [
    "lst = [10,20]\n",
    "lst.pop()\n",
    "lst.pop()\n",
    "print(lst)\n",
    "lst.pop()"
   ]
  },
  {
   "cell_type": "code",
   "execution_count": 40,
   "id": "174c7974",
   "metadata": {},
   "outputs": [
    {
     "name": "stdout",
     "output_type": "stream",
     "text": [
      "set()\n"
     ]
    },
    {
     "ename": "KeyError",
     "evalue": "'pop from an empty set'",
     "output_type": "error",
     "traceback": [
      "\u001b[1;31m---------------------------------------------------------------------------\u001b[0m",
      "\u001b[1;31mKeyError\u001b[0m                                  Traceback (most recent call last)",
      "\u001b[1;32m<ipython-input-40-efd6634ef468>\u001b[0m in \u001b[0;36m<module>\u001b[1;34m\u001b[0m\n\u001b[0;32m      4\u001b[0m \u001b[0mn\u001b[0m\u001b[1;33m.\u001b[0m\u001b[0mpop\u001b[0m\u001b[1;33m(\u001b[0m\u001b[1;33m)\u001b[0m\u001b[1;33m\u001b[0m\u001b[1;33m\u001b[0m\u001b[0m\n\u001b[0;32m      5\u001b[0m \u001b[0mprint\u001b[0m\u001b[1;33m(\u001b[0m\u001b[0mn\u001b[0m\u001b[1;33m)\u001b[0m\u001b[1;33m\u001b[0m\u001b[1;33m\u001b[0m\u001b[0m\n\u001b[1;32m----> 6\u001b[1;33m \u001b[0mn\u001b[0m\u001b[1;33m.\u001b[0m\u001b[0mpop\u001b[0m\u001b[1;33m(\u001b[0m\u001b[1;33m)\u001b[0m\u001b[1;33m\u001b[0m\u001b[1;33m\u001b[0m\u001b[0m\n\u001b[0m",
      "\u001b[1;31mKeyError\u001b[0m: 'pop from an empty set'"
     ]
    }
   ],
   "source": [
    "n = {10,203,3}\n",
    "n.pop()\n",
    "n.pop()\n",
    "n.pop()\n",
    "print(n)\n",
    "n.pop()"
   ]
  },
  {
   "cell_type": "code",
   "execution_count": 41,
   "id": "d6133089",
   "metadata": {},
   "outputs": [
    {
     "name": "stdout",
     "output_type": "stream",
     "text": [
      "{}\n"
     ]
    },
    {
     "ename": "KeyError",
     "evalue": "'popitem(): dictionary is empty'",
     "output_type": "error",
     "traceback": [
      "\u001b[1;31m---------------------------------------------------------------------------\u001b[0m",
      "\u001b[1;31mKeyError\u001b[0m                                  Traceback (most recent call last)",
      "\u001b[1;32m<ipython-input-41-db60ccabe6e4>\u001b[0m in \u001b[0;36m<module>\u001b[1;34m\u001b[0m\n\u001b[0;32m      8\u001b[0m \u001b[0mprint\u001b[0m\u001b[1;33m(\u001b[0m\u001b[0mm\u001b[0m\u001b[1;33m)\u001b[0m\u001b[1;33m\u001b[0m\u001b[1;33m\u001b[0m\u001b[0m\n\u001b[0;32m      9\u001b[0m \u001b[1;33m\u001b[0m\u001b[0m\n\u001b[1;32m---> 10\u001b[1;33m \u001b[0mm\u001b[0m\u001b[1;33m.\u001b[0m\u001b[0mpopitem\u001b[0m\u001b[1;33m(\u001b[0m\u001b[1;33m)\u001b[0m\u001b[1;33m\u001b[0m\u001b[1;33m\u001b[0m\u001b[0m\n\u001b[0m",
      "\u001b[1;31mKeyError\u001b[0m: 'popitem(): dictionary is empty'"
     ]
    }
   ],
   "source": [
    "m  = {\"a\":78,\n",
    "     \"b\":79,\n",
    "     \"c\":80}\n",
    "\n",
    "m.popitem()\n",
    "m.popitem()\n",
    "m.popitem()\n",
    "print(m)\n",
    "\n",
    "m.popitem()"
   ]
  },
  {
   "cell_type": "code",
   "execution_count": null,
   "id": "ab426702",
   "metadata": {},
   "outputs": [],
   "source": [
    "[].pop()\n",
    "{}.pop()\n",
    "{}.popitem()\n",
    "\n",
    "# error can't pop on EMPTY"
   ]
  },
  {
   "cell_type": "markdown",
   "id": "d6457b81",
   "metadata": {},
   "source": [
    "## prebuild-functions\n",
    "\n",
    "- In Python we have lots of built-in functions.\n",
    "- Built-in functions are globally available for your use that mean you can make use of the built-in functions without importing or configuring.\n",
    " > Some of the most commonly used Python built-in functions are the following: \n",
    "    -  print(), len(), type(), int(), float(), str(), input(), list(), dict(), min(), max(), sum(), sorted(), open(), file(), help(), and dir().\n",
    "    \n",
    "  <img src = \"https://github.com/anil-k-rajamoni18/PythonCourse/raw/main/images/builtin-functions.png\" width= \"700\" height=\"600\">"
   ]
  },
  {
   "cell_type": "code",
   "execution_count": null,
   "id": "164866cd",
   "metadata": {},
   "outputs": [],
   "source": [
    "##type()  id()\n",
    "\n",
    "name = \"Kumar\"\n",
    "\n",
    "print(type(name))\n",
    "\n",
    "age = 10\n",
    "\n",
    "print(type(age))\n",
    "\n",
    "person = {\"name\":\"Ram\",\"course\":\"Python\",\"collge\":\"ABC\"}\n",
    "\n",
    "print(type(person))\n",
    "\n",
    "\n",
    "print(id(name) , id(age) , id(person))"
   ]
  },
  {
   "cell_type": "code",
   "execution_count": null,
   "id": "bb97e60d",
   "metadata": {},
   "outputs": [],
   "source": [
    "print(type(\"AK\"))\n",
    "\n",
    "print(type(10))\n",
    "\n",
    "print(type(\"10\"))\n",
    "print(type(10.378683))\n",
    "print(type(True))\n",
    "print(type([10,203,30]))\n",
    "\n",
    "print(type((10,203,30)))\n",
    "      \n",
    "print(type({10,203,30,30}))"
   ]
  },
  {
   "cell_type": "code",
   "execution_count": null,
   "id": "7edfee0b",
   "metadata": {},
   "outputs": [],
   "source": [
    "#dir()\n",
    "print(dir({}))"
   ]
  },
  {
   "cell_type": "code",
   "execution_count": null,
   "id": "544485f5",
   "metadata": {},
   "outputs": [],
   "source": [
    "#  sum()\n",
    "\n",
    "marks = [10,20,30]\n",
    "\n",
    "print(sum(marks))"
   ]
  },
  {
   "cell_type": "code",
   "execution_count": null,
   "id": "3ab8a9b3",
   "metadata": {},
   "outputs": [],
   "source": [
    "#max() min()\n",
    "\n",
    "print(max(marks))\n",
    "\n",
    "print(min(marks))"
   ]
  },
  {
   "cell_type": "code",
   "execution_count": null,
   "id": "568a4351",
   "metadata": {},
   "outputs": [],
   "source": [
    "#len() --> list tuple str set dict\n",
    "\n",
    "print(len(marks))\n",
    "\n",
    "print(len(\"Kumar\"))\n",
    "\n",
    "\n",
    "print(len(person))\n",
    "\n",
    "# print(len(10)) #error."
   ]
  },
  {
   "cell_type": "code",
   "execution_count": null,
   "id": "1032b6fe",
   "metadata": {},
   "outputs": [],
   "source": [
    "# chr() ord()\n",
    "\n",
    "print(ord(\"K\"))\n",
    "\n",
    "print(ord(\"a\") , ord(\"A\"))"
   ]
  },
  {
   "cell_type": "code",
   "execution_count": null,
   "id": "84aee3f7",
   "metadata": {},
   "outputs": [],
   "source": [
    "print(ord(\" \"))"
   ]
  },
  {
   "cell_type": "code",
   "execution_count": null,
   "id": "6ee9e8a8",
   "metadata": {},
   "outputs": [],
   "source": [
    "print(ord(\"%\"))"
   ]
  },
  {
   "cell_type": "code",
   "execution_count": null,
   "id": "7d6a5657",
   "metadata": {},
   "outputs": [],
   "source": [
    "print(chr(37))"
   ]
  },
  {
   "cell_type": "code",
   "execution_count": null,
   "id": "f44d6c29",
   "metadata": {},
   "outputs": [],
   "source": [
    "for ch in \"Kumar Rajamoni.\":\n",
    "    print(ch , ord(ch))"
   ]
  },
  {
   "cell_type": "code",
   "execution_count": null,
   "id": "c6d7b8c4",
   "metadata": {},
   "outputs": [],
   "source": []
  },
  {
   "cell_type": "code",
   "execution_count": null,
   "id": "dab4e292",
   "metadata": {},
   "outputs": [],
   "source": []
  },
  {
   "cell_type": "markdown",
   "id": "1be84aa6",
   "metadata": {},
   "source": [
    "## Range\n",
    "    - generate a sequence of integer values \n",
    "    - Has 3 params \n",
    "            - Start : 0\n",
    "            - Stop : LEN-1\n",
    "            - Step : 1\n",
    "    - range() method gives a object , cast to list() or tuple() for displaying the output.\n",
    "    - stop param is mandtory \n",
    "    "
   ]
  },
  {
   "cell_type": "code",
   "execution_count": 42,
   "id": "3306d178",
   "metadata": {},
   "outputs": [
    {
     "data": {
      "text/plain": [
       "range(1, 10)"
      ]
     },
     "execution_count": 42,
     "metadata": {},
     "output_type": "execute_result"
    }
   ],
   "source": [
    "range(1,10,1) # 1 - 9 "
   ]
  },
  {
   "cell_type": "code",
   "execution_count": 44,
   "id": "95c7d523",
   "metadata": {},
   "outputs": [
    {
     "name": "stdout",
     "output_type": "stream",
     "text": [
      "[1, 2, 3, 4, 5, 6, 7, 8, 9]\n"
     ]
    }
   ],
   "source": [
    "a = range(1,10,1)\n",
    "\n",
    "print(list(a))"
   ]
  },
  {
   "cell_type": "code",
   "execution_count": 45,
   "id": "f004e7c5",
   "metadata": {},
   "outputs": [
    {
     "data": {
      "text/plain": [
       "range(0, 10)"
      ]
     },
     "execution_count": 45,
     "metadata": {},
     "output_type": "execute_result"
    }
   ],
   "source": [
    "range(10) #0-9\n",
    "\n"
   ]
  },
  {
   "cell_type": "code",
   "execution_count": 46,
   "id": "564dc84b",
   "metadata": {},
   "outputs": [
    {
     "name": "stdout",
     "output_type": "stream",
     "text": [
      "[0, 1, 2, 3, 4, 5, 6, 7, 8, 9]\n"
     ]
    }
   ],
   "source": [
    "print(list(range(10)))"
   ]
  },
  {
   "cell_type": "code",
   "execution_count": null,
   "id": "59640406",
   "metadata": {},
   "outputs": [],
   "source": [
    "a = range(1,10,2)\n",
    "\n",
    "print(list(a))"
   ]
  },
  {
   "cell_type": "code",
   "execution_count": null,
   "id": "702426a9",
   "metadata": {},
   "outputs": [],
   "source": []
  },
  {
   "cell_type": "code",
   "execution_count": null,
   "id": "2c839523",
   "metadata": {},
   "outputs": [],
   "source": [
    "a = range(-1,-10,-1)\n",
    "\n",
    "print(list(a))"
   ]
  },
  {
   "cell_type": "code",
   "execution_count": null,
   "id": "e8e03a8a",
   "metadata": {},
   "outputs": [],
   "source": []
  },
  {
   "cell_type": "code",
   "execution_count": 47,
   "id": "6f2d6753",
   "metadata": {},
   "outputs": [
    {
     "name": "stdout",
     "output_type": "stream",
     "text": [
      "[10, 9, 8, 7, 6, 5, 4, 3, 2, 1]\n"
     ]
    }
   ],
   "source": [
    "a = range(10,0,-1)\n",
    "\n",
    "print(list(a))"
   ]
  },
  {
   "cell_type": "code",
   "execution_count": null,
   "id": "e37cea7c",
   "metadata": {},
   "outputs": [],
   "source": []
  },
  {
   "cell_type": "code",
   "execution_count": 48,
   "id": "e91528ad",
   "metadata": {},
   "outputs": [
    {
     "name": "stdout",
     "output_type": "stream",
     "text": [
      "[]\n"
     ]
    }
   ],
   "source": [
    "a = range(1,1)\n",
    "\n",
    "print(list(a))"
   ]
  },
  {
   "cell_type": "code",
   "execution_count": null,
   "id": "70799132",
   "metadata": {},
   "outputs": [],
   "source": []
  },
  {
   "cell_type": "code",
   "execution_count": 50,
   "id": "91ac4315",
   "metadata": {},
   "outputs": [
    {
     "name": "stdout",
     "output_type": "stream",
     "text": [
      "[]\n"
     ]
    }
   ],
   "source": [
    "print(list(range(10,0,1)))"
   ]
  },
  {
   "cell_type": "code",
   "execution_count": null,
   "id": "f0e35916",
   "metadata": {},
   "outputs": [],
   "source": []
  },
  {
   "cell_type": "markdown",
   "id": "2c57e530",
   "metadata": {},
   "source": [
    "### Casting\n",
    "    - Converting one data type to another data type. \n",
    "    - We use int(), float(), str(), list(), set() \n",
    "    - When we do arithmetic operations string numbers should be first converted to int or float otherwise it will return an error. \n",
    "    - If we concatenate a number with a string, the number should be first converted to a string. "
   ]
  },
  {
   "cell_type": "code",
   "execution_count": null,
   "id": "b42a9229",
   "metadata": {},
   "outputs": [],
   "source": []
  },
  {
   "cell_type": "code",
   "execution_count": null,
   "id": "414c7ddf",
   "metadata": {},
   "outputs": [],
   "source": []
  },
  {
   "cell_type": "code",
   "execution_count": 52,
   "id": "7006bb56",
   "metadata": {},
   "outputs": [
    {
     "name": "stdout",
     "output_type": "stream",
     "text": [
      "num_int 10\n",
      "num_float: 10.0\n",
      "9\n",
      "10\n",
      "10\n",
      "num_float 10.6\n",
      "Asabeneh\n",
      "['A', 's', 'a', 'b', 'e', 'n', 'e', 'h']\n"
     ]
    }
   ],
   "source": [
    "# int to float\n",
    "num_int = 10\n",
    "print('num_int',num_int)         # 10\n",
    "num_float = float(num_int)\n",
    "print('num_float:', num_float)   # 10.0\n",
    "\n",
    "# float to int\n",
    "gravity = 9.81\n",
    "print(int(gravity))             # 9\n",
    "\n",
    "# int to str\n",
    "num_int = 10\n",
    "print(num_int)                  # 10\n",
    "num_str = str(num_int)\n",
    "print(num_str)                  # '10'\n",
    "\n",
    "# str to int or float\n",
    "num_str = '10.6'\n",
    "# print('num_int', int(num_str))      # 10\n",
    "print('num_float', float(num_str))  # 10.6\n",
    "\n",
    "# str to list\n",
    "first_name = 'Asabeneh'\n",
    "print(first_name)               # 'Asabeneh'\n",
    "first_name_to_list = list(first_name)\n",
    "print(first_name_to_list)            # ['A', 's', 'a', 'b', 'e', 'n', 'e', 'h']\n"
   ]
  },
  {
   "cell_type": "code",
   "execution_count": null,
   "id": "d8370450",
   "metadata": {},
   "outputs": [],
   "source": []
  },
  {
   "cell_type": "markdown",
   "id": "ca3a054f",
   "metadata": {},
   "source": [
    "## Strings \n",
    "    - group of individual or collections of characters\n",
    "    - strings are immutable in python\n",
    "    - Strings have indexing\n",
    "          +ve : 0 - N-1\n",
    "          -ve : -N - -1\n",
    "    - String supports slicing also.\n",
    "    - In Python Strings cab be declared in 3 ways:\n",
    "            - single quotes  'k'\n",
    "            - double quotes   'dyamic programmic'\n",
    "            - triple quotes (mainly used for multi-line strings)\n",
    "            \n",
    "      >Text is a string data type. Any data type written as text is a string. Any data under single, double or triple quote are strings. There are different string methods and built-in functions to deal with string data types"
   ]
  },
  {
   "cell_type": "markdown",
   "id": "21d8114d",
   "metadata": {},
   "source": [
    "#### How Strings store in memory ?\n",
    " - based on the ascii \n",
    " - chr(num)\n",
    " - ord(char)"
   ]
  },
  {
   "cell_type": "code",
   "execution_count": 58,
   "id": "3e5b6675",
   "metadata": {},
   "outputs": [
    {
     "name": "stdout",
     "output_type": "stream",
     "text": [
      "75 117 109 97 114 "
     ]
    }
   ],
   "source": [
    "for ch in \"Kumar\":\n",
    "    print(ord(ch) ,end=\" \")"
   ]
  },
  {
   "cell_type": "code",
   "execution_count": 59,
   "id": "34d0e9e0",
   "metadata": {},
   "outputs": [
    {
     "name": "stdout",
     "output_type": "stream",
     "text": [
      "32\n"
     ]
    }
   ],
   "source": [
    "print(ord(\" \"))"
   ]
  },
  {
   "cell_type": "code",
   "execution_count": 60,
   "id": "9ca9bfa5",
   "metadata": {},
   "outputs": [
    {
     "name": "stdout",
     "output_type": "stream",
     "text": [
      "a\n"
     ]
    }
   ],
   "source": [
    "print(chr(97))"
   ]
  },
  {
   "cell_type": "code",
   "execution_count": null,
   "id": "68eaa2e2",
   "metadata": {},
   "outputs": [],
   "source": []
  },
  {
   "cell_type": "markdown",
   "id": "3ee86987",
   "metadata": {},
   "source": [
    "#### Creating a String"
   ]
  },
  {
   "cell_type": "code",
   "execution_count": null,
   "id": "79cff176",
   "metadata": {},
   "outputs": [],
   "source": []
  },
  {
   "cell_type": "code",
   "execution_count": 61,
   "id": "d4b522e9",
   "metadata": {},
   "outputs": [
    {
     "name": "stdout",
     "output_type": "stream",
     "text": [
      "P\n",
      "1\n",
      "Hello, World!\n",
      "13\n",
      "I hope you are enjoying  Python Course  39\n"
     ]
    }
   ],
   "source": [
    "letter = 'P'                # A string could be a single character or a bunch of texts\n",
    "print(letter)               # P\n",
    "print(len(letter))          # 1\n",
    "\n",
    "greeting = 'Hello, World!'  # String could be made using a single or double quote,\"Hello, World!\"\n",
    "print(greeting)             # Hello, World!\n",
    "print(len(greeting))        # 13\n",
    "\n",
    "sentence = \"I hope you are enjoying  Python Course \"\n",
    "print(sentence , len(sentence))"
   ]
  },
  {
   "cell_type": "code",
   "execution_count": 56,
   "id": "1413e6c8",
   "metadata": {},
   "outputs": [
    {
     "name": "stdout",
     "output_type": "stream",
     "text": [
      "I am a teacher and enjoy teaching.\n",
      "I didn't find anything as rewarding as empowering people.\n",
      "That is why I created  python course.\n",
      "I am a teacher and enjoy teaching.\n",
      "I didn't find anything as rewarding as empowering people.\n",
      "That is why I created python course.\n"
     ]
    }
   ],
   "source": [
    "multiline_string = '''I am a teacher and enjoy teaching.\n",
    "I didn't find anything as rewarding as empowering people.\n",
    "That is why I created  python course.'''\n",
    "print(multiline_string)\n",
    "\n",
    "# Another way of doing the same thing\n",
    "multiline_string = \"\"\"I am a teacher and enjoy teaching.\n",
    "I didn't find anything as rewarding as empowering people.\n",
    "That is why I created python course.\"\"\"\n",
    "print(multiline_string)\n"
   ]
  },
  {
   "cell_type": "code",
   "execution_count": null,
   "id": "845f9f42",
   "metadata": {},
   "outputs": [],
   "source": []
  },
  {
   "cell_type": "markdown",
   "id": "572781fd",
   "metadata": {},
   "source": [
    "#### String Concatenation\n",
    "        - We can connect strings together. Merging or connecting strings is called concatenation. "
   ]
  },
  {
   "cell_type": "code",
   "execution_count": 62,
   "id": "4e07bb36",
   "metadata": {},
   "outputs": [
    {
     "name": "stdout",
     "output_type": "stream",
     "text": [
      "Helsinki Money Heist\n",
      "8\n",
      "11\n",
      "False\n",
      "20\n"
     ]
    }
   ],
   "source": [
    "first_name = 'Helsinki'\n",
    "last_name = 'Money Heist'\n",
    "space = ' '\n",
    "full_name = first_name  +  space + last_name\n",
    "print(full_name) \n",
    "# Checking the length of a string using len() built-in function\n",
    "print(len(first_name)) \n",
    "print(len(last_name))  \n",
    "print(len(first_name) > len(last_name))\n",
    "print(len(full_name)) "
   ]
  },
  {
   "cell_type": "code",
   "execution_count": 63,
   "id": "cc663b13",
   "metadata": {},
   "outputs": [
    {
     "name": "stdout",
     "output_type": "stream",
     "text": [
      "Hello Everyone Welcome Pythom Student\n"
     ]
    }
   ],
   "source": [
    "print(\"Hello Everyone \"+ \"Welcome \"+ \"Pythom Student\")"
   ]
  },
  {
   "cell_type": "code",
   "execution_count": 66,
   "id": "d29c7942",
   "metadata": {},
   "outputs": [
    {
     "ename": "TypeError",
     "evalue": "can only concatenate str (not \"int\") to str",
     "output_type": "error",
     "traceback": [
      "\u001b[1;31m---------------------------------------------------------------------------\u001b[0m",
      "\u001b[1;31mTypeError\u001b[0m                                 Traceback (most recent call last)",
      "\u001b[1;32m<ipython-input-66-e5b95ba37983>\u001b[0m in \u001b[0;36m<module>\u001b[1;34m\u001b[0m\n\u001b[0;32m      2\u001b[0m \u001b[1;33m\u001b[0m\u001b[0m\n\u001b[0;32m      3\u001b[0m \u001b[1;33m\u001b[0m\u001b[0m\n\u001b[1;32m----> 4\u001b[1;33m \u001b[0mfirst_name\u001b[0m \u001b[1;33m+\u001b[0m \u001b[1;34m\" age \"\u001b[0m\u001b[1;33m+\u001b[0m\u001b[1;36m40\u001b[0m\u001b[1;33m\u001b[0m\u001b[1;33m\u001b[0m\u001b[0m\n\u001b[0m",
      "\u001b[1;31mTypeError\u001b[0m: can only concatenate str (not \"int\") to str"
     ]
    }
   ],
   "source": [
    "#Try this . \n",
    "\n",
    "\n",
    "first_name + \" age \"+ 40\n"
   ]
  },
  {
   "cell_type": "code",
   "execution_count": null,
   "id": "c9f3286e",
   "metadata": {},
   "outputs": [],
   "source": []
  },
  {
   "cell_type": "markdown",
   "id": "5224a5bb",
   "metadata": {},
   "source": [
    "#### Escape Sequences in Strings\n",
    "            In Python and other programming languages \\ followed by a character is an escape sequence.\n",
    "\n",
    "        \\n: new line\n",
    "        \\t: Tab means(8 spaces)\n",
    "        \\\\: Back slash\n",
    "        \\': Single quote (')\n",
    "        \\\": Double quote (\")"
   ]
  },
  {
   "cell_type": "code",
   "execution_count": 70,
   "id": "c9408910",
   "metadata": {},
   "outputs": [
    {
     "name": "stdout",
     "output_type": "stream",
     "text": [
      "hello \n",
      "world \tpython \n",
      " Saimedha\n"
     ]
    }
   ],
   "source": [
    "print(\"hello \\n world \\tpython \\n Saimedha\")"
   ]
  },
  {
   "cell_type": "code",
   "execution_count": 72,
   "id": "b0ecbbce",
   "metadata": {},
   "outputs": [
    {
     "name": "stdout",
     "output_type": "stream",
     "text": [
      "I hope everyone is enjoying the Python Challenge.\n",
      "Are you ?\n",
      "Days\tTopics\tExercises\n",
      "Day 1\t3\t5\n",
      "Day 2\t3\t5\n",
      "Day 3\t3\t5\n",
      "Day 4\t3\t5\n",
      "This is a backslash  symbol (\\)\n",
      "In every programming language it starts with \"Hello, World!\"\n"
     ]
    }
   ],
   "source": [
    "print('I hope everyone is enjoying the Python Challenge.\\nAre you ?') # line break\n",
    "print('Days\\tTopics\\tExercises') # adding tab space or 4 spaces \n",
    "print('Day 1\\t3\\t5')\n",
    "print('Day 2\\t3\\t5')\n",
    "print('Day 3\\t3\\t5')\n",
    "print('Day 4\\t3\\t5')\n",
    "print('This is a backslash  symbol (\\\\)') # To write a backslash\n",
    "print('In every programming language it starts with \\\"Hello, World!\\\"') # to write a double quote inside a single quote\n"
   ]
  },
  {
   "cell_type": "markdown",
   "id": "6474804c",
   "metadata": {},
   "source": [
    "#### 3 ways of string declaration\n",
    "    - 'a'\n",
    "    - \"Kumar\"\n",
    "    - ''' Python Session Welcome \n",
    "           Saimedha '''\n",
    "           "
   ]
  },
  {
   "cell_type": "code",
   "execution_count": 74,
   "id": "8bd83747",
   "metadata": {},
   "outputs": [
    {
     "ename": "SyntaxError",
     "evalue": "invalid syntax (<ipython-input-74-0d741130d858>, line 1)",
     "output_type": "error",
     "traceback": [
      "\u001b[1;36m  File \u001b[1;32m\"<ipython-input-74-0d741130d858>\"\u001b[1;36m, line \u001b[1;32m1\u001b[0m\n\u001b[1;33m    sen = 'This's a book'\u001b[0m\n\u001b[1;37m                ^\u001b[0m\n\u001b[1;31mSyntaxError\u001b[0m\u001b[1;31m:\u001b[0m invalid syntax\n"
     ]
    }
   ],
   "source": [
    "sen = 'This's a book'\n",
    "\n",
    "print(sen)"
   ]
  },
  {
   "cell_type": "code",
   "execution_count": 75,
   "id": "5df09877",
   "metadata": {},
   "outputs": [
    {
     "name": "stdout",
     "output_type": "stream",
     "text": [
      "this's book\n"
     ]
    }
   ],
   "source": [
    "sen = \"this's book\"\n",
    "\n",
    "print(sen)"
   ]
  },
  {
   "cell_type": "code",
   "execution_count": null,
   "id": "b3c1bffe",
   "metadata": {},
   "outputs": [],
   "source": []
  },
  {
   "cell_type": "code",
   "execution_count": 76,
   "id": "1b4114c0",
   "metadata": {},
   "outputs": [
    {
     "ename": "SyntaxError",
     "evalue": "invalid syntax (<ipython-input-76-34a4f6d7bfca>, line 1)",
     "output_type": "error",
     "traceback": [
      "\u001b[1;36m  File \u001b[1;32m\"<ipython-input-76-34a4f6d7bfca>\"\u001b[1;36m, line \u001b[1;32m1\u001b[0m\n\u001b[1;33m    sen1 = \"Python \"hello\" world\"\u001b[0m\n\u001b[1;37m                    ^\u001b[0m\n\u001b[1;31mSyntaxError\u001b[0m\u001b[1;31m:\u001b[0m invalid syntax\n"
     ]
    }
   ],
   "source": [
    "sen1 = \"Python \"hello\" world\""
   ]
  },
  {
   "cell_type": "code",
   "execution_count": 77,
   "id": "d8534cfb",
   "metadata": {},
   "outputs": [
    {
     "name": "stdout",
     "output_type": "stream",
     "text": [
      "Python is \"hello\" world \n"
     ]
    }
   ],
   "source": [
    "sen1 = \"\"\"Python is \"hello\" world \"\"\"\n",
    "\n",
    "print(sen1)"
   ]
  },
  {
   "cell_type": "code",
   "execution_count": null,
   "id": "d0098591",
   "metadata": {},
   "outputs": [],
   "source": []
  },
  {
   "cell_type": "code",
   "execution_count": 78,
   "id": "075e6b43",
   "metadata": {},
   "outputs": [
    {
     "name": "stdout",
     "output_type": "stream",
     "text": [
      " I'm a student and Every \"python\" course  \n"
     ]
    }
   ],
   "source": [
    "print(''' I'm a student and Every \"python\" course  ''')"
   ]
  },
  {
   "cell_type": "code",
   "execution_count": null,
   "id": "f89c799c",
   "metadata": {},
   "outputs": [],
   "source": []
  },
  {
   "cell_type": "markdown",
   "id": "5a7e37bb",
   "metadata": {},
   "source": [
    "### String formatting\n",
    "    In Python there are many ways of formatting strings.\n",
    "    \n",
    "    The \"%\" operator is used to format a set of variables enclosed in a \"tuple\" (a fixed size list), together with a format string, which contains normal text together with \"argument specifiers\", special symbols like \"%s\", \"%d\", \"%f\", \"%.number of digitsf\".\n",
    "\n",
    "        %s - String (or any object with a string representation, like numbers)\n",
    "        %d - Integers\n",
    "        %f - Floating point numbers\n",
    "        \"%.number of digitsf\" - Floating point numbers with fixed precision"
   ]
  },
  {
   "cell_type": "code",
   "execution_count": 81,
   "id": "e8a7255d",
   "metadata": {},
   "outputs": [
    {
     "name": "stdout",
     "output_type": "stream",
     "text": [
      "I am Kumar R. I teach Python\n",
      "The area of circle with a radius 10 is 346.19.\n",
      "The following are python libraries:['Django', 'Flask', 'NumPy', 'Matplotlib', 'Pandas']\n"
     ]
    }
   ],
   "source": [
    "# Strings only\n",
    "first_name = 'Kumar'\n",
    "last_name = 'R'\n",
    "language = 'Python'\n",
    "formated_string = 'I am %s %s. I teach %s' %(first_name, last_name, language)\n",
    "print(formated_string)\n",
    "\n",
    "# Strings  and numbers\n",
    "radius = 10.5\n",
    "pi = 3.14\n",
    "area = pi * radius ** 2\n",
    "formated_string = 'The area of circle with a radius %d is %.2f.' %(radius, area) # 2 refers the 2 significant digits after the point\n",
    "\n",
    "print(formated_string)\n",
    "\n",
    "python_libraries = ['Django', 'Flask', 'NumPy', 'Matplotlib','Pandas']\n",
    "formated_string = 'The following are python libraries:%s' % (python_libraries)\n",
    "print(formated_string) # "
   ]
  },
  {
   "cell_type": "markdown",
   "id": "8e96fcce",
   "metadata": {},
   "source": [
    "#### New Style String Formatting (str.format)"
   ]
  },
  {
   "cell_type": "code",
   "execution_count": 82,
   "id": "e61ff10e",
   "metadata": {},
   "outputs": [
    {
     "name": "stdout",
     "output_type": "stream",
     "text": [
      "I am Kumar R. I teach Python\n",
      "4 + 3 = 7\n",
      "4 - 3 = 1\n",
      "4 * 3 = 12\n",
      "4 / 3 = 1.33\n",
      "4 % 3 = 1\n",
      "4 // 3 = 1\n",
      "4 ** 3 = 64\n"
     ]
    }
   ],
   "source": [
    "first_name = 'Kumar'\n",
    "last_name = 'R'\n",
    "language = 'Python'\n",
    "formated_string = 'I am {} {}. I teach {}'.format(first_name, last_name, language)\n",
    "print(formated_string)\n",
    "a = 4\n",
    "b = 3\n",
    "\n",
    "print('{} + {} = {}'.format(a, b, a + b))\n",
    "print('{} - {} = {}'.format(a, b, a - b))\n",
    "print('{} * {} = {}'.format(a, b, a * b))\n",
    "print('{} / {} = {:.2f}'.format(a, b, a / b)) # limits it to two digits after decimal\n",
    "print('{} % {} = {}'.format(a, b, a % b))\n",
    "print('{} // {} = {}'.format(a, b, a // b))\n",
    "print('{} ** {} = {}'.format(a, b, a ** b))"
   ]
  },
  {
   "cell_type": "markdown",
   "id": "3fcc8619",
   "metadata": {},
   "source": [
    "#### F string"
   ]
  },
  {
   "cell_type": "code",
   "execution_count": null,
   "id": "143ebe4f",
   "metadata": {},
   "outputs": [],
   "source": [
    "# Another new string formatting is string interpolation, f-strings. \n",
    "# Strings start with f and we can inject the data in their corresponding positions \n",
    "# supported from 3.6+\n",
    "\n",
    "a = 4\n",
    "b = 3\n",
    "print(f'{a} + {b} = {a +b}')\n",
    "print(f'{a} - {b} = {a - b}')\n",
    "print(f'{a} * {b} = {a * b}')\n",
    "print(f'{a} / {b} = {a / b:.2f}')\n",
    "print(f'{a} % {b} = {a % b}')\n",
    "print(f'{a} // {b} = {a // b}')\n",
    "print(f'{a} ** {b} = {a ** b}')"
   ]
  },
  {
   "cell_type": "code",
   "execution_count": 88,
   "id": "bc563a75",
   "metadata": {},
   "outputs": [
    {
     "ename": "TypeError",
     "evalue": "can only concatenate str (not \"float\") to str",
     "output_type": "error",
     "traceback": [
      "\u001b[1;31m---------------------------------------------------------------------------\u001b[0m",
      "\u001b[1;31mTypeError\u001b[0m                                 Traceback (most recent call last)",
      "\u001b[1;32m<ipython-input-88-a37b21bc1678>\u001b[0m in \u001b[0;36m<module>\u001b[1;34m\u001b[0m\n\u001b[0;32m      4\u001b[0m \u001b[0mage\u001b[0m \u001b[1;33m=\u001b[0m \u001b[1;36m25\u001b[0m\u001b[1;33m\u001b[0m\u001b[1;33m\u001b[0m\u001b[0m\n\u001b[0;32m      5\u001b[0m \u001b[1;33m\u001b[0m\u001b[0m\n\u001b[1;32m----> 6\u001b[1;33m \u001b[0mprint\u001b[0m\u001b[1;33m(\u001b[0m\u001b[0mname\u001b[0m \u001b[1;33m+\u001b[0m \u001b[0mrole\u001b[0m \u001b[1;33m+\u001b[0m \u001b[0msalary\u001b[0m\u001b[1;33m)\u001b[0m\u001b[1;33m\u001b[0m\u001b[1;33m\u001b[0m\u001b[0m\n\u001b[0m\u001b[0;32m      7\u001b[0m \u001b[1;31m# Kumar role is SDE of age 25  and salary is 220282.2892\u001b[0m\u001b[1;33m\u001b[0m\u001b[1;33m\u001b[0m\u001b[1;33m\u001b[0m\u001b[0m\n",
      "\u001b[1;31mTypeError\u001b[0m: can only concatenate str (not \"float\") to str"
     ]
    }
   ],
   "source": [
    "name = \"Kumar\"\n",
    "role = \"SDE\"\n",
    "salary = 220282.28929820902\n",
    "age = 25\n",
    "\n",
    "print(name + role + salary)\n",
    "# Kumar role is SDE of age 25  and salary is 220282.2892"
   ]
  },
  {
   "cell_type": "code",
   "execution_count": 89,
   "id": "31805e87",
   "metadata": {},
   "outputs": [
    {
     "name": "stdout",
     "output_type": "stream",
     "text": [
      "I'm Kumar role is SDE of age 25 and salary is 220282.289298209\n"
     ]
    }
   ],
   "source": [
    "print(\"I'm {} role is {} of age {} and salary is {}\".format(name,role,age,salary))"
   ]
  },
  {
   "cell_type": "code",
   "execution_count": 91,
   "id": "ea4df978",
   "metadata": {},
   "outputs": [
    {
     "name": "stdout",
     "output_type": "stream",
     "text": [
      "Iam Kumar role is SDE of age 25 and salary is 220282.29\n"
     ]
    }
   ],
   "source": [
    "print(f'Iam {name} role is {role} of age {age} and salary is {salary:.2f}')"
   ]
  },
  {
   "cell_type": "code",
   "execution_count": null,
   "id": "b74ec6cb",
   "metadata": {},
   "outputs": [],
   "source": []
  },
  {
   "cell_type": "markdown",
   "id": "d849361d",
   "metadata": {},
   "source": [
    "### Accessing Characters in Strings by Index\n",
    "    In programming counting starts from zero. Therefore the first letter of a string is at zero index and the last letter of a string is the length of a string minus one.\n",
    "       strLang = \"Python\"\n",
    "       \n",
    "<img src=\"https://github.com/anil-k-rajamoni18/PythonCourse/raw/main/images/string_index.png\" width=\"400\" height=\"400\">"
   ]
  },
  {
   "cell_type": "code",
   "execution_count": 92,
   "id": "0e7b06ef",
   "metadata": {},
   "outputs": [
    {
     "name": "stdout",
     "output_type": "stream",
     "text": [
      "P\n",
      "y\n",
      "n\n"
     ]
    }
   ],
   "source": [
    "language = 'Python'\n",
    "first_letter = language[0]\n",
    "print(first_letter) # P\n",
    "\n",
    "second_letter = language[1]\n",
    "print(second_letter) # y\n",
    "\n",
    "last_index = len(language) - 1\n",
    "\n",
    "last_letter = language[last_index]\n",
    "print(last_letter) # n"
   ]
  },
  {
   "cell_type": "code",
   "execution_count": 93,
   "id": "73e73c1a",
   "metadata": {},
   "outputs": [
    {
     "name": "stdout",
     "output_type": "stream",
     "text": [
      "n\n"
     ]
    }
   ],
   "source": [
    "print(language[len(language)-1])"
   ]
  },
  {
   "cell_type": "code",
   "execution_count": 94,
   "id": "debf2874",
   "metadata": {},
   "outputs": [
    {
     "name": "stdout",
     "output_type": "stream",
     "text": [
      "n\n"
     ]
    }
   ],
   "source": [
    "print(language[-1])"
   ]
  },
  {
   "cell_type": "code",
   "execution_count": null,
   "id": "6717c5cc",
   "metadata": {},
   "outputs": [],
   "source": [
    "language = 'Python'\n",
    "\n",
    "last_letter = language[-1]\n",
    "print(last_letter) # n\n",
    "\n",
    "second_last = language[-2]\n",
    "print(second_last) # o"
   ]
  },
  {
   "cell_type": "code",
   "execution_count": 96,
   "id": "01044d6a",
   "metadata": {},
   "outputs": [
    {
     "ename": "IndexError",
     "evalue": "string index out of range",
     "output_type": "error",
     "traceback": [
      "\u001b[1;31m---------------------------------------------------------------------------\u001b[0m",
      "\u001b[1;31mIndexError\u001b[0m                                Traceback (most recent call last)",
      "\u001b[1;32m<ipython-input-96-65755868fb66>\u001b[0m in \u001b[0;36m<module>\u001b[1;34m\u001b[0m\n\u001b[1;32m----> 1\u001b[1;33m \u001b[0mprint\u001b[0m\u001b[1;33m(\u001b[0m\u001b[0mlanguage\u001b[0m\u001b[1;33m[\u001b[0m\u001b[1;36m6\u001b[0m\u001b[1;33m]\u001b[0m\u001b[1;33m)\u001b[0m\u001b[1;33m\u001b[0m\u001b[1;33m\u001b[0m\u001b[0m\n\u001b[0m",
      "\u001b[1;31mIndexError\u001b[0m: string index out of range"
     ]
    }
   ],
   "source": [
    "\n",
    "print(language[6])\n"
   ]
  },
  {
   "cell_type": "code",
   "execution_count": 95,
   "id": "46ad00be",
   "metadata": {},
   "outputs": [
    {
     "name": "stdout",
     "output_type": "stream",
     "text": [
      "P\n"
     ]
    }
   ],
   "source": [
    "print(language[-6])\n"
   ]
  },
  {
   "cell_type": "markdown",
   "id": "c1b273a1",
   "metadata": {},
   "source": [
    "#### Slicing Python Strings\n",
    "    - Extracting specific data.\n",
    "    syntax:\n",
    "        [start:stop:step]\n",
    "    - start : 0 (default)\n",
    "    - stop : LEN-1\n",
    "    - step : 1 \n",
    "    \n",
    "    note: STOP is exculsive not included"
   ]
  },
  {
   "cell_type": "code",
   "execution_count": 97,
   "id": "0b349b4d",
   "metadata": {},
   "outputs": [
    {
     "name": "stdout",
     "output_type": "stream",
     "text": [
      "Pyt\n",
      "hon\n",
      "hon\n",
      "hon\n"
     ]
    }
   ],
   "source": [
    "language = 'Python'\n",
    "first_three = language[0:3] # starts at zero index and up to 3 but not include 3\n",
    "print(first_three) #Pyt\n",
    "\n",
    "last_three = language[3:6]\n",
    "print(last_three) # hon\n",
    "# Another way\n",
    "\n",
    "last_three = language[-3:]\n",
    "print(last_three)   # hon\n",
    "\n",
    "last_three = language[3:]\n",
    "print(last_three)   # hon\n",
    "\n"
   ]
  },
  {
   "cell_type": "code",
   "execution_count": 103,
   "id": "e405bb10",
   "metadata": {},
   "outputs": [
    {
     "name": "stdout",
     "output_type": "stream",
     "text": [
      "14\n",
      "Kuma\n",
      "Kuma\n"
     ]
    }
   ],
   "source": [
    "name = \"Kumar Rajamoni\"\n",
    "print(len(name))\n",
    "print(name[:4])\n",
    "print(name[0:4:1])"
   ]
  },
  {
   "cell_type": "code",
   "execution_count": 100,
   "id": "512ef39e",
   "metadata": {},
   "outputs": [
    {
     "name": "stdout",
     "output_type": "stream",
     "text": [
      "mar Rajamoni\n"
     ]
    }
   ],
   "source": [
    "print(name[2:])"
   ]
  },
  {
   "cell_type": "code",
   "execution_count": 104,
   "id": "dfb6b65e",
   "metadata": {},
   "outputs": [
    {
     "name": "stdout",
     "output_type": "stream",
     "text": [
      "inomajaR ramuK\n"
     ]
    }
   ],
   "source": [
    "print(name[-1:-15:-1])"
   ]
  },
  {
   "cell_type": "code",
   "execution_count": 105,
   "id": "eff105c0",
   "metadata": {},
   "outputs": [
    {
     "name": "stdout",
     "output_type": "stream",
     "text": [
      "inomajaR ramuK\n"
     ]
    }
   ],
   "source": [
    "print(name[::-1])"
   ]
  },
  {
   "cell_type": "code",
   "execution_count": 106,
   "id": "d225fd60",
   "metadata": {},
   "outputs": [
    {
     "name": "stdout",
     "output_type": "stream",
     "text": [
      "!dlroW ,olleH\n"
     ]
    }
   ],
   "source": [
    "# Reversing a String\n",
    "greeting = 'Hello, World!'\n",
    "print(greeting[::-1]) # !dlroW ,olleH\n"
   ]
  },
  {
   "cell_type": "code",
   "execution_count": null,
   "id": "cccff0a4",
   "metadata": {},
   "outputs": [],
   "source": []
  },
  {
   "cell_type": "code",
   "execution_count": null,
   "id": "95657c27",
   "metadata": {},
   "outputs": [],
   "source": []
  },
  {
   "cell_type": "code",
   "execution_count": null,
   "id": "09c2d5a6",
   "metadata": {},
   "outputs": [],
   "source": []
  },
  {
   "cell_type": "markdown",
   "id": "4f79eaa1",
   "metadata": {},
   "source": [
    "### String Methods\n",
    "  - **regular methods:**\n",
    "    - capitalize()\n",
    "    - count()\n",
    "    - endswith()\n",
    "    - startswith()\n",
    "    - expandtabs() \n",
    "    - find()\n",
    "    - rfind()\n",
    "    - index()\n",
    "    - rindex()\n",
    "    - title()\n",
    "    - replace()\n",
    "    - upper()\n",
    "    - lower()\n",
    "        \n",
    "- **checking methods:**\n",
    "    - isalnum()\n",
    "    - isalpha() \n",
    "    - isdecimal()\n",
    "    - isdigit()\n",
    "    - isnumeric()\n",
    "    - isidentifier()\n",
    "    - islower()\n",
    "    - isupper()\n",
    "        \n",
    "- **covertion methods**\n",
    "    - split() : str --> list\n",
    "    - join()  : list --> str\n",
    "\n",
    "        \n",
    " "
   ]
  },
  {
   "cell_type": "code",
   "execution_count": 107,
   "id": "e32bd124",
   "metadata": {},
   "outputs": [
    {
     "name": "stdout",
     "output_type": "stream",
     "text": [
      "Thirty days of python\n"
     ]
    }
   ],
   "source": [
    "# capitalize(): Converts the first character of the string to capital letter\n",
    "\n",
    "challenge = 'thirty days of python'\n",
    "print(challenge.capitalize()) # 'Thirty days of python'"
   ]
  },
  {
   "cell_type": "code",
   "execution_count": null,
   "id": "5c895723",
   "metadata": {},
   "outputs": [],
   "source": []
  },
  {
   "cell_type": "code",
   "execution_count": 108,
   "id": "202d3f15",
   "metadata": {},
   "outputs": [
    {
     "name": "stdout",
     "output_type": "stream",
     "text": [
      "3\n",
      "1\n",
      "2\n"
     ]
    }
   ],
   "source": [
    "# count(): returns occurrences of substring in string, count(substring, start=.., end=..). \n",
    "# The start is a starting indexing for counting and end is the last index to count.\n",
    "\n",
    "challenge = 'thirty days of python'\n",
    "\n",
    "print(challenge.count('y')) # 3\n",
    "print(challenge.count('y', 7, 14)) # 1, \n",
    "print(challenge.count('th')) # 2`\n"
   ]
  },
  {
   "cell_type": "code",
   "execution_count": null,
   "id": "4d2d529f",
   "metadata": {},
   "outputs": [],
   "source": []
  },
  {
   "cell_type": "code",
   "execution_count": 109,
   "id": "88ce33c4",
   "metadata": {},
   "outputs": [
    {
     "name": "stdout",
     "output_type": "stream",
     "text": [
      "True\n",
      "False\n"
     ]
    }
   ],
   "source": [
    "# endswith(): Checks if a string ends with a specified ending\n",
    "challenge = 'thirty days of python'\n",
    "\n",
    "print(challenge.endswith('on'))   # True\n",
    "print(challenge.endswith('tion')) # False\n"
   ]
  },
  {
   "cell_type": "code",
   "execution_count": null,
   "id": "a73a6116",
   "metadata": {},
   "outputs": [],
   "source": []
  },
  {
   "cell_type": "code",
   "execution_count": 110,
   "id": "cc10c781",
   "metadata": {},
   "outputs": [
    {
     "name": "stdout",
     "output_type": "stream",
     "text": [
      "thirty  days    of      python\n",
      "thirty    days      of        python\n"
     ]
    }
   ],
   "source": [
    "# expandtabs(): Replaces tab character with spaces, default tab size is 8. It takes tab size argument\n",
    "\n",
    "challenge = 'thirty\\tdays\\tof\\tpython'\n",
    "\n",
    "print(challenge.expandtabs())   # 'thirty  days    of      python'\n",
    "print(challenge.expandtabs(10)) # 'thirty    days      of        python'"
   ]
  },
  {
   "cell_type": "code",
   "execution_count": null,
   "id": "b630c4fc",
   "metadata": {},
   "outputs": [],
   "source": []
  },
  {
   "cell_type": "code",
   "execution_count": 111,
   "id": "5be27f87",
   "metadata": {},
   "outputs": [
    {
     "name": "stdout",
     "output_type": "stream",
     "text": [
      "5\n",
      "0\n"
     ]
    }
   ],
   "source": [
    "# find(): Returns the index of the first occurrence of a substring, if not found returns -1\n",
    "\n",
    "\n",
    "challenge = 'thirty days of python'\n",
    "print(challenge.find('y'))  # 16\n",
    "print(challenge.find(\"\")) # 17\n",
    "\n"
   ]
  },
  {
   "cell_type": "code",
   "execution_count": 113,
   "id": "7b6c00a4",
   "metadata": {},
   "outputs": [
    {
     "name": "stdout",
     "output_type": "stream",
     "text": [
      "-1\n"
     ]
    }
   ],
   "source": [
    "print(challenge.find(\"j\")) "
   ]
  },
  {
   "cell_type": "code",
   "execution_count": null,
   "id": "ef0f3d9e",
   "metadata": {},
   "outputs": [],
   "source": []
  },
  {
   "cell_type": "code",
   "execution_count": 114,
   "id": "2755ce01",
   "metadata": {},
   "outputs": [
    {
     "name": "stdout",
     "output_type": "stream",
     "text": [
      "16\n",
      "17\n"
     ]
    }
   ],
   "source": [
    "# rfind(): Returns the index of the last occurrence of a substring, if not found returns -1\n",
    "\n",
    "challenge = 'thirty days of python'\n",
    "print(challenge.rfind('y'))  # 5\n",
    "print(challenge.rfind('th')) # 1"
   ]
  },
  {
   "cell_type": "code",
   "execution_count": null,
   "id": "0ac1908a",
   "metadata": {},
   "outputs": [],
   "source": []
  },
  {
   "cell_type": "code",
   "execution_count": 116,
   "id": "42b8453e",
   "metadata": {},
   "outputs": [
    {
     "name": "stdout",
     "output_type": "stream",
     "text": [
      "7\n"
     ]
    },
    {
     "ename": "ValueError",
     "evalue": "substring not found",
     "output_type": "error",
     "traceback": [
      "\u001b[1;31m---------------------------------------------------------------------------\u001b[0m",
      "\u001b[1;31mValueError\u001b[0m                                Traceback (most recent call last)",
      "\u001b[1;32m<ipython-input-116-745ded45dc7c>\u001b[0m in \u001b[0;36m<module>\u001b[1;34m\u001b[0m\n\u001b[0;32m      6\u001b[0m \u001b[1;33m\u001b[0m\u001b[0m\n\u001b[0;32m      7\u001b[0m \u001b[0mprint\u001b[0m\u001b[1;33m(\u001b[0m\u001b[0mchallenge\u001b[0m\u001b[1;33m.\u001b[0m\u001b[0mindex\u001b[0m\u001b[1;33m(\u001b[0m\u001b[1;34m\"da\"\u001b[0m\u001b[1;33m)\u001b[0m\u001b[1;33m)\u001b[0m  \u001b[1;31m# 7\u001b[0m\u001b[1;33m\u001b[0m\u001b[1;33m\u001b[0m\u001b[0m\n\u001b[1;32m----> 8\u001b[1;33m \u001b[0mprint\u001b[0m\u001b[1;33m(\u001b[0m\u001b[0mchallenge\u001b[0m\u001b[1;33m.\u001b[0m\u001b[0mindex\u001b[0m\u001b[1;33m(\u001b[0m\u001b[0msub_string\u001b[0m\u001b[1;33m,\u001b[0m \u001b[1;36m9\u001b[0m\u001b[1;33m)\u001b[0m\u001b[1;33m)\u001b[0m \u001b[1;31m# error\u001b[0m\u001b[1;33m\u001b[0m\u001b[1;33m\u001b[0m\u001b[0m\n\u001b[0m",
      "\u001b[1;31mValueError\u001b[0m: substring not found"
     ]
    }
   ],
   "source": [
    "# index(): Returns the lowest index of a substring, additional arguments indicate starting and ending index (default 0 and string length - 1). \n",
    "# If the substring is not found it raises a valueError.\n",
    "\n",
    "challenge = 'thirty days of python'\n",
    "sub_string = 'da'\n",
    "\n",
    "print(challenge.index(\"da\"))  # 7\n",
    "print(challenge.index(sub_string, 9)) # error"
   ]
  },
  {
   "cell_type": "code",
   "execution_count": null,
   "id": "980f1f74",
   "metadata": {},
   "outputs": [],
   "source": []
  },
  {
   "cell_type": "code",
   "execution_count": null,
   "id": "7b55a4fb",
   "metadata": {},
   "outputs": [],
   "source": [
    "# rindex(): Returns the highest index of a substring, additional arguments indicate \n",
    "# starting and ending index (default 0 and string length - 1)\n",
    "\n",
    "challenge = 'thirty days of python'\n",
    "sub_string = 'da'\n",
    "\n",
    "print(challenge.rindex(sub_string))  # 8\n",
    "print(challenge.rindex(sub_string, 9)) # error"
   ]
  },
  {
   "cell_type": "code",
   "execution_count": null,
   "id": "939e6f90",
   "metadata": {},
   "outputs": [],
   "source": []
  },
  {
   "cell_type": "code",
   "execution_count": 117,
   "id": "ba121574",
   "metadata": {},
   "outputs": [
    {
     "name": "stdout",
     "output_type": "stream",
     "text": [
      "Thirty Days Of Python\n"
     ]
    }
   ],
   "source": [
    "# title(): Returns a title cased string\n",
    "\n",
    "challenge = 'thirty days of python'\n",
    "print(challenge.title()) # Thirty Days Of Python\n",
    "\n"
   ]
  },
  {
   "cell_type": "code",
   "execution_count": null,
   "id": "f242adfd",
   "metadata": {},
   "outputs": [],
   "source": []
  },
  {
   "cell_type": "code",
   "execution_count": 118,
   "id": "464c4e3b",
   "metadata": {},
   "outputs": [
    {
     "name": "stdout",
     "output_type": "stream",
     "text": [
      "THIRTY DAYS OF PYTHON\n",
      "tHIRTY dAYS oF pYTHON\n"
     ]
    }
   ],
   "source": [
    "# swapcase(): Converts all uppercase characters to lowercase and all lowercase characters to uppercase characters\n",
    "\n",
    "challenge = 'thirty days of python'\n",
    "print(challenge.swapcase())   # THIRTY DAYS OF PYTHON\n",
    "\n",
    "challenge = 'Thirty Days Of Python'\n",
    "print(challenge.swapcase())  # tHIRTY dAYS oF pYTHON\n",
    "\n",
    "\n",
    "\n"
   ]
  },
  {
   "cell_type": "code",
   "execution_count": null,
   "id": "06f35049",
   "metadata": {},
   "outputs": [],
   "source": []
  },
  {
   "cell_type": "code",
   "execution_count": 119,
   "id": "83c2ed7c",
   "metadata": {},
   "outputs": [
    {
     "name": "stdout",
     "output_type": "stream",
     "text": [
      "True\n",
      "False\n"
     ]
    }
   ],
   "source": [
    "# startswith(): Checks if String Starts with the Specified String\n",
    "\n",
    "challenge = 'thirty days of python'\n",
    "print(challenge.startswith('thirty')) # True\n",
    "\n",
    "challenge = '30 days of python'\n",
    "print(challenge.startswith('thirty')) # False\n"
   ]
  },
  {
   "cell_type": "code",
   "execution_count": null,
   "id": "e9e29ccf",
   "metadata": {},
   "outputs": [],
   "source": []
  },
  {
   "cell_type": "code",
   "execution_count": 121,
   "id": "9bedfa23",
   "metadata": {},
   "outputs": [
    {
     "name": "stdout",
     "output_type": "stream",
     "text": [
      "13\n",
      "5\n",
      "irty days of py\n"
     ]
    }
   ],
   "source": [
    "# strip(): Removes all given characters starting from the beginning and end of the string\n",
    "\n",
    "name = \"Kumar        \"\n",
    "\n",
    "print( len(name) )\n",
    "\n",
    "name = name.strip()\n",
    "print( len(name) )\n",
    "\n",
    "\n",
    "challenge = 'thirty days of pythoonnn'\n",
    "print(challenge.strip('noth')) # 'irty days of py'\n",
    "\n"
   ]
  },
  {
   "cell_type": "code",
   "execution_count": null,
   "id": "8399b193",
   "metadata": {},
   "outputs": [],
   "source": []
  },
  {
   "cell_type": "code",
   "execution_count": 122,
   "id": "926ddabc",
   "metadata": {},
   "outputs": [
    {
     "name": "stdout",
     "output_type": "stream",
     "text": [
      "I Like to code In Java\n"
     ]
    }
   ],
   "source": [
    "# replace(): Replaces substring with a given string\n",
    "\n",
    "challenge = 'I Like to code In Python'\n",
    "print(challenge.replace('Python', 'Java')) # 'thirty days of coding'"
   ]
  },
  {
   "cell_type": "code",
   "execution_count": null,
   "id": "64e51afb",
   "metadata": {},
   "outputs": [],
   "source": []
  },
  {
   "cell_type": "code",
   "execution_count": 124,
   "id": "aa373e74",
   "metadata": {},
   "outputs": [
    {
     "name": "stdout",
     "output_type": "stream",
     "text": [
      "True\n",
      "True\n",
      "True\n",
      "False\n"
     ]
    }
   ],
   "source": [
    "# isalnum(): Checks alphanumeric character\n",
    "\n",
    "challenge = 'ThirtyDaysPython'\n",
    "print(challenge.isalnum()) # True\n",
    "\n",
    "challenge = '30DaysPython'\n",
    "print(challenge.isalnum()) # True\n",
    "\n",
    "challenge = 'thirty days of python'\n",
    "print(challenge.isalnum()) # False, space is not an alphanumeric character\n",
    "\n",
    "challenge = 'thirty days of python 2019'\n",
    "print(challenge.isalnum()) # False\n"
   ]
  },
  {
   "cell_type": "code",
   "execution_count": null,
   "id": "b61b461a",
   "metadata": {},
   "outputs": [],
   "source": []
  },
  {
   "cell_type": "code",
   "execution_count": 126,
   "id": "f6c6442b",
   "metadata": {},
   "outputs": [
    {
     "name": "stdout",
     "output_type": "stream",
     "text": [
      "False\n",
      "False\n",
      "False\n"
     ]
    }
   ],
   "source": [
    "# isalpha(): Checks if all string elements are alphabet characters (a-z and A-Z)\n",
    "\n",
    "challenge = 'thirty days of python'\n",
    "print(challenge.isalpha()) # False, space is once again excluded\n",
    "\n",
    "challenge = 'ThirtyDaysPython'\n",
    "print(challenge.isalpha()) # True\n",
    "\n",
    "num = '123Python'\n",
    "print(num.isalpha())      # False\n",
    "\n"
   ]
  },
  {
   "cell_type": "code",
   "execution_count": null,
   "id": "4533c5d0",
   "metadata": {},
   "outputs": [],
   "source": []
  },
  {
   "cell_type": "code",
   "execution_count": 127,
   "id": "cd6482c4",
   "metadata": {},
   "outputs": [
    {
     "name": "stdout",
     "output_type": "stream",
     "text": [
      "False\n",
      "True\n",
      "True\n",
      "False\n"
     ]
    }
   ],
   "source": [
    "# isdecimal(): Checks if all characters in a string are decimal (0-9)\n",
    "\n",
    "challenge = 'thirty days of python'\n",
    "print(challenge.isdecimal())  # False\n",
    "\n",
    "challenge = '123'\n",
    "print(challenge.isdecimal())  # True\n",
    "\n",
    "challenge = '\\u00B2'\n",
    "print(challenge.isdigit())   # False\n",
    "\n",
    "challenge = '12 3'\n",
    "print(challenge.isdecimal())  # False, space not allowed\n",
    "\n",
    "\n"
   ]
  },
  {
   "cell_type": "code",
   "execution_count": null,
   "id": "3ecf0987",
   "metadata": {},
   "outputs": [],
   "source": []
  },
  {
   "cell_type": "code",
   "execution_count": null,
   "id": "3c9d8edc",
   "metadata": {},
   "outputs": [],
   "source": [
    "# isdigit(): Checks if all characters in a string are numbers (0-9 and some other unicode characters for numbers)\n",
    "\n",
    "challenge = 'Thirty'\n",
    "print(challenge.isdigit()) # False\n",
    "\n",
    "challenge = '30'\n",
    "print(challenge.isdigit())   # True\n",
    "\n",
    "challenge = '\\u00B2'\n",
    "print(challenge.isdigit())   # True"
   ]
  },
  {
   "cell_type": "code",
   "execution_count": null,
   "id": "0d8e0341",
   "metadata": {},
   "outputs": [],
   "source": []
  },
  {
   "cell_type": "code",
   "execution_count": 128,
   "id": "750b3bac",
   "metadata": {},
   "outputs": [
    {
     "name": "stdout",
     "output_type": "stream",
     "text": [
      "True\n",
      "True\n",
      "False\n"
     ]
    }
   ],
   "source": [
    "# isnumeric(): Checks if all characters in a string are numbers or number related (just like isdigit(), just accepts more symbols, like ½)\n",
    "\n",
    "num = '10'\n",
    "print(num.isnumeric()) # True\n",
    "\n",
    "num = '\\u00BD' # ½\n",
    "print(num.isnumeric()) # True\n",
    "\n",
    "num = '10.5'\n",
    "print(num.isnumeric()) # False\n"
   ]
  },
  {
   "cell_type": "code",
   "execution_count": null,
   "id": "79b7168e",
   "metadata": {},
   "outputs": [],
   "source": []
  },
  {
   "cell_type": "code",
   "execution_count": 129,
   "id": "41fc7fd4",
   "metadata": {},
   "outputs": [
    {
     "name": "stdout",
     "output_type": "stream",
     "text": [
      "False\n",
      "True\n"
     ]
    }
   ],
   "source": [
    "# isidentifier(): Checks for a valid identifier - it checks if a string is a valid variable name\n",
    "\n",
    "challenge = '30DaysOfPython'\n",
    "print(challenge.isidentifier()) # False, because it starts with a number\n",
    "\n",
    "challenge = 'thirty_days_of_python'\n",
    "print(challenge.isidentifier()) # True"
   ]
  },
  {
   "cell_type": "code",
   "execution_count": 130,
   "id": "afcc1c04",
   "metadata": {},
   "outputs": [
    {
     "name": "stdout",
     "output_type": "stream",
     "text": [
      "KUMAR\n",
      "kumar\n"
     ]
    }
   ],
   "source": [
    "# upper()\n",
    "# lower()\n",
    "\n",
    "name = \"Kumar\"\n",
    "\n",
    "print(name.upper())\n",
    "\n",
    "print(name.lower())"
   ]
  },
  {
   "cell_type": "code",
   "execution_count": 131,
   "id": "ec1bdeea",
   "metadata": {},
   "outputs": [
    {
     "name": "stdout",
     "output_type": "stream",
     "text": [
      "True\n",
      "False\n",
      "False\n",
      "True\n"
     ]
    }
   ],
   "source": [
    "# islower(): Checks if all alphabet characters in the string are lowercase\n",
    "\n",
    "# isupper(): Checks if all alphabet characters in the string are uppercase\n",
    "\n",
    "\n",
    "challenge = 'string methods'\n",
    "print(challenge.islower()) # True\n",
    "\n",
    "challenge = 'MetaVerse'\n",
    "print(challenge.islower()) # False\n",
    "\n",
    "\n",
    "challenge = 'Python Is OOPs Lang'\n",
    "print(challenge.isupper()) #  False\n",
    "\n",
    "challenge = 'PYTHON VERSION'\n",
    "print(challenge.isupper()) # True"
   ]
  },
  {
   "cell_type": "code",
   "execution_count": null,
   "id": "bffabb23",
   "metadata": {},
   "outputs": [],
   "source": []
  },
  {
   "cell_type": "code",
   "execution_count": 134,
   "id": "fc6a79eb",
   "metadata": {},
   "outputs": [
    {
     "name": "stdout",
     "output_type": "stream",
     "text": [
      "['python', 'is', 'interprted', 'functional', 'scripting', 'language']\n",
      "['current', 'version', 'of', 'python', '3.11']\n"
     ]
    }
   ],
   "source": [
    "# split(): Splits the string, using given string or space as a separator\n",
    "\n",
    "challenge = 'python is interprted functional scripting language'\n",
    "print(challenge.split()) \n",
    "\n",
    "challenge = 'current,version,of,python,3.11'\n",
    "print(challenge.split(','))"
   ]
  },
  {
   "cell_type": "code",
   "execution_count": 136,
   "id": "1e6ce836",
   "metadata": {},
   "outputs": [
    {
     "name": "stdout",
     "output_type": "stream",
     "text": [
      "['python', 'is', 'interprted', 'functional', 'scripting', 'language'] <class 'list'>\n",
      "language\n",
      "['python', 'is', 'interprted', 'functional']\n"
     ]
    }
   ],
   "source": [
    "\n",
    "challenge = 'python is interprted functional scripting language'\n",
    "\n",
    "challenge = challenge.split()\n",
    "\n",
    "print(challenge, type(challenge))\n",
    "\n",
    "print(challenge[-1])\n",
    "print(challenge[:4])"
   ]
  },
  {
   "cell_type": "code",
   "execution_count": null,
   "id": "74c5efef",
   "metadata": {},
   "outputs": [],
   "source": []
  },
  {
   "cell_type": "code",
   "execution_count": null,
   "id": "9f57f87a",
   "metadata": {},
   "outputs": [],
   "source": []
  },
  {
   "cell_type": "code",
   "execution_count": null,
   "id": "899de957",
   "metadata": {},
   "outputs": [],
   "source": []
  },
  {
   "cell_type": "code",
   "execution_count": 141,
   "id": "4bde1d52",
   "metadata": {},
   "outputs": [
    {
     "name": "stdout",
     "output_type": "stream",
     "text": [
      "HTML,CSS,JavaScript,React\n"
     ]
    }
   ],
   "source": [
    "# join(): Returns a concatenated string\n",
    "\n",
    "web_tech = ['HTML', 'CSS', 'JavaScript', 'React'] #LIST --> STR\n",
    "\n",
    "result = \",\".join(web_tech)\n",
    "print(result) "
   ]
  },
  {
   "cell_type": "code",
   "execution_count": null,
   "id": "bd9ee649",
   "metadata": {},
   "outputs": [],
   "source": []
  },
  {
   "cell_type": "code",
   "execution_count": null,
   "id": "39543eb3",
   "metadata": {},
   "outputs": [],
   "source": []
  },
  {
   "cell_type": "markdown",
   "id": "15a84506",
   "metadata": {},
   "source": [
    "## Operators\n",
    "\n",
    "    - Python language supports several types of operators\n",
    "    - Operator is symbol which applies on operands \n",
    "        ex: a + b ==> a, b operands , + : operator.\n",
    "        \n",
    "### Assignment Operators.\n",
    "        Assignment operators are used to assign values to variables\n",
    "  \n",
    "  <img src = \"https://github.com/anil-k-rajamoni18/PythonCourse/raw/main/images/assignment_operators.png\" height=\"600\" width=\"600\">\n",
    "  \n",
    "  "
   ]
  },
  {
   "cell_type": "markdown",
   "id": "3a51a94a",
   "metadata": {},
   "source": [
    "   "
   ]
  },
  {
   "cell_type": "code",
   "execution_count": 142,
   "id": "2d5d1d25",
   "metadata": {},
   "outputs": [
    {
     "name": "stdout",
     "output_type": "stream",
     "text": [
      "9\n"
     ]
    }
   ],
   "source": [
    "price = 12\n",
    "\n",
    "# increase 2rs \n",
    "price = price + 2\n",
    "\n",
    "# decrease 5 \n",
    "price = price - 5 \n",
    "\n",
    "\n",
    "print(price)"
   ]
  },
  {
   "cell_type": "code",
   "execution_count": 143,
   "id": "9b50e22e",
   "metadata": {},
   "outputs": [
    {
     "name": "stdout",
     "output_type": "stream",
     "text": [
      "9\n"
     ]
    }
   ],
   "source": [
    "price = 12\n",
    "\n",
    "# increase 2rs \n",
    "price += 2 #price = pirce+2\n",
    "\n",
    "# decrease 5 \n",
    "price -= 5 #price = price - 5 \n",
    "\n",
    "\n",
    "print(price)"
   ]
  },
  {
   "cell_type": "code",
   "execution_count": null,
   "id": "86adeeac",
   "metadata": {},
   "outputs": [],
   "source": []
  },
  {
   "cell_type": "code",
   "execution_count": null,
   "id": "9ed90489",
   "metadata": {},
   "outputs": [],
   "source": []
  },
  {
   "cell_type": "code",
   "execution_count": null,
   "id": "7fc3bca0",
   "metadata": {},
   "outputs": [],
   "source": []
  },
  {
   "cell_type": "markdown",
   "id": "e4d41067",
   "metadata": {},
   "source": [
    "### Arithmetic Operators:\n",
    "    - Used to perform arthimetic & mathmatical operations.\n",
    "    Addition(+): a + b\n",
    "    Subtraction(-): a - b\n",
    "    Multiplication(*): a * b\n",
    "    Division(/): a / b\n",
    "    Modulus(%): a % b\n",
    "    Floor division(//): a // b\n",
    "    Exponentiation(**): a ** b\n",
    "    \n",
    "<img src = \"https://github.com/anil-k-rajamoni18/PythonCourse/raw/main/images/arithmetic_operators.png\" height=\"700\" width=\"700\"> "
   ]
  },
  {
   "cell_type": "code",
   "execution_count": null,
   "id": "95ef91fd",
   "metadata": {},
   "outputs": [],
   "source": []
  },
  {
   "cell_type": "code",
   "execution_count": 1,
   "id": "b8d49c8d",
   "metadata": {},
   "outputs": [
    {
     "name": "stdout",
     "output_type": "stream",
     "text": [
      "Addition:  3\n",
      "Subtraction:  1\n",
      "Multiplication:  6\n",
      "Division:  2.0\n",
      "Division:  3.0\n",
      "Division:  3.5\n",
      "Division without the remainder:  3\n",
      "Division without the remainder:  2\n",
      "Modulus:  1\n",
      "Exponentiation:  8\n"
     ]
    }
   ],
   "source": [
    "# Arithmetic Operations in Python\n",
    "# Integers\n",
    "\n",
    "print('Addition: ', 1 + 2)        # 3\n",
    "print('Subtraction: ', 2 - 1)     # 1\n",
    "print('Multiplication: ', 2 * 3)  # 6\n",
    "print ('Division: ', 4 / 2)       # 2.0  Division in Python gives floating number\n",
    "print('Division: ', 6 / 2)        # 3.0         \n",
    "print('Division: ', 7 / 2)        # 3.5\n",
    "print('Division without the remainder: ', 7 // 2)   # 3,  gives without the floating number or without the remaining\n",
    "print ('Division without the remainder: ',7 // 3)   # 2\n",
    "print('Modulus: ', 3 % 2)         # 1, Gives the remainder\n",
    "print('Exponentiation: ', 2 ** 3) # 9 it means 2 * 2 * 2\n",
    "\n"
   ]
  },
  {
   "cell_type": "code",
   "execution_count": null,
   "id": "eb618532",
   "metadata": {},
   "outputs": [],
   "source": []
  },
  {
   "cell_type": "code",
   "execution_count": 2,
   "id": "22be60aa",
   "metadata": {},
   "outputs": [
    {
     "name": "stdout",
     "output_type": "stream",
     "text": [
      "Floating Point Number, PI 3.14\n",
      "Floating Point Number, gravity 9.81\n"
     ]
    }
   ],
   "source": [
    "# Floating numbers\n",
    "print('Floating Point Number, PI', 3.14)\n",
    "print('Floating Point Number, gravity', 9.81)\n",
    "\n"
   ]
  },
  {
   "cell_type": "code",
   "execution_count": null,
   "id": "b0d2f741",
   "metadata": {},
   "outputs": [],
   "source": []
  },
  {
   "cell_type": "code",
   "execution_count": 3,
   "id": "a5e3e936",
   "metadata": {},
   "outputs": [
    {
     "name": "stdout",
     "output_type": "stream",
     "text": [
      "Complex number:  (1+1j)\n",
      "Multiplying complex numbers:  (2+0j)\n"
     ]
    }
   ],
   "source": [
    "# Complex numbers\n",
    "print('Complex number: ', 1 + 1j)\n",
    "print('Multiplying complex numbers: ',(1 + 1j) * (1 - 1j))"
   ]
  },
  {
   "cell_type": "code",
   "execution_count": null,
   "id": "18fa2435",
   "metadata": {},
   "outputs": [],
   "source": []
  },
  {
   "cell_type": "code",
   "execution_count": 4,
   "id": "c7b1aaf4",
   "metadata": {},
   "outputs": [
    {
     "name": "stdout",
     "output_type": "stream",
     "text": [
      "5\n",
      "a + b =  5\n",
      "a - b =  1\n",
      "a * b =  6\n",
      "a / b =  1.5\n",
      "a % b =  1\n",
      "a // b =  1\n",
      "a ** b =  9\n"
     ]
    }
   ],
   "source": [
    "# Declaring the variable at the top first\n",
    "\n",
    "a = 3 # a is a variable name and 3 is an integer data type\n",
    "b = 2 # b is a variable name and 3 is an integer data type\n",
    "\n",
    "# Arithmetic operations and assigning the result to a variable\n",
    "total = a + b\n",
    "diff = a - b\n",
    "product = a * b\n",
    "division = a / b\n",
    "remainder = a % b\n",
    "floor_division = a // b\n",
    "exponential = a ** b\n",
    "\n",
    "# I should have used sum instead of total but sum is a built-in function - try to avoid overriding built-in functions\n",
    "print(total) # if you do not label your print with some string, you never know where the result is coming from\n",
    "print('a + b = ', total)\n",
    "print('a - b = ', diff)\n",
    "print('a * b = ', product)\n",
    "print('a / b = ', division)\n",
    "print('a % b = ', remainder)\n",
    "print('a // b = ', floor_division)\n",
    "print('a ** b = ', exponential)"
   ]
  },
  {
   "cell_type": "code",
   "execution_count": null,
   "id": "2be1f199",
   "metadata": {},
   "outputs": [],
   "source": []
  },
  {
   "cell_type": "code",
   "execution_count": 8,
   "id": "19ae5529",
   "metadata": {},
   "outputs": [
    {
     "name": "stdout",
     "output_type": "stream",
     "text": [
      "Area of a circle: 314.0\n",
      "Area of rectangle: 200\n",
      "735.75 N\n",
      "Desity 1000.0\n"
     ]
    }
   ],
   "source": [
    "# Calculating area of a circle\n",
    "radius = 10                                 # radius of a circle\n",
    "area_of_circle = 3.14 * radius ** 2         # two * sign means exponent or power\n",
    "print('Area of a circle:', area_of_circle)\n",
    "\n",
    "# Calculating area of a rectangle\n",
    "length = 10\n",
    "width = 20\n",
    "area_of_rectangle = length * width\n",
    "print('Area of rectangle:', area_of_rectangle)\n",
    "\n",
    "# Calculating a weight of an object\n",
    "mass = 75\n",
    "gravity = 9.81\n",
    "weight = mass * gravity\n",
    "print(weight, 'N')                         # Adding unit to the weight\n",
    "\n",
    "# Calculate the density of a liquid\n",
    "mass = 75 # in Kg\n",
    "volume = 0.075 # in cubic meter\n",
    "density = mass / volume # 1000 Kg/m^3\n",
    "\n",
    "\n",
    "print(\"Desity\", density)"
   ]
  },
  {
   "cell_type": "code",
   "execution_count": null,
   "id": "dcbdba01",
   "metadata": {},
   "outputs": [],
   "source": []
  },
  {
   "cell_type": "markdown",
   "id": "dfab67fc",
   "metadata": {},
   "source": [
    "### Comparison Operators\n",
    "        - comparison operators to compare two values. We check if a value is greater or less or equal to other value. \n",
    "        - Result is always Either True or False\n",
    "        - Can be used to compare Values & Objects\n",
    "        \n",
    " <img src = \"https://github.com/anil-k-rajamoni18/PythonCourse/raw/main/images/comparison_operators.png\" width=\"700\" height=\"700\">"
   ]
  },
  {
   "cell_type": "code",
   "execution_count": null,
   "id": "ef6c7641",
   "metadata": {},
   "outputs": [],
   "source": []
  },
  {
   "cell_type": "code",
   "execution_count": 9,
   "id": "9b669d32",
   "metadata": {},
   "outputs": [
    {
     "name": "stdout",
     "output_type": "stream",
     "text": [
      "True\n",
      "True\n",
      "False\n",
      "True\n",
      "True\n",
      "False\n",
      "True\n",
      "False\n",
      "True\n",
      "True\n",
      "False\n",
      "True\n",
      "True\n",
      "False\n",
      "True == True:  True\n",
      "True == False:  False\n",
      "False == False: True\n"
     ]
    }
   ],
   "source": [
    "print(3 > 2)     # True, because 3 is greater than 2\n",
    "print(3 >= 2)    # True, because 3 is greater than 2\n",
    "print(3 < 2)     # False,  because 3 is greater than 2\n",
    "print(2 < 3)     # True, because 2 is less than 3\n",
    "print(2 <= 3)    # True, because 2 is less than 3\n",
    "print(3 == 2)    # False, because 3 is not equal to 2\n",
    "print(3 != 2)    # True, because 3 is not equal to 2\n",
    "\n",
    "\n",
    "print(len('mango') == len('avocado'))  # False\n",
    "print(len('mango') != len('avocado'))  # True\n",
    "print(len('mango') < len('avocado'))   # True\n",
    "print(len('milk') != len('meat'))      # False\n",
    "print(len('milk') == len('meat'))      # True\n",
    "print(len('tomato') == len('potato'))  # True\n",
    "print(len('python') > len('dragon'))   # False\n",
    "\n",
    "\n",
    "# Comparing something gives either a True or False\n",
    "\n",
    "print('True == True: ', True == True)\n",
    "print('True == False: ', True == False)\n",
    "print('False == False:', False == False)\n",
    "\n"
   ]
  },
  {
   "cell_type": "code",
   "execution_count": null,
   "id": "0defed79",
   "metadata": {},
   "outputs": [],
   "source": []
  },
  {
   "cell_type": "code",
   "execution_count": null,
   "id": "16474cd8",
   "metadata": {},
   "outputs": [],
   "source": []
  },
  {
   "cell_type": "markdown",
   "id": "f102b4d2",
   "metadata": {},
   "source": [
    "### Identity Operator \n",
    "        is: Returns true if both variables are the same object(x is y)\n",
    "        is not: Returns true if both variables are not the same object(x is not y)\n",
    "    \n",
    "### MemberShiop Opeator\n",
    "        in: Returns True if the queried list contains a certain item(x in y)\n",
    "        not in: Returns True if the queried list doesn't have a certain item(x in y)"
   ]
  },
  {
   "cell_type": "code",
   "execution_count": 10,
   "id": "c76af358",
   "metadata": {},
   "outputs": [
    {
     "name": "stdout",
     "output_type": "stream",
     "text": [
      "False\n"
     ]
    }
   ],
   "source": [
    "\n",
    "print(100 in [10,203,202,303])"
   ]
  },
  {
   "cell_type": "code",
   "execution_count": 11,
   "id": "f9f6660f",
   "metadata": {},
   "outputs": [
    {
     "name": "stdout",
     "output_type": "stream",
     "text": [
      "1 is 1 True\n",
      "1 is not 2 True\n",
      "A in Asabeneh True\n",
      "B in Asabeneh False\n",
      "True\n",
      "a in an: True\n",
      "4 is 2 ** 2: True\n"
     ]
    },
    {
     "name": "stderr",
     "output_type": "stream",
     "text": [
      "<>:1: SyntaxWarning: \"is\" with a literal. Did you mean \"==\"?\n",
      "<>:2: SyntaxWarning: \"is not\" with a literal. Did you mean \"!=\"?\n",
      "<>:7: SyntaxWarning: \"is\" with a literal. Did you mean \"==\"?\n",
      "<>:1: SyntaxWarning: \"is\" with a literal. Did you mean \"==\"?\n",
      "<>:2: SyntaxWarning: \"is not\" with a literal. Did you mean \"!=\"?\n",
      "<>:7: SyntaxWarning: \"is\" with a literal. Did you mean \"==\"?\n",
      "<ipython-input-11-c9a4367e925a>:1: SyntaxWarning: \"is\" with a literal. Did you mean \"==\"?\n",
      "  print('1 is 1', 1 is 1)                   # True - because the data values are the same\n",
      "<ipython-input-11-c9a4367e925a>:2: SyntaxWarning: \"is not\" with a literal. Did you mean \"!=\"?\n",
      "  print('1 is not 2', 1 is not 2)           # True - because 1 is not 2\n",
      "<ipython-input-11-c9a4367e925a>:7: SyntaxWarning: \"is\" with a literal. Did you mean \"==\"?\n",
      "  print('4 is 2 ** 2:', 4 is 2 ** 2)   # True\n"
     ]
    }
   ],
   "source": [
    "print('1 is 1', 1 is 1)                   # True - because the data values are the same\n",
    "print('1 is not 2', 1 is not 2)           # True - because 1 is not 2\n",
    "print('A in Asabeneh', 'A' in 'Asabeneh') # True - A found in the string\n",
    "print('B in Asabeneh', 'B' in 'Asabeneh') # False - there is no uppercase B\n",
    "print('coding' in 'coding for all') # True - because coding for all has the word coding\n",
    "print('a in an:', 'a' in 'an')      # True\n",
    "print('4 is 2 ** 2:', 4 is 2 ** 2)   # True"
   ]
  },
  {
   "cell_type": "code",
   "execution_count": 12,
   "id": "26e78a25",
   "metadata": {},
   "outputs": [
    {
     "name": "stdout",
     "output_type": "stream",
     "text": [
      "True\n",
      "True\n",
      "True\n"
     ]
    }
   ],
   "source": [
    "print(type([1,2,23]) is list)\n",
    "print(type(11/2) is float)\n",
    "print(type(\"AK\") is str)"
   ]
  },
  {
   "cell_type": "code",
   "execution_count": 13,
   "id": "688fc1fd",
   "metadata": {},
   "outputs": [
    {
     "name": "stdout",
     "output_type": "stream",
     "text": [
      "<class 'list'>\n"
     ]
    }
   ],
   "source": [
    "print(type([1020,39,39]))"
   ]
  },
  {
   "cell_type": "code",
   "execution_count": null,
   "id": "aec4ab20",
   "metadata": {},
   "outputs": [],
   "source": []
  },
  {
   "cell_type": "code",
   "execution_count": 20,
   "id": "c0a9fb7e",
   "metadata": {},
   "outputs": [
    {
     "name": "stdout",
     "output_type": "stream",
     "text": [
      "1747220999552 1747219870976\n",
      "False\n"
     ]
    }
   ],
   "source": [
    "a = 10\n",
    "# print(id(a))\n",
    "\n",
    "b = 10\n",
    "# print(id(b))\n",
    "\n",
    "#both refer to the same object memory location\n",
    "\n",
    "# print(a is b)\n",
    "# print(a is not b)\n",
    "\n",
    "b = b+2\n",
    "\n",
    "# print(id(a) , id(b))\n",
    "# print(a is b)\n",
    "# print(a is not b)\n",
    "\n",
    "\n",
    "# x= 100\n",
    "\n",
    "# y=200\n",
    "# print( x is y)\n",
    "# print(id(x),id(y))\n",
    "# print(x is y)\n",
    "# print(x is not y)\n",
    "\n",
    "\n",
    "lstA = [10,20,39]\n",
    "\n",
    "lstB = [10,20,39]\n",
    "\n",
    "print(id(lstA) , id(lstB))\n",
    "\n",
    "print(lstA is lstB)"
   ]
  },
  {
   "cell_type": "code",
   "execution_count": null,
   "id": "4e82bc09",
   "metadata": {},
   "outputs": [],
   "source": []
  },
  {
   "cell_type": "markdown",
   "id": "577cf730",
   "metadata": {},
   "source": [
    "### Logical Operators\n",
    "    Logical operators are used to combine conditional statements:\n",
    "<img src = \"https://github.com/anil-k-rajamoni18/PythonCourse/raw/main/images/logical_operators.png\" > "
   ]
  },
  {
   "cell_type": "code",
   "execution_count": null,
   "id": "fe22798a",
   "metadata": {},
   "outputs": [],
   "source": []
  },
  {
   "cell_type": "code",
   "execution_count": 155,
   "id": "b98f6386",
   "metadata": {},
   "outputs": [
    {
     "name": "stdout",
     "output_type": "stream",
     "text": [
      "<class 'str'> <class 'list'>\n",
      "False\n",
      "True\n",
      "False\n"
     ]
    }
   ],
   "source": [
    "name = \"fury\"\n",
    "passwd = 1234\n",
    "print(type(name),type(['fury'] ))\n",
    "\n",
    "\n",
    "print(name == ['fury'] and passwd == 1234) #both\n",
    "\n",
    "print(name ==\"fur\" or passwd == 1234) #atleast \n",
    "\n",
    "print(not (name ==\"fury\" and passwd==1234))"
   ]
  },
  {
   "cell_type": "code",
   "execution_count": null,
   "id": "85b9549d",
   "metadata": {},
   "outputs": [],
   "source": []
  },
  {
   "cell_type": "code",
   "execution_count": 22,
   "id": "52c77881",
   "metadata": {},
   "outputs": [
    {
     "name": "stdout",
     "output_type": "stream",
     "text": [
      "Enter the username: kumar\n",
      "Enter the passsword: kumar123\n",
      "Login Success\n"
     ]
    }
   ],
   "source": [
    "#login application \n",
    "\n",
    "database = {\"username\":\"kumar\",\"passwd\":\"kumar123\"}\n",
    "\n",
    "username = input(\"Enter the username: \")\n",
    "\n",
    "passwd = input(\"Enter the passsword: \")\n",
    "\n",
    "if username != database[\"username\"]:\n",
    "    print(\"Invalid username\")\n",
    "if passwd != database[\"passwd\"]:\n",
    "    print(\"Invalid passwd\")\n",
    "    \n",
    "if username == database[\"username\"] and passwd == database[\"passwd\"]:\n",
    "    print(\"Login Success\")\n",
    "\n",
    "else:\n",
    "    print(\"Invalid Creds\")\n",
    "    \n",
    "    "
   ]
  },
  {
   "cell_type": "code",
   "execution_count": null,
   "id": "0f6231aa",
   "metadata": {},
   "outputs": [],
   "source": []
  },
  {
   "cell_type": "markdown",
   "id": "d7ac717a",
   "metadata": {},
   "source": [
    "###  Bitwise \n",
    "\n",
    "    Bitwise operator is used to compare the Binary bits \n",
    "\n",
    "    Operator \tName \tDescription\n",
    "\n",
    "    (& ) \tAND \tSets each bit to 1 if both bits are 1\n",
    "\n",
    "    (|) \tOR \tSets each bit to 1 if one of two bits is 1\n",
    "\n",
    "     (^)\tXOR \tSets each bit to 1 if both bits are different , otherwise 0\n",
    "\n",
    "    (~ ) \tNOT \tInverts all the bits (only for not operand)\n",
    "\n",
    "    A  B     AND  OR  NOT XOR\n",
    "    0 0     0    0     1    0\n",
    "    0 1     0    1     1    1\n",
    "    1 0     0    1     0    1\n",
    "    1 1     1    1     0    0"
   ]
  },
  {
   "cell_type": "code",
   "execution_count": null,
   "id": "047d937e",
   "metadata": {},
   "outputs": [],
   "source": [
    "#representing\n",
    "# 8 bit \n",
    "\n",
    "#table \n",
    "\n",
    "loations : 7   |6  | 5 |4 | 3 | 2 | 1 |0 #2 powers locations 00000110\n",
    "\n",
    "values :   128 |64 |32 |16| 8 | 4 |2  |1    min =0 max = 255\n",
    "\n",
    "    \n"
   ]
  },
  {
   "cell_type": "code",
   "execution_count": 23,
   "id": "2a82a634",
   "metadata": {},
   "outputs": [
    {
     "name": "stdout",
     "output_type": "stream",
     "text": [
      "0b10100\n",
      "0b100101\n",
      "0b111001\n",
      "0b11011110\n"
     ]
    }
   ],
   "source": [
    "# bin() -- gives binary notation value of decimal no.\n",
    "\n",
    "print(bin(20))\n",
    "print(bin(37))\n",
    "print(bin(57))\n",
    "print(bin(222))\n",
    "\n"
   ]
  },
  {
   "cell_type": "code",
   "execution_count": 27,
   "id": "3d436db5",
   "metadata": {},
   "outputs": [
    {
     "name": "stdout",
     "output_type": "stream",
     "text": [
      "15\n",
      "18\n",
      "22\n"
     ]
    }
   ],
   "source": [
    "print(0b1010+0b101)\n",
    "print(0o10+0b1010)\n",
    "\n",
    "print(0xF+0b111)"
   ]
  },
  {
   "cell_type": "code",
   "execution_count": 28,
   "id": "3f0c15e4",
   "metadata": {},
   "outputs": [
    {
     "name": "stdout",
     "output_type": "stream",
     "text": [
      "0\n",
      "7\n",
      "7\n"
     ]
    }
   ],
   "source": [
    "a = 3\n",
    "b = 4\n",
    "\n",
    "# 3 - 0 1  1\n",
    "# 4 - 1 0  0\n",
    "# -----------------\n",
    "#     0  0   0\n",
    "# \n",
    "###### AND 000\n",
    "\n",
    "###### OR 111\n",
    "\n",
    "###### EXOR 111\n",
    "\n",
    "#####NOT 100\n",
    "\n",
    "print(a & b)\n",
    "\n",
    "print(a | b)\n",
    "\n",
    "print(a ^ b)\n",
    "\n",
    "#sign bit \n",
    "\n",
    "#0 -ve\n",
    "#1 +ve"
   ]
  },
  {
   "cell_type": "code",
   "execution_count": null,
   "id": "d2c513ba",
   "metadata": {},
   "outputs": [],
   "source": []
  },
  {
   "cell_type": "code",
   "execution_count": 29,
   "id": "329059de",
   "metadata": {},
   "outputs": [
    {
     "name": "stdout",
     "output_type": "stream",
     "text": [
      "0b11\n",
      "-4\n"
     ]
    }
   ],
   "source": [
    "a = 3 #011\n",
    "print(bin(a))\n",
    "    \n",
    "print(~a) #a=3 #100\n",
    "\n",
    "# 3 011\n",
    "#\n",
    "# invert\n",
    "# - (011+1) #doing the 1's compliment\n",
    "#- 100 = -4\n"
   ]
  },
  {
   "cell_type": "code",
   "execution_count": null,
   "id": "8bca731f",
   "metadata": {},
   "outputs": [],
   "source": [
    "# Right Shift \n",
    "\n",
    "# Bitwise right shift: Shifts the bits of the number to the right and fills 0 on voids left as a result. \n",
    "# Similar effect as of dividing the number with some power of two.\n",
    "# n//2^bits\n",
    "\n",
    "a = 10\n",
    "print(a>>1)\n",
    "\n",
    "#00001010 =>10\n",
    "# after shifting 2bits to the Right\n",
    "\n",
    "#00000010 =>2\n",
    "\n",
    "# 00000010\n",
    "\n"
   ]
  },
  {
   "cell_type": "code",
   "execution_count": null,
   "id": "70b92565",
   "metadata": {},
   "outputs": [],
   "source": [
    "#left shift\n",
    "\n",
    "# Bitwise left shift: Shifts the bits of the number to the left and fills 0 on voids right as a result. \n",
    "# Similar effect as of multiplying the number with some power of two.\n",
    "\n",
    "# n*2^bits\n",
    "# 10*2**2\n",
    "\n",
    "a = 10\n",
    "print(a<<2)\n",
    "\n",
    "# 8bit\n",
    "#00001010 =>10\n",
    "#00010100 = 20\n",
    "\n",
    "# after shifting 1 bit to the left\n",
    "\n",
    "#00010100 =>20\n"
   ]
  },
  {
   "cell_type": "code",
   "execution_count": null,
   "id": "33b0cea9",
   "metadata": {},
   "outputs": [],
   "source": []
  },
  {
   "cell_type": "markdown",
   "id": "4769c645",
   "metadata": {},
   "source": [
    "### Operator Precedence\n",
    "\n",
    "- When dealing with operators in Python we have to know about the concept of Python operator precedence and associativity \n",
    "- as these determine the priorities of the operator otherwise, we’ll see unexpected outputs.\n",
    "\n",
    "#### Operator Precedence:\n",
    "        This is used in an expression with more than one operator with different precedence to determine which operation to perform first\n",
    "\n",
    "\n",
    "<img src = \"https://learningmonkey.in/wp-content/uploads/2021/05/Operator-Precedence-and-Associativity-in-Python.jpg\">\n"
   ]
  },
  {
   "cell_type": "code",
   "execution_count": null,
   "id": "6074da09",
   "metadata": {},
   "outputs": [],
   "source": [
    "print(10+20*30/10)"
   ]
  },
  {
   "cell_type": "code",
   "execution_count": null,
   "id": "a22c1a3a",
   "metadata": {},
   "outputs": [],
   "source": [
    "a = (10+20) * 30/10\n",
    "\n",
    "print(a)\n",
    "\n"
   ]
  },
  {
   "cell_type": "code",
   "execution_count": 30,
   "id": "3129711a",
   "metadata": {},
   "outputs": [
    {
     "name": "stdout",
     "output_type": "stream",
     "text": [
      "14.0\n"
     ]
    }
   ],
   "source": [
    "a =  2+3*8/2-10**4%2//10\n",
    "\n",
    "print(a)\n"
   ]
  },
  {
   "cell_type": "code",
   "execution_count": null,
   "id": "1495172c",
   "metadata": {},
   "outputs": [],
   "source": []
  },
  {
   "cell_type": "code",
   "execution_count": 31,
   "id": "6d4390d2",
   "metadata": {},
   "outputs": [
    {
     "name": "stdout",
     "output_type": "stream",
     "text": [
      "Hello! Welcome.\n"
     ]
    }
   ],
   "source": [
    "name = \"Ak\"\n",
    "age = 0\n",
    "  \n",
    "if name == \"Ak\" or name == \"John\" and age >= 2 : \n",
    "  print(\"Hello! Welcome.\")\n",
    "else :\n",
    "  print(\"Good Bye!!\")\n",
    "\n"
   ]
  },
  {
   "cell_type": "code",
   "execution_count": 32,
   "id": "98cbb1ef",
   "metadata": {},
   "outputs": [
    {
     "name": "stdout",
     "output_type": "stream",
     "text": [
      "Good Bye!!\n"
     ]
    }
   ],
   "source": [
    "name = \"Ak\"\n",
    "age = 0\n",
    "  \n",
    "if ( name == \"Ak\" or name == \"John\" ) and age >= 2 :\n",
    "  print(\"Hello! Welcome.\")\n",
    "else :\n",
    "  print(\"Good Bye!!\")"
   ]
  },
  {
   "cell_type": "code",
   "execution_count": null,
   "id": "be625528",
   "metadata": {},
   "outputs": [],
   "source": []
  },
  {
   "cell_type": "markdown",
   "id": "3d1c809a",
   "metadata": {},
   "source": [
    "##### Operator Associativity: \n",
    "    If an expression contains two or more operators with the same precedence then Operator Associativity is used to determine. \n",
    "        It can either be Left to Right or from Right to Left."
   ]
  },
  {
   "cell_type": "code",
   "execution_count": 33,
   "id": "0e639ac1",
   "metadata": {},
   "outputs": [
    {
     "name": "stdout",
     "output_type": "stream",
     "text": [
      "200.0\n"
     ]
    }
   ],
   "source": [
    "print(200 / 10 * 10)"
   ]
  },
  {
   "cell_type": "code",
   "execution_count": 34,
   "id": "7392bd49",
   "metadata": {},
   "outputs": [
    {
     "name": "stdout",
     "output_type": "stream",
     "text": [
      "6\n"
     ]
    }
   ],
   "source": [
    "print(5 - 2 + 3)"
   ]
  },
  {
   "cell_type": "code",
   "execution_count": null,
   "id": "5557de06",
   "metadata": {},
   "outputs": [],
   "source": []
  },
  {
   "cell_type": "code",
   "execution_count": 35,
   "id": "affdc38a",
   "metadata": {},
   "outputs": [
    {
     "name": "stdout",
     "output_type": "stream",
     "text": [
      "512\n"
     ]
    }
   ],
   "source": [
    "#right to left\n",
    "print(2 ** 3 ** 2)"
   ]
  },
  {
   "cell_type": "markdown",
   "id": "beb4f421",
   "metadata": {},
   "source": [
    "#### Ways to run python code\n",
    "\n",
    "    - Jupyter notebook\n",
    "    - cmd \n",
    "    - shell\n",
    "    - IDLE\n",
    "    - vscode\n",
    "    "
   ]
  },
  {
   "cell_type": "code",
   "execution_count": null,
   "id": "4fc2e8e7",
   "metadata": {},
   "outputs": [],
   "source": []
  }
 ],
 "metadata": {
  "kernelspec": {
   "display_name": "Python 3",
   "language": "python",
   "name": "python3"
  },
  "language_info": {
   "codemirror_mode": {
    "name": "ipython",
    "version": 3
   },
   "file_extension": ".py",
   "mimetype": "text/x-python",
   "name": "python",
   "nbconvert_exporter": "python",
   "pygments_lexer": "ipython3",
   "version": "3.8.8"
  }
 },
 "nbformat": 4,
 "nbformat_minor": 5
}
