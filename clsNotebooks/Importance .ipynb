{
 "cells": [
  {
   "cell_type": "markdown",
   "id": "f6e28638",
   "metadata": {},
   "source": [
    "### Where we can use Python\n",
    "    - for programming lang\n",
    "    - for competitive lang\n",
    "        - hackrank\n",
    "        - hackerearth\n",
    "    - for backend framework"
   ]
  },
  {
   "cell_type": "markdown",
   "id": "27c407c4",
   "metadata": {},
   "source": [
    "### applications\n",
    "    - WEB APPLICATION\n",
    "        - python(flask framework) \n",
    "    - Desktop Applications.\n",
    "    - Network Programming\n",
    "    - Cyber Security.\n",
    "    - Machine learning.\n",
    "    - Deep Learning.\n",
    "    - Big Data.\n",
    "    "
   ]
  },
  {
   "cell_type": "markdown",
   "id": "0ec27c16",
   "metadata": {},
   "source": [
    "### Python Job Profile \n",
    "\n",
    "        Software Engineer.\n",
    "        Python Developer.\n",
    "        Research Analyst.\n",
    "        Data Analyst.\n",
    "        Data Scientist.\n",
    "        Software Developer."
   ]
  },
  {
   "cell_type": "code",
   "execution_count": null,
   "id": "1b4d19fa",
   "metadata": {},
   "outputs": [],
   "source": []
  }
 ],
 "metadata": {
  "kernelspec": {
   "display_name": "Python 3",
   "language": "python",
   "name": "python3"
  },
  "language_info": {
   "codemirror_mode": {
    "name": "ipython",
    "version": 3
   },
   "file_extension": ".py",
   "mimetype": "text/x-python",
   "name": "python",
   "nbconvert_exporter": "python",
   "pygments_lexer": "ipython3",
   "version": "3.8.8"
  }
 },
 "nbformat": 4,
 "nbformat_minor": 5
}
