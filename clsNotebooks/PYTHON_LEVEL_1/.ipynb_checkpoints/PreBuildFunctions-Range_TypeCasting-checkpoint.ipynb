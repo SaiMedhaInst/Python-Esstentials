{
 "cells": [
  {
   "cell_type": "markdown",
   "id": "19b3f03c",
   "metadata": {},
   "source": [
    "## prebuild-functions\n",
    "\n",
    "- In Python we have lots of built-in functions.\n",
    "- Built-in functions are globally available for your use that mean you can make use of the built-in functions without importing or configuring.\n",
    " > Some of the most commonly used Python built-in functions are the following: \n",
    "    -  print(), len(), type(), int(), float(), str(), input(), list(), dict(), min(), max(), sum(), sorted(), open(), file(), help(), and dir().\n",
    "    \n",
    "  <img src = \"https://s4scoding.com/images/python-built-in-functions.jpg\" width= \"700\" height=\"800\">"
   ]
  },
  {
   "cell_type": "code",
   "execution_count": null,
   "id": "aa5918ad",
   "metadata": {
    "scrolled": true
   },
   "outputs": [],
   "source": [
    "lst = {10,203,20} \n",
    "\n",
    "# print(dir(lst))\n",
    "print(type(lst))"
   ]
  },
  {
   "cell_type": "code",
   "execution_count": null,
   "id": "776d3bfd",
   "metadata": {},
   "outputs": [],
   "source": [
    "print(sum(lst))\n",
    "print(max(lst))\n",
    "print(min(lst))"
   ]
  },
  {
   "cell_type": "code",
   "execution_count": null,
   "id": "a0ddca4e",
   "metadata": {
    "scrolled": true
   },
   "outputs": [],
   "source": [
    "print(help(lst))"
   ]
  },
  {
   "cell_type": "code",
   "execution_count": null,
   "id": "8b2eba8a",
   "metadata": {
    "scrolled": true
   },
   "outputs": [],
   "source": [
    "##type()  id()\n",
    "\n",
    "name = \"Kumar\"\n",
    "\n",
    "print(type(name))\n",
    "\n",
    "age = 10\n",
    "\n",
    "print(type(age))\n",
    "\n",
    "person = {\"name\":\"Ram\",\"course\":\"Python\",\"collge\":\"ABC\"}\n",
    "\n",
    "print(type(person))\n",
    "\n",
    "\n",
    "print(id(name) , id(age) , id(person))\n"
   ]
  },
  {
   "cell_type": "code",
   "execution_count": null,
   "id": "d5fb2404",
   "metadata": {
    "scrolled": true
   },
   "outputs": [],
   "source": []
  },
  {
   "cell_type": "code",
   "execution_count": null,
   "id": "e9de298d",
   "metadata": {
    "scrolled": true
   },
   "outputs": [],
   "source": [
    "print(type(\"AK\"))\n",
    "\n",
    "print(type(10))\n",
    "\n",
    "print(type(\"10\"))\n",
    "\n",
    "print(type(10.378683))\n",
    "\n",
    "print(type(True))\n",
    "\n",
    "print(type([10,203,30]))\n",
    "\n",
    "print(type((10,203,30)))\n",
    "      \n",
    "print(type({10,203,30,30}))"
   ]
  },
  {
   "cell_type": "code",
   "execution_count": null,
   "id": "03239f2b",
   "metadata": {
    "scrolled": true
   },
   "outputs": [],
   "source": [
    "a = 10,20,304,40\n",
    "print(type(a))"
   ]
  },
  {
   "cell_type": "code",
   "execution_count": null,
   "id": "03139b14",
   "metadata": {
    "scrolled": true
   },
   "outputs": [],
   "source": [
    "names = \"kumar\",\"prakash\",\"manoj\"\n",
    "\n",
    "print(type(names))\n",
    "print(names)"
   ]
  },
  {
   "cell_type": "code",
   "execution_count": null,
   "id": "f22b8e84",
   "metadata": {
    "scrolled": true
   },
   "outputs": [],
   "source": [
    "#dir()\n",
    "print(dir([]))"
   ]
  },
  {
   "cell_type": "code",
   "execution_count": null,
   "id": "844c9abd",
   "metadata": {
    "scrolled": true
   },
   "outputs": [],
   "source": [
    "print(dir(\"\"))"
   ]
  },
  {
   "cell_type": "code",
   "execution_count": null,
   "id": "765c712b",
   "metadata": {
    "scrolled": true
   },
   "outputs": [],
   "source": [
    "#  sum()\n",
    "\n",
    "marks = [10,20,30]\n",
    "\n",
    "print(sum(marks))"
   ]
  },
  {
   "cell_type": "code",
   "execution_count": null,
   "id": "699478e2",
   "metadata": {
    "scrolled": true
   },
   "outputs": [],
   "source": []
  },
  {
   "cell_type": "code",
   "execution_count": null,
   "id": "d71502c8",
   "metadata": {
    "scrolled": true
   },
   "outputs": [],
   "source": [
    "#max() min()\n",
    "\n",
    "print(max(marks))\n",
    "\n",
    "print(min(marks))"
   ]
  },
  {
   "cell_type": "code",
   "execution_count": null,
   "id": "06a2ae7f",
   "metadata": {
    "scrolled": true
   },
   "outputs": [],
   "source": [
    "print(marks)\n",
    "print(person)"
   ]
  },
  {
   "cell_type": "code",
   "execution_count": null,
   "id": "1e1bd7db",
   "metadata": {
    "scrolled": true
   },
   "outputs": [],
   "source": [
    "#len() --> list tuple str set dict\n",
    "\n",
    "print(len(marks))\n",
    "\n",
    "print(len(\"Kumar      R\"))\n",
    "\n",
    "\n",
    "print(len(person))\n",
    "\n",
    "print(len(10)) #error."
   ]
  },
  {
   "cell_type": "code",
   "execution_count": null,
   "id": "03815347",
   "metadata": {
    "scrolled": true
   },
   "outputs": [],
   "source": [
    "print(a)"
   ]
  },
  {
   "cell_type": "code",
   "execution_count": null,
   "id": "744220e3",
   "metadata": {
    "scrolled": true
   },
   "outputs": [],
   "source": [
    "print(ord(\"H\"),ord(\"i\"))"
   ]
  },
  {
   "cell_type": "code",
   "execution_count": null,
   "id": "69fd312a",
   "metadata": {
    "scrolled": true
   },
   "outputs": [],
   "source": [
    "print(chr(97) , chr(105))"
   ]
  },
  {
   "cell_type": "code",
   "execution_count": null,
   "id": "eb5d70c6",
   "metadata": {
    "scrolled": true
   },
   "outputs": [],
   "source": []
  },
  {
   "cell_type": "code",
   "execution_count": null,
   "id": "5be7d870",
   "metadata": {
    "scrolled": true
   },
   "outputs": [],
   "source": [
    "a = int(input()) #str --> int\n",
    "b = int(input())\n",
    "print(a+b)"
   ]
  },
  {
   "cell_type": "code",
   "execution_count": null,
   "id": "57921af0",
   "metadata": {
    "scrolled": true
   },
   "outputs": [],
   "source": [
    "# datatype prebuild method\n",
    "int - int()\n",
    "float - float()\n",
    "str - str()\n",
    "bool - bool()\n",
    "complex - complex()\n",
    "\n",
    "list - list()\n",
    "tuple - tuple()\n",
    "set - set()\n",
    "dictionary - dict()"
   ]
  },
  {
   "cell_type": "code",
   "execution_count": null,
   "id": "98f4b19e",
   "metadata": {
    "scrolled": true
   },
   "outputs": [],
   "source": []
  },
  {
   "cell_type": "markdown",
   "id": "395190c6",
   "metadata": {},
   "source": [
    "## Range\n",
    "    - generate a sequence of integer values \n",
    "    - mainly used in for-loops\n",
    "    - Has 3 params \n",
    "            - Start : 0\n",
    "            - Stop : LEN-1\n",
    "            - Step : 1\n",
    "    - range() method gives a object , cast to list() or tuple() for displaying the output.\n",
    "    - stop param is mandatory & always excluded.\n",
    "    "
   ]
  },
  {
   "cell_type": "code",
   "execution_count": null,
   "id": "221f9e53",
   "metadata": {
    "scrolled": true
   },
   "outputs": [],
   "source": [
    "# range(start,stop,step)"
   ]
  },
  {
   "cell_type": "code",
   "execution_count": null,
   "id": "51dad0ba",
   "metadata": {
    "scrolled": true
   },
   "outputs": [],
   "source": [
    "a = range(1,10,1)\n",
    "print(a , type(a))  "
   ]
  },
  {
   "cell_type": "code",
   "execution_count": null,
   "id": "8fcc44ac",
   "metadata": {
    "scrolled": true
   },
   "outputs": [],
   "source": [
    "print(list(a))"
   ]
  },
  {
   "cell_type": "code",
   "execution_count": null,
   "id": "1b6cf792",
   "metadata": {},
   "outputs": [],
   "source": [
    "print(list(range(0,20,2)))"
   ]
  },
  {
   "cell_type": "code",
   "execution_count": null,
   "id": "51060945",
   "metadata": {},
   "outputs": [],
   "source": [
    "print(list(range(1,20,2)))"
   ]
  },
  {
   "cell_type": "code",
   "execution_count": null,
   "id": "0a69988c",
   "metadata": {
    "scrolled": true
   },
   "outputs": [],
   "source": [
    "a = tuple(range(0,5,1))\n",
    "\n",
    "print(a)"
   ]
  },
  {
   "cell_type": "code",
   "execution_count": null,
   "id": "c69b2f67",
   "metadata": {
    "scrolled": true
   },
   "outputs": [],
   "source": [
    "a = list(range(1,10,2))\n",
    "\n",
    "print(a)"
   ]
  },
  {
   "cell_type": "code",
   "execution_count": null,
   "id": "9274bcc2",
   "metadata": {
    "scrolled": true
   },
   "outputs": [],
   "source": [
    "a = list(range(-1,-5,-1))\n",
    "\n",
    "print(a)"
   ]
  },
  {
   "cell_type": "code",
   "execution_count": null,
   "id": "38115b01",
   "metadata": {
    "scrolled": true
   },
   "outputs": [],
   "source": [
    "\n",
    "a = list(range(5)) #range(0,5,1)\n",
    "\n",
    "\n",
    "print(a)"
   ]
  },
  {
   "cell_type": "code",
   "execution_count": null,
   "id": "0efb48c0",
   "metadata": {
    "scrolled": true
   },
   "outputs": [],
   "source": []
  },
  {
   "cell_type": "code",
   "execution_count": null,
   "id": "a7551bfd",
   "metadata": {
    "scrolled": true
   },
   "outputs": [],
   "source": [
    "a = list(range(1,2))\n",
    "\n",
    "print(a)"
   ]
  },
  {
   "cell_type": "code",
   "execution_count": null,
   "id": "63e40eb6",
   "metadata": {
    "scrolled": true
   },
   "outputs": [],
   "source": [
    "a = list(range(0,20,2))\n",
    "\n",
    "print(a)"
   ]
  },
  {
   "cell_type": "code",
   "execution_count": null,
   "id": "46f4f669",
   "metadata": {
    "scrolled": true
   },
   "outputs": [],
   "source": [
    "a = list(range(1,20,2))\n",
    "\n",
    "print(a)"
   ]
  },
  {
   "cell_type": "code",
   "execution_count": null,
   "id": "ec559d62",
   "metadata": {
    "scrolled": true
   },
   "outputs": [],
   "source": [
    "list(range())"
   ]
  },
  {
   "cell_type": "code",
   "execution_count": null,
   "id": "fa8a5b95",
   "metadata": {
    "scrolled": true
   },
   "outputs": [],
   "source": [
    "list(range(1,1))"
   ]
  },
  {
   "cell_type": "code",
   "execution_count": null,
   "id": "eaae8ae3",
   "metadata": {
    "scrolled": true
   },
   "outputs": [],
   "source": [
    "# next value < stop\n"
   ]
  },
  {
   "cell_type": "code",
   "execution_count": null,
   "id": "20904f97",
   "metadata": {
    "scrolled": true
   },
   "outputs": [],
   "source": [
    "list(range(-1,5,1))"
   ]
  },
  {
   "cell_type": "code",
   "execution_count": null,
   "id": "bee30e5d",
   "metadata": {
    "scrolled": true
   },
   "outputs": [],
   "source": [
    "list(range(-1,-5,1))"
   ]
  },
  {
   "cell_type": "code",
   "execution_count": null,
   "id": "e12224af",
   "metadata": {
    "scrolled": true
   },
   "outputs": [],
   "source": [
    "list(range(3,20,0))"
   ]
  },
  {
   "cell_type": "code",
   "execution_count": null,
   "id": "613b0245",
   "metadata": {},
   "outputs": [],
   "source": [
    "list(range('a','z',0))"
   ]
  },
  {
   "cell_type": "code",
   "execution_count": null,
   "id": "e60a65a5",
   "metadata": {},
   "outputs": [],
   "source": [
    "list(range(0,20))"
   ]
  },
  {
   "cell_type": "code",
   "execution_count": null,
   "id": "a788bafa",
   "metadata": {},
   "outputs": [],
   "source": []
  },
  {
   "cell_type": "markdown",
   "id": "3a7d9a05",
   "metadata": {},
   "source": [
    "### Casting\n",
    "    - Converting one data type to another data type. \n",
    "    - We use int(), float(), str(), list(), set() \n",
    "    - When we do arithmetic operations string numbers should be first converted to int or float otherwise it will return an error. \n",
    "    - If we concatenate a number with a string, the number should be first converted to a string. "
   ]
  },
  {
   "cell_type": "code",
   "execution_count": null,
   "id": "e5bc60d3",
   "metadata": {},
   "outputs": [],
   "source": []
  },
  {
   "cell_type": "code",
   "execution_count": null,
   "id": "62a0d61d",
   "metadata": {
    "scrolled": true
   },
   "outputs": [],
   "source": [
    "a = input()#reads a string type\n",
    "b = input()\n",
    "print(a+b) #string concat or merging"
   ]
  },
  {
   "cell_type": "code",
   "execution_count": null,
   "id": "791aa61d",
   "metadata": {},
   "outputs": [],
   "source": [
    "print(\"10\"+\"20\")"
   ]
  },
  {
   "cell_type": "code",
   "execution_count": null,
   "id": "b564f256",
   "metadata": {
    "scrolled": true
   },
   "outputs": [],
   "source": [
    "a = float(input()) #str - float\n",
    "b = int(input()) # str - int\n",
    "print(a+b)\n",
    "\n"
   ]
  },
  {
   "cell_type": "code",
   "execution_count": null,
   "id": "2dcfac40",
   "metadata": {
    "scrolled": true
   },
   "outputs": [],
   "source": [
    "# int to float\n",
    "num_int = 10\n",
    "print('num_int',num_int)         # 10\n",
    "num_float = float(num_int)\n",
    "print('num_float:', num_float)   # 10.0\n",
    "\n",
    "# float to int\n",
    "gravity = 9.81\n",
    "print(int(gravity))             # 9\n",
    "\n",
    "# int to str\n",
    "num_int = 10\n",
    "print(num_int)                  # 10\n",
    "num_str = str(num_int)\n",
    "print(num_str)                  # '10'\n",
    "\n",
    "# str to int or float\n",
    "num_str = '10' \n",
    "print('num_int', int('10'))      # 10\n",
    "print('num_float', float(num_str))  # 10.0\n",
    "\n",
    "# str to list\n",
    "first_name = 'Kumar'\n",
    "print(first_name)               # 'Asabeneh'\n",
    "first_name_to_list = list(first_name)\n",
    "print(first_name_to_list)            # ['A', 's', 'a', 'b', 'e', 'n', 'e', 'h']\n"
   ]
  },
  {
   "cell_type": "code",
   "execution_count": null,
   "id": "2f048b41",
   "metadata": {},
   "outputs": [],
   "source": [
    "firstname = \"kumar rajamoni\".split()\n",
    "\n",
    "print(firstname)"
   ]
  },
  {
   "cell_type": "code",
   "execution_count": null,
   "id": "2408f848",
   "metadata": {},
   "outputs": [],
   "source": [
    "name = \"Kumar Python Tutor\"\n",
    "\n",
    "print(name.split())"
   ]
  },
  {
   "cell_type": "code",
   "execution_count": null,
   "id": "e8088c66",
   "metadata": {},
   "outputs": [],
   "source": [
    "a = \"A B C\".split() # str -- list \n",
    "\n",
    "print(a)"
   ]
  },
  {
   "cell_type": "code",
   "execution_count": null,
   "id": "0600a3af",
   "metadata": {
    "scrolled": true
   },
   "outputs": [],
   "source": [
    "# str - int\n",
    "stra = \"10\"\n",
    "\n",
    "print(int(stra))"
   ]
  },
  {
   "cell_type": "code",
   "execution_count": null,
   "id": "9ff7cc49",
   "metadata": {
    "scrolled": true
   },
   "outputs": [],
   "source": [
    "strb = \"289892.282\"\n",
    "\n",
    "print(float(strb))"
   ]
  },
  {
   "cell_type": "code",
   "execution_count": null,
   "id": "07c84723",
   "metadata": {},
   "outputs": [],
   "source": []
  },
  {
   "cell_type": "code",
   "execution_count": null,
   "id": "be054165",
   "metadata": {
    "scrolled": true
   },
   "outputs": [],
   "source": [
    "#str - int \"0-9\"\n",
    "# str - float \"0.0 -9.9\"\n",
    "\n",
    "print(int(float(\"10.6\")))"
   ]
  },
  {
   "cell_type": "code",
   "execution_count": null,
   "id": "e58953da",
   "metadata": {
    "scrolled": true
   },
   "outputs": [],
   "source": []
  },
  {
   "cell_type": "code",
   "execution_count": null,
   "id": "7dde8546",
   "metadata": {},
   "outputs": [],
   "source": [
    "num = 10\n",
    "print(float(num)) #10.0\n",
    "\n",
    "num1 = \"10.5\"\n",
    "\n",
    "print(float(num1))\n",
    "print(int(float(num1)))\n",
    "\n",
    "letters= [\"a\",\"b\",'c','a','e','b']\n",
    "print(letters)\n",
    "print(set(letters))\n",
    "\n"
   ]
  },
  {
   "cell_type": "code",
   "execution_count": null,
   "id": "ffff706e",
   "metadata": {},
   "outputs": [],
   "source": [
    "# int - float \n",
    "    float()\n",
    "    \n",
    "# float - int \n",
    "    int()\n",
    "    \n",
    "# str - int (str must be in valid decimal 0-9 format)\n",
    "    int()\n",
    "    \n",
    "#str - float (str must be in valid format)\n",
    "    float()\n",
    "    \n"
   ]
  },
  {
   "cell_type": "code",
   "execution_count": null,
   "id": "50095e10",
   "metadata": {},
   "outputs": [],
   "source": [
    "print(float(\"10.6k\"))"
   ]
  },
  {
   "cell_type": "code",
   "execution_count": null,
   "id": "042cdf37",
   "metadata": {},
   "outputs": [],
   "source": [
    "# list - tuple\n",
    "    tuple()\n",
    "    \n",
    "# list - set \n",
    "    set()\n",
    "\n"
   ]
  },
  {
   "cell_type": "code",
   "execution_count": null,
   "id": "04e8e716",
   "metadata": {},
   "outputs": [],
   "source": [
    "names = [\"kumar\",\"prakash\",\"manoj\"]\n",
    "\n",
    "\n",
    "# not possible\n",
    "\n",
    "# list -- dict\n",
    "# tuple -- dict\n",
    "# set - dict\n",
    "print(dict(names))"
   ]
  },
  {
   "cell_type": "markdown",
   "id": "a38b3ef2",
   "metadata": {},
   "source": [
    "#### Try these  small task \n",
    "1. read 10 digit integer num from keyboard\n",
    "    hint: int(input()) \n",
    "2. count number of zeros\n",
    "3. if you don't find zero's print -1\n",
    "\n",
    "ex: 10205678905\n",
    "\n",
    "\n",
    "    op: 3 \n",
    "    \n",
    "    \n",
    "    1234568791\n",
    "    op: -1"
   ]
  },
  {
   "cell_type": "code",
   "execution_count": null,
   "id": "798c8561",
   "metadata": {
    "scrolled": true
   },
   "outputs": [],
   "source": [
    "\n",
    "\n",
    "# reading the input\n",
    "number = int(input('any 10digit  number : '))\n",
    "print(number)\n",
    "\n",
    "# convertion int - str\n",
    "number = str(number)\n",
    "\n",
    "print(number.count('0'))\n",
    "# appling the method\n",
    "if number.count('0') > 0:\n",
    "    print(\"number of zeros : \",number.count('0'))\n",
    "    \n",
    "print(-1)"
   ]
  },
  {
   "cell_type": "code",
   "execution_count": null,
   "id": "01dcd41c",
   "metadata": {
    "scrolled": true
   },
   "outputs": [],
   "source": []
  },
  {
   "cell_type": "code",
   "execution_count": null,
   "id": "d8eff94f",
   "metadata": {},
   "outputs": [],
   "source": []
  }
 ],
 "metadata": {
  "kernelspec": {
   "display_name": "Python 3 (ipykernel)",
   "language": "python",
   "name": "python3"
  },
  "language_info": {
   "codemirror_mode": {
    "name": "ipython",
    "version": 3
   },
   "file_extension": ".py",
   "mimetype": "text/x-python",
   "name": "python",
   "nbconvert_exporter": "python",
   "pygments_lexer": "ipython3",
   "version": "3.10.9"
  }
 },
 "nbformat": 4,
 "nbformat_minor": 5
}
