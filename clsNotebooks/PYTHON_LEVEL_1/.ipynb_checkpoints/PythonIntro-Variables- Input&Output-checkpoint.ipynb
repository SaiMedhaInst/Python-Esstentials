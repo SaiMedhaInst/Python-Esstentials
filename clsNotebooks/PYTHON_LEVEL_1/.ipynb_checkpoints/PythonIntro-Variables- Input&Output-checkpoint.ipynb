{
 "cells": [
  {
   "cell_type": "markdown",
   "id": "0aacef8a",
   "metadata": {},
   "source": [
    "### Python 2 Vs Python 3\n",
    "\n",
    "<img src = \"https://media.geeksforgeeks.org/wp-content/uploads/20190503154837/Python2_python3.jpg\"  width=\"500\" height=\"600\">"
   ]
  },
  {
   "cell_type": "markdown",
   "id": "9313d463",
   "metadata": {},
   "source": [
    "### OUTPUT Function\n",
    "\n",
    "- It is used to print the information or objects data to the console \n",
    "\n",
    ">syntax:\n",
    "\n",
    "\n",
    "> print(value, ..., sep=' ', end='\\n', file=sys.stdout, flush=False)\n",
    "\n",
    "\n",
    "- attributes / args\n",
    "    - value \n",
    "    - sep =  ' ' : used when more than one value is printing\n",
    "    - end = '\\n' : used when we want to print new line\n",
    "    - file = sys.stdout : monitor/screen/console \n",
    "    - flush = Flase"
   ]
  },
  {
   "cell_type": "code",
   "execution_count": null,
   "id": "6e84e15c",
   "metadata": {
    "scrolled": true
   },
   "outputs": [],
   "source": [
    "print('kumar13h87y78b jsbj biuwy873 23') #strings --> group of character(letter(a-zA-Z,symbol,numbers(0-9))"
   ]
  },
  {
   "cell_type": "code",
   "execution_count": null,
   "id": "3e806867",
   "metadata": {
    "scrolled": true
   },
   "outputs": [],
   "source": [
    "print('my name is Fenil')"
   ]
  },
  {
   "cell_type": "code",
   "execution_count": null,
   "id": "e94fca63",
   "metadata": {},
   "outputs": [],
   "source": [
    "print(\"Jan session\")"
   ]
  },
  {
   "cell_type": "code",
   "execution_count": null,
   "id": "6bb3afac",
   "metadata": {},
   "outputs": [],
   "source": [
    "print(\"\"\"Python Session\n",
    "April \n",
    "Discussing \n",
    "Python print() \n",
    "method\"\"\")"
   ]
  },
  {
   "cell_type": "code",
   "execution_count": null,
   "id": "f8110714",
   "metadata": {},
   "outputs": [],
   "source": [
    "print('''Python Session\n",
    "Jan \n",
    "Discussing \n",
    "Python print() \n",
    "method''')"
   ]
  },
  {
   "cell_type": "code",
   "execution_count": null,
   "id": "addc207f",
   "metadata": {
    "scrolled": true
   },
   "outputs": [],
   "source": [
    "print('Hey Geeks') #string\n",
    "\n",
    "print(10) #int 0-9\n",
    "\n",
    "print(10.2) #float\n",
    "\n",
    "print(1+2j) #complex\n",
    "\n",
    "print(True) #boolean True False\n",
    "\n",
    "print([10,20,30,40]) #list\n",
    "\n",
    "print((\"IND\",\"NZ\",\"AUS\")) #tuple\n",
    "\n",
    "print({\"blue\",\"yellow\",\"red\",\"blue\"}) #set\n",
    "\n",
    "print({\"name\":\"Kumar\",\"course\":\"Python\",\"fee\":10.23893}) #dictionary"
   ]
  },
  {
   "cell_type": "code",
   "execution_count": null,
   "id": "5a1f98a7",
   "metadata": {
    "scrolled": true
   },
   "outputs": [],
   "source": [
    "# datatype varName = value;\n",
    "int age = 26;\n",
    "float salary = 1282.3793\n",
    "String name = \"Kumar\"\n",
    "    name = 10;\n",
    "\n",
    "#static type , java , c , c++\n",
    "#they are fixed size "
   ]
  },
  {
   "cell_type": "code",
   "execution_count": null,
   "id": "b2e0a2a1",
   "metadata": {
    "scrolled": true
   },
   "outputs": [],
   "source": []
  },
  {
   "cell_type": "code",
   "execution_count": null,
   "id": "31503117",
   "metadata": {
    "scrolled": true
   },
   "outputs": [],
   "source": [
    "#var_name = value \n",
    "\n",
    "name = \"Kumar\" #str\n",
    "role = \"SDE\"   #str\n",
    "age = 45       #int\n",
    "salary = 9873739.33\n",
    "isDeveloper = False\n",
    "\n",
    "print(name) \n",
    "print(role)\n",
    "print(age)\n",
    "print(salary)\n",
    "print(isDeveloper)\n",
    "\n",
    "print(type(name))\n",
    "print(type(role))\n",
    "print(type(age))\n",
    "print(type(salary))\n",
    "print(type(isDeveloper))"
   ]
  },
  {
   "cell_type": "code",
   "execution_count": null,
   "id": "f94046fa",
   "metadata": {
    "scrolled": true
   },
   "outputs": [],
   "source": [
    "print(name)\n",
    "print(role)\n",
    "print(age)\n",
    "\n",
    "\n",
    "\n"
   ]
  },
  {
   "cell_type": "code",
   "execution_count": null,
   "id": "db3b30ff",
   "metadata": {
    "scrolled": true
   },
   "outputs": [],
   "source": [
    "print(name,age,role,salary,isDeveloper)"
   ]
  },
  {
   "cell_type": "code",
   "execution_count": null,
   "id": "9044b809",
   "metadata": {},
   "outputs": [],
   "source": [
    "print(name,age,role,sep = '->')"
   ]
  },
  {
   "cell_type": "code",
   "execution_count": null,
   "id": "cdbf5850",
   "metadata": {
    "scrolled": true
   },
   "outputs": [],
   "source": [
    "print(name,age,role,sep=\" # \")"
   ]
  },
  {
   "cell_type": "code",
   "execution_count": null,
   "id": "a91bc953",
   "metadata": {
    "scrolled": true
   },
   "outputs": [],
   "source": [
    "print(name,age,role,sep=\"\\n\")"
   ]
  },
  {
   "cell_type": "code",
   "execution_count": null,
   "id": "fc744fa2",
   "metadata": {},
   "outputs": [],
   "source": []
  },
  {
   "cell_type": "code",
   "execution_count": null,
   "id": "3bec3846",
   "metadata": {
    "scrolled": true
   },
   "outputs": [],
   "source": [
    "print(age,name,salary,sep='')"
   ]
  },
  {
   "cell_type": "code",
   "execution_count": null,
   "id": "1ef86ade",
   "metadata": {
    "scrolled": true
   },
   "outputs": [],
   "source": [
    "# end = \"\\n\"\n",
    "\n",
    "for i in range(0,5):\n",
    "    print(i) \n",
    "    "
   ]
  },
  {
   "cell_type": "code",
   "execution_count": null,
   "id": "2028d8cc",
   "metadata": {
    "scrolled": true
   },
   "outputs": [],
   "source": [
    "#end= \"\\n\"\n",
    "for i in range(0,5):\n",
    "    print(i ,end=\"@\")"
   ]
  },
  {
   "cell_type": "code",
   "execution_count": null,
   "id": "bf74293e",
   "metadata": {},
   "outputs": [],
   "source": [
    "print(name,end=\" \")\n",
    "print(salary,end=\" \")\n",
    "print(age,end=\" \")"
   ]
  },
  {
   "cell_type": "code",
   "execution_count": null,
   "id": "40e9e57b",
   "metadata": {
    "scrolled": true
   },
   "outputs": [],
   "source": [
    "#file=sys.stdout -->  screen /monitor\n",
    "\n",
    "s = open(\"april.txt\",mode=\"a\") #append mode\n",
    "\n",
    "print(\"Hey Hi Fenil and Sowmya welcome to python session..\",file=s)\n"
   ]
  },
  {
   "cell_type": "code",
   "execution_count": null,
   "id": "0bc09742",
   "metadata": {
    "scrolled": true
   },
   "outputs": [],
   "source": [
    " "
   ]
  },
  {
   "cell_type": "code",
   "execution_count": null,
   "id": "36f16e6e",
   "metadata": {},
   "outputs": [],
   "source": [
    "A = 10\n",
    "B = 20\n",
    "C = 45\n",
    "print(A)\n",
    "print()\n",
    "print()\n",
    "print(B)\n",
    "print(C)"
   ]
  },
  {
   "cell_type": "code",
   "execution_count": null,
   "id": "7eaff50e",
   "metadata": {},
   "outputs": [],
   "source": [
    "print(A)\n",
    "print(B)\n",
    "print(C)"
   ]
  },
  {
   "cell_type": "code",
   "execution_count": null,
   "id": "50fab813",
   "metadata": {
    "scrolled": true
   },
   "outputs": [],
   "source": [
    "a = 10\n",
    "b = 30\n",
    "\n",
    "print(a,end=\" \")\n",
    "print(end=\"->\")\n",
    "print(b)"
   ]
  },
  {
   "cell_type": "code",
   "execution_count": null,
   "id": "c97203e2",
   "metadata": {},
   "outputs": [],
   "source": []
  },
  {
   "cell_type": "code",
   "execution_count": null,
   "id": "33fc3305",
   "metadata": {},
   "outputs": [],
   "source": [
    "# print() --> act as new line : because of end=\"\\n\""
   ]
  },
  {
   "cell_type": "markdown",
   "id": "cba2155c",
   "metadata": {},
   "source": [
    "### Try these?\n",
    "\n",
    "what is the value for the below code ?\n",
    "  ```python\n",
    "\n",
    "    res = print(\"hello\")\n",
    "    print(res)\n",
    "    \n",
    "    print(print(\"hello\"))\n",
    "```"
   ]
  },
  {
   "cell_type": "code",
   "execution_count": null,
   "id": "9e317623",
   "metadata": {},
   "outputs": [],
   "source": [
    "lst = [10,20,30,40]\n",
    "\n",
    "deletedEle = lst.pop(2)\n",
    "print(deletedEle)\n",
    "\n",
    "\n",
    "print(lst.pop())\n",
    "\n",
    "print(lst)\n"
   ]
  },
  {
   "cell_type": "markdown",
   "id": "74162d82",
   "metadata": {},
   "source": [
    "### Comments\n",
    "\n",
    "> Comments are very important to make the code more readable and to leave remarks in our code. Python does not run comment parts of our code. Any text starting with hash(#) in Python is a comment.\n",
    "\n",
    "\n",
    "####  Single Line Comment\n",
    "\n",
    "        # This is the first comment\n",
    "        # This is the second comment\n",
    "        # Python is eating the world\n",
    "        \n",
    "#### Multiline Comment\n",
    "\n",
    "Triple quote can be used for multiline comment if it is not assigned to a variable\n",
    "\n",
    "    \"\"\"This is multiline comment\n",
    "    multiline comment takes multiple lines.\n",
    "    python is eating the world\n",
    "    \"\"\"\n"
   ]
  },
  {
   "cell_type": "code",
   "execution_count": null,
   "id": "4881bf01",
   "metadata": {
    "scrolled": true
   },
   "outputs": [],
   "source": [
    "#single line comment.\n",
    "var = \"kumar\" # var declaration \n",
    "\n",
    "\n",
    "#multi line comment\n",
    "def fun(a,b):\n",
    "    '''\n",
    "     this is a function which \n",
    "     return addition\n",
    "    '''\n",
    "    print(a+b)\n",
    "    \n"
   ]
  },
  {
   "cell_type": "code",
   "execution_count": null,
   "id": "96e1adf4",
   "metadata": {},
   "outputs": [],
   "source": [
    "fun(10,20)"
   ]
  },
  {
   "cell_type": "code",
   "execution_count": null,
   "id": "f4ccc92d",
   "metadata": {
    "scrolled": true
   },
   "outputs": [],
   "source": [
    "#Take new inputs from keyboard\n",
    "'''\n",
    "we are learning python \n",
    "comments \n",
    "single comments \n",
    "multiline comments\n",
    "'''"
   ]
  },
  {
   "cell_type": "code",
   "execution_count": null,
   "id": "53940e73",
   "metadata": {
    "scrolled": true
   },
   "outputs": [],
   "source": []
  },
  {
   "cell_type": "code",
   "execution_count": null,
   "id": "4a89a601",
   "metadata": {
    "scrolled": true
   },
   "outputs": [],
   "source": [
    "n = 32\n",
    "min_value = -2**(n-1)\n",
    "max_value = 2**(n-1)-1\n",
    "print(min_value, max_value)"
   ]
  },
  {
   "cell_type": "markdown",
   "id": "0369f99a",
   "metadata": {},
   "source": [
    "## Variables "
   ]
  },
  {
   "cell_type": "markdown",
   "id": "a248a0af",
   "metadata": {},
   "source": [
    "- Variables store data in a computer memory.\n",
    ">  Mnemonic variables are recommended to use in many programming languages.\n",
    "- A mnemonic variable is a variable name that can be easily remembered and associated. \n",
    "> A variable refers to a memory address in which data is stored. Number at the beginning, special character, hyphen are not allowed when naming a variable. \n",
    "\n",
    "- *A variable can have a short name (like x, y, z), but a more descriptive name (firstname, lastname, age, country) is highly recommended.*"
   ]
  },
  {
   "cell_type": "markdown",
   "id": "b9b6eb4c",
   "metadata": {},
   "source": [
    "### Rules\n",
    "\n",
    "Python Variable Name Rules\n",
    "\n",
    "    - A variable name must start with a letter or the underscore character\n",
    "    - A variable name cannot start with a number\n",
    "    - A variable name can only contain alpha-numeric characters and underscores (A-z, 0-9, and _ )\n",
    "    - Variable names are case-sensitive (firstname, Firstname, FirstName and FIRSTNAME) are different variables)\n",
    "    - A variable cannot have same name as Reserved word or KEYWORD."
   ]
  },
  {
   "cell_type": "markdown",
   "id": "f7b6d8d5",
   "metadata": {},
   "source": [
    "syntax:\n",
    "    \n",
    "    variableName = value \n",
    "    \n",
    "    value = strings : \"kumar\"\n",
    "    value = integers : 0-9\n",
    "    value = float  : 0.0 - 9.9 \n",
    "    value : boolean : True or False\n",
    "    value : complex : 1+2j  "
   ]
  },
  {
   "cell_type": "markdown",
   "id": "c7423278",
   "metadata": {},
   "source": [
    "### JAVA\n",
    "- Java is Strongly typed language \n",
    "- Java is static language \n",
    "- we have to manually declare datatypes for variables.\n",
    "- for every DATATYPES , there will be FIXED RANGE & SIZE\n",
    "```java\n",
    "    datatypes variableName = value;\n",
    "```\n",
    "\n",
    "### PYTHON\n",
    "- Python is weekly typed language\n",
    "- Python is Dynamic\n",
    "- We don't have to manually declare datatypes for variables\n",
    "- No SIZE restrictions on datatypes\n",
    "```python\n",
    "    variableName = value\n",
    "```"
   ]
  },
  {
   "cell_type": "code",
   "execution_count": null,
   "id": "0029c202",
   "metadata": {
    "scrolled": true
   },
   "outputs": [],
   "source": [
    "# firstname\n",
    "# lastname\n",
    "# age\n",
    "# country\n",
    "# city\n",
    "# first_name\n",
    "# last_name\n",
    "# capital_city\n",
    "# _if # if we want to use reserved word as a variable\n",
    "# year_2021\n",
    "# year2021\n",
    "# current_year_2021\n",
    "# birth_year\n",
    "# num1\n",
    "# num2"
   ]
  },
  {
   "cell_type": "code",
   "execution_count": null,
   "id": "d6c584a5",
   "metadata": {
    "scrolled": true
   },
   "outputs": [],
   "source": [
    "# first-name\n",
    "# first@name\n",
    "# first$name\n",
    "# num-1\n",
    "# 1num\n",
    "#if \n",
    "#True\n",
    "\n"
   ]
  },
  {
   "cell_type": "code",
   "execution_count": null,
   "id": "fe824cf0",
   "metadata": {
    "scrolled": true
   },
   "outputs": [],
   "source": [
    "name = \"Kumar\"\n",
    "\n",
    "print(name)\n",
    "\n",
    "print( type(name) )"
   ]
  },
  {
   "cell_type": "code",
   "execution_count": null,
   "id": "2a8efc0c",
   "metadata": {},
   "outputs": [],
   "source": []
  },
  {
   "cell_type": "code",
   "execution_count": null,
   "id": "88f5e7c0",
   "metadata": {},
   "outputs": [],
   "source": [
    "studentMarks = [10,20,30,37]\n",
    "print(studentMarks)"
   ]
  },
  {
   "cell_type": "code",
   "execution_count": null,
   "id": "8a9f48f1",
   "metadata": {
    "scrolled": true
   },
   "outputs": [],
   "source": [
    "#all KEYWORDS..\n",
    "import keyword\n",
    "\n",
    "print(keyword.kwlist)\n",
    "\n",
    "print(len(keyword.kwlist))"
   ]
  },
  {
   "cell_type": "code",
   "execution_count": null,
   "id": "9ef0101e",
   "metadata": {
    "scrolled": true
   },
   "outputs": [],
   "source": [
    "break = 10 #invalid"
   ]
  },
  {
   "cell_type": "code",
   "execution_count": null,
   "id": "70a9c816",
   "metadata": {},
   "outputs": [],
   "source": [
    "_if =\"kumar\"\n",
    "print(_if)"
   ]
  },
  {
   "cell_type": "code",
   "execution_count": null,
   "id": "6f8d44d4",
   "metadata": {},
   "outputs": [],
   "source": [
    "_ = \"kumar\"\n",
    "__ = 10\n",
    "\n",
    "print(_)\n",
    "print(__)"
   ]
  },
  {
   "cell_type": "code",
   "execution_count": null,
   "id": "20cc89b5",
   "metadata": {},
   "outputs": [],
   "source": []
  },
  {
   "cell_type": "markdown",
   "id": "ed9f19cc",
   "metadata": {},
   "source": [
    "### Styling cases\n",
    "- 4 popular case styles in programming.\n",
    "   -  Camel case\n",
    "   -  Snake case\n",
    "   -  Pascal case\n",
    "    \n",
    "    \n",
    "##### Camel Case\n",
    "\n",
    "> Camel case is one of the most commonly used naming conventions in coding. In the camel case, compound words start with a capital letter.\n",
    "- Notice that in the camel case, the first letter of the very first word starts with a lowercase letter.\n",
    "- Many programming languages **use camel case to declare variables.**\n",
    "- We can also use for naming function or methods in python\n",
    "```python        \n",
    "myAccountBalance = 100\n",
    "distanceToMoon = 3.844e8\n",
    "```\n",
    "\n",
    "\n",
    "##### 2. Pascal Case\n",
    "- In the Pascal case, all compound words start with a capital letter.\n",
    "- The most common use case for the pascal case is for naming classes.\n",
    "```python\n",
    "class MainViewController: UIViewController { ... }\n",
    "```\n",
    "\n",
    "##### 3. Snake Case (snake_case)\n",
    "- Snake case is a case style where each compound word is separated by an underscore. \n",
    "- This greatly improves the readability of values with long multi-word names.\n",
    "- declaring variables  and constant values\n",
    "\n",
    "```python\n",
    "my_age = 26\n",
    "date_today = \"2022-09-15\"\n",
    "\n",
    "{\n",
    "    first_seen: \"2021-07-02\",\n",
    "    last_modified: \"2022-09-15\"\n",
    "}\n",
    "\n",
    "\n",
    "DISTANCE_TO_MOON = 3.884e8\n",
    "```"
   ]
  },
  {
   "cell_type": "code",
   "execution_count": null,
   "id": "56a8fd54",
   "metadata": {
    "scrolled": true
   },
   "outputs": [],
   "source": [
    "\n",
    "# Variables in Python\n",
    "first_name = 'Kumar'\n",
    "last_name = 'Rajamoni'\n",
    "country = 'India'\n",
    "city = 'Noida'\n",
    "age = 25\n",
    "salary = 60000.09039\n",
    "is_married = False\n",
    "skills = ['HTML', 'CSS', 'JS', 'React', 'Python','JAVA']\n",
    "person_info = {\n",
    "   'firstname':'Kumar',\n",
    "   'lastname':'Rajamoni',\n",
    "   'country':'India',\n",
    "   'city':'Hyd'\n",
    "   }\n",
    "\n",
    "\n"
   ]
  },
  {
   "cell_type": "code",
   "execution_count": null,
   "id": "6715d4bc",
   "metadata": {},
   "outputs": [],
   "source": [
    "name = 'kumar'\n",
    "\n",
    "print('Iam ', name)\n",
    "print('My name is' , name)\n"
   ]
  },
  {
   "cell_type": "code",
   "execution_count": null,
   "id": "8a8a4ce8",
   "metadata": {
    "scrolled": true
   },
   "outputs": [],
   "source": [
    "# Printing the values stored in the variables\n",
    "\n",
    "print('First name:', first_name)\n",
    "print('First name length:', len(first_name))\n",
    "print('Last name: ', last_name)\n",
    "print('Last name length: ', len(last_name))\n",
    "print('Country: ', country)\n",
    "print('City: ', city)\n",
    "print('Age: ', age)\n",
    "print('Married: ', is_married)\n",
    "print('Skills: ', skills)\n",
    "print('Person information: ', person_info)"
   ]
  },
  {
   "cell_type": "code",
   "execution_count": null,
   "id": "f63fdba3",
   "metadata": {},
   "outputs": [],
   "source": [
    "num = {}\n",
    "print(num)\n",
    "print(type(num))"
   ]
  },
  {
   "cell_type": "code",
   "execution_count": null,
   "id": "0e432d59",
   "metadata": {
    "scrolled": true
   },
   "outputs": [],
   "source": [
    "a = 10\n",
    "b = 10.2\n",
    "c = \"python\"\n",
    "d = 1+7j \n",
    "\n",
    "print(a , type(a))\n",
    "print(b, type(b))\n",
    "print(c , type(c))\n",
    "print(d, type(d))"
   ]
  },
  {
   "cell_type": "code",
   "execution_count": null,
   "id": "cb69dabb",
   "metadata": {
    "scrolled": true
   },
   "outputs": [],
   "source": [
    "print(first_name, type(first_name) , id(first_name))"
   ]
  },
  {
   "cell_type": "code",
   "execution_count": null,
   "id": "eef8f9cf",
   "metadata": {
    "scrolled": true
   },
   "outputs": [],
   "source": [
    "print(type(first_name))\n",
    "\n",
    "print(type(age))\n",
    "\n",
    "print(type(skills))"
   ]
  },
  {
   "cell_type": "code",
   "execution_count": null,
   "id": "fa5798c7",
   "metadata": {
    "scrolled": true
   },
   "outputs": [],
   "source": [
    "age = 35\n",
    "print(age , type(age))"
   ]
  },
  {
   "cell_type": "code",
   "execution_count": null,
   "id": "3a852772",
   "metadata": {
    "scrolled": true
   },
   "outputs": [],
   "source": [
    "age = 67.6\n",
    "print(age , type(age))"
   ]
  },
  {
   "cell_type": "code",
   "execution_count": null,
   "id": "14289502",
   "metadata": {
    "scrolled": true
   },
   "outputs": [],
   "source": [
    "age = (10,20)\n",
    "print(age , type(age))"
   ]
  },
  {
   "cell_type": "markdown",
   "id": "bdf3065a",
   "metadata": {},
   "source": [
    "### INPUT FUNCTION\n",
    " - input() used to read data from user or any input device.\n",
    " - by default it will read all types of data in STRING format as input.\n",
    " \n",
    "\n",
    "Syntax:\n",
    "    \n",
    "   >variable_name = input(\"Prompt\")\n",
    "    "
   ]
  },
  {
   "cell_type": "code",
   "execution_count": null,
   "id": "1dac7abb",
   "metadata": {
    "scrolled": true
   },
   "outputs": [],
   "source": [
    "age = 10 #static declaration\n",
    "print(age)"
   ]
  },
  {
   "cell_type": "code",
   "execution_count": null,
   "id": "685623d9",
   "metadata": {
    "scrolled": true
   },
   "outputs": [],
   "source": [
    "# dynamic declaration.\n",
    "age = input('Enter a age: ') #read data(int,float,bool,complex) in str format only\n",
    "print(age , type(age))"
   ]
  },
  {
   "cell_type": "code",
   "execution_count": null,
   "id": "150d4e81",
   "metadata": {
    "scrolled": true
   },
   "outputs": [],
   "source": []
  },
  {
   "cell_type": "code",
   "execution_count": null,
   "id": "b303f3c4",
   "metadata": {},
   "outputs": [],
   "source": [
    "salary = input('Enter a salary: ')\n",
    "print(salary , type(salary))"
   ]
  },
  {
   "cell_type": "code",
   "execution_count": null,
   "id": "a5c54709",
   "metadata": {
    "scrolled": true
   },
   "outputs": [],
   "source": [
    "print(type(45.5))\n",
    "\n",
    "print(type(\"45.5\"))\n",
    "\n",
    "\n"
   ]
  },
  {
   "cell_type": "code",
   "execution_count": null,
   "id": "7d58b1c1",
   "metadata": {
    "scrolled": true
   },
   "outputs": [],
   "source": [
    "num1 = input(\"Enter num1: \")\n",
    "num2 = input(\"Enter num2: \")\n",
    "\n",
    "print(num1 + num2)"
   ]
  },
  {
   "cell_type": "code",
   "execution_count": null,
   "id": "39cce4fa",
   "metadata": {
    "scrolled": true
   },
   "outputs": [],
   "source": [
    "print('6' + '7')\n",
    "print(\"10\"+\"20\")\n",
    "print(\"Hi\"+\"Java\")"
   ]
  },
  {
   "cell_type": "code",
   "execution_count": null,
   "id": "39504f1f",
   "metadata": {},
   "outputs": [],
   "source": []
  },
  {
   "cell_type": "code",
   "execution_count": null,
   "id": "f17c1366",
   "metadata": {},
   "outputs": [],
   "source": [
    "num1 = input(\"Enter num1: \")\n",
    "num2 = input(\"Enter num2: \")\n",
    "\n",
    "# explicit conversation\n",
    "num1 = int(num1)\n",
    "num2 = int(num2)\n",
    "\n",
    "print(num1 + num2)"
   ]
  },
  {
   "cell_type": "code",
   "execution_count": null,
   "id": "a4df7228",
   "metadata": {},
   "outputs": [],
   "source": []
  },
  {
   "cell_type": "code",
   "execution_count": null,
   "id": "a6c1c8fc",
   "metadata": {},
   "outputs": [],
   "source": []
  },
  {
   "cell_type": "code",
   "execution_count": null,
   "id": "89764a95",
   "metadata": {
    "scrolled": true
   },
   "outputs": [],
   "source": [
    "age = input('enter a age: ')\n",
    "\n",
    "print(age , type(age))\n",
    "\n",
    "age = int(age) #string - int\n",
    "\n",
    "print(age , type(age))"
   ]
  },
  {
   "cell_type": "code",
   "execution_count": null,
   "id": "9793e412",
   "metadata": {
    "scrolled": true
   },
   "outputs": [],
   "source": [
    "age = int(input(\"Enter the age: \"))\n",
    "print(age,type(age))"
   ]
  },
  {
   "cell_type": "code",
   "execution_count": null,
   "id": "63fea232",
   "metadata": {
    "scrolled": true
   },
   "outputs": [],
   "source": [
    "num1 = int(input(\"Enter num1: \")) #string --> int using int()\n",
    "num2 = int(input(\"Enter num2: \"))\n",
    "\n",
    "print(num1 + num2)"
   ]
  },
  {
   "cell_type": "code",
   "execution_count": null,
   "id": "768fb8d3",
   "metadata": {
    "scrolled": true
   },
   "outputs": [],
   "source": [
    "a = int(input(\"enter a value: \"))\n",
    "print(a)"
   ]
  },
  {
   "cell_type": "code",
   "execution_count": null,
   "id": "bc6f0318",
   "metadata": {
    "scrolled": true
   },
   "outputs": [],
   "source": [
    "print(int(\"11879797\"))"
   ]
  },
  {
   "cell_type": "code",
   "execution_count": null,
   "id": "c61570a0",
   "metadata": {},
   "outputs": [],
   "source": [
    "print(int(\"67g\"))"
   ]
  },
  {
   "cell_type": "code",
   "execution_count": null,
   "id": "867d813a",
   "metadata": {
    "scrolled": true
   },
   "outputs": [],
   "source": [
    "salary = float(input(\"Enter the salary\"))\n",
    "print(salary , type(salary))"
   ]
  },
  {
   "cell_type": "code",
   "execution_count": null,
   "id": "ec2e47df",
   "metadata": {},
   "outputs": [],
   "source": [
    "print(float('27.7378'))"
   ]
  },
  {
   "cell_type": "code",
   "execution_count": null,
   "id": "c5db74b2",
   "metadata": {},
   "outputs": [],
   "source": [
    "print(float('27.7sj'))"
   ]
  },
  {
   "cell_type": "code",
   "execution_count": null,
   "id": "d6158e52",
   "metadata": {
    "scrolled": true
   },
   "outputs": [],
   "source": [
    "first_name = input('What is your name: ')\n",
    "age = input('How old are you? ')\n",
    "\n",
    "print(first_name)\n",
    "print(age)"
   ]
  },
  {
   "cell_type": "code",
   "execution_count": null,
   "id": "e57edc6b",
   "metadata": {
    "scrolled": true
   },
   "outputs": [],
   "source": []
  },
  {
   "cell_type": "code",
   "execution_count": null,
   "id": "9d5a9fde",
   "metadata": {
    "scrolled": true
   },
   "outputs": [],
   "source": [
    "## Declare 5 realtime variables and take input from keyboard\n",
    "# Just print(value , type , memoryID.)"
   ]
  },
  {
   "cell_type": "markdown",
   "id": "4144cc35",
   "metadata": {},
   "source": [
    "### Assignment Answers"
   ]
  },
  {
   "cell_type": "code",
   "execution_count": null,
   "id": "b5ec7fe1",
   "metadata": {
    "scrolled": true
   },
   "outputs": [],
   "source": [
    "name = input(\"enter the name\")\n",
    "address = input(\"enter address: \")\n",
    "university_courseduration = int(input(\"enter course duration: \"))\n",
    "course_fee = float(input(\"enter the course_fee\"))\n",
    "is_student = bool(input(\"Are you a student?True/False\"))\n",
    "\n",
    "print (name , type (name) ,id(name))\n",
    "print(address , type(address) ,id(address))\n",
    "print(university_courseduration , type(university_courseduration) ,id(university_courseduration))\n",
    "print (course_fee, type(course_fee), id(course_fee))\n",
    "print(is_student , type(is_student) , id(is_student))"
   ]
  },
  {
   "cell_type": "code",
   "execution_count": null,
   "id": "8660a3fd",
   "metadata": {
    "scrolled": true
   },
   "outputs": [],
   "source": [
    "fifa_winner = input(\"Enter the winner name\")\n",
    "print(fifa_winner , type(fifa_winner) , id(fifa_winner))\n",
    "messi_score = int(input(\"enter messi score: \"))\n",
    "\n",
    "print(messi_score , type(messi_score) , id(messi_score) )\n",
    "\n"
   ]
  },
  {
   "cell_type": "code",
   "execution_count": null,
   "id": "3f07288f",
   "metadata": {},
   "outputs": [],
   "source": []
  }
 ],
 "metadata": {
  "kernelspec": {
   "display_name": "Python 3 (ipykernel)",
   "language": "python",
   "name": "python3"
  },
  "language_info": {
   "codemirror_mode": {
    "name": "ipython",
    "version": 3
   },
   "file_extension": ".py",
   "mimetype": "text/x-python",
   "name": "python",
   "nbconvert_exporter": "python",
   "pygments_lexer": "ipython3",
   "version": "3.10.9"
  }
 },
 "nbformat": 4,
 "nbformat_minor": 5
}
