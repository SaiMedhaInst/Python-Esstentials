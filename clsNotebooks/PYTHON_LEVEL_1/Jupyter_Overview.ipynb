{
 "cells": [
  {
   "cell_type": "code",
   "execution_count": 6,
   "id": "c5c2a444",
   "metadata": {},
   "outputs": [
    {
     "name": "stdout",
     "output_type": "stream",
     "text": [
      "hello world \n"
     ]
    }
   ],
   "source": [
    "print(\"hello world \") #shift+enter"
   ]
  },
  {
   "cell_type": "code",
   "execution_count": 7,
   "id": "7e35e702",
   "metadata": {},
   "outputs": [
    {
     "name": "stdout",
     "output_type": "stream",
     "text": [
      "hey hi , kumar \n"
     ]
    }
   ],
   "source": [
    "name = \"kumar \"\n",
    "\n",
    "print(\"hey hi ,\",name)"
   ]
  },
  {
   "cell_type": "markdown",
   "id": "81274baf",
   "metadata": {},
   "source": [
    "- MODES\n",
    "\t- Command Mode --> Blue color\n",
    "\t\t- we do all commands \n",
    "\t\t- presse esc : to enable \n",
    "\t\t- commands\n",
    "                b - insertion below\n",
    "                a - insertiion above\n",
    "                d - deletion\n",
    "                c - copy\n",
    "                v - paste \n",
    "                shift+enter : run the cell\n",
    "                z - undo\n",
    "\n",
    "\t- Edit Mode  --> Green color\n",
    "\t\t- we write python code\n",
    "\t- MarkDown --> Blue color, but not cell numbering\n",
    "\t\t- we write notes.\n",
    "\t\t- enable to command mode then press m "
   ]
  },
  {
   "cell_type": "markdown",
   "id": "fa966fcd",
   "metadata": {},
   "source": [
    "### QUESTIONS.\n",
    "    - how python is identify the characters and converting into binary? \n",
    "        name =\"vamshi\" --> binary \n",
    "     - how modulus operator is working?\n",
    " - **variables**\n",
    "\n",
    "*italicized text*\n",
    "\n",
    "> Today Expert is once a beginner\n",
    "\n",
    "1. First item\n",
    "2. Second item\n",
    "3. Third item\n",
    "\n",
    "\n",
    "- First item\n",
    "- Second item\n",
    "- Third item\n",
    "\n",
    "\n",
    "\n",
    "| Syntax | Description |\n",
    "| ----------- | ----------- |\n",
    "| Header | Title |\n",
    "| Paragraph | Text | \n",
    "\n",
    "\n",
    "\n",
    "![alt text](https://images.unsplash.com/photo-1680001660273-2a78887352a2?ixlib=rb-4.0.3&ixid=MnwxMjA3fDB8MHxwaG90by1wYWdlfHx8fGVufDB8fHx8&auto=format&fit=crop&w=1248&q=80)"
   ]
  },
  {
   "cell_type": "markdown",
   "id": "334e64b8",
   "metadata": {},
   "source": [
    "Find all cheatsheet\n",
    "https://www.markdownguide.org/cheat-sheet/"
   ]
  },
  {
   "cell_type": "code",
   "execution_count": 9,
   "id": "59ba5203",
   "metadata": {},
   "outputs": [],
   "source": [
    "# - Git and GitHub\n",
    "# - Compiler Vs Interpreter"
   ]
  },
  {
   "cell_type": "code",
   "execution_count": null,
   "id": "6d8c9975",
   "metadata": {},
   "outputs": [],
   "source": []
  },
  {
   "cell_type": "markdown",
   "id": "2457f1e4",
   "metadata": {},
   "source": [
    "### Py2 vs Py3\n",
    "\n",
    "\n",
    "| Py2 | Py3 |\n",
    "| ----------- | ----------- |\n",
    "| - Stores String in ASCII | - Stores Strings in UNICODE |\n",
    "| - Release in 2000 | - release in 2010 | \n",
    "| - print is statement in py2 | - print() is a function | \n",
    "| - In Py2 / will interger result | - In Py3 / will give floating result | \n",
    "| - In Py2 less package support | - In Py3 more support for packages| \n",
    "| - Exceptions closed in \"\" | - Exceptions are closed in () | \n",
    "\n"
   ]
  },
  {
   "cell_type": "markdown",
   "id": "674b3843",
   "metadata": {},
   "source": [
    "#### ASCII -- American standard code for information interchange\n",
    "- ASCII encodes symbols, digits, letters\n",
    "- LIMIT : 2^8 --> 256 locations\n",
    "\n",
    "\n",
    "\n",
    "\n",
    "##### UNICODE \n",
    "- LIMIT 2^16 --> 65536 locations.\n",
    "-  Unicode encodes special texts from different languages, letters, symbols, etc."
   ]
  },
  {
   "cell_type": "code",
   "execution_count": 27,
   "id": "1151d11f",
   "metadata": {},
   "outputs": [],
   "source": [
    "# ord(character) -- will display numeric/decimal mapped value of a character\n",
    "# chr(number) -> will display a character of mapped number"
   ]
  },
  {
   "cell_type": "code",
   "execution_count": 15,
   "id": "bbd8be41",
   "metadata": {},
   "outputs": [
    {
     "name": "stdout",
     "output_type": "stream",
     "text": [
      "शुभ प्रभात\n"
     ]
    }
   ],
   "source": [
    "greet = \"शुभ प्रभात\" #variable declaration\n",
    "print(greet)"
   ]
  },
  {
   "cell_type": "code",
   "execution_count": 23,
   "id": "81f601f2",
   "metadata": {},
   "outputs": [
    {
     "name": "stdout",
     "output_type": "stream",
     "text": [
      "10\n",
      "श 2358\n",
      "ु 2369\n"
     ]
    }
   ],
   "source": [
    "print(len(greet))\n",
    "\n",
    "first_letter = greet[0]\n",
    "print(first_letter,ord(first_letter))\n",
    "\n",
    "second_letter = greet[1]\n",
    "print(second_letter,ord(second_letter))"
   ]
  },
  {
   "cell_type": "code",
   "execution_count": 25,
   "id": "d4adf5a0",
   "metadata": {},
   "outputs": [
    {
     "name": "stdout",
     "output_type": "stream",
     "text": [
      "12\n",
      "75\n",
      "97\n",
      "109\n",
      "97\n",
      "114\n"
     ]
    }
   ],
   "source": [
    "name = \"Kumar      R\"\n",
    "print(len(name))\n",
    "print(ord(\"K\"))\n",
    "print(ord(\"a\"))\n",
    "print(ord(\"m\"))\n",
    "print(ord(\"a\"))\n",
    "print(ord(\"r\"))"
   ]
  },
  {
   "cell_type": "code",
   "execution_count": 29,
   "id": "a08c366e",
   "metadata": {},
   "outputs": [
    {
     "name": "stdout",
     "output_type": "stream",
     "text": [
      "?\n"
     ]
    }
   ],
   "source": [
    "print(chr(63))"
   ]
  },
  {
   "cell_type": "code",
   "execution_count": null,
   "id": "81cdea37",
   "metadata": {},
   "outputs": [],
   "source": [
    "print \"hello\" #py2 \n",
    "\n",
    "print(\"hello\") #py3\n"
   ]
  },
  {
   "cell_type": "code",
   "execution_count": 1,
   "id": "2f794272",
   "metadata": {},
   "outputs": [
    {
     "name": "stdout",
     "output_type": "stream",
     "text": [
      "3.3333333333333335\n"
     ]
    }
   ],
   "source": [
    "print(10/3) #py2 -- 3\n",
    "print(10/3) #py3 -- 3.33"
   ]
  },
  {
   "cell_type": "code",
   "execution_count": null,
   "id": "23f1ee08",
   "metadata": {},
   "outputs": [],
   "source": [
    "except \"IndexError\" --> py2\n",
    "except (IndexError)  --> py3"
   ]
  },
  {
   "cell_type": "code",
   "execution_count": null,
   "id": "794b0a05",
   "metadata": {},
   "outputs": [],
   "source": []
  },
  {
   "cell_type": "markdown",
   "id": "a4673338",
   "metadata": {},
   "source": [
    "# What is Git ?\n",
    "- Git is distributed version control system\n",
    "- introduced in 2005\n",
    "- developed by Linus Trovald"
   ]
  },
  {
   "cell_type": "code",
   "execution_count": null,
   "id": "aa9e084d",
   "metadata": {},
   "outputs": [],
   "source": []
  },
  {
   "cell_type": "code",
   "execution_count": null,
   "id": "945395f4",
   "metadata": {},
   "outputs": [],
   "source": []
  }
 ],
 "metadata": {
  "kernelspec": {
   "display_name": "Python 3 (ipykernel)",
   "language": "python",
   "name": "python3"
  },
  "language_info": {
   "codemirror_mode": {
    "name": "ipython",
    "version": 3
   },
   "file_extension": ".py",
   "mimetype": "text/x-python",
   "name": "python",
   "nbconvert_exporter": "python",
   "pygments_lexer": "ipython3",
   "version": "3.10.9"
  }
 },
 "nbformat": 4,
 "nbformat_minor": 5
}
