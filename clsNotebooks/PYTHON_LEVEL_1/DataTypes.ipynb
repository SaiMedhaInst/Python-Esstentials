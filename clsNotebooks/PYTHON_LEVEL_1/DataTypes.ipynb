{
 "cells": [
  {
   "cell_type": "markdown",
   "id": "f5e4116d",
   "metadata": {},
   "source": [
    "## Data Types\n",
    "    - Which defines the data and representation of real world data.\n",
    "    - In python we have various types .\n",
    "    \n",
    "    \n",
    "##### Number\n",
    "- Integer: Integer(negative, zero and positive) numbers Example: ... -3, -2, -1, 0, 1, 2, 3 ...\n",
    "- Float: Decimal number Example ... -3.5, -2.25, -1.0, 0.0, 1.1, 2.2, 3.5 ...\n",
    "- Complex Example 1 + j, 2 + 4j\n",
    "\n",
    "\n",
    "##### String\n",
    " - A collection of one or more characters under a single or double quote. If a string is more than one sentence then we use a triple quote.\n",
    "\n",
    "Example:\n",
    "\n",
    "    'Asabeneh'\n",
    "    'Finland'\n",
    "    'Python'\n",
    "    'I love teaching'\n",
    "    'I hope you are enjoying the first day of 30DaysOfPython Challenge'\n",
    "\n",
    "\n",
    "#### Booleans\n",
    "- A boolean data type is either a True or False value. T and F should be always uppercase.\n",
    "\n",
    "Example:\n",
    "\n",
    "    True  #  Is the light on? If it is on, then the value is True\n",
    "    \n",
    "    False # Is the light on? If it is off, then the value is False\n",
    "    \n",
    "#### List\n",
    "Python list is an ordered collection which allows to store different data type items. A list is similar to an array in JavaScript.\n",
    "\n",
    "    Example:\n",
    "\n",
    "    [0, 1, 2, 3, 4, 5]  # all are the same data types - a list of numbers\n",
    "    ['Banana', 'Orange', 'Mango', 'Avocado'] # all the same data types - a list of strings (fruits)\n",
    "    ['Finland','Estonia', 'Sweden','Norway'] # all the same data types - a list of strings (countries)\n",
    "    ['Banana', 10, False, 9.81] # different data types in the list - string, integer, boolean and float\n",
    "    \n",
    "\n",
    "#### Tuple\n",
    " > A tuple is an ordered collection of different data types like list but tuples can not be modified once they are created. They are immutable.\n",
    " \n",
    " \n",
    "     Example:\n",
    "     ('Earth', 'Jupiter', 'Neptune', 'Mars', 'Venus', 'Saturn', 'Uranus', 'Mercury') # planets\n",
    "     \n",
    "     \n",
    "### Set\n",
    "A set is a collection of data types similar to list and tuple. Unlike list and tuple, set is not an ordered collection of items. Like in Mathematics, set in Python stores only unique items.\n",
    "\n",
    "        Example:\n",
    "\n",
    "        {2, 4, 3, 5}\n",
    "        {3.14, 9.81, 2.7} # order is not important in set\n",
    "        \n",
    "        \n",
    "#### Dictionary\n",
    "A Python dictionary object is an unordered collection of data in a key value pair format.\n",
    "\n",
    "    Example:\n",
    "\n",
    "    {\n",
    "    'cricketTeamName':'India',\n",
    "    'Captain':'RS',\n",
    "    'country':'India', \n",
    "    'year':2022, \n",
    "    'is_top20':True,\n",
    "    'Players':['Virat', 'Rohit', 'Bhu', 'Python']\n",
    "    }"
   ]
  },
  {
   "cell_type": "code",
   "execution_count": null,
   "id": "b4267876",
   "metadata": {},
   "outputs": [],
   "source": [
    "grades = ['A','A+','C','C+','B','B']  #ordered collection , mutable (we change data at locations)\n",
    "print(grades)\n",
    "print(grades[1])\n",
    "\n",
    "grades[3] = \"D\"\n",
    "\n",
    "print(grades)\n",
    "\n",
    "print(grades[10])"
   ]
  },
  {
   "cell_type": "code",
   "execution_count": null,
   "id": "a72cfcd5",
   "metadata": {},
   "outputs": [],
   "source": [
    "countries = ['Finland','Estonia', 'Sweden','Norway',\"Finland\"]\n",
    "print(countries[0])\n",
    "print(countries[1])\n",
    "countries[2] = \"INDIA\" #mutability\n",
    "print(countries)"
   ]
  },
  {
   "cell_type": "code",
   "execution_count": null,
   "id": "a4f516a5",
   "metadata": {},
   "outputs": [],
   "source": []
  },
  {
   "cell_type": "code",
   "execution_count": null,
   "id": "47120d78",
   "metadata": {},
   "outputs": [],
   "source": [
    "planets = ('Earth', 'Jupiter', 'Neptune', 'Mars', 'Venus', 'Saturn', 'Uranus', 'Mercury',\"Venus\") #read only\n",
    "print(planets)\n",
    "print(planets[0])\n",
    "print(planets[5])\n",
    "\n",
    "planets[5] = \"Pluto\" #immutable \n",
    "print(planets)"
   ]
  },
  {
   "cell_type": "code",
   "execution_count": null,
   "id": "0c125a35",
   "metadata": {},
   "outputs": [],
   "source": [
    "studentNames = (\"Srimanoj\",\"Prakash\",\"Muneendra\",\"Vamshi\",\"vishnu\") # length = 5 , indexes : 0-4\n",
    "print(studentNames)\n",
    "print(studentNames[2])\n",
    "print(studentNames[-5])"
   ]
  },
  {
   "cell_type": "code",
   "execution_count": null,
   "id": "5512f39b",
   "metadata": {},
   "outputs": [],
   "source": [
    "studentNames[0] = \"Srimanoj\"\n"
   ]
  },
  {
   "cell_type": "code",
   "execution_count": null,
   "id": "ff1de2a3",
   "metadata": {},
   "outputs": [],
   "source": [
    "colors = {\"red\",\"blue\",\"red\",\"yellow\",\"orange\",\"yellow\"} #unordered collection stores unqiue elements.\n",
    "\n",
    "print(colors)\n",
    "\n",
    "print(colors[0]) #why? --> unordered so we can't apply indexing"
   ]
  },
  {
   "cell_type": "code",
   "execution_count": null,
   "id": "72c47aed",
   "metadata": {},
   "outputs": [],
   "source": []
  },
  {
   "cell_type": "code",
   "execution_count": null,
   "id": "c95c3c93",
   "metadata": {},
   "outputs": [],
   "source": [
    "# {k1:v1 , k2:v2 , k3: v3 .... kn:vn}\n",
    "\n",
    "student = {\n",
    "        \"studentname\" : \"kumar\",\n",
    "        \"college\" : \"FG University\",\n",
    "        \"fee\" : 109903.389,\n",
    "        \"branch\" : \"DS\"\n",
    "}\n",
    "\n",
    "print(student , type(student))"
   ]
  },
  {
   "cell_type": "code",
   "execution_count": null,
   "id": "31622a93",
   "metadata": {},
   "outputs": [],
   "source": []
  },
  {
   "cell_type": "code",
   "execution_count": null,
   "id": "ba106299",
   "metadata": {},
   "outputs": [],
   "source": [
    "indianTeam = {\n",
    "'cricketTeamName':'India',\n",
    "'Captain':'RS',\n",
    "'country':'India', \n",
    "'year':2022, \n",
    "'is_top20':True,\n",
    "'Players':['Virat', 'Rohit', 'Bhu', 'Python']\n",
    "}\n"
   ]
  },
  {
   "cell_type": "code",
   "execution_count": null,
   "id": "e7883319",
   "metadata": {},
   "outputs": [],
   "source": [
    "print(indianTeam , type(indianTeam))"
   ]
  },
  {
   "cell_type": "code",
   "execution_count": null,
   "id": "90f05ff9",
   "metadata": {},
   "outputs": [],
   "source": [
    "print(indianTeam['year']) # variable['key']"
   ]
  },
  {
   "cell_type": "code",
   "execution_count": null,
   "id": "0a282e66",
   "metadata": {},
   "outputs": [],
   "source": [
    "print(indianTeam['Players'][0])"
   ]
  },
  {
   "cell_type": "markdown",
   "id": "8214c48e",
   "metadata": {},
   "source": [
    "#### INDEXING SUPPORTED Datatypes\n",
    "- list\n",
    "- tuple\n",
    "- str\n",
    "\n",
    "#### Index not supported Datatypes\n",
    "- set\n",
    "- dictionary"
   ]
  },
  {
   "cell_type": "markdown",
   "id": "783a0fab",
   "metadata": {},
   "source": [
    "### Integers \n",
    "    - any postive or negative whole numbers (-0 ,1 ,9 ,11)\n",
    "    \n",
    "  "
   ]
  },
  {
   "cell_type": "code",
   "execution_count": null,
   "id": "cdf06146",
   "metadata": {},
   "outputs": [],
   "source": []
  },
  {
   "cell_type": "code",
   "execution_count": null,
   "id": "6f3ebcb5",
   "metadata": {},
   "outputs": [],
   "source": []
  },
  {
   "cell_type": "code",
   "execution_count": null,
   "id": "90dfdd8d",
   "metadata": {
    "scrolled": true
   },
   "outputs": [],
   "source": [
    "intVar = -1000000000000000000000000000000000000000000000000000000000000000000000000000000000000000000000000000000000000000000\n",
    "\n",
    "print(intVar, type(intVar))"
   ]
  },
  {
   "cell_type": "code",
   "execution_count": null,
   "id": "7b4fe362",
   "metadata": {
    "scrolled": true
   },
   "outputs": [],
   "source": [
    "intVar2 = 1029\n",
    "print(intVar2)\n",
    "print(type(intVar2))"
   ]
  },
  {
   "cell_type": "markdown",
   "id": "a7723b94",
   "metadata": {},
   "source": [
    "    Binary          0b or 0B  - bin()\n",
    "    Octal           0o or 0O - oct()\n",
    "    hexdecimal     0x or 0X  - hex()"
   ]
  },
  {
   "cell_type": "code",
   "execution_count": null,
   "id": "1c1499fd",
   "metadata": {},
   "outputs": [],
   "source": [
    "8BIT REPRESENTATION(0-255)\n",
    "========================\n",
    "\n",
    "locations : 7   6  5  4  3  2 1 0 \n",
    "values:     128 64 32 16 8  4 2 1\n",
    "    "
   ]
  },
  {
   "cell_type": "code",
   "execution_count": null,
   "id": "02a916e8",
   "metadata": {},
   "outputs": [],
   "source": [
    "print(bin(117))"
   ]
  },
  {
   "cell_type": "code",
   "execution_count": null,
   "id": "8b1ef02c",
   "metadata": {
    "scrolled": true
   },
   "outputs": [],
   "source": [
    "a = 0b1010 #10\n",
    "b = 0b101  #5\n",
    "\n",
    "print(a+b)"
   ]
  },
  {
   "cell_type": "code",
   "execution_count": null,
   "id": "a1f3ef63",
   "metadata": {
    "scrolled": true
   },
   "outputs": [],
   "source": [
    "print(bin(10)) #convert any decimal -- binary \n",
    "print(bin(5))"
   ]
  },
  {
   "cell_type": "code",
   "execution_count": null,
   "id": "43408854",
   "metadata": {
    "scrolled": true
   },
   "outputs": [],
   "source": [
    "c = 0o10\n",
    "d = 0b100\n",
    "\n",
    "print(c+d)"
   ]
  },
  {
   "cell_type": "code",
   "execution_count": null,
   "id": "fb74dc83",
   "metadata": {
    "scrolled": true
   },
   "outputs": [],
   "source": [
    "print(oct(8)) #any decimal - octal "
   ]
  },
  {
   "cell_type": "code",
   "execution_count": null,
   "id": "f9e14a1e",
   "metadata": {
    "scrolled": true
   },
   "outputs": [],
   "source": [
    "e = 0xA\n",
    "f = 0xB\n",
    "\n",
    "\n",
    "print(e+f)"
   ]
  },
  {
   "cell_type": "code",
   "execution_count": null,
   "id": "436af06c",
   "metadata": {
    "scrolled": true
   },
   "outputs": [],
   "source": [
    "print(hex(15))"
   ]
  },
  {
   "cell_type": "code",
   "execution_count": null,
   "id": "6f77198c",
   "metadata": {
    "scrolled": true
   },
   "outputs": [],
   "source": []
  },
  {
   "cell_type": "markdown",
   "id": "9e7579e7",
   "metadata": {},
   "source": [
    "### Float \n",
    "    - any decimal points is considered as float datatypes\n",
    "    \n",
    "    "
   ]
  },
  {
   "cell_type": "code",
   "execution_count": null,
   "id": "d44fb02a",
   "metadata": {
    "scrolled": true
   },
   "outputs": [],
   "source": [
    "floatVar = 1.0\n",
    "\n",
    "print(floatVar , type(floatVar))"
   ]
  },
  {
   "cell_type": "code",
   "execution_count": null,
   "id": "c38a9703",
   "metadata": {},
   "outputs": [],
   "source": [
    "* -- multiplication\n",
    "** -- expo / power\n"
   ]
  },
  {
   "cell_type": "code",
   "execution_count": null,
   "id": "04830182",
   "metadata": {},
   "outputs": [],
   "source": [
    "print(10*3)\n",
    "print(10**3)"
   ]
  },
  {
   "cell_type": "code",
   "execution_count": null,
   "id": "ad9577c2",
   "metadata": {
    "scrolled": true
   },
   "outputs": [],
   "source": [
    "# ex: 10.5*10^5\n",
    "\n",
    "a = 10.5*(10**5)\n",
    "\n",
    "print(a)"
   ]
  },
  {
   "cell_type": "code",
   "execution_count": null,
   "id": "7b8161b2",
   "metadata": {
    "scrolled": true
   },
   "outputs": [],
   "source": [
    "b = 10.5e5 # e 10^n\n",
    "\n",
    "print(b)"
   ]
  },
  {
   "cell_type": "code",
   "execution_count": null,
   "id": "d2d2c153",
   "metadata": {
    "scrolled": true
   },
   "outputs": [],
   "source": [
    "print(3e-3)"
   ]
  },
  {
   "cell_type": "markdown",
   "id": "8c33174a",
   "metadata": {},
   "source": [
    "### Strings \n",
    "    - collectional of charcaters (letters , symbols,numbers)\n",
    "    - we have 3 notations to represent the strings \n",
    "        - single quotes   - 'a' 'hello'\n",
    "        - double quotes   - \"Hello World\" \n",
    "        - triple quotes   - mutlipline strings"
   ]
  },
  {
   "cell_type": "code",
   "execution_count": null,
   "id": "12ff3b69",
   "metadata": {
    "scrolled": true
   },
   "outputs": [],
   "source": [
    "singleQ = 'Hello'\n",
    "print(singleQ)"
   ]
  },
  {
   "cell_type": "code",
   "execution_count": null,
   "id": "d5ecdeef",
   "metadata": {
    "scrolled": true
   },
   "outputs": [],
   "source": [
    "a = 'It's a book'\n",
    "\n",
    "print(a)"
   ]
  },
  {
   "cell_type": "code",
   "execution_count": null,
   "id": "236eebc3",
   "metadata": {
    "scrolled": true
   },
   "outputs": [],
   "source": [
    "b = \"It's a book\"\n",
    "\n",
    "print(b)"
   ]
  },
  {
   "cell_type": "code",
   "execution_count": null,
   "id": "ba2c6e88",
   "metadata": {
    "scrolled": true
   },
   "outputs": [],
   "source": []
  },
  {
   "cell_type": "code",
   "execution_count": null,
   "id": "6ce510c9",
   "metadata": {
    "scrolled": true
   },
   "outputs": [],
   "source": [
    "c = \"python is \"oops\" language\"\n",
    "\n",
    "print(c)"
   ]
  },
  {
   "cell_type": "code",
   "execution_count": null,
   "id": "0f04d478",
   "metadata": {
    "scrolled": true
   },
   "outputs": [],
   "source": [
    "c = \"\"python is \"oops\" language\"\"\n",
    "\n",
    "print(c)"
   ]
  },
  {
   "cell_type": "code",
   "execution_count": null,
   "id": "82f382ac",
   "metadata": {
    "scrolled": true
   },
   "outputs": [],
   "source": []
  },
  {
   "cell_type": "code",
   "execution_count": null,
   "id": "2e25b4a0",
   "metadata": {
    "scrolled": true
   },
   "outputs": [],
   "source": [
    "d = \"\"\"python is oops\n",
    "and functional\n",
    "language\"\"\"\n",
    "\n",
    "print(d)"
   ]
  },
  {
   "cell_type": "code",
   "execution_count": null,
   "id": "0188caad",
   "metadata": {
    "scrolled": true
   },
   "outputs": [],
   "source": [
    "d = '''python is oops\n",
    "and functional\n",
    "language'''\n",
    "\n",
    "print(d)"
   ]
  },
  {
   "cell_type": "code",
   "execution_count": null,
   "id": "ff2a2b03",
   "metadata": {
    "scrolled": true
   },
   "outputs": [],
   "source": []
  },
  {
   "cell_type": "markdown",
   "id": "9f0222e1",
   "metadata": {},
   "source": [
    "### complex numbers \n",
    "    - real+imagj\n",
    "    - real number is optional\n",
    "    - imag number is mandatory"
   ]
  },
  {
   "cell_type": "code",
   "execution_count": null,
   "id": "569bd4f9",
   "metadata": {
    "scrolled": true
   },
   "outputs": [],
   "source": [
    "comVar = 6+8j"
   ]
  },
  {
   "cell_type": "code",
   "execution_count": null,
   "id": "fe7e69d5",
   "metadata": {
    "scrolled": true
   },
   "outputs": [],
   "source": [
    "print(comVar , type(comVar))"
   ]
  },
  {
   "cell_type": "code",
   "execution_count": null,
   "id": "72fa34f0",
   "metadata": {},
   "outputs": [],
   "source": [
    "print(dir(()))\n",
    "\n",
    "# {} --> dictionary"
   ]
  },
  {
   "cell_type": "code",
   "execution_count": null,
   "id": "2103ab92",
   "metadata": {
    "scrolled": true
   },
   "outputs": [],
   "source": [
    "print(dir(comVar))"
   ]
  },
  {
   "cell_type": "code",
   "execution_count": null,
   "id": "fcb6229e",
   "metadata": {
    "scrolled": true
   },
   "outputs": [],
   "source": [
    "print(comVar.imag) #attributes"
   ]
  },
  {
   "cell_type": "code",
   "execution_count": null,
   "id": "7a46875e",
   "metadata": {
    "scrolled": true
   },
   "outputs": [],
   "source": [
    "print(comVar.real)"
   ]
  },
  {
   "cell_type": "code",
   "execution_count": null,
   "id": "d29cff08",
   "metadata": {
    "scrolled": true
   },
   "outputs": [],
   "source": [
    "print(comVar.conjugate()) #inverse of sign"
   ]
  },
  {
   "cell_type": "code",
   "execution_count": null,
   "id": "0cde3499",
   "metadata": {
    "scrolled": true
   },
   "outputs": [],
   "source": [
    "comVar.conjugate().conjugate().conjugate().conjugate()"
   ]
  },
  {
   "cell_type": "code",
   "execution_count": null,
   "id": "788f0dd6",
   "metadata": {
    "scrolled": true
   },
   "outputs": [],
   "source": [
    "a=10\n",
    "b=20\n",
    "a+b\n",
    "a-b"
   ]
  },
  {
   "cell_type": "markdown",
   "id": "0656dfa2",
   "metadata": {},
   "source": [
    "### Boolean\n",
    "    - True or False values consider as boolean "
   ]
  },
  {
   "cell_type": "code",
   "execution_count": null,
   "id": "0941b72a",
   "metadata": {
    "scrolled": true
   },
   "outputs": [],
   "source": [
    "bol_var = True\n",
    "bol_var2 = False\n",
    "\n",
    "print(bol_var + bol_var2)\n",
    "\n",
    "print(bol_var * bol_var2)"
   ]
  },
  {
   "cell_type": "code",
   "execution_count": null,
   "id": "280f4183",
   "metadata": {},
   "outputs": [],
   "source": [
    "a = 10\n",
    "a = a+13.0\n",
    "print(type(a))"
   ]
  },
  {
   "cell_type": "code",
   "execution_count": null,
   "id": "833d3ee6",
   "metadata": {},
   "outputs": [],
   "source": [
    "num = 10101000101\n",
    "\n",
    "print(type(num))\n",
    "#convert to string \n",
    "num = str(num) # interger --> string\n",
    "\n",
    "print(type(num))\n",
    "\n",
    "# print(dir(num))\n",
    "\n",
    "print(num.count(\"1\"))"
   ]
  },
  {
   "cell_type": "code",
   "execution_count": null,
   "id": "cd9408ac",
   "metadata": {},
   "outputs": [],
   "source": [
    "num = 10101000101\n",
    "num = str(num)\n",
    "print(num.count(\"0\"))"
   ]
  },
  {
   "cell_type": "code",
   "execution_count": null,
   "id": "0af1aa7b",
   "metadata": {},
   "outputs": [],
   "source": [
    "marks = [10,20,30,30,303,20]\n",
    "salary = [10.2,20.2,20.2]"
   ]
  },
  {
   "cell_type": "markdown",
   "id": "ef5bd718",
   "metadata": {},
   "source": [
    "### List \n",
    "    - It's a collection & ordered & indexed data type\n",
    "    - It's stores mutliple items in one variable\n",
    "    - Indexing \n",
    "            postive  0 ---> N-1\n",
    "            negative -1 ---> -N\n",
    "    - It's Mutable ---> Changes are allowed\n",
    "    - declared with []\n",
    "    - stores hemogeneuous & hetrogenous data types\n",
    "    \n",
    "    \n",
    "    syntax:\n",
    "    \n",
    "    varName = [data1,data2,....]\n",
    "    "
   ]
  },
  {
   "cell_type": "code",
   "execution_count": null,
   "id": "17141eda",
   "metadata": {
    "scrolled": true
   },
   "outputs": [],
   "source": [
    "lstNumbers = [0, 1, 2, 3, 4, 5]  # all are the same data types - a list of numbers\n",
    "\n",
    "print(lstNumbers , type(lstNumbers))\n",
    "\n",
    "\n",
    "fruits = ['Banana', 'Orange', 'Mango', 'Avocado'] # all the same data types - a list of strings (fruits)\n",
    "\n",
    "\n",
    "countries = ['Finland','Estonia', 'Sweden','Norway'] # all the same data types - a list of strings (countries)\n",
    "\n",
    "\n",
    "mixedList = ['Banana', 10, False, 9.81] # different data types in the list - string, integer, boolean and float\n",
    "\n"
   ]
  },
  {
   "cell_type": "code",
   "execution_count": null,
   "id": "bfcbef50",
   "metadata": {
    "scrolled": true
   },
   "outputs": [],
   "source": [
    "print(len(fruits))"
   ]
  },
  {
   "cell_type": "code",
   "execution_count": null,
   "id": "46256781",
   "metadata": {
    "scrolled": true
   },
   "outputs": [],
   "source": [
    "# accessing VarName[index]  \n",
    "print(fruits)\n",
    "\n",
    "print(fruits[2])"
   ]
  },
  {
   "cell_type": "code",
   "execution_count": null,
   "id": "4df3144f",
   "metadata": {
    "scrolled": true
   },
   "outputs": [],
   "source": [
    "print(fruits[4])\n",
    "\n",
    "#POSTIVE INDEXING ::: 0 ---> LEN-1\n",
    "\n",
    "#NEGATIVE  INDEXING : -1 ---> -LEN"
   ]
  },
  {
   "cell_type": "code",
   "execution_count": null,
   "id": "f6b02bf0",
   "metadata": {},
   "outputs": [],
   "source": [
    "name = \"V i r k a t R C B\".split()\n",
    "print(name)\n",
    "\n",
    "\n",
    "print(name[0])\n",
    "print(name.index(\"R\"))\n",
    "n = len(name)\n",
    "print(n)\n",
    "print(name[n-1])\n",
    "print(name[-1])\n",
    "print(name[-2])\n",
    "print(name[-20])"
   ]
  },
  {
   "cell_type": "code",
   "execution_count": null,
   "id": "f31fa19e",
   "metadata": {
    "scrolled": true
   },
   "outputs": [],
   "source": [
    "print(fruits[3])"
   ]
  },
  {
   "cell_type": "code",
   "execution_count": null,
   "id": "58935ea3",
   "metadata": {
    "scrolled": true
   },
   "outputs": [],
   "source": [
    "n = len(fruits)\n",
    "\n",
    "print(fruits[n-1])  #n-1 is the last location"
   ]
  },
  {
   "cell_type": "code",
   "execution_count": null,
   "id": "cc760a4f",
   "metadata": {
    "scrolled": true
   },
   "outputs": [],
   "source": [
    "print(fruits[-1])"
   ]
  },
  {
   "cell_type": "code",
   "execution_count": null,
   "id": "db030fe4",
   "metadata": {
    "scrolled": true
   },
   "outputs": [],
   "source": [
    "print(fruits[-10])"
   ]
  },
  {
   "cell_type": "code",
   "execution_count": null,
   "id": "ee301639",
   "metadata": {
    "scrolled": true
   },
   "outputs": [],
   "source": [
    "print(fruits[-4])\n",
    "\n"
   ]
  },
  {
   "cell_type": "code",
   "execution_count": null,
   "id": "5aed4057",
   "metadata": {
    "scrolled": true
   },
   "outputs": [],
   "source": [
    "print(fruits)"
   ]
  },
  {
   "cell_type": "code",
   "execution_count": null,
   "id": "2674b890",
   "metadata": {
    "scrolled": true
   },
   "outputs": [],
   "source": [
    "fruits[3] = \"pineapple\" #mutablity \n",
    "print(fruits)"
   ]
  },
  {
   "cell_type": "code",
   "execution_count": null,
   "id": "035c1306",
   "metadata": {
    "scrolled": true
   },
   "outputs": [],
   "source": [
    "fruits[3] = \"cherry\"\n",
    "print(fruits)"
   ]
  },
  {
   "cell_type": "code",
   "execution_count": null,
   "id": "af2601d9",
   "metadata": {
    "scrolled": true
   },
   "outputs": [],
   "source": [
    "print(mixedList)\n",
    "\n",
    "print(mixedList[2])\n",
    "\n",
    "print(mixedList[-1])\n",
    "\n",
    "print(type(mixedList[0]))"
   ]
  },
  {
   "cell_type": "code",
   "execution_count": null,
   "id": "10b02fec",
   "metadata": {},
   "outputs": [],
   "source": [
    "print(type(fruits))"
   ]
  },
  {
   "cell_type": "code",
   "execution_count": null,
   "id": "db458e0a",
   "metadata": {
    "scrolled": true
   },
   "outputs": [],
   "source": [
    "# attributes and methods \n",
    "\n",
    "print(dir(fruits))"
   ]
  },
  {
   "cell_type": "code",
   "execution_count": null,
   "id": "2784afda",
   "metadata": {
    "scrolled": true
   },
   "outputs": [],
   "source": []
  },
  {
   "cell_type": "markdown",
   "id": "c1f384b9",
   "metadata": {},
   "source": [
    "### List Method \n",
    "\n",
    "    - insertion\n",
    "         append(obj)\n",
    "         insert(ind,obj)\n",
    "         extend([obj1,obj2..])\n",
    "    - deletion\n",
    "        pop()\n",
    "        remove()\n",
    "    - popular \n",
    "        reverse()\n",
    "        copy()\n",
    "        clear()\n",
    "        sort()\n",
    "        count()\n",
    "        index()"
   ]
  },
  {
   "cell_type": "code",
   "execution_count": null,
   "id": "a194041c",
   "metadata": {
    "scrolled": true
   },
   "outputs": [],
   "source": [
    "print(dir([]))"
   ]
  },
  {
   "cell_type": "code",
   "execution_count": null,
   "id": "126049e5",
   "metadata": {
    "scrolled": true
   },
   "outputs": [],
   "source": [
    "countries = ['Finland','Estonia', 'Sweden','Norway']\n",
    "\n",
    "#append() \n",
    "\n",
    "countries.append(\"India\")\n",
    "print(countries)\n",
    "\n",
    "countries.append(\"USA\",\"AUS\") #error\n",
    "print(countries)"
   ]
  },
  {
   "cell_type": "code",
   "execution_count": null,
   "id": "45efa5f4",
   "metadata": {},
   "outputs": [],
   "source": [
    "print(countries)"
   ]
  },
  {
   "cell_type": "code",
   "execution_count": null,
   "id": "ccc1947c",
   "metadata": {
    "scrolled": true
   },
   "outputs": [],
   "source": [
    "#insert(indNum,obj)\n",
    "\n",
    "countries.insert(0,\"Indo\")\n",
    "print(countries)"
   ]
  },
  {
   "cell_type": "code",
   "execution_count": null,
   "id": "fd6cc89f",
   "metadata": {
    "scrolled": true
   },
   "outputs": [],
   "source": [
    "countries.insert(-1,\"Pak\")\n",
    "print(countries)"
   ]
  },
  {
   "cell_type": "code",
   "execution_count": null,
   "id": "bf732cee",
   "metadata": {},
   "outputs": [],
   "source": [
    "print(len(countries))\n",
    "print(countries[-7])"
   ]
  },
  {
   "cell_type": "code",
   "execution_count": null,
   "id": "d6d27cca",
   "metadata": {
    "scrolled": true
   },
   "outputs": [],
   "source": [
    "countries.insert(-1000,\"Cuba\")\n",
    "print(countries)"
   ]
  },
  {
   "cell_type": "code",
   "execution_count": null,
   "id": "490d5e77",
   "metadata": {
    "scrolled": true
   },
   "outputs": [],
   "source": [
    "# extend([obj1,obj2..])\n",
    "\n",
    "countries.extend([\"Russai\",\"Seria\"])\n",
    "\n",
    "print(countries)"
   ]
  },
  {
   "cell_type": "code",
   "execution_count": null,
   "id": "e9c7a2b7",
   "metadata": {
    "scrolled": true
   },
   "outputs": [],
   "source": [
    "a = print(\"Hello\")\n",
    "print(a)\n",
    "\n",
    "print(print(\"hi\"))"
   ]
  },
  {
   "cell_type": "code",
   "execution_count": null,
   "id": "7f5d6d1a",
   "metadata": {
    "scrolled": true
   },
   "outputs": [],
   "source": [
    "print(countries)"
   ]
  },
  {
   "cell_type": "code",
   "execution_count": null,
   "id": "bf936493",
   "metadata": {
    "scrolled": true
   },
   "outputs": [],
   "source": [
    "# pop()\n",
    "r = countries.pop() #pop() will remove and return the popped element\n",
    "print(r)"
   ]
  },
  {
   "cell_type": "code",
   "execution_count": null,
   "id": "6d316da5",
   "metadata": {
    "scrolled": true
   },
   "outputs": [],
   "source": [
    "print(countries.pop(30)) # give only valid locations"
   ]
  },
  {
   "cell_type": "code",
   "execution_count": null,
   "id": "4321b735",
   "metadata": {
    "scrolled": true
   },
   "outputs": [],
   "source": [
    "# \n",
    "num = [1,2,3,4]\n",
    "num.pop()\n",
    "num.pop()\n",
    "num.pop()\n",
    "num.pop()\n",
    "print(num)\n",
    "num.pop()"
   ]
  },
  {
   "cell_type": "code",
   "execution_count": null,
   "id": "b69d6309",
   "metadata": {
    "scrolled": true
   },
   "outputs": [],
   "source": [
    "num = [1,222,30,420]\n",
    "num.pop(20)"
   ]
  },
  {
   "cell_type": "code",
   "execution_count": null,
   "id": "94c5d6cb",
   "metadata": {
    "scrolled": true
   },
   "outputs": [],
   "source": [
    "# remove()\n",
    "print(countries)\n",
    "countries.remove(\"AUS\")\n",
    "print(countries)\n"
   ]
  },
  {
   "cell_type": "code",
   "execution_count": null,
   "id": "f0ee0ad0",
   "metadata": {
    "scrolled": true
   },
   "outputs": [],
   "source": [
    "res = countries.remove(\"AUS\")\n",
    "print(res)"
   ]
  },
  {
   "cell_type": "code",
   "execution_count": null,
   "id": "6b5f83d8",
   "metadata": {},
   "outputs": [],
   "source": [
    "print(countries)"
   ]
  },
  {
   "cell_type": "code",
   "execution_count": null,
   "id": "ce74509d",
   "metadata": {},
   "outputs": [],
   "source": [
    "res1 = countries.pop()\n",
    "print(res1)\n",
    "\n"
   ]
  },
  {
   "cell_type": "code",
   "execution_count": null,
   "id": "6acb64dc",
   "metadata": {},
   "outputs": [],
   "source": [
    "print(countries)"
   ]
  },
  {
   "cell_type": "code",
   "execution_count": null,
   "id": "4d0b63e0",
   "metadata": {},
   "outputs": [],
   "source": [
    "names = [\"Prakash\",\"Manoj\",\"Kumar\",\"Lavanya\"]\n",
    "\n",
    "r1 = names.pop() #default : -1 \n",
    "print(r1)\n",
    "print(names)\n",
    "\n",
    "r2 = names.remove(\"Kumar\") #not returning any value\n",
    "print(r2)\n",
    "print(names)\n"
   ]
  },
  {
   "cell_type": "code",
   "execution_count": null,
   "id": "05d257a1",
   "metadata": {},
   "outputs": [],
   "source": [
    "r1 = object.method()  # if returning any value"
   ]
  },
  {
   "cell_type": "code",
   "execution_count": null,
   "id": "15e37486",
   "metadata": {},
   "outputs": [],
   "source": [
    "object.method() # if doesn't any value"
   ]
  },
  {
   "cell_type": "code",
   "execution_count": null,
   "id": "0ed229d2",
   "metadata": {},
   "outputs": [],
   "source": [
    "names = [\"Prakash\",\"Manoj\",\"Kumar\",\"Lavanya\"]"
   ]
  },
  {
   "cell_type": "code",
   "execution_count": null,
   "id": "c191b5b9",
   "metadata": {
    "scrolled": true
   },
   "outputs": [],
   "source": [
    "# reverse()\n",
    "names.reverse()\n",
    "\n",
    "print(names)"
   ]
  },
  {
   "cell_type": "code",
   "execution_count": null,
   "id": "4bff59c8",
   "metadata": {
    "scrolled": true
   },
   "outputs": [],
   "source": [
    "# sort()\n",
    "names.sort()\n",
    "print(names)"
   ]
  },
  {
   "cell_type": "code",
   "execution_count": null,
   "id": "d905a39c",
   "metadata": {
    "scrolled": true
   },
   "outputs": [],
   "source": [
    "lst = \"K u m a r R a J A m o n i\".split() #str - list\n",
    "print(lst)\n",
    "\n",
    "\n",
    "lst.sort()\n",
    "\n",
    "print(lst)\n",
    "\n",
    "##ascii\n",
    "\n",
    "print(ord(\"a\") , ord(\"A\"))"
   ]
  },
  {
   "cell_type": "code",
   "execution_count": null,
   "id": "7d12034d",
   "metadata": {
    "scrolled": true
   },
   "outputs": [],
   "source": [
    "nums = [1,0,293,2983,262,2982]\n",
    "nums.sort() #small - big\n",
    "\n",
    "print(nums)\n",
    "\n",
    "nums.sort(reverse=True) #True - Desc | False -- Asec\n",
    "\n",
    "print(nums)"
   ]
  },
  {
   "cell_type": "code",
   "execution_count": null,
   "id": "e38922e8",
   "metadata": {
    "scrolled": true
   },
   "outputs": [],
   "source": [
    "print(lst)"
   ]
  },
  {
   "cell_type": "code",
   "execution_count": null,
   "id": "b8a0910a",
   "metadata": {
    "scrolled": true
   },
   "outputs": [],
   "source": [
    "# count() - display the occurence of a data element.\n",
    "\n",
    "print(lst)\n",
    "\n",
    "print(lst.count(\"a\"))\n",
    "\n",
    "print(lst.count(\"z\"))"
   ]
  },
  {
   "cell_type": "code",
   "execution_count": null,
   "id": "77648bde",
   "metadata": {
    "scrolled": true
   },
   "outputs": [],
   "source": [
    "# index() - return the index number of a data element.\n",
    "\n",
    "print(lst.index(\"a\")) #return the fist index"
   ]
  },
  {
   "cell_type": "code",
   "execution_count": null,
   "id": "d39cc438",
   "metadata": {
    "scrolled": true
   },
   "outputs": [],
   "source": [
    "print(lst.index(\"o\"))"
   ]
  },
  {
   "cell_type": "code",
   "execution_count": null,
   "id": "dcbfbd4b",
   "metadata": {
    "scrolled": true
   },
   "outputs": [],
   "source": [
    "# clear()\n",
    "nums = [10,203,40]\n",
    "print(nums)\n",
    "nums.clear()\n",
    "print(nums)"
   ]
  },
  {
   "cell_type": "code",
   "execution_count": null,
   "id": "26f80e11",
   "metadata": {
    "scrolled": true
   },
   "outputs": [],
   "source": [
    "nums = [10,203,40]\n",
    "print(nums)\n",
    "del nums #removes from memory \n",
    "print(nums)"
   ]
  },
  {
   "cell_type": "code",
   "execution_count": null,
   "id": "cf015602",
   "metadata": {
    "scrolled": true
   },
   "outputs": [],
   "source": [
    "# copy()\n",
    "\n",
    "copyVar = countries.copy()\n",
    "\n",
    "print(copyVar)\n",
    "\n",
    "print(id(copyVar) , id(countries))"
   ]
  },
  {
   "cell_type": "code",
   "execution_count": null,
   "id": "3482ffeb",
   "metadata": {
    "scrolled": true
   },
   "outputs": [],
   "source": [
    "copyVar[0] = \"SouthAfrica\"\n",
    "\n",
    "print(copyVar)\n",
    "print(countries)"
   ]
  },
  {
   "cell_type": "code",
   "execution_count": null,
   "id": "9588b244",
   "metadata": {
    "scrolled": true
   },
   "outputs": [],
   "source": [
    "names = [\"Meena\",\"Avinash\",\"Srikanth\",\"Prakash\"]\n",
    "\n",
    "students = names #alias copying\n",
    "\n",
    "print(id(names) , id(students))\n",
    "\n",
    "students[0] = \"Kumar\"\n",
    "\n",
    "print(names , students)\n"
   ]
  },
  {
   "cell_type": "code",
   "execution_count": null,
   "id": "4e7772b7",
   "metadata": {
    "scrolled": true
   },
   "outputs": [],
   "source": []
  },
  {
   "cell_type": "code",
   "execution_count": null,
   "id": "de1d3ba0",
   "metadata": {
    "scrolled": true
   },
   "outputs": [],
   "source": []
  },
  {
   "cell_type": "markdown",
   "id": "97e8bf76",
   "metadata": {},
   "source": [
    "### Tuple \n",
    "    - It's also collections and sequence & ordered data types\n",
    "    - stores multiple items in a single variable.\n",
    "    - declared with (ele1,ele2 ,ele3...)\n",
    "    - INDEXING \n",
    "        - +VE : 0 - N-1\n",
    "        - -VE : -1 - -N\n",
    "    - Immutable : changes not allowed at indexing levels "
   ]
  },
  {
   "cell_type": "code",
   "execution_count": null,
   "id": "c3a5a4e3",
   "metadata": {
    "scrolled": true
   },
   "outputs": [],
   "source": [
    "planets = ('Earth',\"Venus\", 'Jupiter', 'Neptune', 'Mars', 'Venus', 'Saturn', 'Uranus', 'Mercury') # planets"
   ]
  },
  {
   "cell_type": "code",
   "execution_count": null,
   "id": "976c4eb4",
   "metadata": {
    "scrolled": true
   },
   "outputs": [],
   "source": [
    "print(planets , type(planets))"
   ]
  },
  {
   "cell_type": "code",
   "execution_count": null,
   "id": "bfe8ea8b",
   "metadata": {
    "scrolled": true
   },
   "outputs": [],
   "source": [
    "print(planets[2])"
   ]
  },
  {
   "cell_type": "code",
   "execution_count": null,
   "id": "cdd6f09d",
   "metadata": {
    "scrolled": true
   },
   "outputs": [],
   "source": [
    "print(planets[-1])"
   ]
  },
  {
   "cell_type": "code",
   "execution_count": null,
   "id": "376af8f7",
   "metadata": {
    "scrolled": true
   },
   "outputs": [],
   "source": [
    "print(planets[-100])"
   ]
  },
  {
   "cell_type": "code",
   "execution_count": null,
   "id": "1bba67fa",
   "metadata": {
    "scrolled": true
   },
   "outputs": [],
   "source": [
    "planets[1] = \"Pluto\" #error"
   ]
  },
  {
   "cell_type": "markdown",
   "id": "8e6e202b",
   "metadata": {},
   "source": [
    "### tuple methods\n",
    "    - count()\n",
    "    - index()"
   ]
  },
  {
   "cell_type": "code",
   "execution_count": null,
   "id": "ca79339a",
   "metadata": {},
   "outputs": [],
   "source": []
  },
  {
   "cell_type": "code",
   "execution_count": null,
   "id": "fcb04c03",
   "metadata": {},
   "outputs": [],
   "source": [
    "print(dir( () ))\n"
   ]
  },
  {
   "cell_type": "code",
   "execution_count": null,
   "id": "9a336f17",
   "metadata": {
    "scrolled": true
   },
   "outputs": [],
   "source": [
    "planets.count(\"Mars\")"
   ]
  },
  {
   "cell_type": "code",
   "execution_count": null,
   "id": "a7ccf627",
   "metadata": {
    "scrolled": true
   },
   "outputs": [],
   "source": [
    "planets.count(\"Aplha\")"
   ]
  },
  {
   "cell_type": "code",
   "execution_count": null,
   "id": "f5764175",
   "metadata": {},
   "outputs": [],
   "source": [
    "planets"
   ]
  },
  {
   "cell_type": "code",
   "execution_count": null,
   "id": "6e979433",
   "metadata": {
    "scrolled": true
   },
   "outputs": [],
   "source": [
    "planets.index(\"Venus\")"
   ]
  },
  {
   "cell_type": "code",
   "execution_count": null,
   "id": "5e8f5776",
   "metadata": {
    "scrolled": true
   },
   "outputs": [],
   "source": [
    "planets.index(\"Pluto\")"
   ]
  },
  {
   "cell_type": "code",
   "execution_count": null,
   "id": "fcd3b67a",
   "metadata": {
    "scrolled": true
   },
   "outputs": [],
   "source": []
  },
  {
   "cell_type": "code",
   "execution_count": null,
   "id": "e4a52947",
   "metadata": {
    "scrolled": true
   },
   "outputs": [],
   "source": []
  },
  {
   "cell_type": "markdown",
   "id": "ad2e0bab",
   "metadata": {},
   "source": [
    "## Set \n",
    "    - It's Un-Ordered & Un-Indexed.\n",
    "    - Doesn't store the duplicates.\n",
    "    - declared with {}\n",
    "    - No Indexing because of No Ordering.\n",
    "    - Mutable\n",
    "    "
   ]
  },
  {
   "cell_type": "code",
   "execution_count": null,
   "id": "ed8cd51c",
   "metadata": {
    "scrolled": true
   },
   "outputs": [],
   "source": [
    "teams = {\"Ind\",\"Aus\",\"Eng\",\"Bang\",\"Pak\",\"Sa\",\"Sa\",\"Aus\"}\n",
    "print(teams)"
   ]
  },
  {
   "cell_type": "code",
   "execution_count": null,
   "id": "e963bbdb",
   "metadata": {
    "scrolled": true
   },
   "outputs": [],
   "source": [
    "print(teams[0]) #error set' object is not subscriptable"
   ]
  },
  {
   "cell_type": "markdown",
   "id": "6f2c29e5",
   "metadata": {},
   "source": [
    "#### set methods\n",
    "        'add', 'clear', 'copy', 'difference', 'difference_update', \n",
    "        'discard', 'intersection', 'intersection_update', 'isdisjoint', \n",
    "        'issubset', 'issuperset', 'pop', 'remove', 'symmetric_difference',\n",
    "        'symmetric_difference_update', 'union', 'update'"
   ]
  },
  {
   "cell_type": "code",
   "execution_count": null,
   "id": "8daf9c0a",
   "metadata": {
    "scrolled": true
   },
   "outputs": [],
   "source": [
    "print(type( [] ))\n",
    "print(type( () ))\n",
    "print(type( {} ))\n",
    "print(type( set() ))"
   ]
  },
  {
   "cell_type": "code",
   "execution_count": null,
   "id": "a98c65db",
   "metadata": {},
   "outputs": [],
   "source": [
    "print(dir( set() ))"
   ]
  },
  {
   "cell_type": "code",
   "execution_count": null,
   "id": "a6b75d39",
   "metadata": {
    "scrolled": true
   },
   "outputs": [],
   "source": [
    "print(teams)"
   ]
  },
  {
   "cell_type": "code",
   "execution_count": null,
   "id": "0be036db",
   "metadata": {
    "scrolled": true
   },
   "outputs": [],
   "source": [
    "teams.add(\"Zimb\") #add data to the set."
   ]
  },
  {
   "cell_type": "code",
   "execution_count": null,
   "id": "41361057",
   "metadata": {
    "scrolled": true
   },
   "outputs": [],
   "source": [
    "print(teams)"
   ]
  },
  {
   "cell_type": "code",
   "execution_count": null,
   "id": "1d2ceba6",
   "metadata": {
    "scrolled": true
   },
   "outputs": [],
   "source": [
    "teams.discard(\"USA\") #no element no  error \n",
    "print(teams)"
   ]
  },
  {
   "cell_type": "code",
   "execution_count": null,
   "id": "32c8e538",
   "metadata": {
    "scrolled": true
   },
   "outputs": [],
   "source": [
    "teams.remove(\"Bang\") #no element will throw error\n",
    "print(teams)"
   ]
  },
  {
   "cell_type": "code",
   "execution_count": null,
   "id": "c7c82b64",
   "metadata": {
    "scrolled": true
   },
   "outputs": [],
   "source": [
    "teams.remove(\"USA\") #raise Error if not a element\n",
    "print(teams)"
   ]
  },
  {
   "cell_type": "code",
   "execution_count": null,
   "id": "5ca28785",
   "metadata": {
    "scrolled": true
   },
   "outputs": [],
   "source": [
    "x = {\"apple\",\"google\",\"amazon\"}\n",
    "y = {\"netflix\",\"google\",\"apple\"}\n",
    "\n",
    "print(x.difference(y))"
   ]
  },
  {
   "cell_type": "code",
   "execution_count": null,
   "id": "8b9d0fea",
   "metadata": {
    "scrolled": true
   },
   "outputs": [],
   "source": [
    "#difference()\n",
    "x = {\"apple\",\"google\",\"amazon\"}\n",
    "y = {\"netflix\",\"google\",\"apple\"}\n",
    "\n",
    "print(y.difference(x))"
   ]
  },
  {
   "cell_type": "code",
   "execution_count": null,
   "id": "1f8a3e26",
   "metadata": {
    "scrolled": true
   },
   "outputs": [],
   "source": [
    "# union()\n",
    "\n",
    "print(x.union(y))\n",
    "\n",
    "print(x | y) #pipe symbol"
   ]
  },
  {
   "cell_type": "code",
   "execution_count": null,
   "id": "2fe1ef16",
   "metadata": {
    "scrolled": true
   },
   "outputs": [],
   "source": [
    "# intersection\n",
    "print(x.intersection(y)) #common elements"
   ]
  },
  {
   "cell_type": "code",
   "execution_count": null,
   "id": "7c58c3f2",
   "metadata": {
    "scrolled": true
   },
   "outputs": [],
   "source": [
    "print(x)"
   ]
  },
  {
   "cell_type": "code",
   "execution_count": null,
   "id": "b8ad7247",
   "metadata": {
    "scrolled": true
   },
   "outputs": [],
   "source": [
    "print(x.pop())"
   ]
  },
  {
   "cell_type": "code",
   "execution_count": null,
   "id": "124fa23b",
   "metadata": {
    "scrolled": true
   },
   "outputs": [],
   "source": [
    "{}.pop()\n",
    "[].pop()\n",
    "{dict}.pop()\n",
    "\n",
    "# raise a KeyError"
   ]
  },
  {
   "cell_type": "code",
   "execution_count": null,
   "id": "b4f26e0e",
   "metadata": {
    "scrolled": true
   },
   "outputs": [],
   "source": [
    "a = {\"iphone12\",\"iphone13\",\"iphone14\"}\n",
    "b = {\"ipad9gen\",\"ipadpro\",\"microsoftSurface\",\"iphone16\"}\n",
    "\n",
    "print(a.isdisjoint(b))\n"
   ]
  },
  {
   "cell_type": "code",
   "execution_count": null,
   "id": "6f678509",
   "metadata": {
    "scrolled": true
   },
   "outputs": [],
   "source": [
    "c = {\"iphone13\",\"iphone15\"}\n",
    "\n",
    "print(c.issubset(a))"
   ]
  },
  {
   "cell_type": "code",
   "execution_count": null,
   "id": "2fa9b6f2",
   "metadata": {
    "scrolled": true
   },
   "outputs": [],
   "source": []
  },
  {
   "cell_type": "code",
   "execution_count": null,
   "id": "dc48c922",
   "metadata": {
    "scrolled": true
   },
   "outputs": [],
   "source": [
    "# remove duplicate elements\n",
    "lst = [10,20,30,20,20,30,20]\n",
    "\n",
    "print(len(lst))"
   ]
  },
  {
   "cell_type": "code",
   "execution_count": null,
   "id": "70fc958a",
   "metadata": {},
   "outputs": [],
   "source": []
  },
  {
   "cell_type": "code",
   "execution_count": null,
   "id": "96110a33",
   "metadata": {
    "scrolled": true
   },
   "outputs": [],
   "source": [
    "NoDupList = set(lst) #list -- set convertion\n",
    "\n",
    "print(NoDupList , len(NoDupList))"
   ]
  },
  {
   "cell_type": "code",
   "execution_count": null,
   "id": "b9cdc0bc",
   "metadata": {
    "scrolled": true
   },
   "outputs": [],
   "source": []
  },
  {
   "cell_type": "code",
   "execution_count": null,
   "id": "3397b7f1",
   "metadata": {
    "scrolled": true
   },
   "outputs": [],
   "source": [
    "seta = {10,20.2,\"kumar\",True,10+2j,None}\n",
    "\n",
    "print(seta)"
   ]
  },
  {
   "cell_type": "code",
   "execution_count": null,
   "id": "ef6bf604",
   "metadata": {
    "scrolled": true
   },
   "outputs": [],
   "source": []
  },
  {
   "cell_type": "code",
   "execution_count": null,
   "id": "793ea82c",
   "metadata": {
    "scrolled": true
   },
   "outputs": [],
   "source": [
    "\n",
    "studentName = []\n",
    "studentName.append(input(\"enter student-name\"))\n",
    "studentName.append(input(\"enter student-name\"))\n",
    "studentName.append(input(\"enter student-name\"))\n",
    "studentName.append(input(\"enter student-name\"))\n",
    "print(studentName)"
   ]
  },
  {
   "cell_type": "code",
   "execution_count": null,
   "id": "f1c1c3c4",
   "metadata": {
    "scrolled": true
   },
   "outputs": [],
   "source": [
    "studentName.insert(0,input(\"enter name\"))"
   ]
  },
  {
   "cell_type": "code",
   "execution_count": null,
   "id": "85f75ef4",
   "metadata": {
    "scrolled": true
   },
   "outputs": [],
   "source": [
    "print(studentName)"
   ]
  },
  {
   "cell_type": "code",
   "execution_count": null,
   "id": "6495424d",
   "metadata": {
    "scrolled": true
   },
   "outputs": [],
   "source": [
    "studentName.extend([input(\"enter student-name\"),input(\"enter student-name\"),input(\"enter student-name\")])\n",
    "print(studentName)"
   ]
  },
  {
   "cell_type": "code",
   "execution_count": null,
   "id": "fd159b19",
   "metadata": {
    "scrolled": true
   },
   "outputs": [],
   "source": [
    "# remove the last student name\n",
    "n = len(studentName)\n",
    "print(n)\n",
    "\n",
    "removeStud = studentName.pop()\n",
    "\n",
    "print(removeStud, studentName)"
   ]
  },
  {
   "cell_type": "code",
   "execution_count": null,
   "id": "31d4b902",
   "metadata": {},
   "outputs": [],
   "source": [
    "# remove specific student name\n",
    "studentName.remove(\"kumar\")"
   ]
  },
  {
   "cell_type": "code",
   "execution_count": null,
   "id": "7f97c5f5",
   "metadata": {},
   "outputs": [],
   "source": [
    "print(studentName)"
   ]
  },
  {
   "cell_type": "code",
   "execution_count": null,
   "id": "a8f90d50",
   "metadata": {
    "scrolled": true
   },
   "outputs": [],
   "source": [
    "# sort all names\n",
    "\n",
    "studentName.sort(reverse=True)\n",
    "\n",
    "print(studentName)"
   ]
  },
  {
   "cell_type": "code",
   "execution_count": null,
   "id": "9160a7a5",
   "metadata": {},
   "outputs": [],
   "source": [
    "print(ord(\"p\"),ord(\"D\"))"
   ]
  },
  {
   "cell_type": "code",
   "execution_count": null,
   "id": "252b02f8",
   "metadata": {},
   "outputs": [],
   "source": [
    "name = \"Kumar\"\n",
    "\n",
    "print(len(name))\n",
    "print(name[0])\n",
    "name[0] = \"k\"\n",
    "\n",
    "print(name)"
   ]
  },
  {
   "cell_type": "markdown",
   "id": "55bbc8ae",
   "metadata": {},
   "source": [
    "### Dictionary \n",
    "        - Based on key:value\n",
    "\t\t- Keys should be immutable and unique\n",
    "\t\t\t:: Immutable \t\n",
    "\t\t\t\t\t- str\n",
    "\t\t\t\t\t- tuple \n",
    "\t\t\t\t\t- int , float , complex , boolean\n",
    "        - Indexing is based on Keys\n",
    "\t\t##methods \n",
    "\t\t\t- keys()\n",
    "\t\t\t- values()\n",
    "\t\t\t- items()\n",
    "\t\t\t- pop()\n",
    "\t\t\t- popitem()\n",
    "\t\t\t- update()\n",
    "\t\t\t- get()\n",
    "            \n",
    "        syntax:\n",
    "            varName = {\n",
    "                k1:v1,\n",
    "                k2:v2,\n",
    "                ...\n",
    "                ...\n",
    "                \n",
    "                kn:vn\n",
    "                }"
   ]
  },
  {
   "cell_type": "code",
   "execution_count": null,
   "id": "f1a98a16",
   "metadata": {
    "scrolled": true
   },
   "outputs": [],
   "source": [
    "team = {\n",
    "    'cricketTeamName' : 'India',\n",
    "    'Captain' : 'RS',\n",
    "    'country' : 'India', \n",
    "    'year' : 2022, \n",
    "    'is_top20' : True,\n",
    "    'Players' : ['Virat', 'Rohit', 'Bhu', 'Python']\n",
    "    }\n",
    "\n",
    "print(team , type(team))"
   ]
  },
  {
   "cell_type": "code",
   "execution_count": null,
   "id": "ea83c4a7",
   "metadata": {
    "scrolled": true
   },
   "outputs": [],
   "source": [
    "\n",
    "print(type(10))\n",
    "\n",
    "print(type(\"kumar\"))\n",
    "\n",
    "print(type([]))\n",
    "\n",
    "print(type( () ))\n",
    "\n",
    "\n",
    "print(type(set()))\n",
    "\n",
    "print(type({}))\n"
   ]
  },
  {
   "cell_type": "code",
   "execution_count": null,
   "id": "c7e36f1c",
   "metadata": {},
   "outputs": [],
   "source": [
    "team"
   ]
  },
  {
   "cell_type": "code",
   "execution_count": null,
   "id": "9b9ed36c",
   "metadata": {},
   "outputs": [],
   "source": [
    "team[0]"
   ]
  },
  {
   "cell_type": "code",
   "execution_count": null,
   "id": "16207968",
   "metadata": {},
   "outputs": [],
   "source": [
    "team[\"country\"]"
   ]
  },
  {
   "cell_type": "code",
   "execution_count": null,
   "id": "dc9d0183",
   "metadata": {
    "scrolled": true
   },
   "outputs": [],
   "source": [
    "print(team.keys())"
   ]
  },
  {
   "cell_type": "code",
   "execution_count": null,
   "id": "7d64a248",
   "metadata": {
    "scrolled": true
   },
   "outputs": [],
   "source": [
    "print(team['country'])"
   ]
  },
  {
   "cell_type": "code",
   "execution_count": null,
   "id": "fc0aabc4",
   "metadata": {
    "scrolled": true
   },
   "outputs": [],
   "source": [
    "print(team[\"Captain\"])"
   ]
  },
  {
   "cell_type": "code",
   "execution_count": null,
   "id": "64b8294e",
   "metadata": {
    "scrolled": true
   },
   "outputs": [],
   "source": [
    "print(team[\"Players\"])"
   ]
  },
  {
   "cell_type": "code",
   "execution_count": null,
   "id": "00af82e8",
   "metadata": {
    "scrolled": true
   },
   "outputs": [],
   "source": [
    "print(team['ipl_captain'])"
   ]
  },
  {
   "cell_type": "markdown",
   "id": "16eda400",
   "metadata": {},
   "source": [
    "### methods "
   ]
  },
  {
   "cell_type": "code",
   "execution_count": null,
   "id": "f1167371",
   "metadata": {
    "scrolled": true
   },
   "outputs": [],
   "source": [
    "#get()\n",
    "print(team.get('ipl_captain'))"
   ]
  },
  {
   "cell_type": "code",
   "execution_count": null,
   "id": "46d3d7d0",
   "metadata": {
    "scrolled": true
   },
   "outputs": [],
   "source": [
    "print(team[\"ipl_captain\"]) #fastest"
   ]
  },
  {
   "cell_type": "code",
   "execution_count": null,
   "id": "15e1ea46",
   "metadata": {
    "scrolled": true
   },
   "outputs": [],
   "source": [
    "print(team.get(\"YEAR\",\"key not there\"))"
   ]
  },
  {
   "cell_type": "code",
   "execution_count": null,
   "id": "63616a64",
   "metadata": {},
   "outputs": [],
   "source": [
    "[\"keyname\"] --> always should be valid key otherwise raise keyerror\n",
    ".get(\"keyname\") --> if key is invalid it will print None or some text"
   ]
  },
  {
   "cell_type": "code",
   "execution_count": null,
   "id": "c4cc3a0b",
   "metadata": {},
   "outputs": [],
   "source": []
  },
  {
   "cell_type": "code",
   "execution_count": null,
   "id": "66d5eee9",
   "metadata": {},
   "outputs": [],
   "source": []
  },
  {
   "cell_type": "code",
   "execution_count": null,
   "id": "d940e260",
   "metadata": {
    "scrolled": true
   },
   "outputs": [],
   "source": [
    "#keys()\n",
    "\n",
    "print(team.keys())"
   ]
  },
  {
   "cell_type": "code",
   "execution_count": null,
   "id": "be4acbf2",
   "metadata": {
    "scrolled": true
   },
   "outputs": [],
   "source": [
    "#values()\n",
    "print(team.values())"
   ]
  },
  {
   "cell_type": "code",
   "execution_count": null,
   "id": "0249aabb",
   "metadata": {
    "scrolled": true
   },
   "outputs": [],
   "source": [
    "#items() --[(K1,V1),(K2,V2)....] list of tuples\n",
    "\n",
    "\n",
    "print(team.items())"
   ]
  },
  {
   "cell_type": "code",
   "execution_count": null,
   "id": "8c62a453",
   "metadata": {
    "scrolled": true
   },
   "outputs": [],
   "source": [
    "print(team)"
   ]
  },
  {
   "cell_type": "code",
   "execution_count": null,
   "id": "663b64d0",
   "metadata": {
    "scrolled": true
   },
   "outputs": [],
   "source": [
    "team.update({\"year\":\"2024\"})\n",
    "\n",
    "print(team)"
   ]
  },
  {
   "cell_type": "code",
   "execution_count": null,
   "id": "cfd39a9c",
   "metadata": {
    "scrolled": true
   },
   "outputs": [],
   "source": [
    "team.update({\"Captain\":\"KL Rahul\"})\n",
    "\n",
    "print(team)"
   ]
  },
  {
   "cell_type": "code",
   "execution_count": null,
   "id": "466bd4c2",
   "metadata": {
    "scrolled": true
   },
   "outputs": [],
   "source": [
    "print(team)"
   ]
  },
  {
   "cell_type": "code",
   "execution_count": null,
   "id": "ec85d884",
   "metadata": {
    "scrolled": true
   },
   "outputs": [],
   "source": [
    "res = team.pop(\"year\")\n",
    "\n",
    "print(res)\n"
   ]
  },
  {
   "cell_type": "code",
   "execution_count": null,
   "id": "094ba291",
   "metadata": {
    "scrolled": true
   },
   "outputs": [],
   "source": [
    "print(team)"
   ]
  },
  {
   "cell_type": "code",
   "execution_count": null,
   "id": "0b6aa177",
   "metadata": {
    "scrolled": true
   },
   "outputs": [],
   "source": [
    "print(team.popitem()) #always remove last (k,v)"
   ]
  },
  {
   "cell_type": "code",
   "execution_count": null,
   "id": "e76517be",
   "metadata": {
    "scrolled": true
   },
   "outputs": [],
   "source": [
    "print(team)"
   ]
  },
  {
   "cell_type": "code",
   "execution_count": null,
   "id": "4167d07a",
   "metadata": {
    "scrolled": true
   },
   "outputs": [],
   "source": [
    "# get()\n",
    "# items()\n",
    "# keys()\n",
    "# values()\n",
    "# pop()\n",
    "# popitem()\n",
    "# update()\n",
    "\n",
    "\n",
    "# NOTE:\n",
    "    - U can't access invalid key --> Key Error.\n",
    "    - U can't pop on invalid key --> Key Error.\n",
    "    - U can't pop on empty dictionary\n",
    "    - When you try to update invalid key --> it will create a new entry(k,v)"
   ]
  },
  {
   "cell_type": "code",
   "execution_count": null,
   "id": "244b3689",
   "metadata": {
    "scrolled": true
   },
   "outputs": [],
   "source": []
  },
  {
   "cell_type": "code",
   "execution_count": null,
   "id": "2c6e044a",
   "metadata": {
    "scrolled": true
   },
   "outputs": [],
   "source": []
  },
  {
   "cell_type": "code",
   "execution_count": null,
   "id": "ab07c5bb",
   "metadata": {
    "scrolled": true
   },
   "outputs": [],
   "source": []
  },
  {
   "cell_type": "code",
   "execution_count": null,
   "id": "ca5cf8bc",
   "metadata": {},
   "outputs": [],
   "source": []
  }
 ],
 "metadata": {
  "kernelspec": {
   "display_name": "Python 3 (ipykernel)",
   "language": "python",
   "name": "python3"
  },
  "language_info": {
   "codemirror_mode": {
    "name": "ipython",
    "version": 3
   },
   "file_extension": ".py",
   "mimetype": "text/x-python",
   "name": "python",
   "nbconvert_exporter": "python",
   "pygments_lexer": "ipython3",
   "version": "3.10.9"
  }
 },
 "nbformat": 4,
 "nbformat_minor": 5
}
