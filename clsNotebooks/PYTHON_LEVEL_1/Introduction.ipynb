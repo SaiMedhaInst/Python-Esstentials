{
 "cells": [
  {
   "cell_type": "markdown",
   "id": "6a4fc3a2",
   "metadata": {},
   "source": [
    "### What is a programming language?\n",
    "\n",
    "\n",
    "\n",
    "<img src = \"https://www.freecodecamp.org/news/content/images/2021/08/chris-ried-ieic5Tq8YMk-unsplash.jpg\">\n",
    "\n",
    "\n",
    "\n",
    "\n",
    "- **Programming is simply a way for us to give instructions to computers.**\n",
    "\n",
    "- **Simply A Program is a  Set of Instruction To Do A Task.**\n",
    "\n",
    "> **Programming is how you get computers to solve problems**\n",
    "\n",
    "> _A programming language is a vocabulary and set of grammatical rules for instructing a computer or computing device to perform specific tasks._\n",
    "\n",
    "- We give it an instruction manual and the computer follows \n",
    "- without code Computer programs wouldn't do anything.\n",
    "    - wouldn't be able to move the mouse around on your screen.\n",
    "    -  wouldn't be able to Google things you wouldn't be able to play Pubg on your phone right.\n",
    "- We can't just tell my computer what to do.\n",
    "- You see computers don't understand English or any other human language for that matter.\n",
    "\n",
    "### So what language do computers speak ?\n",
    "    *Well they speak in ones and zeros all electronics speak that language*\n",
    "\n",
    "- It's hard for us to communicate like that.Right , So humans have developed programming languages that are in between human language and machine language.\n",
    "\n",
    "  - languages like Python and javascript that are really close to English.\n",
    " "
   ]
  },
  {
   "cell_type": "markdown",
   "id": "de204111",
   "metadata": {},
   "source": [
    "### Types of Lang's\n",
    "\n",
    "##### How do computers think? \n",
    "\n",
    "> Computers are made of many tiny switches that can be either on or off. When a switch is on, it is represented by a 1. When it is off, it is represented by a 0. \n",
    "\n",
    "- These 1s and 0s are called bits. \n",
    "- Bits are the fundamental language of nearly all computers and every program must be translated into bits before it can be executed by the computer.\n",
    "\n",
    "**When 8 bits are grouped together, this is called a byte. A byte can represent a letter, for example, 01100001 represents 'a'. A byte can also represent a control character. For example, 00000011 signals the end of a piece of text.**\n",
    "\n",
    "- When representing a number using bits, it can be converted from its normal base 10 representation to binary. This is called binary representation."
   ]
  },
  {
   "cell_type": "markdown",
   "id": "54503c7e",
   "metadata": {},
   "source": [
    "#### Machine language\n",
    "    -  easier for the computer to understand \n",
    "    - harder for the programmer to understand\n",
    "    - Programs written using 0's & 1's\n",
    " \n",
    "#### Assembly language\n",
    "    - slightly easier to understand\n",
    "    - The bits of machine language are replaced by numbers and English commands\n",
    "    - assembler -> Convert's back to 0's & 1's.\n",
    "#### High-Level languages\n",
    "    - use many more English commands , significantly more readable than assembly or machine language.\n",
    "    - use compiler or interpreters to convert to machine code"
   ]
  },
  {
   "cell_type": "markdown",
   "id": "efab30c4",
   "metadata": {},
   "source": [
    "<img src = \"https://cdn-wordpress-info.futurelearn.com/info/wp-content/uploads/1.5-What-Is-Programming.gif\" width = \"800\" height = \"400\">"
   ]
  },
  {
   "cell_type": "markdown",
   "id": "7a472675",
   "metadata": {},
   "source": []
  },
  {
   "cell_type": "markdown",
   "id": "5ee3c576",
   "metadata": {},
   "source": []
  },
  {
   "cell_type": "markdown",
   "id": "d1e1f0d0",
   "metadata": {},
   "source": [
    "### What is Python?\n",
    "     \n",
    "    - Python is a high-level programming language for general-purpose programming. \n",
    "    - It is an open source, interpreted, objected-oriented programming language. \n",
    "    - Python was created by a Dutch programmer, Guido van Rossum. \n",
    "  > **The name of Python programming language was derived from a British sketch comedy series, Month Python's Flying Circus. The first version was released on February 20, 1991**\n",
    "     \n",
    "     -  Python is a general purpose language, meaning it can be used to create a variety of different programs and isn’t specialized for any specific problems. "
   ]
  },
  {
   "cell_type": "code",
   "execution_count": null,
   "id": "b295def4",
   "metadata": {},
   "outputs": [],
   "source": []
  },
  {
   "cell_type": "markdown",
   "id": "508d113e",
   "metadata": {},
   "source": [
    "### Why Python?"
   ]
  },
  {
   "cell_type": "markdown",
   "id": "e0a0d072",
   "metadata": {},
   "source": [
    "    - It is a programming language which is very close to human language and because of that it is easy to learn and use. \n",
    "    - Python is used by various industries and companies (including Google). \n",
    "    - It has been used to develop \n",
    "       - web applications, desktop applications, \n",
    "       - system adminstration\n",
    "       - machine learning libraries.\n",
    "    - Python is highly embraced language in the data science and machine learning community.\n",
    "    \n",
    "    \n",
    "<img src = \"https://www.britwise.com/blog/wp-content/uploads/2019/12/why-python.jpg\" width=\"600\" height=\"600\">\n",
    "\n",
    "<img src = \"https://miro.medium.com/max/1400/1*FbpL8alBr_6RoCB-4PhfnQ.png\" width=\"600\" height=\"600\">"
   ]
  },
  {
   "cell_type": "code",
   "execution_count": null,
   "id": "3a3fc846",
   "metadata": {},
   "outputs": [],
   "source": []
  },
  {
   "cell_type": "markdown",
   "id": "1389edbf",
   "metadata": {},
   "source": []
  },
  {
   "cell_type": "markdown",
   "id": "db51cd2a",
   "metadata": {},
   "source": [
    "### How to Run the Python?\n",
    "\n",
    "- **Here We need a translator just like a middle person , to convert our written programms which are in HLL to Machine code .** \n",
    "- __Python usually uses an interpreter__\n",
    "- Just like a translator goes line by line through our code and executes our code on our machine.\n",
    "\n",
    "\n",
    "\n",
    "\n",
    "\n",
    "<img src=\"https://i.imgur.com/JSsB51o.png\" width=\"800\" height= \"600\">\n",
    "\n",
    "\n",
    "<img src=\"https://i.imgur.com/2YzXsLT.jpeg\" width=\"800\" height= \"600\">\n",
    "\n"
   ]
  },
  {
   "cell_type": "markdown",
   "id": "c3a456e6",
   "metadata": {},
   "source": [
    "<img src = \"https://prepinsta.com/wp-content/uploads/2020/07/Ppython-process.webp\" width=\"600\" height=\"800\">"
   ]
  },
  {
   "cell_type": "code",
   "execution_count": null,
   "id": "6536db21",
   "metadata": {},
   "outputs": [],
   "source": []
  },
  {
   "cell_type": "code",
   "execution_count": null,
   "id": "0008696a",
   "metadata": {},
   "outputs": [],
   "source": []
  },
  {
   "cell_type": "markdown",
   "id": "757b7713",
   "metadata": {},
   "source": [
    "\n",
    "### How / Where to Create to Python Files ?\n",
    "\n",
    "1.Terminals\n",
    "\n",
    "    -cmd\n",
    "    -cpowershell\n",
    "    -cbash\n",
    "    \n",
    "2.Editors\n",
    "    - IDLE\n",
    "    - Sublime\n",
    "    - Notepad++ etc\n",
    "    \n",
    "3.IDE's\n",
    "    - Sublime\n",
    "    - VsCode\n",
    "    - Pycharm\n",
    "    \n",
    "4.Notebooks\n",
    "    - juypter notebooks\n",
    "    - juyter labs\n",
    "\n",
    "5. Online Interpreters\n",
    "    - repl\n",
    "    \n",
    "\n"
   ]
  },
  {
   "cell_type": "code",
   "execution_count": 1,
   "id": "7ab2f743",
   "metadata": {},
   "outputs": [
    {
     "name": "stdout",
     "output_type": "stream",
     "text": [
      "Hello World\n"
     ]
    }
   ],
   "source": [
    "print(\"Hello World\")"
   ]
  },
  {
   "cell_type": "code",
   "execution_count": 2,
   "id": "cddb5faf",
   "metadata": {},
   "outputs": [
    {
     "name": "stdout",
     "output_type": "stream",
     "text": [
      "Enter num1:10\n",
      "Enter num2: 20\n",
      "30\n"
     ]
    }
   ],
   "source": [
    "num1 = int(input( \"Enter num1:\"))\n",
    "num2 = int(input(\"Enter num2: \"))\n",
    "\n",
    "print(num1 + num2)"
   ]
  },
  {
   "cell_type": "markdown",
   "id": "953d5873",
   "metadata": {},
   "source": [
    "\n",
    "\n"
   ]
  },
  {
   "cell_type": "markdown",
   "id": "1cb7c08d",
   "metadata": {},
   "source": [
    "#### 4 ways to run the python code\n",
    "\n",
    "   - python shell \n",
    "        - just one line statements\n",
    "   - command prompt\n",
    "        - whole python project or whole source file\n",
    "   - vscode (any IDE)\n",
    "        - projects \n",
    "   - jupyter code \n",
    "        - practise \n"
   ]
  },
  {
   "cell_type": "markdown",
   "id": "1d7ae9ba",
   "metadata": {},
   "source": [
    "### arithmetic program \n",
    "    - take two inputs from keyboards\n",
    "    - just do all operators like \n",
    "        + , - , * , / , %\n",
    "        "
   ]
  },
  {
   "cell_type": "code",
   "execution_count": null,
   "id": "b0fea849",
   "metadata": {},
   "outputs": [],
   "source": []
  },
  {
   "cell_type": "code",
   "execution_count": null,
   "id": "508a6c01",
   "metadata": {},
   "outputs": [],
   "source": [
    "n1 = int(input(\"Enter n1: \")) #str -- int\n",
    "n2 = int(input(\"Enter n2: \"))\n",
    "\n",
    "print(\"Addition : \",(n1+n2))\n",
    "print(\"Subtraction : \",(n1-n2))\n",
    "print(\"Mult : \",(n1*n2))\n",
    "print(\"Div : \",(n1/n2))\n",
    "print(\"Modulus : \",(n1%n2))"
   ]
  },
  {
   "cell_type": "code",
   "execution_count": 3,
   "id": "06ee9a35",
   "metadata": {},
   "outputs": [
    {
     "name": "stdout",
     "output_type": "stream",
     "text": [
      "Enter age: 12\n",
      "not eligible\n"
     ]
    }
   ],
   "source": [
    "age = int(input(\"Enter age: \"))\n",
    "if(age>=18):\n",
    "    print(\"eligible to vote\")\n",
    "else:\n",
    "    print(\"not eligible\")"
   ]
  },
  {
   "cell_type": "code",
   "execution_count": 1,
   "id": "8f785829",
   "metadata": {},
   "outputs": [
    {
     "ename": "SyntaxError",
     "evalue": "unterminated string literal (detected at line 1) (2149988476.py, line 1)",
     "output_type": "error",
     "traceback": [
      "\u001b[1;36m  Cell \u001b[1;32mIn[1], line 1\u001b[1;36m\u001b[0m\n\u001b[1;33m    print(\"hello)\u001b[0m\n\u001b[1;37m          ^\u001b[0m\n\u001b[1;31mSyntaxError\u001b[0m\u001b[1;31m:\u001b[0m unterminated string literal (detected at line 1)\n"
     ]
    }
   ],
   "source": [
    "print(\"hello)"
   ]
  },
  {
   "cell_type": "code",
   "execution_count": null,
   "id": "d74470f8",
   "metadata": {},
   "outputs": [],
   "source": []
  }
 ],
 "metadata": {
  "kernelspec": {
   "display_name": "Python 3 (ipykernel)",
   "language": "python",
   "name": "python3"
  },
  "language_info": {
   "codemirror_mode": {
    "name": "ipython",
    "version": 3
   },
   "file_extension": ".py",
   "mimetype": "text/x-python",
   "name": "python",
   "nbconvert_exporter": "python",
   "pygments_lexer": "ipython3",
   "version": "3.10.9"
  }
 },
 "nbformat": 4,
 "nbformat_minor": 5
}
