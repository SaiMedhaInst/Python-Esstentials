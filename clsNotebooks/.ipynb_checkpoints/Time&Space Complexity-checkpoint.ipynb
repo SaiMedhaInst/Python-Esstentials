{
 "cells": [
  {
   "cell_type": "markdown",
   "id": "544fa7e6",
   "metadata": {},
   "source": [
    "## Complexity"
   ]
  },
  {
   "attachments": {},
   "cell_type": "markdown",
   "id": "a2a03931",
   "metadata": {},
   "source": [
    "<img src = \"https://miro.medium.com/max/828/1*xq73u1N7ZsTE2MJ9jsj0CA.webp\">\n",
    "\n",
    "Generally, there is always more than one way to solve a problem in computer science with different algorithms. \n",
    "Therefore, it is highly required to use a method to compare the solutions in order to judge which one is more optimal. \n",
    "The method must be:\n",
    "\n",
    "- Independent of the machine and its configuration, on which the algorithm is running on.\n",
    "- Shows a direct correlation with the number of inputs.\n",
    "- Can distinguish two algorithms clearly without ambiguity.\n",
    "\n",
    "**Time Complexity != Time Taken** \n",
    "\n",
    "<img src = \"https://i.imgur.com/TPkhjFx.png\">\n",
    "\n",
    "ex: Linear Search on array/List of integers \n",
    "\n",
    "**Time Complexity is a mathematical function that tells us how time is going to increase when input size increases/grows.**\n",
    "\n",
    "- Function that gives us the relationship about how the time will grow as the input grows.\n",
    "\n",
    "- Time & Space Complexity is independent of Programming Language.\n",
    "        - while calculating complexity don't take the computer's configurations into consideration.\n",
    "        - Like CPU Speed,Memory Capacity.\n",
    "\n",
    "### What do we consider when thinking about complexity?\n",
    "     1. Always look for worst case complexity.\n",
    "     2. Always look at complexity for larger data.\n",
    "     3. We don't care actual time taken , as time taken will be vary from machine to machine . we only care about relationship b/w time vs input \n",
    "    ex: y = x\n",
    "        y = 2x\n",
    "        y = 4x+1\n",
    " <img src = \"https://i.imgur.com/pkFtU9S.png\">\n",
    "        even the values of actual time is diff but they are all growing linear , so we **ignore constants**.\n",
    "        \n",
    "    4. Always ignore less dominating terms.\n",
    "            O(N^3 + logN) \n",
    "        "
   ]
  },
  {
   "cell_type": "code",
   "execution_count": null,
   "id": "93ebe79f",
   "metadata": {},
   "outputs": [],
   "source": []
  },
  {
   "cell_type": "code",
   "execution_count": null,
   "id": "cfc8ad19",
   "metadata": {},
   "outputs": [],
   "source": []
  },
  {
   "cell_type": "code",
   "execution_count": null,
   "id": "69106eb7",
   "metadata": {},
   "outputs": [],
   "source": []
  },
  {
   "cell_type": "markdown",
   "id": "5dba2389",
   "metadata": {},
   "source": [
    "### What is time complexity?\n",
    "According to Wikipedia,\n",
    "\n",
    "*In computer science, the time complexity is the computational complexity that describes the amount of time it takes to run an algorithm.*\n",
    "\n",
    "In simple words,\n",
    "**Time complexity of a program is a simple measurement of how fast the time taken by a program grows, if the input increases.**"
   ]
  },
  {
   "cell_type": "markdown",
   "id": "6bd36a39",
   "metadata": {},
   "source": [
    "### Types"
   ]
  },
  {
   "cell_type": "markdown",
   "id": "d0032aaa",
   "metadata": {},
   "source": [
    "### Big-Oh \n",
    "    - Consider upper bound or worst case complexity\n",
    "    - Algorithm will never extends the complexity of this.\n",
    "    - denoted by O()\n",
    "<img src = \"https://i.imgur.com/qkGpTWp.png\">"
   ]
  },
  {
   "cell_type": "markdown",
   "id": "e1f35b08",
   "metadata": {},
   "source": [
    "### Big Omega.\n",
    "    - Opposite of Big Oh notation\n",
    "    - Consider the lower bound of values or least complexity.\n",
    "    "
   ]
  },
  {
   "cell_type": "code",
   "execution_count": null,
   "id": "7c93687e",
   "metadata": {},
   "outputs": [],
   "source": []
  },
  {
   "cell_type": "code",
   "execution_count": null,
   "id": "f1482bfa",
   "metadata": {},
   "outputs": [],
   "source": []
  },
  {
   "cell_type": "code",
   "execution_count": null,
   "id": "075f3c45",
   "metadata": {},
   "outputs": [],
   "source": []
  },
  {
   "cell_type": "code",
   "execution_count": null,
   "id": "51f791e4",
   "metadata": {},
   "outputs": [],
   "source": []
  },
  {
   "cell_type": "code",
   "execution_count": null,
   "id": "17d598a2",
   "metadata": {},
   "outputs": [],
   "source": []
  },
  {
   "cell_type": "code",
   "execution_count": null,
   "id": "3c7026e0",
   "metadata": {},
   "outputs": [],
   "source": []
  },
  {
   "cell_type": "code",
   "execution_count": null,
   "id": "9e6d73fe",
   "metadata": {},
   "outputs": [],
   "source": []
  },
  {
   "cell_type": "code",
   "execution_count": null,
   "id": "905398be",
   "metadata": {},
   "outputs": [],
   "source": []
  },
  {
   "cell_type": "code",
   "execution_count": null,
   "id": "71c3f46c",
   "metadata": {},
   "outputs": [],
   "source": []
  },
  {
   "cell_type": "code",
   "execution_count": null,
   "id": "1603da4e",
   "metadata": {},
   "outputs": [],
   "source": []
  },
  {
   "cell_type": "code",
   "execution_count": null,
   "id": "f366b3d5",
   "metadata": {},
   "outputs": [],
   "source": []
  },
  {
   "cell_type": "markdown",
   "id": "357f0f8a",
   "metadata": {},
   "source": [
    "## What is space complexity?\n",
    "According to Wikipedia,\n",
    "\n",
    "*In computer science, the space complexity of an algorithm or a computer program is the amount of memory space required to solve an instance of the computational problem as a function of the size of the input.*\n",
    "\n",
    "In simple words,\n",
    "\n",
    "**Space complexity of a program is a simple measurement of how fast the space taken by a program grows, if the input increase**"
   ]
  },
  {
   "cell_type": "code",
   "execution_count": null,
   "id": "e8945c88",
   "metadata": {},
   "outputs": [],
   "source": []
  },
  {
   "cell_type": "code",
   "execution_count": null,
   "id": "eb118022",
   "metadata": {},
   "outputs": [],
   "source": []
  },
  {
   "cell_type": "code",
   "execution_count": null,
   "id": "e2435504",
   "metadata": {},
   "outputs": [],
   "source": []
  },
  {
   "cell_type": "code",
   "execution_count": 1,
   "id": "14415290",
   "metadata": {},
   "outputs": [
    {
     "name": "stdout",
     "output_type": "stream",
     "text": [
      "enter the key: 15\n",
      "enter the no's 10 20 15 25 30\n",
      "15 [10, 20, 15, 25, 30]\n"
     ]
    }
   ],
   "source": [
    "\n",
    "\n",
    "lst = list(map(int,input(\"enter the no's \").split()))\n",
    "\n",
    "print(key , lst)\n"
   ]
  },
  {
   "cell_type": "code",
   "execution_count": 7,
   "id": "8d5c0805",
   "metadata": {},
   "outputs": [
    {
     "name": "stdout",
     "output_type": "stream",
     "text": [
      "Enter a number10\n",
      "Enter a number20\n",
      "Enter a number303\n",
      "Enter a number30\n",
      "Enter a number20\n"
     ]
    }
   ],
   "source": [
    "a = []\n",
    "for i in range(5):\n",
    "    a.append(int(input(\"Enter a number\")))"
   ]
  },
  {
   "cell_type": "code",
   "execution_count": 8,
   "id": "c42e8913",
   "metadata": {},
   "outputs": [
    {
     "name": "stdout",
     "output_type": "stream",
     "text": [
      "[10, 20, 303, 30, 20]\n"
     ]
    }
   ],
   "source": [
    "print(a)"
   ]
  },
  {
   "cell_type": "code",
   "execution_count": 5,
   "id": "ead43a84",
   "metadata": {},
   "outputs": [
    {
     "name": "stdout",
     "output_type": "stream",
     "text": [
      "enter the key: 35\n",
      "key 35 not found\n"
     ]
    }
   ],
   "source": [
    "# linear Search\n",
    "key = int(input(\"enter the key: \"))\n",
    "\n",
    "isFound = -1\n",
    "for i in range(len(lst)):\n",
    "    if(lst[i] == key):\n",
    "        isFound = i\n",
    "        break\n",
    "if(isFound != -1):\n",
    "    print(f\"key {key} found at index: {isFound} \")\n",
    "else:\n",
    "     print(f\"key {key} not found\")\n",
    "        "
   ]
  },
  {
   "cell_type": "code",
   "execution_count": 6,
   "id": "5e40f900",
   "metadata": {},
   "outputs": [],
   "source": [
    "# BEST CASE - O(1)\n",
    "# AVG CASE  - O(n//2)\n",
    "# WORST CASE - O(n)\n"
   ]
  },
  {
   "cell_type": "code",
   "execution_count": null,
   "id": "58d560d6",
   "metadata": {},
   "outputs": [],
   "source": [
    "print(\"Hello SaiMedha\")\n",
    "a = 10\n",
    "b = 20\n",
    "print(a+b)"
   ]
  },
  {
   "cell_type": "code",
   "execution_count": null,
   "id": "00dc5f44",
   "metadata": {},
   "outputs": [],
   "source": [
    "age = 18\n",
    "if age>=18:\n",
    "    print(\"eligiable\")\n",
    "else:\n",
    "    print(\"not eligiable\")"
   ]
  },
  {
   "cell_type": "code",
   "execution_count": null,
   "id": "65392d24",
   "metadata": {},
   "outputs": [],
   "source": [
    "for i in range(10):\n",
    "    print(i)"
   ]
  },
  {
   "cell_type": "code",
   "execution_count": null,
   "id": "dcf13b13",
   "metadata": {},
   "outputs": [],
   "source": []
  },
  {
   "cell_type": "code",
   "execution_count": null,
   "id": "848c303b",
   "metadata": {},
   "outputs": [],
   "source": [
    "n = int(input())\n",
    "for i in range(n):\n",
    "    print(i)\n",
    "    \n",
    "    "
   ]
  },
  {
   "cell_type": "code",
   "execution_count": null,
   "id": "76f8e4ae",
   "metadata": {},
   "outputs": [],
   "source": [
    "n = int(input())\n",
    "for i in range(n):\n",
    "    for j in range(n):\n",
    "        print)i+j)"
   ]
  },
  {
   "cell_type": "code",
   "execution_count": null,
   "id": "501ba466",
   "metadata": {},
   "outputs": [],
   "source": [
    "n = int(input())\n",
    "i = 0\n",
    "while i<n:\n",
    "    print(i)\n",
    "    i+=1\n"
   ]
  },
  {
   "cell_type": "code",
   "execution_count": null,
   "id": "3373587e",
   "metadata": {},
   "outputs": [],
   "source": [
    "n = int(input())\n",
    "for i in range(n):\n",
    "    if i==1:\n",
    "        print(i)\n",
    "        break\n",
    "    "
   ]
  },
  {
   "cell_type": "code",
   "execution_count": null,
   "id": "72b5477d",
   "metadata": {},
   "outputs": [],
   "source": [
    "#  Binary Search \n",
    "# Prime number checking "
   ]
  }
 ],
 "metadata": {
  "kernelspec": {
   "display_name": "Python 3",
   "language": "python",
   "name": "python3"
  },
  "language_info": {
   "codemirror_mode": {
    "name": "ipython",
    "version": 3
   },
   "file_extension": ".py",
   "mimetype": "text/x-python",
   "name": "python",
   "nbconvert_exporter": "python",
   "pygments_lexer": "ipython3",
   "version": "3.8.8"
  }
 },
 "nbformat": 4,
 "nbformat_minor": 5
}
