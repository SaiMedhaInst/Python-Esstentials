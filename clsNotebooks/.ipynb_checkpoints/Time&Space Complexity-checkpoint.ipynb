{
 "cells": [
  {
   "cell_type": "markdown",
   "id": "5dba2389",
   "metadata": {},
   "source": [
    "### Time Complexity.\n",
    "\n",
    "- The time complexity of an algorithm is the total amount of time required by an algorithm to complete its execution.\n",
    "\n"
   ]
  },
  {
   "cell_type": "code",
   "execution_count": null,
   "id": "131ae171",
   "metadata": {},
   "outputs": [],
   "source": []
  },
  {
   "cell_type": "code",
   "execution_count": null,
   "id": "dd677082",
   "metadata": {},
   "outputs": [],
   "source": []
  },
  {
   "cell_type": "code",
   "execution_count": null,
   "id": "c809d1d6",
   "metadata": {},
   "outputs": [],
   "source": []
  },
  {
   "cell_type": "code",
   "execution_count": null,
   "id": "bbb1abab",
   "metadata": {},
   "outputs": [],
   "source": []
  },
  {
   "cell_type": "code",
   "execution_count": null,
   "id": "755ef437",
   "metadata": {},
   "outputs": [],
   "source": []
  },
  {
   "cell_type": "code",
   "execution_count": null,
   "id": "42900bc7",
   "metadata": {},
   "outputs": [],
   "source": []
  },
  {
   "cell_type": "code",
   "execution_count": 1,
   "id": "cb42c341",
   "metadata": {},
   "outputs": [
    {
     "name": "stdout",
     "output_type": "stream",
     "text": [
      "enter the key: 15\n",
      "enter the no's 10 20 15 25 30\n",
      "15 [10, 20, 15, 25, 30]\n"
     ]
    }
   ],
   "source": [
    "\n",
    "\n",
    "lst = list(map(int,input(\"enter the no's \").split()))\n",
    "\n",
    "print(key , lst)\n"
   ]
  },
  {
   "cell_type": "code",
   "execution_count": 5,
   "id": "6f2b4d58",
   "metadata": {},
   "outputs": [
    {
     "name": "stdout",
     "output_type": "stream",
     "text": [
      "enter the key: 35\n",
      "key 35 not found\n"
     ]
    }
   ],
   "source": [
    "# linear Search\n",
    "key = int(input(\"enter the key: \"))\n",
    "\n",
    "isFound = -1\n",
    "for i in range(len(lst)):\n",
    "    if(lst[i] == key):\n",
    "        isFound = i\n",
    "if(isFound != -1):\n",
    "    print(f\"key {key} found at index: {isFound} \")\n",
    "else:\n",
    "     print(f\"key {key} not found\")\n",
    "        "
   ]
  },
  {
   "cell_type": "code",
   "execution_count": null,
   "id": "2b761476",
   "metadata": {},
   "outputs": [],
   "source": [
    "# "
   ]
  }
 ],
 "metadata": {
  "kernelspec": {
   "display_name": "Python 3",
   "language": "python",
   "name": "python3"
  },
  "language_info": {
   "codemirror_mode": {
    "name": "ipython",
    "version": 3
   },
   "file_extension": ".py",
   "mimetype": "text/x-python",
   "name": "python",
   "nbconvert_exporter": "python",
   "pygments_lexer": "ipython3",
   "version": "3.8.8"
  }
 },
 "nbformat": 4,
 "nbformat_minor": 5
}
