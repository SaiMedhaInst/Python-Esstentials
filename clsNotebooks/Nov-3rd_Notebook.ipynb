{
 "cells": [
  {
   "cell_type": "code",
   "execution_count": 1,
   "id": "3892ac08",
   "metadata": {},
   "outputs": [
    {
     "name": "stdout",
     "output_type": "stream",
     "text": [
      "Heyyyy Hi\n"
     ]
    }
   ],
   "source": [
    "print('Heyyyy Hi')"
   ]
  },
  {
   "cell_type": "code",
   "execution_count": null,
   "id": "ec604ac3",
   "metadata": {},
   "outputs": [],
   "source": []
  },
  {
   "cell_type": "code",
   "execution_count": 5,
   "id": "6f599efe",
   "metadata": {},
   "outputs": [
    {
     "name": "stdout",
     "output_type": "stream",
     "text": [
      "1000\n"
     ]
    }
   ],
   "source": [
    "a = 10\n",
    "b = 3\n",
    "print(a**b) #shift+Enter"
   ]
  },
  {
   "cell_type": "markdown",
   "id": "63702025",
   "metadata": {},
   "source": [
    "### Python November \n",
    "   - jupyter shorcuts\n",
    "    -  *mode*\n",
    "        - command mode\n",
    "        - edit mode\n",
    "        - markdown"
   ]
  },
  {
   "cell_type": "markdown",
   "id": "cbfd9405",
   "metadata": {},
   "source": [
    "<img src = \"https://miro.medium.com/max/640/1*kL9bqClN5bWREQqa35pkQg.png\" width = \"400\" height = \"400\">"
   ]
  },
  {
   "cell_type": "code",
   "execution_count": null,
   "id": "16d358b0",
   "metadata": {},
   "outputs": [],
   "source": []
  }
 ],
 "metadata": {
  "kernelspec": {
   "display_name": "Python 3",
   "language": "python",
   "name": "python3"
  },
  "language_info": {
   "codemirror_mode": {
    "name": "ipython",
    "version": 3
   },
   "file_extension": ".py",
   "mimetype": "text/x-python",
   "name": "python",
   "nbconvert_exporter": "python",
   "pygments_lexer": "ipython3",
   "version": "3.8.8"
  }
 },
 "nbformat": 4,
 "nbformat_minor": 5
}
