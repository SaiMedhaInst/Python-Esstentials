{
 "cells": [
  {
   "cell_type": "markdown",
   "id": "4cc68bfc",
   "metadata": {},
   "source": [
    "### Data Types Functions\n",
    "\n",
    "\n",
    "- Text Type:\tstr\n",
    "- Numeric Types:\tint, float, complex\n",
    "- Sequence Types:\tlist, tuple, range\n",
    "- Mapping Type:\tdict\n",
    "- Set Types:\tset, frozenset\n",
    "- Boolean Type:\tbool\n",
    "- Binary Types:\tbytes, bytearray, memoryview"
   ]
  },
  {
   "cell_type": "code",
   "execution_count": null,
   "id": "e2094734",
   "metadata": {},
   "outputs": [],
   "source": [
    "x = \"Hello World\"\n",
    "type(x)\n",
    "\n",
    "x = 20\n",
    "type(x)\n",
    "\n",
    "x = 20.5\n",
    "type(x)\n",
    "\n",
    "\n",
    "x = 1j\n",
    "type(x)\n",
    "\n",
    "\n",
    "x = [\"apple\", \"banana\", \"cherry\"]\n",
    "type(x)\n",
    "\n",
    "\n",
    "x = (\"apple\", \"banana\", \"cherry\")\n",
    "type(x)\n",
    "\n",
    "\n",
    "x = range(6)\n",
    "type(x)\n",
    "\n",
    "\n",
    "x = {\"name\" : \"John\", \"age\" : 36}\n",
    "type(x)\n",
    "\n",
    "\n",
    "\n",
    "x = {\"apple\", \"banana\", \"cherry\"}\n",
    "type(x)\n",
    "\n",
    "\n",
    "x = frozenset({\"apple\", \"banana\", \"cherry\"})\n",
    "type(x)\n",
    "\n",
    "\n",
    "x = True\n",
    "type(x)\n",
    "\n",
    "\n",
    "x=b\"Hello\"\n",
    "type(x)\n",
    "\n",
    "\n",
    "x=bytearray(5)\n",
    "type(x)\n",
    "\n",
    "\n",
    "x=memoryview(bytes(5))\n",
    "\n",
    "type(x) #print(type(x))\n",
    "#print() "
   ]
  },
  {
   "cell_type": "code",
   "execution_count": null,
   "id": "3b52ae9b",
   "metadata": {},
   "outputs": [],
   "source": []
  },
  {
   "cell_type": "markdown",
   "id": "c7c2d3a7",
   "metadata": {},
   "source": [
    "### fundamental  steps to develop a program \n",
    "\n",
    "- The fundamental phases to develop any program or app or problem statement are\n",
    "\n",
    "\n",
    "#### 1. Algorithm  : Step by Step process to solve any specific task or problem statement.\n",
    "        -written using a single statements in English \n",
    "        -Should Have Definite Start and End  , Should Have Definite Number of steps.\n",
    "        - one problem can have many different algorithms \n",
    "        \n",
    "           ex:Preparing a tea\n",
    "   \n",
    "      ex: Multiply two numbers\n",
    "\n",
    "      STEP 1: START\n",
    "\n",
    "      STEP 2:DECLARE num1, num2\n",
    "\n",
    "      STEP 3: READ num1 ,num2\n",
    "\n",
    "      STEP 4: SET product = num1*num2\n",
    "\n",
    "      STEP 5: PRINT product\n",
    "\n",
    "      STEP6:END\n",
    "  \n",
    "  \n",
    "#### 2. Flow charts : Pictorial Representation of steps  , using symbols\n",
    "\n",
    "\n",
    "\n",
    "\n",
    "#### 3. Pseudocode :  Its similar version of programming code written in plain english , independent of program Lang\n",
    "\n",
    "        - It doesnt require any strict programming languange syntax\n",
    "        - It is easily readable and modular form\n",
    "        - Its is Code like language \n",
    "        ex:\n",
    "        \n",
    "        BEGIN \n",
    "        \n",
    "            DECLARE num\n",
    "            READ num \n",
    "            \n",
    "            IF num MOD 2 is ZERO THEN\n",
    "                PRINT \"EVEN\"\n",
    "            ELSE THEN\n",
    "                PRINT \"ODD\"\n",
    "            ENDIF\n",
    "        END\n",
    "\n",
    "  "
   ]
  },
  {
   "cell_type": "code",
   "execution_count": null,
   "id": "93c8c693",
   "metadata": {},
   "outputs": [],
   "source": [
    "# PROGRAM ST - Sum of N natural \n",
    "\n",
    "# inp = 3\n",
    "# op : 1+2+3 = 6\n",
    "\n",
    "# inp = 5 \n",
    "# op = 1+2 ...+5 = 15\n",
    "\n"
   ]
  },
  {
   "cell_type": "code",
   "execution_count": null,
   "id": "a7444512",
   "metadata": {},
   "outputs": [],
   "source": [
    "# method-1 :O(1)\n",
    "\n",
    "num = int(input(\"enter the num: \"))\n",
    "\n",
    "res = num * (num+1)/2\n",
    "\n",
    "print(f\"Sum of N is {res}\")"
   ]
  },
  {
   "cell_type": "code",
   "execution_count": null,
   "id": "73051a09",
   "metadata": {},
   "outputs": [],
   "source": [
    "# method-2  : O(n)\n",
    "\n",
    "sumOfN = 0 \n",
    "\n",
    "n = int(input(\"Enter the N: \"))\n",
    "\n",
    "\n",
    "for i in range(1,n+1):\n",
    "    sumOfN = sumOfN+i\n",
    "    \n",
    "    \n",
    "print(sumOfN)\n",
    "\n",
    "# sumOfN = 0+1\n",
    "# sumOfN = 1+2\n",
    "# sumOfN = 3+3\n",
    "# sumOfN = 6+4 = 10\n"
   ]
  },
  {
   "cell_type": "code",
   "execution_count": null,
   "id": "92188310",
   "metadata": {},
   "outputs": [],
   "source": []
  },
  {
   "cell_type": "code",
   "execution_count": null,
   "id": "e97ce30a",
   "metadata": {},
   "outputs": [],
   "source": []
  },
  {
   "cell_type": "code",
   "execution_count": null,
   "id": "4b468f45",
   "metadata": {},
   "outputs": [],
   "source": [
    "# example-1 : Even-Odd Checking\n",
    "\n",
    "def evenoddchecker(num):\n",
    "    for n in num:\n",
    "        if (n%2==0):\n",
    "            print(n,\" EVEN\")\n",
    "        else:\n",
    "            print(n,\" ODD\")\n",
    "        \n",
    "        \n",
    "evenoddchecker(range(2,25))"
   ]
  },
  {
   "cell_type": "code",
   "execution_count": null,
   "id": "f9578119",
   "metadata": {},
   "outputs": [],
   "source": [
    "# examples-2 : Linear Search\n",
    "\n",
    "#INPUT \n",
    "\n",
    "alst = list(map(int,input().split()))\n",
    "\n",
    "print(lst)\n"
   ]
  },
  {
   "cell_type": "code",
   "execution_count": null,
   "id": "9469edb2",
   "metadata": {},
   "outputs": [],
   "source": [
    "key = int(input(\"Enter the Key\"))\n",
    "\n",
    "#LOGIC CODE\n",
    "\n",
    "for ind in range(len(lst)):\n",
    "    if lst[ind] == key:\n",
    "        print(ind)\n",
    "        break\n",
    "else:\n",
    "    print(\"key not found\")\n",
    "    \n",
    "    \n",
    "# 0(n) = worst\n",
    "# 0(1) =  best \n",
    "# 0(n/2) = avg\n",
    "\n",
    "# Bineary Search ?  - O(logn)"
   ]
  },
  {
   "cell_type": "code",
   "execution_count": null,
   "id": "c940284d",
   "metadata": {},
   "outputs": [],
   "source": [
    "# example - 3: sum of N natural numbers."
   ]
  },
  {
   "cell_type": "code",
   "execution_count": null,
   "id": "3e76cb81",
   "metadata": {},
   "outputs": [],
   "source": []
  },
  {
   "cell_type": "code",
   "execution_count": null,
   "id": "cc2d0622",
   "metadata": {},
   "outputs": [],
   "source": [
    "num = int(input(\"enter the n \"))\n",
    "\n",
    "\n",
    "if num%2==0:\n",
    "    print(\"EVEN\")\n",
    "else:\n",
    "    print(\"ODD\")\n",
    "    "
   ]
  },
  {
   "cell_type": "code",
   "execution_count": null,
   "id": "73a64887",
   "metadata": {},
   "outputs": [],
   "source": []
  },
  {
   "cell_type": "code",
   "execution_count": null,
   "id": "29a6b088",
   "metadata": {},
   "outputs": [],
   "source": []
  },
  {
   "cell_type": "markdown",
   "id": "c8547b00",
   "metadata": {},
   "source": [
    "### Statements\n",
    "\n",
    "**A program contains**\n",
    "\n",
    "- sequential statements  : Flow of execution is line by line \n",
    "- control statements    : Flow of execution depends on control expression\n",
    "- Iteratative Statements  : Flow of execution on Loops / Repeated Actions\n",
    "\n",
    "\n",
    "\n",
    "#### Conditional Statements\n",
    "\n",
    "- if  else\n",
    "- elif\n",
    "- nested if else\n",
    "\n",
    "**decision making statements**\n",
    "\n",
    "That is where control structures come in. A control structure directs the order of execution of the statements in a program.\n",
    "\n",
    "\n",
    "\n",
    "        if expr:\n",
    "\n",
    "            statement\n",
    "\n",
    "**Python relies on indentation (whitespace at the beginning of a line) to define scope in the code. Other programming languages often use curly-brackets for this purpose.**\n",
    "\n",
    "\n"
   ]
  },
  {
   "cell_type": "code",
   "execution_count": null,
   "id": "b8cd6582",
   "metadata": {},
   "outputs": [],
   "source": [
    "# syntax\n",
    "if condition:\n",
    "    #this part of code runs \n",
    "    #for truthy conditions"
   ]
  },
  {
   "cell_type": "code",
   "execution_count": null,
   "id": "6c4afd89",
   "metadata": {},
   "outputs": [],
   "source": []
  },
  {
   "cell_type": "code",
   "execution_count": null,
   "id": "abdef51a",
   "metadata": {},
   "outputs": [],
   "source": [
    "# sequential statements\n",
    "\n",
    "a=10\n",
    "b=20\n",
    "print(\"Hello\")\n",
    "\n",
    "b+=2\n",
    "print(b)"
   ]
  },
  {
   "cell_type": "code",
   "execution_count": null,
   "id": "841caae2",
   "metadata": {},
   "outputs": [],
   "source": [
    "msg = \"Hello\"\n",
    "\n",
    "if msg == \"Hi\": #True\n",
    "    print(\"Greeted\")\n",
    "    print(\"True Condition...\")\n",
    "    \n",
    "print(\"next lines\")"
   ]
  },
  {
   "cell_type": "code",
   "execution_count": null,
   "id": "baebe9fa",
   "metadata": {},
   "outputs": [],
   "source": []
  },
  {
   "cell_type": "code",
   "execution_count": null,
   "id": "5188d644",
   "metadata": {},
   "outputs": [],
   "source": [
    "# syntax\n",
    "if condition:\n",
    "    this part of code runs for truthy conditions\n",
    "else:\n",
    "     this part of code runs for false conditions"
   ]
  },
  {
   "cell_type": "code",
   "execution_count": null,
   "id": "30fd500d",
   "metadata": {},
   "outputs": [],
   "source": []
  },
  {
   "cell_type": "code",
   "execution_count": null,
   "id": "6012d8b8",
   "metadata": {},
   "outputs": [],
   "source": [
    "num = 11\n",
    "\n",
    "if (num%2==0):\n",
    "    print(\"EVEN\")\n",
    "    print(\"BLOCK\")\n",
    "else:\n",
    "    print(\"ODD\")\n",
    "    print(\"BLOCK\")"
   ]
  },
  {
   "cell_type": "code",
   "execution_count": null,
   "id": "a045c806",
   "metadata": {},
   "outputs": [],
   "source": []
  },
  {
   "cell_type": "code",
   "execution_count": null,
   "id": "0fb58c9d",
   "metadata": {},
   "outputs": [],
   "source": [
    "if not True:\n",
    "    print(\"Hello\")\n",
    "else:\n",
    "    print(\"Bye\")"
   ]
  },
  {
   "cell_type": "code",
   "execution_count": null,
   "id": "53e55a47",
   "metadata": {},
   "outputs": [],
   "source": []
  },
  {
   "cell_type": "code",
   "execution_count": null,
   "id": "e1025386",
   "metadata": {},
   "outputs": [],
   "source": [
    "if 10<1:\n",
    "    print(\"TRUE\")\n",
    "else:\n",
    "    print(\"FALSE\")"
   ]
  },
  {
   "cell_type": "code",
   "execution_count": null,
   "id": "72e2eb3d",
   "metadata": {},
   "outputs": [],
   "source": []
  },
  {
   "cell_type": "code",
   "execution_count": null,
   "id": "39d64101",
   "metadata": {},
   "outputs": [],
   "source": [
    "if type(10) is int:\n",
    "    print(\"True\")\n",
    "    print(\"True Block\")\n",
    "else:\n",
    "    print(\"False\")\n",
    "    print(\"False block\")"
   ]
  },
  {
   "cell_type": "code",
   "execution_count": null,
   "id": "228f7c83",
   "metadata": {},
   "outputs": [],
   "source": []
  },
  {
   "cell_type": "code",
   "execution_count": null,
   "id": "457aba87",
   "metadata": {},
   "outputs": [],
   "source": [
    "num1=10\n",
    "num2=11\n",
    "if (num1==num2):\n",
    "    print(\"EQUAL\")\n",
    "    print(\"world\")\n",
    "    print(\"hello\")\n",
    "    print(\"IF BLOCK\")\n",
    "else:\n",
    "    print(\"NOT EQUAL\")"
   ]
  },
  {
   "cell_type": "code",
   "execution_count": null,
   "id": "423ac291",
   "metadata": {},
   "outputs": [],
   "source": []
  },
  {
   "cell_type": "code",
   "execution_count": null,
   "id": "ff057fed",
   "metadata": {},
   "outputs": [],
   "source": [
    "num1 = 10\n",
    "num2 = 100\n",
    "\n",
    "if num1 < num2: # if True Go Inside Else GOTO to the statement after IF block\n",
    "    print(num2 ,\"Greater\")\n",
    "    print(\"A\")\n",
    "    print(\"B\")\n",
    "    \n",
    "print(\"next statements\")\n",
    "print(\"next next \")"
   ]
  },
  {
   "cell_type": "code",
   "execution_count": null,
   "id": "c11017f3",
   "metadata": {},
   "outputs": [],
   "source": []
  },
  {
   "cell_type": "code",
   "execution_count": null,
   "id": "adca9789",
   "metadata": {},
   "outputs": [],
   "source": [
    "num1 = 1\n",
    "num2 = 4\n",
    "if num1>num2:\n",
    "    print(num1 ,\"Greater\")\n",
    "else:\n",
    "    print(num1 ,\"<\" ,num2)\n",
    "    print('{} is less than {}'.format(num1,num2))# string 2.x\n",
    "    print(f'{num1} is less  than {num2}') #3.x"
   ]
  },
  {
   "cell_type": "code",
   "execution_count": null,
   "id": "ff8c0c3a",
   "metadata": {},
   "outputs": [],
   "source": []
  },
  {
   "cell_type": "code",
   "execution_count": null,
   "id": "1da69c95",
   "metadata": {},
   "outputs": [],
   "source": [
    "if 'bar' in ['bar', 'baz', 'qux']:\n",
    "    print('Expression was true')\n",
    "    print('Executing statement in suite')\n",
    "    print('...')\n",
    "    print('Done.')\n",
    "\n",
    "else:\n",
    "    print(\"Not Present\")\n",
    "print('After conditional')"
   ]
  },
  {
   "cell_type": "code",
   "execution_count": null,
   "id": "cc4cb95d",
   "metadata": {},
   "outputs": [],
   "source": []
  },
  {
   "cell_type": "code",
   "execution_count": null,
   "id": "5aef8f08",
   "metadata": {},
   "outputs": [],
   "source": [
    "if type(\"Kumar\") is str:\n",
    "    print(\"Hey Hi\")"
   ]
  },
  {
   "cell_type": "code",
   "execution_count": null,
   "id": "b43442e2",
   "metadata": {},
   "outputs": [],
   "source": []
  },
  {
   "cell_type": "code",
   "execution_count": null,
   "id": "6205944e",
   "metadata": {},
   "outputs": [],
   "source": [
    "if 'zy' in 'python':                # Truthy\n",
    "    print('yes')\n",
    "else:\n",
    "    print(\"NO\")"
   ]
  },
  {
   "cell_type": "code",
   "execution_count": null,
   "id": "3f99f348",
   "metadata": {},
   "outputs": [],
   "source": []
  },
  {
   "cell_type": "code",
   "execution_count": null,
   "id": "7f57d8e4",
   "metadata": {},
   "outputs": [],
   "source": [
    "tomorrow = \"No Holiday\"\n",
    "\n",
    "if tomorrow == \"Holiday\":\n",
    "    print(\"Plan a Movie !\")\n",
    "\n",
    "else:\n",
    "    print(\"Gotta go Office !\")"
   ]
  },
  {
   "cell_type": "code",
   "execution_count": null,
   "id": "470a362f",
   "metadata": {},
   "outputs": [],
   "source": []
  },
  {
   "cell_type": "code",
   "execution_count": null,
   "id": "ae73aae1",
   "metadata": {},
   "outputs": [],
   "source": [
    "num = int(input()) # default input() will read only strings \"10\" \"10.2\"\n",
    "\n",
    "if (num % 2==0): # True\n",
    "    print(\"it is an  even\")\n",
    "\n",
    "else: #False\n",
    "    print(\"it is an odd\")\n",
    "    "
   ]
  },
  {
   "cell_type": "code",
   "execution_count": null,
   "id": "e0b693a6",
   "metadata": {},
   "outputs": [],
   "source": []
  },
  {
   "cell_type": "markdown",
   "id": "201a2446",
   "metadata": {},
   "source": [
    "#### elif\n",
    "\n",
    "- Handling the mutliple conditions \n",
    "- The elif keyword in python a way of saying \"if the previous conditions were not true, then try this condition\"."
   ]
  },
  {
   "cell_type": "code",
   "execution_count": null,
   "id": "38ffdda9",
   "metadata": {},
   "outputs": [],
   "source": [
    "a = 32\n",
    "b = 34\n",
    "if b > a:\n",
    "    print(\"b is greater than a\")\n",
    "elif a%2==0: \n",
    "    print(\"a and b are equal\")\n",
    "else:\n",
    "    print(\"not equal\")\n",
    "\n",
    "print(\"Hello \")"
   ]
  },
  {
   "cell_type": "code",
   "execution_count": null,
   "id": "81c7bda9",
   "metadata": {},
   "outputs": [],
   "source": []
  },
  {
   "cell_type": "code",
   "execution_count": null,
   "id": "bc3a85d6",
   "metadata": {},
   "outputs": [],
   "source": [
    "name = input(\"Enter the Name\")\n",
    "\n",
    "\n",
    "if name == 'Fred':\n",
    "    print('Hello Fred')\n",
    "elif name == 'Xander':\n",
    "    print('Hello Xander')\n",
    "elif name == 'Joe':\n",
    "    print('Hello Joe')\n",
    "elif name == \"Joe\":\n",
    "    print('Hello Arnold')\n",
    "else:\n",
    "    print(\"I don't know who you are!\")\n",
    "\n",
    "print(\"Normal flow\")\n",
    "print(10+20)"
   ]
  },
  {
   "cell_type": "code",
   "execution_count": null,
   "id": "fd8cc69c",
   "metadata": {},
   "outputs": [],
   "source": []
  },
  {
   "cell_type": "markdown",
   "id": "450fbde2",
   "metadata": {},
   "source": [
    "#### multiple if's\n",
    "    - #In multiple if's , each and very condition is checked =>  even if the previous if is true"
   ]
  },
  {
   "cell_type": "code",
   "execution_count": null,
   "id": "a51035ab",
   "metadata": {},
   "outputs": [],
   "source": [
    "#in multiple if , each and very condition is checked =>  even if the previous if is true or false.\n",
    "data = 10\n",
    "if data>=10:\n",
    "    print(\"HI\")\n",
    "    \n",
    "if type(data) is int:\n",
    "    print(\"Hey\")\n",
    "    \n",
    "if type(data) is str:\n",
    "    print(\"Hello\")\n",
    "    \n",
    "else:\n",
    "    print(\"Bye Bye\")\n",
    "print(\"Continue from if else\")"
   ]
  },
  {
   "cell_type": "code",
   "execution_count": null,
   "id": "598d42b0",
   "metadata": {},
   "outputs": [],
   "source": []
  },
  {
   "cell_type": "code",
   "execution_count": null,
   "id": "5d2b6ba5",
   "metadata": {},
   "outputs": [],
   "source": [
    "data = 10\n",
    "if data>10:\n",
    "    print(\"HI\")\n",
    "    \n",
    "elif type(data) is int:\n",
    "    print(\"Hey\")\n",
    "    \n",
    "elif type(data) is str:\n",
    "    print(\"Hello\")\n",
    "    \n",
    "else:\n",
    "    print(\"Bye Bye\")\n",
    "    \n",
    "print(\"Continue from if else\")"
   ]
  },
  {
   "cell_type": "markdown",
   "id": "1951e61c",
   "metadata": {},
   "source": [
    "#### excercise \n",
    "    "
   ]
  },
  {
   "cell_type": "code",
   "execution_count": null,
   "id": "87b048e0",
   "metadata": {},
   "outputs": [],
   "source": [
    "#grade example \n",
    "\n",
    "marks = [10,9,8,7,6]\n",
    "\n",
    "sum1 = sum(marks)\n",
    "print(\"sum is \",sum1)\n",
    "n = len(marks)\n",
    "avg = sum1/n\n",
    "\n",
    "print(\"the average is \",avg)\n",
    "\n",
    "print(avg,sum1)\n",
    "\n",
    "if avg > 9:\n",
    "    print(\"A\")\n",
    "elif avg>8:\n",
    "    print(\"B\")\n",
    "elif avg>7:\n",
    "    print(\"C\")\n",
    "elif avg>6:\n",
    "    print(\"D\")\n",
    "else:\n",
    "    print(\"Fail\")"
   ]
  },
  {
   "cell_type": "code",
   "execution_count": null,
   "id": "4f95cc3f",
   "metadata": {},
   "outputs": [],
   "source": []
  },
  {
   "cell_type": "code",
   "execution_count": null,
   "id": "ef3991a8",
   "metadata": {},
   "outputs": [],
   "source": [
    "#grade example \n",
    "\n",
    "marks = [10,9,8,7,6]\n",
    "\n",
    "sum1 = sum(marks)\n",
    "print(\"sum is \",sum1)\n",
    "n = len(marks)\n",
    "avg = sum1/n\n",
    "\n",
    "print(\"the average is \",avg)\n",
    "\n",
    "# print(avg,sum1)\n",
    "\n",
    "if avg > 9:\n",
    "    print(\"A\")\n",
    "if avg>8:\n",
    "    print(\"B\")\n",
    "if avg>7:\n",
    "    print(\"C\")\n",
    "if avg>6:\n",
    "    print(\"D\")\n",
    "else:\n",
    "    print(\"Fail\")\n",
    "\n",
    "                "
   ]
  },
  {
   "cell_type": "code",
   "execution_count": null,
   "id": "d2bac17d",
   "metadata": {},
   "outputs": [],
   "source": []
  },
  {
   "cell_type": "code",
   "execution_count": null,
   "id": "5cfbe641",
   "metadata": {},
   "outputs": [],
   "source": []
  },
  {
   "cell_type": "markdown",
   "id": "6ccf90ef",
   "metadata": {},
   "source": [
    "### nested if\n",
    "    - writing if & else block inside another if & else block\n"
   ]
  },
  {
   "cell_type": "code",
   "execution_count": null,
   "id": "85ae7ef3",
   "metadata": {},
   "outputs": [],
   "source": [
    "passwds = {\"phonepwd\":\"123\"}\n",
    "\n",
    "input_passwd = input(\"enter the passwd to unlock the device: \")\n",
    "\n",
    "if (input_passwd == passwds[\"phonepwd\"]):\n",
    "    print('Welcome unlocked')\n",
    "else:\n",
    "    print('Please try again')"
   ]
  },
  {
   "cell_type": "code",
   "execution_count": null,
   "id": "0fb314ca",
   "metadata": {},
   "outputs": [],
   "source": []
  },
  {
   "cell_type": "code",
   "execution_count": null,
   "id": "b7031833",
   "metadata": {},
   "outputs": [],
   "source": [
    "# voting example \n",
    "\n",
    "age = int(input(\"Enter the Age?: \"))\n",
    "\n",
    "\n",
    "if age>=18:\n",
    "    voter_id = input(\"Do you have Voter Id?: Y/N\")\n",
    "    if voter_id == \"Y\":\n",
    "        print(\"Eligible to vote \")\n",
    "    else:\n",
    "        print(\"Apply for the card\")\n",
    "else:\n",
    "    print(\"not eligible to vote\")\n",
    "   "
   ]
  },
  {
   "cell_type": "code",
   "execution_count": null,
   "id": "15c53c4e",
   "metadata": {},
   "outputs": [],
   "source": []
  },
  {
   "cell_type": "code",
   "execution_count": null,
   "id": "98d427fa",
   "metadata": {},
   "outputs": [],
   "source": [
    "a=int(input(\"Enter num1=\"))\n",
    "b=int(input(\"Enter num2=\"))\n",
    "c=int(input(\"Enter num3=\"))\n",
    "# 3 9 6\n",
    "if a>b:\n",
    "    if a>c:\n",
    "        print(a)\n",
    "    else:\n",
    "        print(c)\n",
    "else:\n",
    "    if(b>c):\n",
    "        print(b)\n",
    "    else:\n",
    "        print(c)"
   ]
  },
  {
   "cell_type": "code",
   "execution_count": null,
   "id": "a7934dd3",
   "metadata": {},
   "outputs": [],
   "source": [
    "# optimized\n",
    "\n",
    "\n",
    "a=int(input(\"Enter num1: \"))\n",
    "b=int(input(\"Enter num2: \"))\n",
    "c=int(input(\"Enter num3: \"))\n",
    "if a==b==c:\n",
    "    print(\"ALL NUMS are equal's\")\n",
    "elif (a>b and a>c):\n",
    "    print(a)\n",
    "elif (b>a and b>c):\n",
    "    print(b)\n",
    "else:\n",
    "    print(c)"
   ]
  },
  {
   "cell_type": "code",
   "execution_count": null,
   "id": "ddfbc4c6",
   "metadata": {},
   "outputs": [],
   "source": []
  },
  {
   "cell_type": "code",
   "execution_count": null,
   "id": "61c28d71",
   "metadata": {},
   "outputs": [],
   "source": []
  },
  {
   "cell_type": "code",
   "execution_count": null,
   "id": "4f464d40",
   "metadata": {},
   "outputs": [],
   "source": [
    "#excercise \n",
    "\n",
    "\n",
    "a =  int(input()) #5\n",
    "b = int(input())  #2\n",
    "\n",
    "if a>5:\n",
    "    if a>=10:\n",
    "        print(\" If Block It's greater\")\n",
    "    else:\n",
    "        print(\"It's not greater\")\n",
    "else:\n",
    "    a+=5 #a = a+5\n",
    "    b=-5\n",
    "    if(a>=10):\n",
    "        print(\" Else Block It's greater\")\n",
    "    else:\n",
    "        print(\"Lesser\")"
   ]
  },
  {
   "cell_type": "code",
   "execution_count": null,
   "id": "5594063d",
   "metadata": {},
   "outputs": [],
   "source": [
    "num =  int(input(\"Enter the NUM \")) #10\n",
    "if num<=10:\n",
    "    num-=1\n",
    "    if num<=8:\n",
    "        num-=2\n",
    "        if num<=5:\n",
    "            num+=2\n",
    "            if num<=0:\n",
    "                print(\"Hello\")\n",
    "            else:\n",
    "                print(\"Bye\")\n",
    "        else:\n",
    "            print(\"else-1\")\n",
    "    else:\n",
    "        print(\"else -2\")\n",
    "else:\n",
    "    print(\"else -3\")"
   ]
  },
  {
   "cell_type": "code",
   "execution_count": null,
   "id": "01802654",
   "metadata": {},
   "outputs": [],
   "source": []
  },
  {
   "cell_type": "code",
   "execution_count": null,
   "id": "9fc2a28c",
   "metadata": {},
   "outputs": [],
   "source": []
  },
  {
   "cell_type": "markdown",
   "id": "fcfc5ed8",
   "metadata": {},
   "source": [
    "####  Short Hand If else\n",
    "    If you have only one statement to execute, \n",
    "     \n",
    "     you can put it on the same line as the if statement.\n",
    "    "
   ]
  },
  {
   "cell_type": "code",
   "execution_count": null,
   "id": "842637f6",
   "metadata": {},
   "outputs": [],
   "source": [
    "a = True  #1\n",
    "\n",
    "b= False  #0\n",
    "\n",
    "if a>b: print(\"A is Greater\")\n",
    "print(a,b)"
   ]
  },
  {
   "cell_type": "code",
   "execution_count": null,
   "id": "c08a68ec",
   "metadata": {},
   "outputs": [],
   "source": []
  },
  {
   "cell_type": "code",
   "execution_count": null,
   "id": "bac8d192",
   "metadata": {},
   "outputs": [],
   "source": [
    "a=100\n",
    "b=20\n",
    "print(\"True\") if a<b else print(\"False\")"
   ]
  },
  {
   "cell_type": "code",
   "execution_count": null,
   "id": "311f8a53",
   "metadata": {},
   "outputs": [],
   "source": []
  },
  {
   "cell_type": "markdown",
   "id": "07e609f9",
   "metadata": {},
   "source": [
    "#### excercise "
   ]
  },
  {
   "cell_type": "code",
   "execution_count": null,
   "id": "ac5a4d39",
   "metadata": {},
   "outputs": [],
   "source": [
    "print(len([]))\n",
    "print(bool(()))\n",
    "print(bool(0))\n",
    "print(bool(0.0))\n",
    "print(bool(\"\"))"
   ]
  },
  {
   "cell_type": "code",
   "execution_count": null,
   "id": "97091da4",
   "metadata": {},
   "outputs": [],
   "source": [
    "print(bool(10))\n",
    "\n",
    "print(bool(\"kumar\"))\n",
    "\n",
    "print(bool([10]))"
   ]
  },
  {
   "cell_type": "code",
   "execution_count": null,
   "id": "84ac2a14",
   "metadata": {},
   "outputs": [],
   "source": [
    "if \"\":\n",
    "    print(\"hello\")\n",
    "    print(\"True\")\n",
    "else:\n",
    "    print(\"Flase Block\")"
   ]
  },
  {
   "cell_type": "code",
   "execution_count": null,
   "id": "aef18e40",
   "metadata": {},
   "outputs": [],
   "source": [
    "print(bool([10]))"
   ]
  },
  {
   "cell_type": "code",
   "execution_count": null,
   "id": "63eac51e",
   "metadata": {},
   "outputs": [],
   "source": [
    "if [10]:\n",
    "    print(\"hello\")\n",
    "    print(\"True\")\n",
    "else:\n",
    "    print(\"Bye bye\")"
   ]
  },
  {
   "cell_type": "code",
   "execution_count": null,
   "id": "70f718f4",
   "metadata": {},
   "outputs": [],
   "source": []
  },
  {
   "cell_type": "code",
   "execution_count": null,
   "id": "4b731ca5",
   "metadata": {},
   "outputs": [],
   "source": [
    "# conditional \n",
    "    if \n",
    "    if else\n",
    "    if elif elif else\n",
    "    if if if else\n",
    "    \n",
    "    "
   ]
  },
  {
   "cell_type": "code",
   "execution_count": null,
   "id": "985d1085",
   "metadata": {},
   "outputs": [],
   "source": []
  },
  {
   "cell_type": "code",
   "execution_count": null,
   "id": "c8cf71fe",
   "metadata": {},
   "outputs": [],
   "source": []
  },
  {
   "cell_type": "markdown",
   "id": "d9eb6926",
   "metadata": {},
   "source": [
    "### Looping \n",
    "\n",
    "- Sometimes it may be neccessary to repeat the certain process until a certain condition is met.\n",
    "- It's a process of repeating a set of statments\n",
    "\n",
    "    In python , there are 2 loops"
   ]
  },
  {
   "cell_type": "markdown",
   "id": "7ad3e7a0",
   "metadata": {},
   "source": [
    "#### For loop\n",
    "\n",
    "- A for loop is used for iterating over a sequence (that is either a list, a tuple, a dictionary, a set, or a string).\n",
    "\n",
    "- With the for loop we can execute a set of statements, once for each item in a list, tuple, set etc.\n",
    "\n",
    "-  For loop is preferred when we know the no of iterations in advance. \n",
    "\n",
    ">syntax:\n",
    "\n",
    "- for var in sequence:\n",
    "    \n",
    "    statements"
   ]
  },
  {
   "cell_type": "code",
   "execution_count": null,
   "id": "5f0a0787",
   "metadata": {},
   "outputs": [],
   "source": []
  },
  {
   "cell_type": "code",
   "execution_count": null,
   "id": "1f18faae",
   "metadata": {},
   "outputs": [],
   "source": [
    "# without loops\n",
    "\n",
    "# print(\"Hello\")\n",
    "# print(\"Hello\")\n",
    "# print(\"Hello\")\n",
    "# print(\"Hello\")\n",
    "# print(\"Hello\")\n",
    "# print(\"Hello\")\n",
    "# print(\"Hello\")\n",
    "# print(\"Hello\")\n",
    "# print(\"Hello\")\n",
    "\n"
   ]
  },
  {
   "cell_type": "code",
   "execution_count": null,
   "id": "ec56d7e7",
   "metadata": {},
   "outputs": [],
   "source": []
  },
  {
   "cell_type": "code",
   "execution_count": null,
   "id": "2904368c",
   "metadata": {},
   "outputs": [],
   "source": [
    "# with loops\n",
    "\n",
    "for i in range(1,10,1):\n",
    "    print(\"hello\" , end=\" \")"
   ]
  },
  {
   "cell_type": "code",
   "execution_count": null,
   "id": "8983c9a4",
   "metadata": {},
   "outputs": [],
   "source": []
  },
  {
   "cell_type": "code",
   "execution_count": null,
   "id": "ffef4e6e",
   "metadata": {},
   "outputs": [],
   "source": [
    "list(range(0,10,1)) # start , stop , step"
   ]
  },
  {
   "cell_type": "code",
   "execution_count": null,
   "id": "964ac316",
   "metadata": {},
   "outputs": [],
   "source": []
  },
  {
   "cell_type": "code",
   "execution_count": null,
   "id": "ed4d7f60",
   "metadata": {},
   "outputs": [],
   "source": [
    "for i in range(1,10,1):\n",
    "    print(i,end=\" \")"
   ]
  },
  {
   "cell_type": "code",
   "execution_count": null,
   "id": "90f419f8",
   "metadata": {},
   "outputs": [],
   "source": []
  },
  {
   "cell_type": "code",
   "execution_count": null,
   "id": "2c1c6110",
   "metadata": {},
   "outputs": [],
   "source": [
    "for i in range(1,10,1):\n",
    "    print(i**2,end=\" \")"
   ]
  },
  {
   "cell_type": "code",
   "execution_count": null,
   "id": "0fb4bb2e",
   "metadata": {},
   "outputs": [],
   "source": []
  },
  {
   "cell_type": "code",
   "execution_count": null,
   "id": "e9544c1c",
   "metadata": {},
   "outputs": [],
   "source": [
    "for i in range(1,10,1):\n",
    "    print(\"Hello User\",i)\n",
    "    \n",
    "print(\"out of loop\")\n",
    "print(10+20)"
   ]
  },
  {
   "cell_type": "code",
   "execution_count": null,
   "id": "622b8af3",
   "metadata": {},
   "outputs": [],
   "source": []
  },
  {
   "cell_type": "code",
   "execution_count": null,
   "id": "ece6701e",
   "metadata": {},
   "outputs": [],
   "source": [
    "for ak in range(0,10):\n",
    "    print(ak)\n",
    "    print(\"HEllo\")\n",
    "    print(\"Hi\")\n",
    "\n",
    "print(ak)"
   ]
  },
  {
   "cell_type": "code",
   "execution_count": null,
   "id": "2d0901b5",
   "metadata": {},
   "outputs": [],
   "source": []
  },
  {
   "cell_type": "code",
   "execution_count": null,
   "id": "54d33f98",
   "metadata": {},
   "outputs": [],
   "source": [
    "\n",
    "    \n",
    "num = 9\n",
    "i = 1\n",
    "print(f'{num} * {i} = {num*i}')\n",
    "i+=1\n",
    "print(f'{num} * {i} = {num*i}')\n",
    "\n",
    "i+=1\n",
    "print(f'{num} * {i} = {num*i}')\n",
    "i+=1\n",
    "print(f'{num} * {i} = {num*i}')\n",
    "i+=1\n",
    "print(f'{num} * {i} = {num*i}')\n",
    "i+=1\n",
    "print(f'{num} * {i} = {num*i}')\n",
    "i+=1\n",
    "print(f'{num} * {i} = {num*i}')\n",
    "i+=1\n",
    "print(f'{num} * {i} = {num*i}')\n",
    "i+=1\n",
    "print(f'{num} * {i} = {num*i}')\n",
    "i+=1\n",
    "print(f'{num} * {i} = {num*i}')"
   ]
  },
  {
   "cell_type": "code",
   "execution_count": null,
   "id": "055219e7",
   "metadata": {},
   "outputs": [],
   "source": [
    "num = int(input(\"Enter the number\"))\n",
    "\n",
    "for i in range(1,11):\n",
    "    print(f'{num} * {i} = {num*i}')"
   ]
  },
  {
   "cell_type": "code",
   "execution_count": null,
   "id": "e60714aa",
   "metadata": {},
   "outputs": [],
   "source": []
  },
  {
   "cell_type": "markdown",
   "id": "272205f3",
   "metadata": {},
   "source": [
    "#### print base FOR-LOOP\n",
    "    - Mainly used for printing & filtering purpose\n",
    "    - Don't have access to the index locations.\n",
    "    - Can be used on ALL-TYPES : List,Tuple , Set , Str , Dictionary"
   ]
  },
  {
   "cell_type": "code",
   "execution_count": null,
   "id": "c3a6fa65",
   "metadata": {},
   "outputs": [],
   "source": [
    "# list \n",
    "\n",
    "marks = [90,76,72,272]\n",
    "\n",
    "for m in marks:\n",
    "    print(m)"
   ]
  },
  {
   "cell_type": "code",
   "execution_count": null,
   "id": "671e07a6",
   "metadata": {},
   "outputs": [],
   "source": []
  },
  {
   "cell_type": "code",
   "execution_count": null,
   "id": "65957b1d",
   "metadata": {},
   "outputs": [],
   "source": [
    "# tuple\n",
    "prices = (55.2,90.2,67.2,51.2,10/0)\n",
    "\n",
    "for p in prices:\n",
    "    print(p)"
   ]
  },
  {
   "cell_type": "code",
   "execution_count": null,
   "id": "c22c85a7",
   "metadata": {},
   "outputs": [],
   "source": []
  },
  {
   "cell_type": "code",
   "execution_count": null,
   "id": "97081874",
   "metadata": {},
   "outputs": [],
   "source": [
    "# str\n",
    "name = \"Kumar R\"\n",
    "\n",
    "for ch in name:\n",
    "    print(ch)"
   ]
  },
  {
   "cell_type": "code",
   "execution_count": null,
   "id": "42af2c12",
   "metadata": {},
   "outputs": [],
   "source": [
    "s = \"Python is OOps Language\"\n",
    "for ch in s:\n",
    "    if (ch.isupper()):\n",
    "        print(ch , end=\" \")"
   ]
  },
  {
   "cell_type": "code",
   "execution_count": null,
   "id": "43407d83",
   "metadata": {},
   "outputs": [],
   "source": []
  },
  {
   "cell_type": "code",
   "execution_count": null,
   "id": "c749f49c",
   "metadata": {},
   "outputs": [],
   "source": []
  },
  {
   "cell_type": "code",
   "execution_count": null,
   "id": "b527f222",
   "metadata": {},
   "outputs": [],
   "source": [
    "# set \n",
    "\n",
    "colors = {\"blue\",\"red\",\"yellow\",\"blue\",\"red\",\"orange\"}\n",
    "\n",
    "for c in colors:\n",
    "    print(c)"
   ]
  },
  {
   "cell_type": "code",
   "execution_count": null,
   "id": "a0391474",
   "metadata": {},
   "outputs": [],
   "source": []
  },
  {
   "cell_type": "code",
   "execution_count": null,
   "id": "7d6ef206",
   "metadata": {},
   "outputs": [],
   "source": [
    "# dict\n",
    "\n",
    "student = {\"Name\":\"Rajini\",\n",
    "            \"course\":\"python\",\n",
    "            \"fee\":12000}\n",
    "\n",
    "for s in student:\n",
    "    print(s)"
   ]
  },
  {
   "cell_type": "code",
   "execution_count": null,
   "id": "7d80141a",
   "metadata": {},
   "outputs": [],
   "source": [
    "# dict\n",
    "\n",
    "student = {\"Name\":\"Rajini\",\n",
    "            \"course\":\"python\",\n",
    "            \"fee\":12000}\n",
    "\n",
    "for s in student:\n",
    "    print(s , student[s])"
   ]
  },
  {
   "cell_type": "code",
   "execution_count": null,
   "id": "84714f4b",
   "metadata": {},
   "outputs": [],
   "source": [
    "# dict\n",
    "\n",
    "student = {\"Name\":\"Rajini\",\n",
    "            \"course\":\"python\",\n",
    "            \"fee\":12000}\n",
    "\n",
    "for s in student:\n",
    "    print(s , student.get(s))"
   ]
  },
  {
   "cell_type": "code",
   "execution_count": null,
   "id": "64b3ac2c",
   "metadata": {},
   "outputs": [],
   "source": [
    "#dict \n",
    "#key = immutables \n",
    "#values =immu & mutable : both\n",
    "student = {\n",
    "    \"Name\": \"Ellie\",\n",
    "    \"Address\":\"USA\",\n",
    "    \"Salary\":4000,\n",
    "    \"Role\":\"SDE\"\n",
    "}\n",
    "\n",
    "\n",
    "for tmp in student: # print only the keys\n",
    "    print(tmp,student.get(tmp))"
   ]
  },
  {
   "cell_type": "code",
   "execution_count": null,
   "id": "a92d000a",
   "metadata": {},
   "outputs": [],
   "source": [
    "print(student.keys())"
   ]
  },
  {
   "cell_type": "code",
   "execution_count": null,
   "id": "a21bb4f2",
   "metadata": {},
   "outputs": [],
   "source": [
    "print(student.values())"
   ]
  },
  {
   "cell_type": "code",
   "execution_count": null,
   "id": "065fe425",
   "metadata": {},
   "outputs": [],
   "source": [
    "print(student.items())"
   ]
  },
  {
   "cell_type": "code",
   "execution_count": null,
   "id": "807f5b5d",
   "metadata": {},
   "outputs": [],
   "source": []
  },
  {
   "cell_type": "code",
   "execution_count": null,
   "id": "dadcda14",
   "metadata": {},
   "outputs": [],
   "source": [
    "for data in student.items():\n",
    "    print(data , type(data))"
   ]
  },
  {
   "cell_type": "code",
   "execution_count": null,
   "id": "4e1455b4",
   "metadata": {},
   "outputs": [],
   "source": []
  },
  {
   "cell_type": "code",
   "execution_count": null,
   "id": "9006f51c",
   "metadata": {},
   "outputs": [],
   "source": [
    "for data in student.items():\n",
    "    print(data[1])"
   ]
  },
  {
   "cell_type": "code",
   "execution_count": null,
   "id": "1ef0e4af",
   "metadata": {},
   "outputs": [],
   "source": []
  },
  {
   "cell_type": "code",
   "execution_count": null,
   "id": "6384bb3e",
   "metadata": {},
   "outputs": [],
   "source": [
    "for k,v in student.items(): #[(K1,v1),(K2,v2).....,(K2,v2)]\n",
    "    print(k,v)\n",
    "    "
   ]
  },
  {
   "cell_type": "code",
   "execution_count": null,
   "id": "cbd74417",
   "metadata": {},
   "outputs": [],
   "source": []
  },
  {
   "cell_type": "code",
   "execution_count": null,
   "id": "11b58dc1",
   "metadata": {},
   "outputs": [],
   "source": [
    "for dt in student.keys():\n",
    "    print(dt , student[dt])"
   ]
  },
  {
   "cell_type": "code",
   "execution_count": null,
   "id": "6043b9d4",
   "metadata": {},
   "outputs": [],
   "source": []
  },
  {
   "cell_type": "code",
   "execution_count": null,
   "id": "64714925",
   "metadata": {},
   "outputs": [],
   "source": [
    "\n",
    "#unpacking\n",
    "\n",
    "for key , val in student.items():\n",
    "    print(key,val)"
   ]
  },
  {
   "cell_type": "code",
   "execution_count": null,
   "id": "7358bbeb",
   "metadata": {},
   "outputs": [],
   "source": []
  },
  {
   "cell_type": "code",
   "execution_count": null,
   "id": "969f48fd",
   "metadata": {},
   "outputs": [],
   "source": [
    "a=[(\"sairam\",\"python\",1000),(\"Ak\",\"Java\",700),(\"Stu\",\"Ruby\",600)]\n",
    "\n",
    "for x in a:\n",
    "    print(x,x[0],x[1],x[2])"
   ]
  },
  {
   "cell_type": "code",
   "execution_count": null,
   "id": "9f090b3b",
   "metadata": {},
   "outputs": [],
   "source": [
    "a=[(\"sairam\",\"python\",1000),(\"Ak\",\"Java\",\"python\"),(\"Stu\",\"Ruby\",600)]\n",
    "\n",
    "for data in a:\n",
    "    print(data)"
   ]
  },
  {
   "cell_type": "code",
   "execution_count": null,
   "id": "301af930",
   "metadata": {},
   "outputs": [],
   "source": [
    "a=[(\"sairam\",\"python\",1000),(\"Ak\",\"Java\",\"python\"),(\"Stu\",\"Ruby\",600)]\n",
    "\n",
    "for v1,v2,v3 in a:\n",
    "    print(v1,v2,v3)"
   ]
  },
  {
   "cell_type": "code",
   "execution_count": null,
   "id": "e2d6fb1c",
   "metadata": {},
   "outputs": [],
   "source": []
  },
  {
   "cell_type": "markdown",
   "id": "cbb68b06",
   "metadata": {},
   "source": [
    "#### range base for loop\n",
    "\n",
    "- we have control index locations\n",
    "- maily used to change the data at locations\n",
    "- customized output"
   ]
  },
  {
   "cell_type": "code",
   "execution_count": null,
   "id": "fead2108",
   "metadata": {},
   "outputs": [],
   "source": [
    "# LIST"
   ]
  },
  {
   "cell_type": "code",
   "execution_count": null,
   "id": "bf789f91",
   "metadata": {},
   "outputs": [],
   "source": [
    "\n",
    "list_data = [\"Python\",\"Course\",\"Fee\",\"Dollars\",True,10.28989]\n",
    "\n",
    "n = len(list_data)\n",
    "\n",
    "print(f'length of list is {n}')\n",
    "\n",
    "for ind in range(0,n):\n",
    "    print(ind , list_data[ind])"
   ]
  },
  {
   "cell_type": "code",
   "execution_count": null,
   "id": "4e9e02a9",
   "metadata": {},
   "outputs": [],
   "source": []
  },
  {
   "cell_type": "code",
   "execution_count": null,
   "id": "970a8a7c",
   "metadata": {},
   "outputs": [],
   "source": [
    "for ind in range(n):\n",
    "    if ind%2==1:\n",
    "        print(list_data[ind])"
   ]
  },
  {
   "cell_type": "code",
   "execution_count": null,
   "id": "b0bd6f70",
   "metadata": {},
   "outputs": [],
   "source": []
  },
  {
   "cell_type": "code",
   "execution_count": null,
   "id": "2a3e6201",
   "metadata": {},
   "outputs": [],
   "source": [
    "for ind in range(n):\n",
    "    if ind%2==0:\n",
    "        list_data[ind] = ind**ind"
   ]
  },
  {
   "cell_type": "code",
   "execution_count": null,
   "id": "7070afa4",
   "metadata": {},
   "outputs": [],
   "source": [
    "print(list_data)"
   ]
  },
  {
   "cell_type": "code",
   "execution_count": null,
   "id": "363538ad",
   "metadata": {},
   "outputs": [],
   "source": []
  },
  {
   "cell_type": "code",
   "execution_count": null,
   "id": "f5fe2f57",
   "metadata": {},
   "outputs": [],
   "source": [
    "#reverse\n",
    "\n",
    "for index in range(-1,-n-1,-1):\n",
    "    print(list_data[index])"
   ]
  },
  {
   "cell_type": "code",
   "execution_count": null,
   "id": "e27dba91",
   "metadata": {},
   "outputs": [],
   "source": []
  },
  {
   "cell_type": "code",
   "execution_count": null,
   "id": "ac0c9516",
   "metadata": {},
   "outputs": [],
   "source": [
    "for i in range(n):\n",
    "    if (i>2):\n",
    "        print(comp[i])\n",
    "    else:\n",
    "        print(f\"{i} is less than given condition\")\n",
    "\n"
   ]
  },
  {
   "cell_type": "code",
   "execution_count": null,
   "id": "22778425",
   "metadata": {},
   "outputs": [],
   "source": []
  },
  {
   "cell_type": "code",
   "execution_count": null,
   "id": "8de9ed8d",
   "metadata": {},
   "outputs": [],
   "source": [
    "comp = [\"Google\",\"Microsoft\",True , 1729 , 10e10 , 5+2j]\n",
    "\n",
    "loc = int(input(\"Enter the loc: \"))\n",
    "\n",
    "inp_dt= input(\"Enter the data to input: \")\n",
    "\n",
    "for i in range(len(comp)):\n",
    "    if(i==loc):\n",
    "        comp[i] = inp_dt\n",
    "print(comp)"
   ]
  },
  {
   "cell_type": "code",
   "execution_count": null,
   "id": "71b515b7",
   "metadata": {},
   "outputs": [],
   "source": []
  },
  {
   "cell_type": "code",
   "execution_count": null,
   "id": "a775fd3f",
   "metadata": {},
   "outputs": [],
   "source": [
    "comp = [\"Google\",\"Microsoft\",True , 1729 , 2j ,10e10 , 5+2j]\n",
    "for i in range(len(comp)):\n",
    "    if (type(comp[i]) in [complex,bool,int]):\n",
    "        print(comp[i])"
   ]
  },
  {
   "cell_type": "code",
   "execution_count": null,
   "id": "98af47ed",
   "metadata": {},
   "outputs": [],
   "source": []
  },
  {
   "cell_type": "code",
   "execution_count": null,
   "id": "4c5bd8b0",
   "metadata": {},
   "outputs": [],
   "source": [
    "# TUPLE"
   ]
  },
  {
   "cell_type": "code",
   "execution_count": null,
   "id": "e13f7d40",
   "metadata": {},
   "outputs": [],
   "source": [
    "# tuple\n",
    "prices = (55.2,90.2,67.2,51.2,10/3)\n",
    "\n",
    "for ind in range(len(prices)):\n",
    "    print(prices[ind])"
   ]
  },
  {
   "cell_type": "code",
   "execution_count": null,
   "id": "bad1e7c0",
   "metadata": {},
   "outputs": [],
   "source": []
  },
  {
   "cell_type": "code",
   "execution_count": null,
   "id": "1f317266",
   "metadata": {},
   "outputs": [],
   "source": [
    "# STR"
   ]
  },
  {
   "cell_type": "code",
   "execution_count": null,
   "id": "96ed8b0f",
   "metadata": {},
   "outputs": [],
   "source": [
    "msg = \"Hey Hi\"\n",
    "\n",
    "for i in range(len(msg)):\n",
    "    print(msg[i])"
   ]
  },
  {
   "cell_type": "code",
   "execution_count": null,
   "id": "5e854f30",
   "metadata": {},
   "outputs": [],
   "source": [
    "lang = \"Python Is OOP's Languge\"\n",
    "\n",
    "n = len(lang)\n",
    "\n",
    "for ind in range(n):\n",
    "    print(lang[ind])"
   ]
  },
  {
   "cell_type": "code",
   "execution_count": null,
   "id": "f8646015",
   "metadata": {},
   "outputs": [],
   "source": [
    "s=\"Python Is OOP's Languge\""
   ]
  },
  {
   "cell_type": "code",
   "execution_count": null,
   "id": "b2fd23b5",
   "metadata": {},
   "outputs": [],
   "source": [
    "for ind in range(len(s)):\n",
    "    if (s[ind]>='A' and s[ind]<='Z'):\n",
    "        print(s[ind] , end=\" \")"
   ]
  },
  {
   "cell_type": "code",
   "execution_count": null,
   "id": "c3bae194",
   "metadata": {},
   "outputs": [],
   "source": [
    "print(ord(\"A\") ,ord(\"Z\"))"
   ]
  },
  {
   "cell_type": "code",
   "execution_count": null,
   "id": "529bf12f",
   "metadata": {},
   "outputs": [],
   "source": [
    "print(ord(\"a\") ,ord(\"z\"))"
   ]
  },
  {
   "cell_type": "code",
   "execution_count": null,
   "id": "3fe3f4ff",
   "metadata": {},
   "outputs": [],
   "source": [
    "print(ord(\"A\"),ord(\"y\"), ord(\"Z\"))"
   ]
  },
  {
   "cell_type": "code",
   "execution_count": null,
   "id": "0bcbdc24",
   "metadata": {},
   "outputs": [],
   "source": [
    "for ind in range(len(s)):\n",
    "    if ord(s[ind])>=97 and ord(s[ind])<=122:\n",
    "        print(s[ind] , end=\" \")"
   ]
  },
  {
   "cell_type": "code",
   "execution_count": null,
   "id": "8efd60ce",
   "metadata": {},
   "outputs": [],
   "source": [
    "print(\"A\">\"a\")"
   ]
  },
  {
   "cell_type": "code",
   "execution_count": null,
   "id": "033a8821",
   "metadata": {},
   "outputs": [],
   "source": []
  },
  {
   "cell_type": "code",
   "execution_count": null,
   "id": "20870ccf",
   "metadata": {},
   "outputs": [],
   "source": [
    "mobiles = {\"mi\",\"vivo\",\"oneplus\",\"apple\"}\n",
    "print(mobiles)\n",
    "for ind in range(len(mobiles)):\n",
    "    print(mobiles[ind])"
   ]
  },
  {
   "cell_type": "code",
   "execution_count": null,
   "id": "4747a354",
   "metadata": {},
   "outputs": [],
   "source": []
  },
  {
   "cell_type": "markdown",
   "id": "464a9efa",
   "metadata": {},
   "source": [
    "### WHILE LOOP\n",
    "    \n",
    "    \n",
    "- With the while loop we can execute a set of statements as long as a condition is true.\n",
    "- We prefer the while when dont know the no of iterations in advance\n",
    "- In While loop , its mandatory to initialise the index variable and increment it during iterations\n",
    "\n"
   ]
  },
  {
   "cell_type": "code",
   "execution_count": null,
   "id": "5cbed812",
   "metadata": {},
   "outputs": [],
   "source": [
    "i = 0 #index variable\n",
    "n = 10 #stop\n",
    "\n",
    "while i<n: #true \n",
    "    print(i ,end=\" \")\n",
    "    i+=1\n",
    "    \n",
    "print(\"outside loop\")"
   ]
  },
  {
   "cell_type": "code",
   "execution_count": null,
   "id": "7e8dcd52",
   "metadata": {},
   "outputs": [],
   "source": []
  },
  {
   "cell_type": "code",
   "execution_count": null,
   "id": "c45e13d3",
   "metadata": {},
   "outputs": [],
   "source": []
  },
  {
   "cell_type": "code",
   "execution_count": null,
   "id": "e020be97",
   "metadata": {},
   "outputs": [],
   "source": [
    "comp = ['Google', 'Microsoft', True, 1729, 100000000000.0, (5+2j)]\n",
    "print(comp)\n",
    "print(len(comp))\n",
    "\n"
   ]
  },
  {
   "cell_type": "code",
   "execution_count": null,
   "id": "1744ff36",
   "metadata": {},
   "outputs": [],
   "source": [
    "# print base \n",
    "for data in comp:\n",
    "    print(data, end =\" \")"
   ]
  },
  {
   "cell_type": "code",
   "execution_count": null,
   "id": "8f164e68",
   "metadata": {},
   "outputs": [],
   "source": [
    "# range \n",
    "\n",
    "for i in range(0,len(comp)):\n",
    "    print(comp[i] , end=\" \")"
   ]
  },
  {
   "cell_type": "code",
   "execution_count": null,
   "id": "154965ad",
   "metadata": {},
   "outputs": [],
   "source": []
  },
  {
   "cell_type": "code",
   "execution_count": null,
   "id": "da70dda9",
   "metadata": {},
   "outputs": [],
   "source": [
    "# while\n",
    "\n",
    "comp = ['Google', 'Microsoft', True, 1729, 100000000000.0, (5+2j)]\n",
    "\n",
    "i = 0\n",
    "n = len(comp)\n",
    "\n",
    "print(n)\n",
    "while i<n:\n",
    "    print(i)\n",
    "    print(comp[i])\n",
    "    i = i+1"
   ]
  },
  {
   "cell_type": "code",
   "execution_count": null,
   "id": "2b4844e0",
   "metadata": {},
   "outputs": [],
   "source": [
    "\n",
    "comp = ['Google', 'Microsoft', True, 1729, 100000000000.0, (5+2j)]\n",
    "\n",
    "i = 0\n",
    "n = len(comp)\n",
    "\n",
    "print(n)\n",
    "while i<n:\n",
    "    print(i)\n",
    "    print(comp[i])"
   ]
  },
  {
   "cell_type": "code",
   "execution_count": null,
   "id": "03e22fb5",
   "metadata": {},
   "outputs": [],
   "source": []
  },
  {
   "cell_type": "code",
   "execution_count": null,
   "id": "cf0bd69d",
   "metadata": {},
   "outputs": [],
   "source": []
  },
  {
   "cell_type": "code",
   "execution_count": null,
   "id": "90c02b9e",
   "metadata": {},
   "outputs": [],
   "source": [
    "i=0 #index variable\n",
    "\n",
    "n=10 #stop\n",
    "\n",
    "#if the condition is True , it enters the loops , it will stop when the condition is FALSE\n",
    "while i<=n: #0 1 2 3 4 5 6 7 8 9  10\n",
    "    print(i ,end=\" \")\n",
    "    print(\"Kumar\")\n",
    "    i+=1\n",
    "    \n",
    "print(i)"
   ]
  },
  {
   "cell_type": "code",
   "execution_count": null,
   "id": "1982e65b",
   "metadata": {},
   "outputs": [],
   "source": []
  },
  {
   "cell_type": "code",
   "execution_count": null,
   "id": "83f162f1",
   "metadata": {},
   "outputs": [],
   "source": [
    "i=0 #index variable\n",
    "\n",
    "n=10 #stop\n",
    "\n",
    "#if the condition is True , it enters the loops\n",
    "while i<=n: #0 1 2 3 4 5 6 7 8 9 \n",
    "    print(i ,end=\" \")\n",
    "    i=i+2"
   ]
  },
  {
   "cell_type": "code",
   "execution_count": null,
   "id": "e4947c5a",
   "metadata": {},
   "outputs": [],
   "source": []
  },
  {
   "cell_type": "code",
   "execution_count": null,
   "id": "eb4b605b",
   "metadata": {},
   "outputs": [],
   "source": [
    "#DRY \n",
    "\n",
    "# program to convert decimal number to binary\n",
    "#  128 64 32 16 8 4 2 1\n",
    "# \n",
    "n=369\n",
    "\n",
    "while n!=0: #when flase comes out of the loop\n",
    "    print(n%2 , end=\" \")\n",
    "    n=n//2\n",
    "\n",
    "\n",
    "# modulus = 1 1 0 1 1 (binary of 27)\n",
    "# #n = 13 \n",
    "# n = 6\n",
    "# n =3\n",
    "# n= 1 \n",
    "# n=0"
   ]
  },
  {
   "cell_type": "code",
   "execution_count": null,
   "id": "0d708d23",
   "metadata": {},
   "outputs": [],
   "source": [
    "print(bin(369))"
   ]
  },
  {
   "cell_type": "code",
   "execution_count": null,
   "id": "ade07317",
   "metadata": {},
   "outputs": [],
   "source": [
    "#infinite loop\n",
    "i=0\n",
    "while i<10:\n",
    "    print(i)"
   ]
  },
  {
   "cell_type": "code",
   "execution_count": null,
   "id": "067ffb56",
   "metadata": {},
   "outputs": [],
   "source": []
  },
  {
   "cell_type": "code",
   "execution_count": null,
   "id": "fad9ce4d",
   "metadata": {},
   "outputs": [],
   "source": [
    "comp = ['Google', 'Microsoft', True, 1729, 100000000000.0, (5+2j)]\n",
    "print(comp)\n",
    "\n",
    "\n",
    "ind = 0\n",
    "\n",
    "n = len(comp)\n",
    "\n",
    "print(ind,n)\n",
    "\n",
    "while ind < n: #0 1 2 3 4 5 \n",
    "    print(comp[ind])\n",
    "    ind+=1\n"
   ]
  },
  {
   "cell_type": "code",
   "execution_count": null,
   "id": "6feec6f8",
   "metadata": {},
   "outputs": [],
   "source": [
    "# print in reverse order.\n",
    "\n",
    "start = -1\n",
    "\n",
    "n = -len(comp)\n",
    "\n",
    "print(start,n)\n",
    "\n",
    "while start>=n: #0 1 2 3 4 5 \n",
    "    print(comp[start])\n",
    "    start=start-1"
   ]
  },
  {
   "cell_type": "code",
   "execution_count": null,
   "id": "c96e4eff",
   "metadata": {},
   "outputs": [],
   "source": []
  },
  {
   "cell_type": "code",
   "execution_count": null,
   "id": "47891408",
   "metadata": {},
   "outputs": [],
   "source": [
    "# copy \n",
    "\n",
    "ind = 0\n",
    "\n",
    "n = len(comp)\n",
    "\n",
    "new_list = ['a','b','c','d','e','f']\n",
    "\n",
    "while ind < n: #0 1 2 3 4 5 \n",
    "    comp[ind]=new_list[ind]\n",
    "    ind+=1\n",
    "comp"
   ]
  },
  {
   "cell_type": "code",
   "execution_count": null,
   "id": "9578aeb6",
   "metadata": {},
   "outputs": [],
   "source": []
  },
  {
   "cell_type": "code",
   "execution_count": null,
   "id": "cadab352",
   "metadata": {},
   "outputs": [],
   "source": [
    "# rever of a array\n",
    "\n",
    "arr = [109,3,9,0,6]\n",
    "#output [6,0,9,3,109]\n",
    "\n",
    "ind = 0 \n",
    "backind = len(arr)-1\n",
    "\n",
    "n = len(arr)\n",
    "\n",
    "while ind<(n//2):\n",
    "    arr[ind] ,arr[backind]  = arr[backind] , arr[ind]\n",
    "    ind+=1\n",
    "    backind= backind-1\n",
    "    print(f\"{ind} iteration:  {arr}\")\n",
    "\n",
    "print(arr)"
   ]
  },
  {
   "cell_type": "markdown",
   "id": "fcce1230",
   "metadata": {},
   "source": [
    "### Looping Statements"
   ]
  },
  {
   "cell_type": "markdown",
   "id": "0daea6ca",
   "metadata": {},
   "source": [
    "#### Break\n",
    "\n",
    "- With the break statement we can stop the loop before it has looped through all the items:\n",
    "\n",
    "\n",
    "#### Continue \n",
    "\n",
    "- With the continue statement we can stop the current iteration of the loop, and continue with the next:\n",
    "\n",
    "- skips the current iteration\n",
    "\n",
    "#### pass\n",
    "    for/while loops cannot be empty, but if you for some reason have a for loop with no content, put in the pass statement to avoid getting an error"
   ]
  },
  {
   "cell_type": "code",
   "execution_count": null,
   "id": "feb065d5",
   "metadata": {},
   "outputs": [],
   "source": [
    "# PASS"
   ]
  },
  {
   "cell_type": "code",
   "execution_count": null,
   "id": "d93024f1",
   "metadata": {},
   "outputs": [],
   "source": [
    "if 10>20:\n",
    "    pass"
   ]
  },
  {
   "cell_type": "code",
   "execution_count": null,
   "id": "47b07add",
   "metadata": {},
   "outputs": [],
   "source": [
    "for i in range(10):\n",
    "    pass\n"
   ]
  },
  {
   "cell_type": "code",
   "execution_count": null,
   "id": "6639c3fa",
   "metadata": {},
   "outputs": [],
   "source": [
    "while 10>2:\n",
    "    pass"
   ]
  },
  {
   "cell_type": "code",
   "execution_count": null,
   "id": "2b461baf",
   "metadata": {},
   "outputs": [],
   "source": []
  },
  {
   "cell_type": "code",
   "execution_count": null,
   "id": "42da7ab5",
   "metadata": {},
   "outputs": [],
   "source": [
    "# BREAK - STOP THE LOOP Before looping all iterations\n",
    "\n",
    "\n"
   ]
  },
  {
   "cell_type": "code",
   "execution_count": null,
   "id": "24cc43df",
   "metadata": {},
   "outputs": [],
   "source": [
    "for i in range(1,10):\n",
    "    print(i)\n",
    "    if(i==5):\n",
    "        break"
   ]
  },
  {
   "cell_type": "code",
   "execution_count": null,
   "id": "dbc28ad4",
   "metadata": {},
   "outputs": [],
   "source": []
  },
  {
   "cell_type": "code",
   "execution_count": null,
   "id": "ba8be7c9",
   "metadata": {},
   "outputs": [],
   "source": [
    "for i in range(1,10):\n",
    "   \n",
    "    print(i) \n",
    "    print(\"hi\")\n",
    "    print(\"Hello\")\n",
    "    break\n",
    "else: #no break occurence \n",
    "    print(\"Hey Hi Iam Else Block\")\n",
    "   \n",
    "    \n",
    "print(\"after for loop\")"
   ]
  },
  {
   "cell_type": "code",
   "execution_count": null,
   "id": "c3a9e534",
   "metadata": {},
   "outputs": [],
   "source": []
  },
  {
   "cell_type": "code",
   "execution_count": null,
   "id": "36f95c45",
   "metadata": {},
   "outputs": [],
   "source": [
    "for i in range(1,10):\n",
    "    break\n",
    "    print(i)\n",
    "    print(\"snjkns\")\n",
    "    print(\"snkndld\")\n",
    "    \n",
    "    \n",
    "print(\"outside loop\")"
   ]
  },
  {
   "cell_type": "code",
   "execution_count": null,
   "id": "9d4be0fc",
   "metadata": {},
   "outputs": [],
   "source": []
  },
  {
   "cell_type": "code",
   "execution_count": null,
   "id": "f402202d",
   "metadata": {},
   "outputs": [],
   "source": [
    "# CONTINUE"
   ]
  },
  {
   "cell_type": "code",
   "execution_count": null,
   "id": "2a082764",
   "metadata": {},
   "outputs": [],
   "source": [
    "for i in range(1,10):\n",
    "    if i==5 or i==8:\n",
    "        continue\n",
    "    print(i, end=\" \")\n",
    "else:\n",
    "    print(\"For loop executed all iterations\")"
   ]
  },
  {
   "cell_type": "code",
   "execution_count": null,
   "id": "5dfcb049",
   "metadata": {},
   "outputs": [],
   "source": [
    "for i in range(10):\n",
    "    print(i,end=\"\")\n",
    "    continue\n",
    "    print(\"hello\")"
   ]
  },
  {
   "cell_type": "code",
   "execution_count": null,
   "id": "c55b1e12",
   "metadata": {},
   "outputs": [],
   "source": [
    "for i in range(10):\n",
    "    continue\n",
    "    print(i)\n",
    "else:\n",
    "    print(\"Else \")"
   ]
  },
  {
   "cell_type": "code",
   "execution_count": null,
   "id": "5c04db17",
   "metadata": {},
   "outputs": [],
   "source": [
    "for i in range(100):\n",
    "    \n",
    "    if i % 3 == 0 or i % 5 == 0:\n",
    "        continue\n",
    "    else:\n",
    "        print(i , end= \" \")"
   ]
  },
  {
   "cell_type": "code",
   "execution_count": null,
   "id": "5b5dc4c1",
   "metadata": {},
   "outputs": [],
   "source": []
  },
  {
   "cell_type": "code",
   "execution_count": null,
   "id": "30ed8476",
   "metadata": {},
   "outputs": [],
   "source": [
    "# For -  Loop\n",
    "- When we know the no of iteration in advance.\n",
    "- range() is a friend which handles start,step ,stop.\n",
    " - Have control on indexes.\n",
    "    \n",
    "    \n",
    "# While - loop\n",
    " - when we don't know iteration in advance..\n",
    " - we have to declare start , stop , step\n",
    " - if we don't increment/decrement step --> infinite loop."
   ]
  },
  {
   "cell_type": "code",
   "execution_count": null,
   "id": "063c2cb9",
   "metadata": {},
   "outputs": [],
   "source": []
  },
  {
   "cell_type": "markdown",
   "id": "e12d416e",
   "metadata": {},
   "source": [
    "#### Else with For/While\n",
    "\n",
    "The else keyword in a for loop specifies a block of code to be executed when the loop is finished:"
   ]
  },
  {
   "cell_type": "code",
   "execution_count": null,
   "id": "1e86f6c1",
   "metadata": {},
   "outputs": [],
   "source": [
    "# Normal usage \n",
    "\n",
    "a =10\n",
    "b= 20\n",
    "if a>b:\n",
    "    print(\"snjknld\")\n",
    "else: #False\n",
    "    print(\"else block\")"
   ]
  },
  {
   "cell_type": "code",
   "execution_count": null,
   "id": "d4aebd11",
   "metadata": {},
   "outputs": [],
   "source": []
  },
  {
   "cell_type": "code",
   "execution_count": null,
   "id": "dac7e761",
   "metadata": {},
   "outputs": [],
   "source": [
    "#else block is executed when for loop is compeltely executed all iterations\n",
    "for i in \"Kumar\":\n",
    "    print(i ,end=\"\")\n",
    "    if(i=='z'):\n",
    "        break\n",
    "        \n",
    "        \n",
    "else: #no break #when executed al the iterations\n",
    "    print(\" Printed Successfully\")"
   ]
  },
  {
   "cell_type": "code",
   "execution_count": null,
   "id": "e256c134",
   "metadata": {},
   "outputs": [],
   "source": []
  },
  {
   "cell_type": "code",
   "execution_count": null,
   "id": "958d1d89",
   "metadata": {},
   "outputs": [],
   "source": []
  },
  {
   "cell_type": "code",
   "execution_count": null,
   "id": "681e02c1",
   "metadata": {},
   "outputs": [],
   "source": []
  },
  {
   "cell_type": "code",
   "execution_count": null,
   "id": "f3c4100d",
   "metadata": {},
   "outputs": [],
   "source": []
  },
  {
   "cell_type": "markdown",
   "id": "40c03d38",
   "metadata": {},
   "source": [
    "### Nested Loops\n",
    "\n",
    "A nested loop is a loop inside a loop.\n",
    "\n",
    "The \"inner loop\" will be executed one time for each iteration of the \"outer loop\":\n",
    "\n",
    "Useful for accessing the 2D Lists , Tuples\n"
   ]
  },
  {
   "cell_type": "markdown",
   "id": "7169202a",
   "metadata": {},
   "source": [
    "### Nested For Loop"
   ]
  },
  {
   "cell_type": "code",
   "execution_count": null,
   "id": "ebdca704",
   "metadata": {},
   "outputs": [],
   "source": [
    "for i in range(4):\n",
    "    for j in range(2):\n",
    "        print(i ** j,end=\" \")\n",
    "    print()\n",
    "    "
   ]
  },
  {
   "cell_type": "code",
   "execution_count": null,
   "id": "8f73da14",
   "metadata": {},
   "outputs": [],
   "source": [
    "# normal for loop\n",
    "\n",
    "for i in range(10):\n",
    "    print(i , end=\" \")"
   ]
  },
  {
   "cell_type": "code",
   "execution_count": null,
   "id": "0812b754",
   "metadata": {},
   "outputs": [],
   "source": [
    "count=0\n",
    "for i in range(5):\n",
    "    for j in range(3):\n",
    "        count= count+1\n",
    "    print()\n",
    "    \n",
    "print(count)"
   ]
  },
  {
   "cell_type": "code",
   "execution_count": null,
   "id": "b2b2b10b",
   "metadata": {},
   "outputs": [],
   "source": []
  },
  {
   "cell_type": "code",
   "execution_count": null,
   "id": "febe952b",
   "metadata": {},
   "outputs": [],
   "source": [
    "for i in range(5): #0-4\n",
    "    for j in range(2): #0-1\n",
    "        print(\"HI\" , end=\" \")\n",
    "    print()"
   ]
  },
  {
   "cell_type": "code",
   "execution_count": null,
   "id": "69f0a484",
   "metadata": {},
   "outputs": [],
   "source": []
  },
  {
   "cell_type": "code",
   "execution_count": 5,
   "id": "dbfea947",
   "metadata": {},
   "outputs": [
    {
     "name": "stdout",
     "output_type": "stream",
     "text": [
      "\n",
      "\n",
      "\n",
      "\n",
      "\n",
      "count =  16\n",
      "\n",
      "\n",
      "\n",
      "\n",
      "count =  25\n",
      "\n",
      "\n",
      "\n",
      "count =  29\n",
      "\n",
      "\n",
      "count =  30\n",
      "\n",
      "count =  30\n",
      "30\n"
     ]
    }
   ],
   "source": [
    "count=0\n",
    "for i in range(0,10,2):\n",
    "    for j in range(i+1,10,2):\n",
    "        for k in range(j+2,10):\n",
    "            count = count+1\n",
    "        print()\n",
    "    print(\"count = \",count)\n",
    "    \n",
    "print(count) "
   ]
  },
  {
   "cell_type": "code",
   "execution_count": null,
   "id": "f2e066ca",
   "metadata": {},
   "outputs": [],
   "source": []
  },
  {
   "cell_type": "code",
   "execution_count": 6,
   "id": "c6aef696",
   "metadata": {},
   "outputs": [
    {
     "name": "stdout",
     "output_type": "stream",
     "text": [
      "1 2 3 4 5 6 7 8 9 10 \n",
      "2 4 6 8 10 12 14 16 18 20 \n",
      "3 6 9 12 15 18 21 24 27 30 \n"
     ]
    }
   ],
   "source": [
    "for out in range(1,4):\n",
    "    for inner in range(1,11):\n",
    "        print(out*inner , end=\" \")\n",
    "    print()"
   ]
  },
  {
   "cell_type": "code",
   "execution_count": null,
   "id": "f5480f22",
   "metadata": {},
   "outputs": [],
   "source": []
  },
  {
   "cell_type": "code",
   "execution_count": 7,
   "id": "f314a500",
   "metadata": {},
   "outputs": [
    {
     "name": "stdout",
     "output_type": "stream",
     "text": [
      "1 2 3 4 5 6 7 8 9 10 \n",
      "2 4 6 8 10 12 14 16 18 20 \n",
      "3 6 9 12 15 18 21 24 27 30 \n"
     ]
    }
   ],
   "source": [
    "out = 1\n",
    "while out<4:\n",
    "    inner = 1\n",
    "    while inner<11:\n",
    "        print(out*inner, end=\" \")\n",
    "        inner+=1\n",
    "    out+=1\n",
    "    print()"
   ]
  },
  {
   "cell_type": "code",
   "execution_count": null,
   "id": "21b58e39",
   "metadata": {},
   "outputs": [],
   "source": []
  },
  {
   "cell_type": "code",
   "execution_count": 8,
   "id": "10931b49",
   "metadata": {},
   "outputs": [
    {
     "name": "stdout",
     "output_type": "stream",
     "text": [
      "[1, 2, 3, 10]\n",
      "['a', 'b', 'c']\n",
      "[10.2, True, (10+2j)]\n"
     ]
    }
   ],
   "source": [
    "# EXAMPLES \n",
    "\n",
    "arr_2D =[\n",
    "    \n",
    "        [1,2,3,10],\n",
    "        ['a','b','c'],\n",
    "        [10.2,True,10+2j]\n",
    "    \n",
    "        ]\n",
    "\n",
    "for data in arr_2D:\n",
    "    print(data)"
   ]
  },
  {
   "cell_type": "code",
   "execution_count": null,
   "id": "bf22aa4f",
   "metadata": {},
   "outputs": [],
   "source": []
  },
  {
   "cell_type": "code",
   "execution_count": 9,
   "id": "56596d66",
   "metadata": {},
   "outputs": [
    {
     "name": "stdout",
     "output_type": "stream",
     "text": [
      "1 2 3 10 \n",
      "a b c \n",
      "10.2 True (10+2j) \n"
     ]
    }
   ],
   "source": [
    "for data in arr_2D:\n",
    "    for inner in data:\n",
    "        print(inner, end =\" \")\n",
    "    print()"
   ]
  },
  {
   "cell_type": "code",
   "execution_count": null,
   "id": "a7e864fc",
   "metadata": {},
   "outputs": [],
   "source": []
  },
  {
   "cell_type": "code",
   "execution_count": 10,
   "id": "7b07f503",
   "metadata": {},
   "outputs": [
    {
     "name": "stdout",
     "output_type": "stream",
     "text": [
      "len is 3\n",
      "apple\n",
      "ms\n",
      "telsa\n",
      "Micro\n",
      "a\n",
      "b\n",
      "c\n",
      "d\n",
      "f\n",
      "e\n",
      "10.2\n",
      "True\n",
      "(10+2j)\n"
     ]
    }
   ],
   "source": [
    "arr_2D =[ \n",
    "    [\"apple\",\"ms\",\"telsa\", \"Micro\"],\n",
    "    ['a','b','c' , \"d\",\"f\",\"e\"],\n",
    "    [10.2,True,10+2j]\n",
    "    ]\n",
    "\n",
    "n = len(arr_2D)\n",
    "print(\"len is\",n)\n",
    "\n",
    "for i in range(n):\n",
    "    for j in range(len(arr_2D[i])):\n",
    "        print(arr_2D[i][j])"
   ]
  },
  {
   "cell_type": "code",
   "execution_count": null,
   "id": "427f19da",
   "metadata": {},
   "outputs": [],
   "source": []
  },
  {
   "cell_type": "code",
   "execution_count": 11,
   "id": "15b7392e",
   "metadata": {},
   "outputs": [
    {
     "name": "stdout",
     "output_type": "stream",
     "text": [
      "\n",
      "\n",
      "\n",
      "[[1, 'ms', 'telsa', 'Micro'], ['a', 1, 'c', 'd', 'f', 'e'], [10.2, True, 4]]\n"
     ]
    }
   ],
   "source": [
    "# TRY THIS\n",
    "\n",
    "for i in range(n):\n",
    "    for j in range(len(arr_2D[i])):\n",
    "        if(i==j):\n",
    "            arr_2D[i][j] = i**j\n",
    "    print()\n",
    "    \n",
    "print(arr_2D)"
   ]
  },
  {
   "cell_type": "code",
   "execution_count": 12,
   "id": "16c37340",
   "metadata": {},
   "outputs": [
    {
     "name": "stdout",
     "output_type": "stream",
     "text": [
      "kumar\n",
      "1200\n",
      "Alex\n",
      "1500\n",
      "Avan\n",
      "2500\n"
     ]
    }
   ],
   "source": [
    "# EXAMPLES\n",
    "\n",
    "data = [[\"kumar\",1200],[\"Alex\",1500],[\"Avan\",2500]]\n",
    "\n",
    "for outer in data:\n",
    "    for d2 in outer:\n",
    "        print(d2)\n",
    "        "
   ]
  },
  {
   "cell_type": "code",
   "execution_count": null,
   "id": "247d9ea9",
   "metadata": {},
   "outputs": [],
   "source": []
  },
  {
   "cell_type": "code",
   "execution_count": null,
   "id": "8f7acd72",
   "metadata": {},
   "outputs": [],
   "source": []
  },
  {
   "cell_type": "markdown",
   "id": "b5daf443",
   "metadata": {},
   "source": [
    "### Comprehension\n",
    "\n",
    "- It shorten the sytax of list with for loops\n",
    "\n",
    "- List comprehension offers a shorter syntax when you want to create a new list based on the values of an existing list.\n"
   ]
  },
  {
   "cell_type": "code",
   "execution_count": null,
   "id": "aa0f7da9",
   "metadata": {},
   "outputs": [],
   "source": [
    "a=[]\n",
    "for i in range(20):\n",
    "    a.append(i)\n",
    "print(a)"
   ]
  },
  {
   "cell_type": "code",
   "execution_count": 14,
   "id": "d9f85343",
   "metadata": {},
   "outputs": [
    {
     "name": "stdout",
     "output_type": "stream",
     "text": [
      "[0, 2, 4, 6, 8, 10, 12, 14, 16, 18]\n"
     ]
    }
   ],
   "source": [
    "b = []\n",
    "\n",
    "for i in range(0,20,2):\n",
    "    b.append(i)\n",
    "    \n",
    "print(b)"
   ]
  },
  {
   "cell_type": "code",
   "execution_count": 13,
   "id": "21a8d838",
   "metadata": {},
   "outputs": [
    {
     "name": "stdout",
     "output_type": "stream",
     "text": [
      "[0, 2, 4, 6, 8, 10, 12, 14, 16, 18]\n"
     ]
    }
   ],
   "source": [
    "# using Comprehension\n",
    "\n",
    "b = [ i for i in range(0,20,2)]\n",
    "print(b)\n",
    "\n"
   ]
  },
  {
   "cell_type": "code",
   "execution_count": null,
   "id": "eea151f4",
   "metadata": {},
   "outputs": [],
   "source": []
  },
  {
   "cell_type": "code",
   "execution_count": 15,
   "id": "6a58a2ad",
   "metadata": {},
   "outputs": [
    {
     "name": "stdout",
     "output_type": "stream",
     "text": [
      "[2, 3, 4, 5, 6, 7, 8, 9, 10, 11, 12, 13, 14, 15, 16, 17, 18, 19, 20, 21]\n"
     ]
    },
    {
     "data": {
      "text/plain": [
       "list"
      ]
     },
     "execution_count": 15,
     "metadata": {},
     "output_type": "execute_result"
    }
   ],
   "source": [
    "a=[i+2 for i in range(20)]\n",
    "print(a)\n",
    "type(a)"
   ]
  },
  {
   "cell_type": "code",
   "execution_count": null,
   "id": "d2b5b2d0",
   "metadata": {},
   "outputs": [],
   "source": []
  },
  {
   "cell_type": "code",
   "execution_count": 16,
   "id": "3c73af13",
   "metadata": {},
   "outputs": [
    {
     "data": {
      "text/plain": [
       "[0, 1, 8, 27, 64, 125, 216, 343, 512, 729]"
      ]
     },
     "execution_count": 16,
     "metadata": {},
     "output_type": "execute_result"
    }
   ],
   "source": [
    "[i*i*i for i in range(10)]"
   ]
  },
  {
   "cell_type": "code",
   "execution_count": null,
   "id": "a9789669",
   "metadata": {},
   "outputs": [],
   "source": []
  },
  {
   "cell_type": "code",
   "execution_count": null,
   "id": "0d96e527",
   "metadata": {},
   "outputs": [],
   "source": []
  },
  {
   "cell_type": "code",
   "execution_count": null,
   "id": "44599e30",
   "metadata": {},
   "outputs": [],
   "source": []
  },
  {
   "cell_type": "code",
   "execution_count": 17,
   "id": "6ed1a1f1",
   "metadata": {},
   "outputs": [
    {
     "name": "stdout",
     "output_type": "stream",
     "text": [
      "[0, 2, 4, 6, 8, 10, 12, 14, 16, 18]\n"
     ]
    }
   ],
   "source": [
    "#generate a even numbers for given specified range add it to the list\n",
    "\n",
    "even = []\n",
    "\n",
    "#range(0,20)\n",
    "for i in range(0,20):\n",
    "    if i%2==0:\n",
    "        even.append(i)\n",
    "print(even)"
   ]
  },
  {
   "cell_type": "code",
   "execution_count": null,
   "id": "0cf1e2aa",
   "metadata": {},
   "outputs": [],
   "source": []
  },
  {
   "cell_type": "code",
   "execution_count": 18,
   "id": "12041383",
   "metadata": {},
   "outputs": [
    {
     "name": "stdout",
     "output_type": "stream",
     "text": [
      "[0, 2, 4, 6, 8, 10, 12, 14, 16, 18]\n"
     ]
    }
   ],
   "source": [
    "even =[ i for i in range(20) if i%2==0]\n",
    "print(even)"
   ]
  },
  {
   "cell_type": "code",
   "execution_count": null,
   "id": "e16630c9",
   "metadata": {},
   "outputs": [],
   "source": []
  },
  {
   "cell_type": "code",
   "execution_count": 19,
   "id": "1693312c",
   "metadata": {},
   "outputs": [],
   "source": [
    "odd = []\n",
    "\n",
    "#range(0,20)\n",
    "for i in range(1,20):\n",
    "    if i%2==1:\n",
    "        odd.append(i)\n",
    "        \n",
    "    "
   ]
  },
  {
   "cell_type": "code",
   "execution_count": 20,
   "id": "7c74fdf4",
   "metadata": {},
   "outputs": [
    {
     "name": "stdout",
     "output_type": "stream",
     "text": [
      "[1, 3, 5, 7, 9, 11, 13, 15, 17, 19]\n"
     ]
    }
   ],
   "source": [
    "odd =[ i for i in range(20) if i%2==1]\n",
    "print(odd)"
   ]
  },
  {
   "cell_type": "code",
   "execution_count": null,
   "id": "82daa51b",
   "metadata": {},
   "outputs": [],
   "source": []
  },
  {
   "cell_type": "code",
   "execution_count": 21,
   "id": "6fe20d13",
   "metadata": {},
   "outputs": [
    {
     "name": "stdout",
     "output_type": "stream",
     "text": [
      "<generator object <genexpr> at 0x0000020C6311ADD0>\n"
     ]
    }
   ],
   "source": [
    "# Tuple Comprehension \n",
    "\n",
    "odd = (i for i in range(20) if i%2==1)\n",
    "print(odd)"
   ]
  },
  {
   "cell_type": "code",
   "execution_count": null,
   "id": "d67bbb24",
   "metadata": {},
   "outputs": [],
   "source": []
  },
  {
   "cell_type": "code",
   "execution_count": 22,
   "id": "6ef5e156",
   "metadata": {},
   "outputs": [
    {
     "name": "stdout",
     "output_type": "stream",
     "text": [
      "False\n",
      "True\n",
      "False\n",
      "True\n"
     ]
    }
   ],
   "source": [
    "names = (i.islower() for i in [\"Clarke\",\"tivoa\",\"Eyak\",\"maura\"])\n",
    "\n",
    "for dt in names:\n",
    "    print(dt)"
   ]
  },
  {
   "cell_type": "code",
   "execution_count": null,
   "id": "30fe1ba8",
   "metadata": {},
   "outputs": [],
   "source": []
  },
  {
   "cell_type": "code",
   "execution_count": null,
   "id": "b40637d2",
   "metadata": {},
   "outputs": [],
   "source": []
  },
  {
   "cell_type": "markdown",
   "id": "c491bbfb",
   "metadata": {},
   "source": [
    "### Dictionary Comprehension \n"
   ]
  },
  {
   "cell_type": "code",
   "execution_count": 23,
   "id": "bb16b39a",
   "metadata": {},
   "outputs": [
    {
     "name": "stdout",
     "output_type": "stream",
     "text": [
      "{1: 1, 2: 4, 3: 27, 4: 256}\n"
     ]
    }
   ],
   "source": [
    "some_dict = { i:i**i for i in range(1,5)}\n",
    "print(some_dict)"
   ]
  },
  {
   "cell_type": "code",
   "execution_count": 24,
   "id": "aec1504c",
   "metadata": {},
   "outputs": [
    {
     "name": "stdout",
     "output_type": "stream",
     "text": [
      "97\n"
     ]
    }
   ],
   "source": [
    "print(ord(\"a\"))"
   ]
  },
  {
   "cell_type": "code",
   "execution_count": 25,
   "id": "5da5e9d4",
   "metadata": {},
   "outputs": [
    {
     "name": "stdout",
     "output_type": "stream",
     "text": [
      "65\n"
     ]
    }
   ],
   "source": [
    "print(ord(\"A\"))"
   ]
  },
  {
   "cell_type": "code",
   "execution_count": 26,
   "id": "dafbfd28",
   "metadata": {},
   "outputs": [
    {
     "name": "stdout",
     "output_type": "stream",
     "text": [
      "{'K': 75, 'u': 117, 'm': 109, 'a': 97, 'r': 114, ' ': 32, 'R': 82, 'j': 106, 'o': 111, 'n': 110, 'i': 105}\n"
     ]
    }
   ],
   "source": [
    "name ={i:ord(i) for i in \"Kumar Rajamoni\"}\n",
    "print(name)\n"
   ]
  },
  {
   "cell_type": "code",
   "execution_count": null,
   "id": "2e561c83",
   "metadata": {},
   "outputs": [],
   "source": []
  },
  {
   "cell_type": "code",
   "execution_count": 27,
   "id": "3c7d8e54",
   "metadata": {},
   "outputs": [
    {
     "name": "stdout",
     "output_type": "stream",
     "text": [
      "65 A\n"
     ]
    }
   ],
   "source": [
    "# ord() chr() : ascii values\n",
    "\n",
    "print(ord(\"A\"),chr(65))"
   ]
  },
  {
   "cell_type": "code",
   "execution_count": 28,
   "id": "1fd55ba2",
   "metadata": {},
   "outputs": [
    {
     "name": "stdout",
     "output_type": "stream",
     "text": [
      "[0, 0, 0, 0, 0, 0, 0, 0, 0, 0, 0, 0, 0, 0, 0, 0, 0, 0, 0, 0, 0, 0, 0, 0, 0, 0, 0, 0, 0, 0, 0, 0, 0, 0, 0, 0, 0, 0, 0, 0, 0, 0, 0, 0, 0, 0, 0, 0, 0, 0, 0, 0, 0, 0, 0, 0, 0, 0, 0, 0, 0, 0, 0, 0, 0, 0, 0, 0, 0, 0, 0, 0, 0, 0, 0, 0, 0, 0, 0, 0, 0, 0, 0, 0, 0, 0, 0, 0, 0, 0, 0, 0, 0, 0, 0, 0, 0, 0, 0, 0]\n"
     ]
    }
   ],
   "source": [
    "#usage case 2\n",
    "\n",
    "# create a array of values , or required dimensions\n",
    "\n",
    "arr = [0]*100\n",
    "print(arr)\n"
   ]
  },
  {
   "cell_type": "code",
   "execution_count": 29,
   "id": "98c68cec",
   "metadata": {},
   "outputs": [
    {
     "name": "stdout",
     "output_type": "stream",
     "text": [
      "[0, 0, 0, 0, 0, 0, 0, 0, 0, 0, 0, 0, 0, 0, 0, 0, 0, 0, 0, 0, 0, 0, 0, 0, 0, 0, 0, 0, 0, 0, 0, 0, 0, 0, 0, 0, 0, 0, 0, 0, 0, 0, 0, 0, 0, 0, 0, 0, 0, 0, 0, 0, 0, 0, 0, 0, 0, 0, 0, 0, 0, 0, 0, 0, 0, 0, 0, 0, 0, 0, 0, 0, 0, 0, 0, 0, 0, 0, 0, 0, 0, 0, 0, 0, 0, 0, 0, 0, 0, 0, 0, 0, 0, 0, 0, 0, 0, 0, 0, 0]\n",
      "[0, 0, 0, 0, 0, 0, 0, 0, 0, 0]\n"
     ]
    }
   ],
   "source": [
    "arr = [0 for i in range(100)]\n",
    "\n",
    "print(arr)\n",
    "\n",
    "arr = [0]*10\n",
    "print(arr)"
   ]
  },
  {
   "cell_type": "code",
   "execution_count": null,
   "id": "6ca0e377",
   "metadata": {},
   "outputs": [],
   "source": []
  },
  {
   "cell_type": "code",
   "execution_count": 30,
   "id": "1eb753da",
   "metadata": {},
   "outputs": [
    {
     "name": "stdout",
     "output_type": "stream",
     "text": [
      "0 0  0 1  0 2  0 3  0 4  \n",
      "1 0  1 1  1 2  1 3  1 4  \n",
      "2 0  2 1  2 2  2 3  2 4  \n",
      "3 0  3 1  3 2  3 3  3 4  \n"
     ]
    }
   ],
   "source": [
    "for row in range(4):\n",
    "    for col in range(5):\n",
    "        print(row,col , end=\"  \")\n",
    "    print()"
   ]
  },
  {
   "cell_type": "code",
   "execution_count": null,
   "id": "ac1c2141",
   "metadata": {},
   "outputs": [],
   "source": []
  },
  {
   "cell_type": "code",
   "execution_count": 31,
   "id": "418b98cf",
   "metadata": {},
   "outputs": [],
   "source": [
    "# 2D\n",
    "\n",
    "arr2D = [ [ (row,col) for col in range(5)] for  row in range(4)]"
   ]
  },
  {
   "cell_type": "code",
   "execution_count": null,
   "id": "fc61c2bd",
   "metadata": {},
   "outputs": [],
   "source": []
  },
  {
   "cell_type": "code",
   "execution_count": null,
   "id": "bcb3c022",
   "metadata": {},
   "outputs": [],
   "source": []
  }
 ],
 "metadata": {
  "kernelspec": {
   "display_name": "Python 3",
   "language": "python",
   "name": "python3"
  },
  "language_info": {
   "codemirror_mode": {
    "name": "ipython",
    "version": 3
   },
   "file_extension": ".py",
   "mimetype": "text/x-python",
   "name": "python",
   "nbconvert_exporter": "python",
   "pygments_lexer": "ipython3",
   "version": "3.8.8"
  }
 },
 "nbformat": 4,
 "nbformat_minor": 5
}
