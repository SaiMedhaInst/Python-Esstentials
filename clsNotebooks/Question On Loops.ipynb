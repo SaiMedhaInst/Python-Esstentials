{
 "cells": [
  {
   "cell_type": "code",
   "execution_count": 3,
   "id": "a1457eed",
   "metadata": {},
   "outputs": [
    {
     "name": "stdout",
     "output_type": "stream",
     "text": [
      "0 1 2 3 4 5 6 7 8 9 "
     ]
    }
   ],
   "source": [
    "for i in range(0,10,1):\n",
    "    print(i , end=\" \")\n",
    "    "
   ]
  },
  {
   "cell_type": "code",
   "execution_count": 5,
   "id": "7d259fb0",
   "metadata": {},
   "outputs": [
    {
     "name": "stdout",
     "output_type": "stream",
     "text": [
      "10 20 30 40 50 "
     ]
    }
   ],
   "source": [
    "lst = [10,20,30,40,50]\n",
    "\n",
    "# print base for loop\n",
    "\n",
    "for dt in lst:\n",
    "    print(dt ,end=\" \")"
   ]
  },
  {
   "cell_type": "code",
   "execution_count": 7,
   "id": "59306752",
   "metadata": {},
   "outputs": [
    {
     "name": "stdout",
     "output_type": "stream",
     "text": [
      "10 20 30 40 50 "
     ]
    }
   ],
   "source": [
    "# range based for loop\n",
    "for i in range(len(lst)):\n",
    "    print(lst[i],end=\" \")"
   ]
  },
  {
   "cell_type": "code",
   "execution_count": 8,
   "id": "89185cc0",
   "metadata": {},
   "outputs": [
    {
     "name": "stdout",
     "output_type": "stream",
     "text": [
      "10 20 30 40 50 "
     ]
    }
   ],
   "source": [
    "# while loop\n",
    "i = 0 \n",
    "n = len(lst)\n",
    "\n",
    "while(i<n):\n",
    "    print(lst[i],end=\" \")\n",
    "    i=i+1 #index "
   ]
  },
  {
   "cell_type": "markdown",
   "id": "33dd55aa",
   "metadata": {},
   "source": [
    "### Find the sum of elements in a array/list/sequence.\n",
    "    - take a input n from keyword \n",
    "    - data = read n values [10,20,30,40]\n",
    "      o/p : 100 (sum)  "
   ]
  },
  {
   "cell_type": "code",
   "execution_count": 9,
   "id": "f3b46ca9",
   "metadata": {},
   "outputs": [
    {
     "name": "stdout",
     "output_type": "stream",
     "text": [
      "Enter n value: 5\n",
      "10 20 30 40 50\n",
      "150\n"
     ]
    }
   ],
   "source": [
    "n = int(input(\"Enter n value: \"))\n",
    "\n",
    "data = list(map(int,input().split()))\n",
    "\n",
    "# calculate the sum using for loop\n",
    "\n",
    "sum1 = 0\n",
    "n = len(data)\n",
    "for i in range(0,n):\n",
    "    sum1 = sum1+ data[i]\n",
    "    \n",
    "print(sum1)"
   ]
  },
  {
   "cell_type": "markdown",
   "id": "56c6f824",
   "metadata": {},
   "source": [
    "### Prime number checking\n",
    "    - read a number from keyboard\n",
    "    - check whether it is a prime or not\n",
    "    \n",
    "    \n",
    "    note:\n",
    "         prime number is a no which has factors one and itself.(only two factors)\n",
    "             ex: 7 \n",
    "                 1X7 = 7\n",
    "                 7x1 = 7 \n",
    "                 "
   ]
  },
  {
   "cell_type": "code",
   "execution_count": 11,
   "id": "0e57f5a5",
   "metadata": {},
   "outputs": [
    {
     "name": "stdout",
     "output_type": "stream",
     "text": [
      "Enter a num : 12\n",
      "12 not a prime number\n"
     ]
    }
   ],
   "source": [
    "num = int(input(\"Enter a num : \"))\n",
    "\n",
    "factors = 0\n",
    "for i in range(1,num+1):\n",
    "    if(num%i ==0):\n",
    "        factors+=1\n",
    "        \n",
    "if(factors==2):\n",
    "    print(f\"{num} is a prime number\")\n",
    "    \n",
    "else:\n",
    "    print(f\"{num} not a prime number\")\n",
    "    \n",
    "        "
   ]
  },
  {
   "cell_type": "markdown",
   "id": "94063b9a",
   "metadata": {},
   "source": [
    "### Pattern program \n",
    "    - read a number from keybroad\n",
    "    - n = 4\n",
    "        *\n",
    "        * * \n",
    "        * * * \n",
    "        * * * * \n",
    "        "
   ]
  },
  {
   "cell_type": "code",
   "execution_count": 13,
   "id": "e9127278",
   "metadata": {},
   "outputs": [
    {
     "name": "stdout",
     "output_type": "stream",
     "text": [
      "enter n value: 5\n",
      "* \n",
      "* * \n",
      "* * * \n",
      "* * * * \n",
      "* * * * * \n"
     ]
    }
   ],
   "source": [
    "n = int(input(\"enter n value: \"))\n",
    "\n",
    "for i in range(n):\n",
    "    for j in range(i+1):\n",
    "        print(\"*\", end =\" \")\n",
    "    print()"
   ]
  },
  {
   "cell_type": "markdown",
   "id": "defd40e5",
   "metadata": {},
   "source": [
    "### Sum the number of digits in a number \n",
    "    - read a input from keybroad \n",
    "    n = 1021\n",
    "    o/p : 1 + 0 + 2 +1  ===> 4\n",
    "    \n",
    "    "
   ]
  },
  {
   "cell_type": "code",
   "execution_count": 15,
   "id": "67b93635",
   "metadata": {},
   "outputs": [
    {
     "name": "stdout",
     "output_type": "stream",
     "text": [
      "Enter a N: 3096\n",
      "18\n"
     ]
    }
   ],
   "source": [
    "n = int(input(\"Enter a N: \"))\n",
    "\n",
    "sum1 = 0\n",
    "while n!=0:\n",
    "    rem = n%10\n",
    "    sum1 = sum1+rem\n",
    "    n = n//10\n",
    "    \n",
    "print(sum1)"
   ]
  },
  {
   "cell_type": "markdown",
   "id": "9383bdc5",
   "metadata": {},
   "source": [
    "### Print the list/string in reverse order without using any methods\n"
   ]
  },
  {
   "cell_type": "code",
   "execution_count": 17,
   "id": "19c68262",
   "metadata": {},
   "outputs": [
    {
     "name": "stdout",
     "output_type": "stream",
     "text": [
      "44 33 22 10 "
     ]
    }
   ],
   "source": [
    "lst = [10,22,33,44]\n",
    "\n",
    "lstInd = len(lst)-1\n",
    "\n",
    "for i in range(lstInd , -1,-1):\n",
    "    print(lst[i],end=\" \")"
   ]
  },
  {
   "cell_type": "code",
   "execution_count": 18,
   "id": "268faeb5",
   "metadata": {},
   "outputs": [
    {
     "name": "stdout",
     "output_type": "stream",
     "text": [
      "Enter a age: 101\n",
      "dead\n"
     ]
    }
   ],
   "source": [
    "age = int(input(\"Enter a age: \"))\n",
    "name = input(\"enter a name\")\n",
    "\n"
   ]
  },
  {
   "cell_type": "markdown",
   "id": "b1b99835",
   "metadata": {},
   "source": [
    "### Factorial of a Number\n",
    "    - read a number \n",
    "    - do the factorial \n",
    "    \n",
    "    note: Factorial : Product of N numbers\n",
    "        n = 3\n",
    "        \n",
    "        1*2*3 = 6\n",
    "        "
   ]
  },
  {
   "cell_type": "code",
   "execution_count": 22,
   "id": "12cb64e1",
   "metadata": {},
   "outputs": [
    {
     "name": "stdout",
     "output_type": "stream",
     "text": [
      "Ente a n value: 5\n",
      "120\n"
     ]
    }
   ],
   "source": [
    "n = int(input(\"Ente a n value: \"))\n",
    "fac = 1\n",
    "for i in range(1,n+1):\n",
    "    fac = fac * i \n",
    "    \n",
    "print(fac)"
   ]
  },
  {
   "cell_type": "markdown",
   "id": "9d7e66c6",
   "metadata": {},
   "source": [
    "### Reverse a Integer Number :\n",
    "    - read a n value\n",
    "    - find the reverse"
   ]
  },
  {
   "cell_type": "code",
   "execution_count": 23,
   "id": "904fa8c2",
   "metadata": {},
   "outputs": [
    {
     "name": "stdout",
     "output_type": "stream",
     "text": [
      "Enter n value: 3096\n",
      "6903\n"
     ]
    }
   ],
   "source": [
    "n = int(input(\"Enter n value: \"))\n",
    "\n",
    "print(str(n)[::-1])"
   ]
  },
  {
   "cell_type": "code",
   "execution_count": null,
   "id": "2d0d2732",
   "metadata": {},
   "outputs": [],
   "source": [
    "# method-2 \n",
    "rev = 0\n",
    "while n>0:\n",
    "    rem = n%10\n",
    "    rev = (rev * 10) + rem\n",
    "    n = n//10\n",
    "    \n",
    "    "
   ]
  }
 ],
 "metadata": {
  "kernelspec": {
   "display_name": "Python 3",
   "language": "python",
   "name": "python3"
  },
  "language_info": {
   "codemirror_mode": {
    "name": "ipython",
    "version": 3
   },
   "file_extension": ".py",
   "mimetype": "text/x-python",
   "name": "python",
   "nbconvert_exporter": "python",
   "pygments_lexer": "ipython3",
   "version": "3.8.8"
  }
 },
 "nbformat": 4,
 "nbformat_minor": 5
}
