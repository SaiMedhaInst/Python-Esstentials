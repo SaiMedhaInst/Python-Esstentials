{
 "cells": [
  {
   "cell_type": "markdown",
   "id": "40c03d38",
   "metadata": {},
   "source": [
    "### Nested Loops\n",
    "\n",
    "A nested loop is a loop inside a loop.\n",
    "\n",
    "The \"inner loop\" will be executed one time for each iteration of the \"outer loop\":\n",
    "\n",
    "Useful for accessing the 2D Lists , Tuples\n"
   ]
  },
  {
   "cell_type": "code",
   "execution_count": null,
   "id": "1e077bfa",
   "metadata": {},
   "outputs": [],
   "source": []
  },
  {
   "cell_type": "markdown",
   "id": "e787aed9",
   "metadata": {},
   "source": []
  },
  {
   "cell_type": "code",
   "execution_count": null,
   "id": "8a663988",
   "metadata": {},
   "outputs": [],
   "source": []
  },
  {
   "cell_type": "markdown",
   "id": "15e8cb30",
   "metadata": {},
   "source": [
    "![](https://bertwagner.com/wp-content/uploads/2018/12/Nested-Loop-Join-50fps-1.gif)"
   ]
  },
  {
   "cell_type": "markdown",
   "id": "7169202a",
   "metadata": {},
   "source": [
    "### Nested For Loop"
   ]
  },
  {
   "cell_type": "code",
   "execution_count": null,
   "id": "77181b5c",
   "metadata": {},
   "outputs": [],
   "source": [
    "for :\n",
    "    for:\n",
    "        for:\n",
    "            for\n",
    "    \n",
    "for:\n",
    "    while\n",
    "    \n",
    "while:\n",
    "    while\n",
    "\n",
    "while:\n",
    "    for"
   ]
  },
  {
   "cell_type": "code",
   "execution_count": null,
   "id": "9c91b3bb",
   "metadata": {},
   "outputs": [],
   "source": [
    "FOR ONE ITERATION OF Outer Loop , INNER loop will execute all it's iterations."
   ]
  },
  {
   "cell_type": "code",
   "execution_count": null,
   "id": "84923680",
   "metadata": {},
   "outputs": [],
   "source": []
  },
  {
   "cell_type": "markdown",
   "id": "b377504b",
   "metadata": {},
   "source": [
    "![](https://pynative.com/wp-content/uploads/2021/06/python-nested-for-loop.png)"
   ]
  },
  {
   "cell_type": "code",
   "execution_count": null,
   "id": "11d3fcee",
   "metadata": {},
   "outputs": [],
   "source": []
  },
  {
   "cell_type": "code",
   "execution_count": null,
   "id": "8f73da14",
   "metadata": {},
   "outputs": [],
   "source": [
    "# normal for loop\n",
    "\n",
    "for i in range(10):\n",
    "    print(i , end=\" \")"
   ]
  },
  {
   "cell_type": "code",
   "execution_count": null,
   "id": "51984a6e",
   "metadata": {},
   "outputs": [],
   "source": []
  },
  {
   "cell_type": "code",
   "execution_count": null,
   "id": "0812b754",
   "metadata": {},
   "outputs": [],
   "source": [
    "for i in range(1,4): \n",
    "    for j in range(1,3):\n",
    "        print(i,j)\n",
    "\n",
    "\n"
   ]
  },
  {
   "cell_type": "code",
   "execution_count": null,
   "id": "b2552bdd",
   "metadata": {},
   "outputs": [],
   "source": []
  },
  {
   "cell_type": "markdown",
   "id": "d4996e82",
   "metadata": {},
   "source": [
    "![](https://media.geeksforgeeks.org/wp-content/uploads/20220801153940/Nestedloop.png)"
   ]
  },
  {
   "cell_type": "code",
   "execution_count": null,
   "id": "b2b2b10b",
   "metadata": {},
   "outputs": [],
   "source": []
  },
  {
   "cell_type": "code",
   "execution_count": null,
   "id": "febe952b",
   "metadata": {},
   "outputs": [],
   "source": [
    "for i in range(5): #0-4\n",
    "    for j in range(2): #0-1\n",
    "        print(\"HI\" , end=\" \")\n",
    "    print()"
   ]
  },
  {
   "cell_type": "code",
   "execution_count": null,
   "id": "69f0a484",
   "metadata": {},
   "outputs": [],
   "source": []
  },
  {
   "cell_type": "code",
   "execution_count": null,
   "id": "dbfea947",
   "metadata": {},
   "outputs": [],
   "source": [
    "count=0\n",
    "for i in range(0,10,2):\n",
    "    for j in range(i+1,10,2):\n",
    "        for k in range(j+2,10):\n",
    "            count = count+1\n",
    "print(count)"
   ]
  },
  {
   "cell_type": "code",
   "execution_count": null,
   "id": "f2e066ca",
   "metadata": {},
   "outputs": [],
   "source": []
  },
  {
   "cell_type": "code",
   "execution_count": null,
   "id": "c6aef696",
   "metadata": {},
   "outputs": [],
   "source": [
    "for out in range(1,4):\n",
    "    for inner in range(1,11):\n",
    "        print(out*inner , end=\" \")\n",
    "    print()"
   ]
  },
  {
   "cell_type": "code",
   "execution_count": null,
   "id": "f5480f22",
   "metadata": {},
   "outputs": [],
   "source": []
  },
  {
   "cell_type": "code",
   "execution_count": null,
   "id": "f314a500",
   "metadata": {},
   "outputs": [],
   "source": [
    "out = 1\n",
    "while out<4:\n",
    "    inner = 1\n",
    "    while inner<11:\n",
    "        print(out*inner, end=\" \")\n",
    "        inner+=1\n",
    "    out+=1\n",
    "    print()"
   ]
  },
  {
   "cell_type": "code",
   "execution_count": null,
   "id": "21b58e39",
   "metadata": {},
   "outputs": [],
   "source": []
  },
  {
   "cell_type": "markdown",
   "id": "1e172289",
   "metadata": {},
   "source": [
    "####  EXAMPLES "
   ]
  },
  {
   "cell_type": "code",
   "execution_count": null,
   "id": "2400be75",
   "metadata": {},
   "outputs": [],
   "source": []
  },
  {
   "cell_type": "code",
   "execution_count": 3,
   "id": "7481fbe4",
   "metadata": {},
   "outputs": [
    {
     "name": "stdout",
     "output_type": "stream",
     "text": [
      "1 4\n",
      "1 5\n",
      "2 4\n",
      "2 5\n"
     ]
    }
   ],
   "source": [
    "x = [1, 2]\n",
    "y = [4, 5]\n",
    "\n",
    "for i in x:\n",
    "    for j in y:\n",
    "        print(i, j)\n"
   ]
  },
  {
   "cell_type": "code",
   "execution_count": null,
   "id": "9e909898",
   "metadata": {},
   "outputs": [],
   "source": []
  },
  {
   "cell_type": "code",
   "execution_count": null,
   "id": "be7fb67c",
   "metadata": {},
   "outputs": [],
   "source": []
  },
  {
   "cell_type": "code",
   "execution_count": 4,
   "id": "7b44ce30",
   "metadata": {},
   "outputs": [
    {
     "name": "stdout",
     "output_type": "stream",
     "text": [
      "1 4\n",
      "1 5\n",
      "2 4\n",
      "2 5\n"
     ]
    }
   ],
   "source": [
    "x = [1, 2]\n",
    "y = [4, 5]\n",
    "i = 0\n",
    "while i < len(x) :\n",
    "    j = 0\n",
    "    while j < len(y) :\n",
    "        print(x[i] , y[j])\n",
    "        j = j + 1\n",
    "    i = i + 1\n"
   ]
  },
  {
   "cell_type": "code",
   "execution_count": null,
   "id": "b488e974",
   "metadata": {},
   "outputs": [],
   "source": []
  },
  {
   "cell_type": "code",
   "execution_count": null,
   "id": "10931b49",
   "metadata": {},
   "outputs": [],
   "source": [
    "\n",
    "\n",
    "arr_2D =[\n",
    "    \n",
    "        [1,2,3,10],\n",
    "        ['a','b','c'],\n",
    "        [10.2,True,10+2j]\n",
    "    \n",
    "        ]\n",
    "\n",
    "for data in arr_2D:\n",
    "    print(data)"
   ]
  },
  {
   "cell_type": "code",
   "execution_count": null,
   "id": "0d733440",
   "metadata": {},
   "outputs": [],
   "source": []
  },
  {
   "cell_type": "code",
   "execution_count": null,
   "id": "bf22aa4f",
   "metadata": {},
   "outputs": [],
   "source": []
  },
  {
   "cell_type": "code",
   "execution_count": null,
   "id": "56596d66",
   "metadata": {},
   "outputs": [],
   "source": [
    "for data in arr_2D:\n",
    "    for inner in data:\n",
    "        print(inner, end =\" \")\n",
    "    print()"
   ]
  },
  {
   "cell_type": "code",
   "execution_count": null,
   "id": "2203e03e",
   "metadata": {},
   "outputs": [],
   "source": [
    "data = [\"apple\",\"ms\",\"telsa\", \"Micro\"]\n",
    "\n",
    "print(data[0])"
   ]
  },
  {
   "cell_type": "code",
   "execution_count": null,
   "id": "a7e864fc",
   "metadata": {},
   "outputs": [],
   "source": [
    "arr_2D =[ \n",
    "    [\"apple\",\"ms\",\"telsa\", \"Micro\"],\n",
    "    ['a','b','c' , \"d\",\"f\",\"e\"],\n",
    "    [10.2,True,10+2j]\n",
    "    ]\n",
    "\n",
    "\n",
    "print(arr_2D[0][3])\n",
    "\n",
    "print(len(arr_2D))"
   ]
  },
  {
   "cell_type": "code",
   "execution_count": null,
   "id": "7b07f503",
   "metadata": {},
   "outputs": [],
   "source": [
    "arr_2D =[ \n",
    "    [\"apple\",\"ms\",\"telsa\", \"Micro\"],\n",
    "    ['a','b','c' , \"d\",\"f\",\"e\"],\n",
    "    [10.2,True,10+2j]\n",
    "    ]\n",
    "\n",
    "n = len(arr_2D)\n",
    "print(\"len is\",n)\n",
    "\n",
    "for i in range(n):\n",
    "    for j in range(len(arr_2D[i])):\n",
    "        print(arr_2D[i][j])\n",
    "    print()"
   ]
  },
  {
   "cell_type": "code",
   "execution_count": null,
   "id": "427f19da",
   "metadata": {},
   "outputs": [],
   "source": [
    "arr_2D"
   ]
  },
  {
   "cell_type": "markdown",
   "id": "fafac9dc",
   "metadata": {},
   "source": [
    "### TRY THIS\n"
   ]
  },
  {
   "cell_type": "code",
   "execution_count": null,
   "id": "5a277cff",
   "metadata": {},
   "outputs": [],
   "source": [
    "\n",
    "for i in range(n):\n",
    "    for j in range(len(arr_2D[i])):\n",
    "        if(i==j):\n",
    "            arr_2D[i][j] = i**j\n",
    "    print()\n",
    "    \n",
    "print(arr_2D)"
   ]
  },
  {
   "cell_type": "code",
   "execution_count": null,
   "id": "04e6c5f2",
   "metadata": {},
   "outputs": [],
   "source": []
  },
  {
   "cell_type": "code",
   "execution_count": 7,
   "id": "69f2f614",
   "metadata": {},
   "outputs": [
    {
     "name": "stdout",
     "output_type": "stream",
     "text": [
      "2 * 10 = 20\n",
      "\n",
      "3 * 10 = 30\n",
      "\n"
     ]
    }
   ],
   "source": [
    "for i in range(2, 4):\n",
    "    if i==j:\n",
    "        break\n",
    "    print(i, \"*\", j, \"=\", i*j)\n",
    "    print()\n"
   ]
  },
  {
   "cell_type": "code",
   "execution_count": null,
   "id": "10681e45",
   "metadata": {},
   "outputs": [],
   "source": []
  },
  {
   "cell_type": "code",
   "execution_count": 8,
   "id": "ece13af9",
   "metadata": {},
   "outputs": [
    {
     "name": "stdout",
     "output_type": "stream",
     "text": [
      "2 * 1 = 2\n",
      "2 * 3 = 6\n",
      "2 * 4 = 8\n",
      "2 * 5 = 10\n",
      "2 * 6 = 12\n",
      "2 * 7 = 14\n",
      "2 * 8 = 16\n",
      "2 * 9 = 18\n",
      "2 * 10 = 20\n",
      "\n",
      "3 * 1 = 3\n",
      "3 * 2 = 6\n",
      "3 * 4 = 12\n",
      "3 * 5 = 15\n",
      "3 * 6 = 18\n",
      "3 * 7 = 21\n",
      "3 * 8 = 24\n",
      "3 * 9 = 27\n",
      "3 * 10 = 30\n",
      "\n"
     ]
    }
   ],
   "source": [
    "\n",
    "for i in range(2, 4):\n",
    "    for j in range(1, 11):\n",
    "        if i==j:\n",
    "            continue\n",
    "        print(i, \"*\", j, \"=\", i*j)\n",
    "    print()\n"
   ]
  },
  {
   "cell_type": "code",
   "execution_count": null,
   "id": "4b742f77",
   "metadata": {},
   "outputs": [],
   "source": []
  },
  {
   "cell_type": "code",
   "execution_count": null,
   "id": "16c37340",
   "metadata": {},
   "outputs": [],
   "source": [
    "# EXAMPLES\n",
    "\n",
    "data = [[\"kumar\",1200],[\"Alex\",1500],[\"Avan\",2500]]\n",
    "\n",
    "for outer in data:\n",
    "    for d2 in outer:\n",
    "        print(d2)\n",
    "        "
   ]
  },
  {
   "cell_type": "markdown",
   "id": "c05208d7",
   "metadata": {},
   "source": [
    "### Daily-usecases\n",
    "\n"
   ]
  },
  {
   "cell_type": "markdown",
   "id": "9225c84f",
   "metadata": {},
   "source": [
    "#### Printing mutliplication table"
   ]
  },
  {
   "cell_type": "code",
   "execution_count": 6,
   "id": "d4b8ddb7",
   "metadata": {},
   "outputs": [
    {
     "name": "stdout",
     "output_type": "stream",
     "text": [
      "2 * 1 = 2\n",
      "2 * 2 = 4\n",
      "2 * 3 = 6\n",
      "2 * 4 = 8\n",
      "2 * 5 = 10\n",
      "2 * 6 = 12\n",
      "2 * 7 = 14\n",
      "2 * 8 = 16\n",
      "2 * 9 = 18\n",
      "2 * 10 = 20\n",
      "\n",
      "3 * 1 = 3\n",
      "3 * 2 = 6\n",
      "3 * 3 = 9\n",
      "3 * 4 = 12\n",
      "3 * 5 = 15\n",
      "3 * 6 = 18\n",
      "3 * 7 = 21\n",
      "3 * 8 = 24\n",
      "3 * 9 = 27\n",
      "3 * 10 = 30\n",
      "\n"
     ]
    }
   ],
   "source": [
    "for i in range(2, 4):\n",
    "    for j in range(1, 11):\n",
    "        print(i, \"*\", j, \"=\", i*j)\n",
    "    print()\n"
   ]
  },
  {
   "cell_type": "code",
   "execution_count": null,
   "id": "3b215a43",
   "metadata": {},
   "outputs": [],
   "source": []
  }
 ],
 "metadata": {
  "kernelspec": {
   "display_name": "Python 3 (ipykernel)",
   "language": "python",
   "name": "python3"
  },
  "language_info": {
   "codemirror_mode": {
    "name": "ipython",
    "version": 3
   },
   "file_extension": ".py",
   "mimetype": "text/x-python",
   "name": "python",
   "nbconvert_exporter": "python",
   "pygments_lexer": "ipython3",
   "version": "3.10.9"
  }
 },
 "nbformat": 4,
 "nbformat_minor": 5
}
