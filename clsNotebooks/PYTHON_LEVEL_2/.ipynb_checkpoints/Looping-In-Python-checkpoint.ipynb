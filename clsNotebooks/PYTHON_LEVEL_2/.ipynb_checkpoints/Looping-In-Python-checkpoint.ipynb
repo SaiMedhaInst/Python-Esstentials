{
 "cells": [
  {
   "cell_type": "markdown",
   "id": "d9eb6926",
   "metadata": {},
   "source": [
    "### Looping \n",
    "\n",
    "- Sometimes it may be neccessary to repeat the certain process until a certain condition is met.\n",
    "- It's a process of repeating a set of statments\n",
    "\n",
    "    In python , there are 2 loops"
   ]
  },
  {
   "cell_type": "markdown",
   "id": "7ad3e7a0",
   "metadata": {},
   "source": [
    "#### For loop\n",
    "\n",
    "- A for loop is used for iterating over a sequence (that is either a list, a tuple, a dictionary, a set, or a string).\n",
    "\n",
    "- With the for loop we can execute a set of statements, once for each item in a list, tuple, set etc.\n",
    "\n",
    "-  For loop is preferred when we know the no of iterations in advance. \n",
    "\n",
    ">syntax:\n",
    "\n",
    "- for var in sequence:\n",
    "    \n",
    "    statements"
   ]
  },
  {
   "cell_type": "code",
   "execution_count": null,
   "id": "5f0a0787",
   "metadata": {},
   "outputs": [],
   "source": [
    "\n",
    "for n in range(40):\n",
    "    if(n%2==1):\n",
    "        print(\"Weird\",n)\n",
    "    else:\n",
    "        if(n<=2 and n>=5):\n",
    "            print(\"Not Weird\",n)\n",
    "        elif (n<=6 and n>=20):\n",
    "            print(\"Weird\",n)\n",
    "        else:\n",
    "            print(\"Not Weird\",n)\n"
   ]
  },
  {
   "cell_type": "code",
   "execution_count": null,
   "id": "1f18faae",
   "metadata": {},
   "outputs": [],
   "source": [
    "# without loops\n",
    "\n",
    "# print(\"Hello\")\n",
    "# print(\"Hello\")\n",
    "# print(\"Hello\")\n",
    "# print(\"Hello\")\n",
    "# print(\"Hello\")\n",
    "# print(\"Hello\")\n",
    "# print(\"Hello\")\n",
    "# print(\"Hello\")\n",
    "# print(\"Hello\")\n",
    "print(\"hello \"*100)\n"
   ]
  },
  {
   "cell_type": "code",
   "execution_count": null,
   "id": "ec56d7e7",
   "metadata": {},
   "outputs": [],
   "source": []
  },
  {
   "cell_type": "code",
   "execution_count": null,
   "id": "2904368c",
   "metadata": {},
   "outputs": [],
   "source": [
    "# with loops\n",
    "\n",
    "for i in range(1,10,1):#(start,stop,step) \n",
    "    print(\"hello\",end=\" \")"
   ]
  },
  {
   "cell_type": "code",
   "execution_count": null,
   "id": "8983c9a4",
   "metadata": {},
   "outputs": [],
   "source": [
    "for i in range(9):\n",
    "    print(i**2)"
   ]
  },
  {
   "cell_type": "code",
   "execution_count": null,
   "id": "ffef4e6e",
   "metadata": {},
   "outputs": [],
   "source": [
    "range(0,10,1) # start , stop , step"
   ]
  },
  {
   "cell_type": "code",
   "execution_count": null,
   "id": "964ac316",
   "metadata": {},
   "outputs": [],
   "source": [
    "list(range(1,10,1))"
   ]
  },
  {
   "cell_type": "code",
   "execution_count": null,
   "id": "ed4d7f60",
   "metadata": {},
   "outputs": [],
   "source": [
    "for i in range(1,10,1):\n",
    "    print(i,end=\" \")"
   ]
  },
  {
   "cell_type": "code",
   "execution_count": null,
   "id": "90f419f8",
   "metadata": {},
   "outputs": [],
   "source": []
  },
  {
   "cell_type": "code",
   "execution_count": null,
   "id": "2c1c6110",
   "metadata": {},
   "outputs": [],
   "source": [
    "for i in range(1,10,1):\n",
    "    print(i**2,end=\" \")"
   ]
  },
  {
   "cell_type": "code",
   "execution_count": null,
   "id": "0fb4bb2e",
   "metadata": {},
   "outputs": [],
   "source": []
  },
  {
   "cell_type": "code",
   "execution_count": null,
   "id": "e9544c1c",
   "metadata": {},
   "outputs": [],
   "source": [
    "for i in range(1,10,1):\n",
    "    print(\"Hello User\",i)\n",
    "    \n",
    "print(\"out of loop\")\n",
    "print(10+20)"
   ]
  },
  {
   "cell_type": "code",
   "execution_count": null,
   "id": "622b8af3",
   "metadata": {},
   "outputs": [],
   "source": []
  },
  {
   "cell_type": "code",
   "execution_count": null,
   "id": "ece6701e",
   "metadata": {},
   "outputs": [],
   "source": [
    "for ak in range(0,10):\n",
    "    print(ak)\n",
    "#     print(\"HEllo\")\n",
    "#     print(\"Hi\")\n",
    "\n",
    "print(ak)"
   ]
  },
  {
   "cell_type": "code",
   "execution_count": null,
   "id": "2d0901b5",
   "metadata": {},
   "outputs": [],
   "source": []
  },
  {
   "cell_type": "code",
   "execution_count": null,
   "id": "54d33f98",
   "metadata": {},
   "outputs": [],
   "source": [
    "\n",
    "    \n",
    "num = 9\n",
    "i = 1\n",
    "print(f'{num} * {i} = {num*i}')\n",
    "i+=1\n",
    "print(f'{num} * {i} = {num*i}')\n",
    "\n",
    "i+=1\n",
    "print(f'{num} * {i} = {num*i}')\n",
    "i+=1\n",
    "print(f'{num} * {i} = {num*i}')\n",
    "i+=1\n",
    "print(f'{num} * {i} = {num*i}')\n",
    "i+=1\n",
    "print(f'{num} * {i} = {num*i}')\n",
    "i+=1\n",
    "print(f'{num} * {i} = {num*i}')\n",
    "i+=1\n",
    "print(f'{num} * {i} = {num*i}')\n",
    "i+=1\n",
    "print(f'{num} * {i} = {num*i}')\n",
    "i+=1\n",
    "print(f'{num} * {i} = {num*i}')"
   ]
  },
  {
   "cell_type": "code",
   "execution_count": null,
   "id": "055219e7",
   "metadata": {},
   "outputs": [],
   "source": [
    "num = int(input(\"Enter the number\"))\n",
    "\n",
    "for i in range(1,11):\n",
    "    print(f'{num} * {i} = {num*i}')"
   ]
  },
  {
   "cell_type": "code",
   "execution_count": null,
   "id": "e60714aa",
   "metadata": {},
   "outputs": [],
   "source": []
  },
  {
   "cell_type": "markdown",
   "id": "272205f3",
   "metadata": {},
   "source": [
    "#### print base FOR-LOOP\n",
    "    - Mainly used for printing & filtering purpose\n",
    "    - Don't have access to the index locations.\n",
    "    - Can be used on ALL-TYPES : List,Tuple , Set , Str , Dictionary"
   ]
  },
  {
   "cell_type": "code",
   "execution_count": null,
   "id": "c3a6fa65",
   "metadata": {},
   "outputs": [],
   "source": [
    "# list \n",
    "\n",
    "marks = [90,76,72,272]\n",
    "\n",
    "for m in marks:\n",
    "    print(m)"
   ]
  },
  {
   "cell_type": "code",
   "execution_count": null,
   "id": "671e07a6",
   "metadata": {},
   "outputs": [],
   "source": []
  },
  {
   "cell_type": "code",
   "execution_count": null,
   "id": "65957b1d",
   "metadata": {},
   "outputs": [],
   "source": [
    "# tuple\n",
    "prices = (55.2,90.2,67.2,51.2,10/3)\n",
    "\n",
    "for p in prices:\n",
    "    print(p)"
   ]
  },
  {
   "cell_type": "code",
   "execution_count": null,
   "id": "c22c85a7",
   "metadata": {},
   "outputs": [],
   "source": []
  },
  {
   "cell_type": "code",
   "execution_count": null,
   "id": "97081874",
   "metadata": {},
   "outputs": [],
   "source": [
    "# str\n",
    "name = \"Kumar R\"\n",
    "\n",
    "for ch in name:\n",
    "    print(ch)"
   ]
  },
  {
   "cell_type": "code",
   "execution_count": null,
   "id": "42af2c12",
   "metadata": {},
   "outputs": [],
   "source": [
    "s = \"Python is OOps Language\"\n",
    "for ch in s:\n",
    "    if (ch.isupper()):\n",
    "        print(ch , end=\" \")"
   ]
  },
  {
   "cell_type": "code",
   "execution_count": null,
   "id": "43407d83",
   "metadata": {},
   "outputs": [],
   "source": [
    "s = \"Python is OOps Language\"\n",
    "for ch in s:\n",
    "    if (ch.islower()):\n",
    "        print(ch , end=\" \")"
   ]
  },
  {
   "cell_type": "code",
   "execution_count": null,
   "id": "c749f49c",
   "metadata": {},
   "outputs": [],
   "source": []
  },
  {
   "cell_type": "code",
   "execution_count": null,
   "id": "b527f222",
   "metadata": {},
   "outputs": [],
   "source": [
    "# set \n",
    "\n",
    "colors = {\"blue\",\"red\",\"yellow\",\"blue\",\"red\",\"orange\"}\n",
    "\n",
    "for c in colors:\n",
    "    print(c)"
   ]
  },
  {
   "cell_type": "code",
   "execution_count": null,
   "id": "a0391474",
   "metadata": {},
   "outputs": [],
   "source": []
  },
  {
   "cell_type": "code",
   "execution_count": null,
   "id": "7d6ef206",
   "metadata": {},
   "outputs": [],
   "source": [
    "# dict\n",
    "\n",
    "student = {\"Name\":\"Rajini\",\n",
    "            \"course\":\"python\",\n",
    "            \"fee\":12000\n",
    "          }\n",
    "print(student)\n"
   ]
  },
  {
   "cell_type": "code",
   "execution_count": null,
   "id": "ccc00e92",
   "metadata": {},
   "outputs": [],
   "source": [
    "print(dir(student))"
   ]
  },
  {
   "cell_type": "code",
   "execution_count": null,
   "id": "6e68d2e8",
   "metadata": {},
   "outputs": [],
   "source": [
    "print(student.keys())"
   ]
  },
  {
   "cell_type": "code",
   "execution_count": null,
   "id": "c7d6f7b8",
   "metadata": {},
   "outputs": [],
   "source": [
    "print(student.values())"
   ]
  },
  {
   "cell_type": "code",
   "execution_count": null,
   "id": "683d5f30",
   "metadata": {},
   "outputs": [],
   "source": [
    "print(student.items())\n",
    "\n",
    "[('Name', 'Rajini'), ('course', 'python'), ('fee', 12000)] --> list of tuples and each tuple has key,value"
   ]
  },
  {
   "cell_type": "code",
   "execution_count": null,
   "id": "3ea10a7e",
   "metadata": {},
   "outputs": [],
   "source": [
    "print(student[\"branch\"])"
   ]
  },
  {
   "cell_type": "code",
   "execution_count": null,
   "id": "83377f5e",
   "metadata": {},
   "outputs": [],
   "source": [
    "print(student.get(\"branch\",\"key not found\"))"
   ]
  },
  {
   "cell_type": "code",
   "execution_count": null,
   "id": "c6d1932a",
   "metadata": {},
   "outputs": [],
   "source": []
  },
  {
   "cell_type": "code",
   "execution_count": null,
   "id": "353f4c7d",
   "metadata": {},
   "outputs": [],
   "source": []
  },
  {
   "cell_type": "code",
   "execution_count": null,
   "id": "88d3b30c",
   "metadata": {},
   "outputs": [],
   "source": [
    "for s in student:\n",
    "    print(s)"
   ]
  },
  {
   "cell_type": "code",
   "execution_count": null,
   "id": "7d80141a",
   "metadata": {},
   "outputs": [],
   "source": [
    "for s in student:\n",
    "    print(s, student[s])"
   ]
  },
  {
   "cell_type": "code",
   "execution_count": null,
   "id": "7fcc0b41",
   "metadata": {},
   "outputs": [],
   "source": [
    "for s in student:\n",
    "    print(s, student.get(s))"
   ]
  },
  {
   "cell_type": "code",
   "execution_count": null,
   "id": "64b3ac2c",
   "metadata": {},
   "outputs": [],
   "source": [
    "#dict \n",
    "#key = immutables \n",
    "#values =immu & mutable : both\n",
    "student = {\n",
    "    \"Name\": \"Ellie\",\n",
    "    \"Address\":\"USA\",\n",
    "    \"Salary\":4000,\n",
    "    \"Role\":\"SDE\"\n",
    "}\n",
    "\n",
    "\n",
    "for tmp in student: # print only the keys\n",
    "    print(tmp,student.get(tmp))"
   ]
  },
  {
   "cell_type": "code",
   "execution_count": null,
   "id": "a92d000a",
   "metadata": {},
   "outputs": [],
   "source": []
  },
  {
   "cell_type": "code",
   "execution_count": null,
   "id": "dadcda14",
   "metadata": {},
   "outputs": [],
   "source": [
    "for data in student.items():\n",
    "    print(data , type(data))"
   ]
  },
  {
   "cell_type": "code",
   "execution_count": null,
   "id": "4e1455b4",
   "metadata": {},
   "outputs": [],
   "source": [
    "for data in student.items():\n",
    "    for dt in data:\n",
    "        print(dt ,end=\" \")\n",
    "    print()"
   ]
  },
  {
   "cell_type": "code",
   "execution_count": null,
   "id": "70031df4",
   "metadata": {},
   "outputs": [],
   "source": []
  },
  {
   "cell_type": "code",
   "execution_count": null,
   "id": "9006f51c",
   "metadata": {},
   "outputs": [],
   "source": [
    "for data in student.items():\n",
    "    print(data[0],data[1])"
   ]
  },
  {
   "cell_type": "code",
   "execution_count": null,
   "id": "1ef0e4af",
   "metadata": {},
   "outputs": [],
   "source": [
    "a=(10,20,30)\n",
    "print(a,type(a))"
   ]
  },
  {
   "cell_type": "code",
   "execution_count": null,
   "id": "e8f121bc",
   "metadata": {},
   "outputs": [],
   "source": [
    "b = 10,20,30\n",
    "print(b,type(b))"
   ]
  },
  {
   "cell_type": "code",
   "execution_count": null,
   "id": "42326105",
   "metadata": {},
   "outputs": [],
   "source": [
    "a,b,c = (10,20,30)\n",
    "print(a,b)"
   ]
  },
  {
   "cell_type": "code",
   "execution_count": null,
   "id": "c80e8836",
   "metadata": {},
   "outputs": [],
   "source": []
  },
  {
   "cell_type": "code",
   "execution_count": null,
   "id": "10978c4a",
   "metadata": {},
   "outputs": [],
   "source": []
  },
  {
   "cell_type": "code",
   "execution_count": null,
   "id": "57cf6d96",
   "metadata": {},
   "outputs": [],
   "source": []
  },
  {
   "cell_type": "code",
   "execution_count": null,
   "id": "6384bb3e",
   "metadata": {},
   "outputs": [],
   "source": [
    "for a,b in student.items(): #[(K1,v1),(K2,v2).....,(K2,v2)]\n",
    "    print(a,b)\n",
    "    "
   ]
  },
  {
   "cell_type": "code",
   "execution_count": null,
   "id": "cbd74417",
   "metadata": {},
   "outputs": [],
   "source": []
  },
  {
   "cell_type": "code",
   "execution_count": null,
   "id": "11b58dc1",
   "metadata": {},
   "outputs": [],
   "source": [
    "for dt in student.keys():\n",
    "    print(dt , student[dt])"
   ]
  },
  {
   "cell_type": "code",
   "execution_count": null,
   "id": "6043b9d4",
   "metadata": {},
   "outputs": [],
   "source": []
  },
  {
   "cell_type": "code",
   "execution_count": null,
   "id": "64714925",
   "metadata": {},
   "outputs": [],
   "source": [
    "\n",
    "#unpacking\n",
    "\n",
    "for key , val in student.items():\n",
    "    print(key,val)"
   ]
  },
  {
   "cell_type": "code",
   "execution_count": null,
   "id": "7358bbeb",
   "metadata": {},
   "outputs": [],
   "source": []
  },
  {
   "cell_type": "code",
   "execution_count": null,
   "id": "969f48fd",
   "metadata": {},
   "outputs": [],
   "source": [
    "a = [(\"sairam\",\"python\",1000),(\"Ak\",\"Java\",700),(\"Stu\",\"Ruby\",600)]\n",
    "\n",
    "for x in a:\n",
    "    print(x,x[0],x[1],x[2])"
   ]
  },
  {
   "cell_type": "code",
   "execution_count": null,
   "id": "9f090b3b",
   "metadata": {},
   "outputs": [],
   "source": []
  },
  {
   "cell_type": "code",
   "execution_count": null,
   "id": "301af930",
   "metadata": {},
   "outputs": [],
   "source": [
    "a=[(\"sairam\",\"python\",1000),(\"Ak\",\"Java\",20000),(\"Stu\",\"Ruby\",600)]\n",
    "\n",
    "for x,y,z in a:\n",
    "    print(x,y,z)\n",
    "    \n",
    "    \n",
    "# same no of elements in all tuples."
   ]
  },
  {
   "cell_type": "code",
   "execution_count": null,
   "id": "e2d6fb1c",
   "metadata": {},
   "outputs": [],
   "source": [
    "LIST TUPLE STR"
   ]
  },
  {
   "cell_type": "markdown",
   "id": "cbb68b06",
   "metadata": {},
   "source": []
  },
  {
   "cell_type": "markdown",
   "id": "5817303e",
   "metadata": {},
   "source": [
    "\n",
    "NEGATIVE MODULES \n",
    "===================\n",
    " \n",
    "-a%b ===> Add +b to -a until we reach either 0, or +ve number\n",
    "\n",
    "a%-b ===> Subtract -b to a until we reach 0,or -ve negative number.\n",
    "\n"
   ]
  },
  {
   "cell_type": "code",
   "execution_count": null,
   "id": "fead2108",
   "metadata": {},
   "outputs": [],
   "source": [
    "print(10%3)\n",
    "# print(10%0)\n",
    "print(10%100)\n",
    "print(5%5)"
   ]
  },
  {
   "cell_type": "code",
   "execution_count": null,
   "id": "0a368849",
   "metadata": {},
   "outputs": [],
   "source": [
    "print(-10%3)\n",
    "\n",
    "-10+3 = -7+3=>-4+3==>-1+3==>2"
   ]
  },
  {
   "cell_type": "code",
   "execution_count": null,
   "id": "c0a3022f",
   "metadata": {},
   "outputs": [],
   "source": [
    "print(10%-3)"
   ]
  },
  {
   "cell_type": "code",
   "execution_count": null,
   "id": "5c17570a",
   "metadata": {},
   "outputs": [],
   "source": [
    "10-3 ==> 7-3==>4-3==>1-3==>-2"
   ]
  },
  {
   "cell_type": "code",
   "execution_count": null,
   "id": "957713f6",
   "metadata": {},
   "outputs": [],
   "source": []
  },
  {
   "cell_type": "code",
   "execution_count": null,
   "id": "5c9acded",
   "metadata": {},
   "outputs": [],
   "source": [
    "print(txt.expandtabs(8))"
   ]
  },
  {
   "cell_type": "markdown",
   "id": "e46acdaf",
   "metadata": {},
   "source": [
    "### RANGE BASED for loop\n",
    "\n",
    "- we have control on index locations\n",
    "- maily used to change the data at locations\n",
    "- customized output\n",
    "- range(start,stop,step)\n",
    "- we can apply on list , tuple ,str"
   ]
  },
  {
   "cell_type": "code",
   "execution_count": null,
   "id": "76b3c566",
   "metadata": {},
   "outputs": [],
   "source": [
    "list_data = [\"Python\",\"Course\",\"Fee\",\"Dollars\",True,10.28989]\n",
    "print(list_data[0])"
   ]
  },
  {
   "cell_type": "code",
   "execution_count": null,
   "id": "bf789f91",
   "metadata": {},
   "outputs": [],
   "source": [
    "\n",
    "list_data = [\"Python\",\"Course\",\"Fee\",\"Dollars\",True,10.28989]\n",
    "\n",
    "n = len(list_data)\n",
    "\n",
    "print(f'length of list is {n}')\n",
    "\n",
    "for ind in range(0,n+1):\n",
    "    print(ind , list_data[ind])"
   ]
  },
  {
   "cell_type": "code",
   "execution_count": null,
   "id": "4e9e02a9",
   "metadata": {},
   "outputs": [],
   "source": [
    "print(list_data)"
   ]
  },
  {
   "cell_type": "code",
   "execution_count": null,
   "id": "970a8a7c",
   "metadata": {},
   "outputs": [],
   "source": [
    "for ind in range(n):\n",
    "    if ind%2==1:\n",
    "        print(list_data[ind])"
   ]
  },
  {
   "cell_type": "code",
   "execution_count": null,
   "id": "b0bd6f70",
   "metadata": {},
   "outputs": [],
   "source": []
  },
  {
   "cell_type": "code",
   "execution_count": null,
   "id": "2a3e6201",
   "metadata": {},
   "outputs": [],
   "source": [
    "for ind in range(n):\n",
    "    if ind%2==0:\n",
    "        list_data[ind] = ind**ind"
   ]
  },
  {
   "cell_type": "code",
   "execution_count": null,
   "id": "7070afa4",
   "metadata": {},
   "outputs": [],
   "source": [
    "print(list_data)"
   ]
  },
  {
   "cell_type": "code",
   "execution_count": null,
   "id": "363538ad",
   "metadata": {},
   "outputs": [],
   "source": []
  },
  {
   "cell_type": "code",
   "execution_count": null,
   "id": "f5fe2f57",
   "metadata": {},
   "outputs": [],
   "source": [
    "#reverse\n",
    "\n",
    "for index in range(-1,-n-1,-1):\n",
    "    print(list_data[index])"
   ]
  },
  {
   "cell_type": "code",
   "execution_count": null,
   "id": "e27dba91",
   "metadata": {},
   "outputs": [],
   "source": []
  },
  {
   "cell_type": "code",
   "execution_count": null,
   "id": "ac0c9516",
   "metadata": {},
   "outputs": [],
   "source": [
    "comp = [\"Google\",\"Microsoft\",True , 1729 , 10e10 , 5+2j]\n",
    "\n",
    "for i in range(len(comp)):#0-5\n",
    "    if (i>2):\n",
    "        print(comp[i])\n",
    "    else:\n",
    "        print(f\"{i} is less than given condition\")\n",
    "\n"
   ]
  },
  {
   "cell_type": "code",
   "execution_count": null,
   "id": "22778425",
   "metadata": {},
   "outputs": [],
   "source": []
  },
  {
   "cell_type": "code",
   "execution_count": null,
   "id": "8de9ed8d",
   "metadata": {},
   "outputs": [],
   "source": [
    "comp = [\"Google\",\"Microsoft\",True , 1729 , 10e10 , 5+2j]\n",
    "\n",
    "loc = int(input(\"Enter the loc: \"))\n",
    "\n",
    "inp_dt= input(\"Enter the data to input: \")\n",
    "\n",
    "for i in range(len(comp)):\n",
    "    if(i==loc):\n",
    "        comp[i] = inp_dt\n",
    "print(comp)"
   ]
  },
  {
   "cell_type": "code",
   "execution_count": null,
   "id": "71b515b7",
   "metadata": {},
   "outputs": [],
   "source": [
    "\n"
   ]
  },
  {
   "cell_type": "code",
   "execution_count": null,
   "id": "a775fd3f",
   "metadata": {},
   "outputs": [],
   "source": [
    "comp = [\"Google\",\"Microsoft\",True , 1729 , 2j ,10e10 , 5+2j]\n",
    "\n",
    "for i in range(len(comp)):\n",
    "    if (type(comp[i]) not in [complex]):\n",
    "        print(comp[i])"
   ]
  },
  {
   "cell_type": "code",
   "execution_count": null,
   "id": "98af47ed",
   "metadata": {},
   "outputs": [],
   "source": []
  },
  {
   "cell_type": "code",
   "execution_count": null,
   "id": "4c5bd8b0",
   "metadata": {},
   "outputs": [],
   "source": [
    "# TUPLE"
   ]
  },
  {
   "cell_type": "code",
   "execution_count": null,
   "id": "e13f7d40",
   "metadata": {},
   "outputs": [],
   "source": [
    "# tuple\n",
    "prices = (55.2,90.2,67.2,51.2,10/3)\n",
    "\n",
    "for ind in range(len(prices)):\n",
    "    print(prices[ind])\n",
    "    "
   ]
  },
  {
   "cell_type": "code",
   "execution_count": null,
   "id": "bad1e7c0",
   "metadata": {},
   "outputs": [],
   "source": [
    "prices = (55.2,90.2,67.2,51.2,10/3)\n",
    "\n",
    "for ind in range(len(prices)):\n",
    "    if ind == 2:\n",
    "        prices[ind] = ind**ind\n",
    "print(prices[ind])"
   ]
  },
  {
   "cell_type": "code",
   "execution_count": null,
   "id": "1f317266",
   "metadata": {},
   "outputs": [],
   "source": [
    "# STR"
   ]
  },
  {
   "cell_type": "code",
   "execution_count": null,
   "id": "96ed8b0f",
   "metadata": {},
   "outputs": [],
   "source": [
    "msg = \"Hey Hi\"\n",
    "\n",
    "for i in range(len(msg)):\n",
    "    print(msg[i])"
   ]
  },
  {
   "cell_type": "code",
   "execution_count": null,
   "id": "5e854f30",
   "metadata": {},
   "outputs": [],
   "source": [
    "lang = \"Python Is OOP's Languge\"\n",
    "\n",
    "n = len(lang)\n",
    "\n",
    "for ind in range(n):\n",
    "    print(lang[ind],end=\" \")"
   ]
  },
  {
   "cell_type": "code",
   "execution_count": null,
   "id": "f8646015",
   "metadata": {},
   "outputs": [],
   "source": [
    "s=\"Python Is OOP's Languge\""
   ]
  },
  {
   "cell_type": "code",
   "execution_count": null,
   "id": "b2fd23b5",
   "metadata": {},
   "outputs": [],
   "source": [
    "for ind in range(len(s)):\n",
    "    if (s[ind]>='A' and s[ind]<='Z'):\n",
    "        print(s[ind] , end=\" \")"
   ]
  },
  {
   "cell_type": "code",
   "execution_count": null,
   "id": "3fe3f4ff",
   "metadata": {},
   "outputs": [],
   "source": [
    "print('a'>'A')"
   ]
  },
  {
   "cell_type": "code",
   "execution_count": null,
   "id": "b6ca5ae4",
   "metadata": {},
   "outputs": [],
   "source": [
    "print(chr(65),chr(97))"
   ]
  },
  {
   "cell_type": "code",
   "execution_count": null,
   "id": "3ae4de1e",
   "metadata": {},
   "outputs": [],
   "source": [
    "print(ord('a'),ord('z'))"
   ]
  },
  {
   "cell_type": "code",
   "execution_count": null,
   "id": "19e95c8c",
   "metadata": {},
   "outputs": [],
   "source": [
    "print(chr(91))"
   ]
  },
  {
   "cell_type": "code",
   "execution_count": null,
   "id": "5eb48049",
   "metadata": {},
   "outputs": [],
   "source": [
    "print(ord('A'),ord('Z'))"
   ]
  },
  {
   "cell_type": "code",
   "execution_count": null,
   "id": "5a8316cd",
   "metadata": {},
   "outputs": [],
   "source": [
    "for ch in s:\n",
    "    if (ord(ch)>=97 and ord(ch)<=122):\n",
    "        print(ch)"
   ]
  },
  {
   "cell_type": "code",
   "execution_count": null,
   "id": "2585eb44",
   "metadata": {},
   "outputs": [],
   "source": []
  },
  {
   "cell_type": "code",
   "execution_count": null,
   "id": "ec5ca368",
   "metadata": {},
   "outputs": [],
   "source": []
  },
  {
   "cell_type": "code",
   "execution_count": null,
   "id": "5d3089b4",
   "metadata": {},
   "outputs": [],
   "source": []
  },
  {
   "cell_type": "code",
   "execution_count": null,
   "id": "e0f5c52a",
   "metadata": {},
   "outputs": [],
   "source": []
  },
  {
   "cell_type": "code",
   "execution_count": null,
   "id": "c59ec7ab",
   "metadata": {},
   "outputs": [],
   "source": []
  },
  {
   "cell_type": "markdown",
   "id": "464a9efa",
   "metadata": {},
   "source": [
    "### WHILE LOOP\n",
    "    \n",
    "    \n",
    "- With the while loop we can execute a set of statements as long as a condition is true.\n",
    "- We prefer the while when dont know the no of iterations in advance\n",
    "- In While loop , its mandatory to initialise the index variable and increment it during iterations\n",
    "\n"
   ]
  },
  {
   "cell_type": "code",
   "execution_count": null,
   "id": "5cbed812",
   "metadata": {},
   "outputs": [],
   "source": [
    "i = 0 #index variable\n",
    "n = 10 #stop\n",
    "\n",
    "while i<n: #true \n",
    "    print(i)\n",
    "    i+=2\n",
    "    \n",
    "print(\"outside loop\")"
   ]
  },
  {
   "cell_type": "code",
   "execution_count": null,
   "id": "7e8dcd52",
   "metadata": {},
   "outputs": [],
   "source": []
  },
  {
   "cell_type": "code",
   "execution_count": null,
   "id": "c45e13d3",
   "metadata": {},
   "outputs": [],
   "source": []
  },
  {
   "cell_type": "code",
   "execution_count": null,
   "id": "e020be97",
   "metadata": {},
   "outputs": [],
   "source": [
    "comp = ['Google', 'Microsoft', True, 1729, 100000000000.0, (5+2j)]\n",
    "print(comp)\n",
    "print(len(comp))\n",
    "\n"
   ]
  },
  {
   "cell_type": "code",
   "execution_count": null,
   "id": "1744ff36",
   "metadata": {},
   "outputs": [],
   "source": [
    "# print base \n",
    "for data in comp:\n",
    "    print(data, end =\" \")"
   ]
  },
  {
   "cell_type": "code",
   "execution_count": null,
   "id": "8f164e68",
   "metadata": {},
   "outputs": [],
   "source": [
    "# range \n",
    "\n",
    "for i in range(0,len(comp)):\n",
    "    print(comp[i] , end=\" \")"
   ]
  },
  {
   "cell_type": "code",
   "execution_count": null,
   "id": "154965ad",
   "metadata": {},
   "outputs": [],
   "source": []
  },
  {
   "cell_type": "code",
   "execution_count": null,
   "id": "da70dda9",
   "metadata": {},
   "outputs": [],
   "source": [
    "# while\n",
    "\n",
    "comp = ['Google', 'Microsoft', True, 1729, 100000000000.0, (5+2j)]\n",
    "\n",
    "i = 0\n",
    "n = len(comp)\n",
    "\n",
    "print(n)\n",
    "while i<n:\n",
    "    print(i,comp[i])\n",
    "    i = i+2"
   ]
  },
  {
   "cell_type": "code",
   "execution_count": null,
   "id": "85fca08c",
   "metadata": {},
   "outputs": [],
   "source": [
    "i=0\n",
    "while i<5:\n",
    "    print(\"hello world\")\n",
    "    "
   ]
  },
  {
   "cell_type": "code",
   "execution_count": null,
   "id": "2b4844e0",
   "metadata": {},
   "outputs": [],
   "source": []
  },
  {
   "cell_type": "code",
   "execution_count": null,
   "id": "90c02b9e",
   "metadata": {},
   "outputs": [],
   "source": [
    "i=0 #index variable\n",
    "\n",
    "n=10 #stop\n",
    "\n",
    "#if the condition is True , it enters the loops , it will stop when the condition is FALSE\n",
    "while i<=n: #0 1 2 3 4 5 6 7 8 9  10\n",
    "    print(i ,end=\" \")\n",
    "    print(\"Kumar\")\n",
    "    i +=1\n",
    "    \n",
    "print(i)"
   ]
  },
  {
   "cell_type": "code",
   "execution_count": null,
   "id": "1982e65b",
   "metadata": {},
   "outputs": [],
   "source": []
  },
  {
   "cell_type": "code",
   "execution_count": null,
   "id": "83f162f1",
   "metadata": {},
   "outputs": [],
   "source": [
    "i=0 #index variable\n",
    "\n",
    "n=10 #stop\n",
    "\n",
    "#if the condition is True , it enters the loops\n",
    "while i<=n: #0 1 2 3 4 5 6 7 8 9 \n",
    "    print(i ,end=\" \")\n",
    "    i=i+2"
   ]
  },
  {
   "cell_type": "code",
   "execution_count": null,
   "id": "e4947c5a",
   "metadata": {},
   "outputs": [],
   "source": [
    "print(10==10)\n",
    "\n",
    "print(12!=0)\n",
    "\n",
    "print(0!=0)\n"
   ]
  },
  {
   "cell_type": "code",
   "execution_count": null,
   "id": "0b233aae",
   "metadata": {},
   "outputs": [],
   "source": [
    "print(bin(12))"
   ]
  },
  {
   "cell_type": "code",
   "execution_count": null,
   "id": "067ffb56",
   "metadata": {},
   "outputs": [],
   "source": []
  },
  {
   "cell_type": "code",
   "execution_count": null,
   "id": "fad9ce4d",
   "metadata": {},
   "outputs": [],
   "source": [
    "comp = ['Google', 'Microsoft', True, 1729, 100000000000.0, (5+2j)]\n",
    "print(comp)\n",
    "\n",
    "\n",
    "ind = 0\n",
    "\n",
    "n = len(comp)\n",
    "\n",
    "print(ind,n)\n",
    "\n",
    "while ind < n: #0 1 2 3 4 5 \n",
    "    print(comp[ind])\n",
    "    ind+=1\n"
   ]
  },
  {
   "cell_type": "code",
   "execution_count": null,
   "id": "6c44f695",
   "metadata": {},
   "outputs": [],
   "source": [
    "comp"
   ]
  },
  {
   "cell_type": "markdown",
   "id": "a9be0325",
   "metadata": {},
   "source": [
    "### Daily usecases"
   ]
  },
  {
   "cell_type": "markdown",
   "id": "86239e06",
   "metadata": {},
   "source": [
    "#### decimal number to binary convertion"
   ]
  },
  {
   "cell_type": "code",
   "execution_count": null,
   "id": "4f45907b",
   "metadata": {},
   "outputs": [],
   "source": [
    "\n",
    "\n",
    "# VALUES : 128 64 32 16 8 4 2 1\n",
    "# digits : \n",
    "\n",
    "n=27 #1100\n",
    "\n",
    "while n!=0: #when flase comes out of the loop\n",
    "    print(n%2 , end=\" \")\n",
    "    n=n//2\n",
    "\n",
    "\n",
    "# modulus = 1 1 0 1 1 (binary of 27)\n",
    "# #n = 13 \n",
    "# n = 6\n",
    "# n =3\n",
    "# n= 1 \n",
    "# n=0"
   ]
  },
  {
   "cell_type": "code",
   "execution_count": null,
   "id": "43e6d90f",
   "metadata": {},
   "outputs": [],
   "source": []
  },
  {
   "cell_type": "markdown",
   "id": "56f78e19",
   "metadata": {},
   "source": [
    "#### print in reverse order."
   ]
  },
  {
   "cell_type": "code",
   "execution_count": null,
   "id": "b12acbd4",
   "metadata": {},
   "outputs": [],
   "source": []
  },
  {
   "cell_type": "code",
   "execution_count": null,
   "id": "6feec6f8",
   "metadata": {},
   "outputs": [],
   "source": [
    "\n",
    "start = -1\n",
    "\n",
    "n = -len(comp)\n",
    "\n",
    "print(start,n)\n",
    "\n",
    "while start>=n: #0 1 2 3 4 5 \n",
    "    print(comp[start])\n",
    "    start=start-1"
   ]
  },
  {
   "cell_type": "code",
   "execution_count": null,
   "id": "c96e4eff",
   "metadata": {},
   "outputs": [],
   "source": []
  },
  {
   "cell_type": "markdown",
   "id": "f0be421b",
   "metadata": {},
   "source": [
    "#### copying"
   ]
  },
  {
   "cell_type": "code",
   "execution_count": null,
   "id": "47891408",
   "metadata": {},
   "outputs": [],
   "source": [
    "\n",
    "\n",
    "ind = 0\n",
    "\n",
    "n = len(comp)\n",
    "\n",
    "new_list = ['a','b','c','d','e','f']\n",
    "\n",
    "while ind < n: #0 1 2 3 4 5 \n",
    "    comp[ind]=new_list[ind]\n",
    "    ind+=1\n",
    "comp"
   ]
  },
  {
   "cell_type": "markdown",
   "id": "840f38c8",
   "metadata": {},
   "source": [
    "##### rever of an array"
   ]
  },
  {
   "cell_type": "code",
   "execution_count": null,
   "id": "cadab352",
   "metadata": {},
   "outputs": [],
   "source": [
    "# rever of a array\n",
    "\n",
    "arr = [109,3,9,0,6]\n",
    "#output [6,0,9,3,109]\n",
    "\n",
    "ind = 0 \n",
    "backind = len(arr)-1\n",
    "\n",
    "n = len(arr)\n",
    "\n",
    "while ind<(n//2):\n",
    "    arr[ind] ,arr[backind]  = arr[backind] , arr[ind]\n",
    "    ind+=1\n",
    "    backind= backind-1\n",
    "    print(f\"{ind} iteration:  {arr}\")\n",
    "\n",
    "print(arr)"
   ]
  },
  {
   "cell_type": "code",
   "execution_count": null,
   "id": "751e8c1d",
   "metadata": {},
   "outputs": [],
   "source": []
  }
 ],
 "metadata": {
  "kernelspec": {
   "display_name": "Python 3 (ipykernel)",
   "language": "python",
   "name": "python3"
  },
  "language_info": {
   "codemirror_mode": {
    "name": "ipython",
    "version": 3
   },
   "file_extension": ".py",
   "mimetype": "text/x-python",
   "name": "python",
   "nbconvert_exporter": "python",
   "pygments_lexer": "ipython3",
   "version": "3.10.9"
  }
 },
 "nbformat": 4,
 "nbformat_minor": 5
}
