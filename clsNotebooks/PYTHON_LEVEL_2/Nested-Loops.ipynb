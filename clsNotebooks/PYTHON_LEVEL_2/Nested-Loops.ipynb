{
 "cells": [
  {
   "cell_type": "markdown",
   "id": "bf9bb4f1",
   "metadata": {},
   "source": [
    "### Try these\n",
    "- Can we try while loop on sets/dictionary?\n",
    "\n"
   ]
  },
  {
   "cell_type": "code",
   "execution_count": null,
   "id": "1b626367",
   "metadata": {},
   "outputs": [],
   "source": [
    "#indexed based datatypes\n",
    "list\n",
    "tuple\n",
    "str\n",
    "\n",
    "#non indexed based datatypes:\n",
    "set\n",
    "dictionary"
   ]
  },
  {
   "cell_type": "code",
   "execution_count": null,
   "id": "1e43646b",
   "metadata": {},
   "outputs": [],
   "source": []
  },
  {
   "cell_type": "markdown",
   "id": "f26cd3e5",
   "metadata": {},
   "source": [
    "### Question on Normal loops\n",
    "\n",
    "Q1. Find the second largest number and index in a given list of intergers\n",
    "    \n",
    "    - Incase of multiple second largest no's always print the last index.\n",
    "    - If list is having only one element , then print the same.\n",
    "    - If list is empty , print error message.\n",
    "      ex: nums = [1,9,2,6,8,22,1,9]\n",
    "      \n",
    "Q2. Find the cummulative sum for a list of integers\n",
    "   \n",
    "    ex: nums = [1,4,6,2]\n",
    "    \n",
    "    o/p: [1,5,11,13]"
   ]
  },
  {
   "cell_type": "code",
   "execution_count": null,
   "id": "83cd47ee",
   "metadata": {},
   "outputs": [],
   "source": []
  },
  {
   "cell_type": "code",
   "execution_count": null,
   "id": "05cbc206",
   "metadata": {},
   "outputs": [],
   "source": []
  },
  {
   "cell_type": "code",
   "execution_count": null,
   "id": "b2028994",
   "metadata": {},
   "outputs": [],
   "source": []
  },
  {
   "cell_type": "code",
   "execution_count": null,
   "id": "a08a1fd9",
   "metadata": {},
   "outputs": [],
   "source": []
  },
  {
   "cell_type": "code",
   "execution_count": null,
   "id": "17b6bc1a",
   "metadata": {},
   "outputs": [],
   "source": []
  },
  {
   "cell_type": "markdown",
   "id": "40c03d38",
   "metadata": {},
   "source": [
    "### Nested Loops\n",
    "\n",
    "A nested loop is a loop inside a loop.\n",
    "\n",
    "The \"inner loop\" will be executed one time for each iteration of the \"outer loop\":\n",
    "\n",
    "Useful for accessing the 2D Lists , Tuples\n"
   ]
  },
  {
   "cell_type": "code",
   "execution_count": null,
   "id": "1e077bfa",
   "metadata": {},
   "outputs": [],
   "source": []
  },
  {
   "cell_type": "markdown",
   "id": "0bc6ba5a",
   "metadata": {},
   "source": [
    "### what is 2D data?"
   ]
  },
  {
   "cell_type": "code",
   "execution_count": null,
   "id": "b9d57e7b",
   "metadata": {},
   "outputs": [],
   "source": [
    "data = [\n",
    "    [\"mango\",\"grape\",\"orange\"],\n",
    "    [\"csk\",\"mi\",\"rr\",\"kkr\"],\n",
    "    [1,3,5,7],\n",
    "    [2,4,6,8]\n",
    "]\n",
    "\n",
    "print(data)"
   ]
  },
  {
   "cell_type": "code",
   "execution_count": null,
   "id": "36ed726e",
   "metadata": {},
   "outputs": [],
   "source": [
    "print(data[1][3])"
   ]
  },
  {
   "cell_type": "code",
   "execution_count": null,
   "id": "d054def9",
   "metadata": {},
   "outputs": [],
   "source": [
    "print(data[-3][-3])"
   ]
  },
  {
   "cell_type": "code",
   "execution_count": null,
   "id": "2379ce8c",
   "metadata": {},
   "outputs": [],
   "source": [
    "# index of p\n",
    "print(data[0][1][3])"
   ]
  },
  {
   "cell_type": "code",
   "execution_count": null,
   "id": "bab0e538",
   "metadata": {},
   "outputs": [],
   "source": [
    "print(data[-4][-2][-2])"
   ]
  },
  {
   "cell_type": "code",
   "execution_count": null,
   "id": "33d35710",
   "metadata": {},
   "outputs": [],
   "source": [
    "print(data[-4][-2][::-1])"
   ]
  },
  {
   "cell_type": "markdown",
   "id": "e787aed9",
   "metadata": {},
   "source": []
  },
  {
   "cell_type": "code",
   "execution_count": null,
   "id": "8a663988",
   "metadata": {},
   "outputs": [],
   "source": []
  },
  {
   "cell_type": "markdown",
   "id": "15e8cb30",
   "metadata": {},
   "source": [
    "![](https://bertwagner.com/wp-content/uploads/2018/12/Nested-Loop-Join-50fps-1.gif)"
   ]
  },
  {
   "cell_type": "markdown",
   "id": "7169202a",
   "metadata": {},
   "source": [
    "### Nested For Loop"
   ]
  },
  {
   "cell_type": "code",
   "execution_count": null,
   "id": "77181b5c",
   "metadata": {},
   "outputs": [],
   "source": [
    "for :\n",
    "    for:\n",
    "        for:\n",
    "            for\n",
    "    \n",
    "for:\n",
    "    while\n",
    "    \n",
    "while:\n",
    "    while\n",
    "\n",
    "while:\n",
    "    for"
   ]
  },
  {
   "cell_type": "code",
   "execution_count": null,
   "id": "9c91b3bb",
   "metadata": {},
   "outputs": [],
   "source": [
    "FOR ONE ITERATION OF Outer Loop , INNER loop will execute all it's iterations."
   ]
  },
  {
   "cell_type": "code",
   "execution_count": null,
   "id": "84923680",
   "metadata": {},
   "outputs": [],
   "source": []
  },
  {
   "cell_type": "markdown",
   "id": "36db80bc",
   "metadata": {},
   "source": [
    "### normal loops"
   ]
  },
  {
   "cell_type": "code",
   "execution_count": null,
   "id": "efdf3d05",
   "metadata": {},
   "outputs": [],
   "source": [
    "for i in range(1,11):\n",
    "    print(i , end = ' ')"
   ]
  },
  {
   "cell_type": "code",
   "execution_count": null,
   "id": "554098a0",
   "metadata": {},
   "outputs": [],
   "source": [
    "i = 1 \n",
    "n = 10\n",
    "\n",
    "while(i<=n):\n",
    "    print(i,end=\" \")\n",
    "    i+=1"
   ]
  },
  {
   "cell_type": "code",
   "execution_count": null,
   "id": "1ddd46e6",
   "metadata": {},
   "outputs": [],
   "source": []
  },
  {
   "cell_type": "code",
   "execution_count": null,
   "id": "24452c11",
   "metadata": {},
   "outputs": [],
   "source": []
  },
  {
   "cell_type": "markdown",
   "id": "b377504b",
   "metadata": {},
   "source": [
    "![](https://pynative.com/wp-content/uploads/2021/06/python-nested-for-loop.png)"
   ]
  },
  {
   "cell_type": "code",
   "execution_count": null,
   "id": "11d3fcee",
   "metadata": {},
   "outputs": [],
   "source": []
  },
  {
   "cell_type": "code",
   "execution_count": null,
   "id": "8f73da14",
   "metadata": {},
   "outputs": [],
   "source": [
    "# normal for loop\n",
    "\n",
    "for i in range(10):\n",
    "    print(i , end=\" \")"
   ]
  },
  {
   "cell_type": "code",
   "execution_count": null,
   "id": "51984a6e",
   "metadata": {},
   "outputs": [],
   "source": []
  },
  {
   "cell_type": "code",
   "execution_count": null,
   "id": "0812b754",
   "metadata": {},
   "outputs": [],
   "source": [
    "for i in range(1,11): \n",
    "    for j in range(1,11):\n",
    "        print(i*j,end=' ')\n",
    "    print()\n",
    "\n",
    "\n"
   ]
  },
  {
   "cell_type": "code",
   "execution_count": null,
   "id": "b2552bdd",
   "metadata": {},
   "outputs": [],
   "source": []
  },
  {
   "cell_type": "markdown",
   "id": "d4996e82",
   "metadata": {},
   "source": [
    "![](https://media.geeksforgeeks.org/wp-content/uploads/20220801153940/Nestedloop.png)"
   ]
  },
  {
   "cell_type": "code",
   "execution_count": null,
   "id": "b2b2b10b",
   "metadata": {},
   "outputs": [],
   "source": []
  },
  {
   "cell_type": "code",
   "execution_count": null,
   "id": "febe952b",
   "metadata": {},
   "outputs": [],
   "source": [
    "for i in range(5): #0-4\n",
    "    for j in range(2): #0-1\n",
    "        print(\"HI\" , end=\" \")\n",
    "    print()"
   ]
  },
  {
   "cell_type": "code",
   "execution_count": null,
   "id": "69f0a484",
   "metadata": {},
   "outputs": [],
   "source": []
  },
  {
   "cell_type": "code",
   "execution_count": null,
   "id": "dbfea947",
   "metadata": {},
   "outputs": [],
   "source": [
    "count=0\n",
    "for i in range(0,10,2):\n",
    "    for j in range(i+1,10,2):\n",
    "        for k in range(j+2,10):\n",
    "            count = count+1\n",
    "print(count)"
   ]
  },
  {
   "cell_type": "code",
   "execution_count": null,
   "id": "f2e066ca",
   "metadata": {},
   "outputs": [],
   "source": []
  },
  {
   "cell_type": "code",
   "execution_count": null,
   "id": "c6aef696",
   "metadata": {},
   "outputs": [],
   "source": [
    "for out in range(1,4):\n",
    "    for inner in range(1,11):\n",
    "        print(out*inner , end=\" \")\n",
    "    print()"
   ]
  },
  {
   "cell_type": "code",
   "execution_count": null,
   "id": "f5480f22",
   "metadata": {},
   "outputs": [],
   "source": []
  },
  {
   "cell_type": "code",
   "execution_count": null,
   "id": "f314a500",
   "metadata": {},
   "outputs": [],
   "source": [
    "out = 1\n",
    "while out<4:\n",
    "    inner = 1\n",
    "    while inner<11:\n",
    "        print(out*inner, end=\" \")\n",
    "        inner+=1\n",
    "    out+=1\n",
    "    print()"
   ]
  },
  {
   "cell_type": "markdown",
   "id": "8291097c",
   "metadata": {},
   "source": [
    "### Infinite loop\n",
    "\n"
   ]
  },
  {
   "cell_type": "code",
   "execution_count": null,
   "id": "a0eaa3b1",
   "metadata": {},
   "outputs": [],
   "source": [
    "i = 0\n",
    "n = 10\n",
    "\n",
    "while(i<=n):\n",
    "    print(i)"
   ]
  },
  {
   "cell_type": "code",
   "execution_count": null,
   "id": "c2c217e3",
   "metadata": {},
   "outputs": [],
   "source": []
  },
  {
   "cell_type": "code",
   "execution_count": null,
   "id": "3ed7c0ce",
   "metadata": {},
   "outputs": [],
   "source": []
  },
  {
   "cell_type": "code",
   "execution_count": 42,
   "id": "cf8ed752",
   "metadata": {},
   "outputs": [
    {
     "name": "stdout",
     "output_type": "stream",
     "text": [
      "mango grape orange \n",
      "csk mi rr kkr \n",
      "1 3 5 7 9 \n",
      "2 4 6 8 10 12 14 \n"
     ]
    }
   ],
   "source": [
    "data = [\n",
    "    [\"mango\",\"grape\",\"orange\"],\n",
    "    [\"csk\",\"mi\",\"rr\",\"kkr\"],\n",
    "    [1,3,5,7,9],\n",
    "    [2,4,6,8,10,12,14]\n",
    "]\n",
    "\n",
    "#print -based for loop\n",
    "\n",
    "for outer in data:\n",
    "    for d in outer:\n",
    "        print(d ,end=' ')\n",
    "    print()\n",
    "        "
   ]
  },
  {
   "cell_type": "code",
   "execution_count": 43,
   "id": "9a7da4ed",
   "metadata": {},
   "outputs": [
    {
     "name": "stdout",
     "output_type": "stream",
     "text": [
      "mango grape orange \n",
      "csk mi rr kkr \n",
      "1 3 5 7 9 \n",
      "2 4 6 8 10 12 14 \n"
     ]
    }
   ],
   "source": [
    "#range based for loop \n",
    "n = len(data)\n",
    "\n",
    "for i in range(0,n):\n",
    "    m = len(data[i])\n",
    "    for j in range(0,m):\n",
    "        print(data[i][j] ,end=' ')\n",
    "    print()"
   ]
  },
  {
   "cell_type": "code",
   "execution_count": 44,
   "id": "faf05295",
   "metadata": {},
   "outputs": [
    {
     "name": "stdout",
     "output_type": "stream",
     "text": [
      "mango grape orange \n",
      "csk mi rr kkr \n",
      "1 3 5 7 9 \n",
      "2 4 6 8 10 12 14 \n"
     ]
    }
   ],
   "source": [
    "# while loop \n",
    "\n",
    "i = 0 \n",
    "n = len(data)\n",
    "\n",
    "while i<n:\n",
    "    j=0\n",
    "    m = len(data[i])\n",
    "    while j<m:\n",
    "        print(data[i][j] , end=' ')\n",
    "        j+=1\n",
    "    i+=1\n",
    "    print()"
   ]
  },
  {
   "cell_type": "code",
   "execution_count": null,
   "id": "d9617fb2",
   "metadata": {},
   "outputs": [],
   "source": []
  },
  {
   "cell_type": "code",
   "execution_count": null,
   "id": "995da146",
   "metadata": {},
   "outputs": [],
   "source": []
  },
  {
   "cell_type": "markdown",
   "id": "1e172289",
   "metadata": {},
   "source": [
    "####  EXAMPLES "
   ]
  },
  {
   "cell_type": "code",
   "execution_count": null,
   "id": "2400be75",
   "metadata": {},
   "outputs": [],
   "source": []
  },
  {
   "cell_type": "code",
   "execution_count": null,
   "id": "7e0006d5",
   "metadata": {},
   "outputs": [],
   "source": []
  },
  {
   "cell_type": "code",
   "execution_count": 45,
   "id": "1b839844",
   "metadata": {},
   "outputs": [],
   "source": [
    "response = {\n",
    "  \"page\": 2,\n",
    "  \"per_page\": 6,\n",
    "  \"total\": 12,\n",
    "  \"total_pages\": 2,\n",
    "  \"data\": [\n",
    "    {\n",
    "      \"id\": 7,\n",
    "      \"email\": \"michael.lawson@reqres.in\",\n",
    "      \"first_name\": \"Michael\",\n",
    "      \"last_name\": \"Lawson\",\n",
    "      \"avatar\": \"https://reqres.in/img/faces/7-image.jpg\"\n",
    "    },\n",
    "    {\n",
    "      \"id\": 8,\n",
    "      \"email\": \"lindsay.ferguson@reqres.in\",\n",
    "      \"first_name\": \"Lindsay\",\n",
    "      \"last_name\": \"Ferguson\",\n",
    "      \"avatar\": \"https://reqres.in/img/faces/8-image.jpg\"\n",
    "    },\n",
    "    {\n",
    "      \"id\": 9,\n",
    "      \"email\": \"tobias.funke@reqres.in\",\n",
    "      \"first_name\": \"Tobias\",\n",
    "      \"last_name\": \"Funke\",\n",
    "      \"avatar\": \"https://reqres.in/img/faces/9-image.jpg\"\n",
    "    },\n",
    "    {\n",
    "      \"id\": 10,\n",
    "      \"email\": \"byron.fields@reqres.in\",\n",
    "      \"first_name\": \"Byron\",\n",
    "      \"last_name\": \"Fields\",\n",
    "      \"avatar\": \"https://reqres.in/img/faces/10-image.jpg\"\n",
    "    },\n",
    "    {\n",
    "      \"id\": 11,\n",
    "      \"email\": \"george.edwards@reqres.in\",\n",
    "      \"first_name\": \"George\",\n",
    "      \"last_name\": \"Edwards\",\n",
    "      \"avatar\": \"https://reqres.in/img/faces/11-image.jpg\"\n",
    "    },\n",
    "    {\n",
    "      \"id\": 12,\n",
    "      \"email\": \"rachel.howell@reqres.in\",\n",
    "      \"first_name\": \"Rachel\",\n",
    "      \"last_name\": \"Howell\",\n",
    "      \"avatar\": \"https://reqres.in/img/faces/12-image.jpg\"\n",
    "    }\n",
    "  ],\n",
    "  \"support\": {\n",
    "    \"url\": \"https://reqres.in/#support-heading\",\n",
    "    \"text\": \"To keep ReqRes free, contributions towards server costs are appreciated!\"\n",
    "  }\n",
    "}"
   ]
  },
  {
   "cell_type": "code",
   "execution_count": 50,
   "id": "ad3fa151",
   "metadata": {},
   "outputs": [
    {
     "name": "stdout",
     "output_type": "stream",
     "text": [
      "<class 'list'>\n"
     ]
    }
   ],
   "source": [
    "print(type(response['data']))"
   ]
  },
  {
   "cell_type": "code",
   "execution_count": 86,
   "id": "73c575d4",
   "metadata": {
    "scrolled": true
   },
   "outputs": [
    {
     "name": "stdout",
     "output_type": "stream",
     "text": [
      "https://reqres.in/img/faces/7-image.jpg\n",
      "https://reqres.in/img/faces/8-image.jpg\n",
      "https://reqres.in/img/faces/9-image.jpg\n",
      "https://reqres.in/img/faces/10-image.jpg\n",
      "https://reqres.in/img/faces/11-image.jpg\n",
      "https://reqres.in/img/faces/12-image.jpg\n"
     ]
    }
   ],
   "source": [
    "for users in response['data']:\n",
    "    for k,v in users.items():\n",
    "        if k in ('avatar'):\n",
    "            print(v)"
   ]
  },
  {
   "cell_type": "markdown",
   "id": "709c24ec",
   "metadata": {},
   "source": [
    "### Try these\n",
    "\n",
    "- Data : https://github.com/vega/vega/blob/main/docs/data/cars.json\n",
    "- Save the data in fileName.json\n",
    "1. Read the data and store in variables\n",
    "2. Filter only carsName , based on Origin\n",
    "2. Filter carName based on Year"
   ]
  },
  {
   "cell_type": "code",
   "execution_count": null,
   "id": "7481fbe4",
   "metadata": {},
   "outputs": [],
   "source": [
    "x = [1, 2]\n",
    "y = [4, 5]\n",
    "\n",
    "for i in x:\n",
    "    for j in y:\n",
    "        print(i, j)\n"
   ]
  },
  {
   "cell_type": "code",
   "execution_count": null,
   "id": "9e909898",
   "metadata": {},
   "outputs": [],
   "source": []
  },
  {
   "cell_type": "code",
   "execution_count": null,
   "id": "be7fb67c",
   "metadata": {},
   "outputs": [],
   "source": []
  },
  {
   "cell_type": "code",
   "execution_count": null,
   "id": "7b44ce30",
   "metadata": {},
   "outputs": [],
   "source": [
    "x = [1, 2]\n",
    "y = [4, 5]\n",
    "i = 0\n",
    "while i < len(x) :\n",
    "    j = 0\n",
    "    while j < len(y) :\n",
    "        print(x[i] , y[j])\n",
    "        j = j + 1\n",
    "    i = i + 1\n"
   ]
  },
  {
   "cell_type": "code",
   "execution_count": null,
   "id": "b488e974",
   "metadata": {},
   "outputs": [],
   "source": []
  },
  {
   "cell_type": "code",
   "execution_count": null,
   "id": "10931b49",
   "metadata": {},
   "outputs": [],
   "source": [
    "\n",
    "\n",
    "arr_2D =[\n",
    "    \n",
    "        [1,2,3,10],\n",
    "        ['a','b','c'],\n",
    "        [10.2,True,10+2j]\n",
    "    \n",
    "        ]\n",
    "\n",
    "for data in arr_2D:\n",
    "    print(data)"
   ]
  },
  {
   "cell_type": "code",
   "execution_count": null,
   "id": "0d733440",
   "metadata": {},
   "outputs": [],
   "source": []
  },
  {
   "cell_type": "code",
   "execution_count": null,
   "id": "bf22aa4f",
   "metadata": {},
   "outputs": [],
   "source": []
  },
  {
   "cell_type": "code",
   "execution_count": null,
   "id": "56596d66",
   "metadata": {},
   "outputs": [],
   "source": [
    "for data in arr_2D:\n",
    "    for inner in data:\n",
    "        print(inner, end =\" \")\n",
    "    print()"
   ]
  },
  {
   "cell_type": "code",
   "execution_count": null,
   "id": "2203e03e",
   "metadata": {},
   "outputs": [],
   "source": [
    "data = [\"apple\",\"ms\",\"telsa\", \"Micro\"]\n",
    "\n",
    "print(data[0])"
   ]
  },
  {
   "cell_type": "code",
   "execution_count": null,
   "id": "a7e864fc",
   "metadata": {},
   "outputs": [],
   "source": [
    "arr_2D =[ \n",
    "    [\"apple\",\"ms\",\"telsa\", \"Micro\"],\n",
    "    ['a','b','c' , \"d\",\"f\",\"e\"],\n",
    "    [10.2,True,10+2j]\n",
    "    ]\n",
    "\n",
    "\n",
    "print(arr_2D[0][3])\n",
    "\n",
    "print(len(arr_2D))"
   ]
  },
  {
   "cell_type": "code",
   "execution_count": null,
   "id": "7b07f503",
   "metadata": {},
   "outputs": [],
   "source": [
    "arr_2D =[ \n",
    "    [\"apple\",\"ms\",\"telsa\", \"Micro\"],\n",
    "    ['a','b','c' , \"d\",\"f\",\"e\"],\n",
    "    [10.2,True,10+2j]\n",
    "    ]\n",
    "\n",
    "n = len(arr_2D)\n",
    "print(\"len is\",n)\n",
    "\n",
    "for i in range(n):\n",
    "    for j in range(len(arr_2D[i])):\n",
    "        print(arr_2D[i][j])\n",
    "    print()"
   ]
  },
  {
   "cell_type": "code",
   "execution_count": null,
   "id": "427f19da",
   "metadata": {},
   "outputs": [],
   "source": [
    "arr_2D"
   ]
  },
  {
   "cell_type": "markdown",
   "id": "fafac9dc",
   "metadata": {},
   "source": [
    "### TRY THIS\n"
   ]
  },
  {
   "cell_type": "code",
   "execution_count": null,
   "id": "5a277cff",
   "metadata": {},
   "outputs": [],
   "source": [
    "\n",
    "for i in range(n):\n",
    "    for j in range(len(arr_2D[i])):\n",
    "        if(i==j):\n",
    "            arr_2D[i][j] = i**j\n",
    "    print()\n",
    "    \n",
    "print(arr_2D)"
   ]
  },
  {
   "cell_type": "code",
   "execution_count": null,
   "id": "04e6c5f2",
   "metadata": {},
   "outputs": [],
   "source": []
  },
  {
   "cell_type": "code",
   "execution_count": null,
   "id": "69f2f614",
   "metadata": {},
   "outputs": [],
   "source": [
    "for i in range(2, 4):\n",
    "    if i==j:\n",
    "        break\n",
    "    print(i, \"*\", j, \"=\", i*j)\n",
    "    print()\n"
   ]
  },
  {
   "cell_type": "code",
   "execution_count": null,
   "id": "10681e45",
   "metadata": {},
   "outputs": [],
   "source": []
  },
  {
   "cell_type": "code",
   "execution_count": null,
   "id": "ece13af9",
   "metadata": {},
   "outputs": [],
   "source": [
    "\n",
    "for i in range(2, 4):\n",
    "    for j in range(1, 11):\n",
    "        if i==j:\n",
    "            continue\n",
    "        print(i, \"*\", j, \"=\", i*j)\n",
    "    print()\n"
   ]
  },
  {
   "cell_type": "code",
   "execution_count": null,
   "id": "4b742f77",
   "metadata": {},
   "outputs": [],
   "source": []
  },
  {
   "cell_type": "code",
   "execution_count": null,
   "id": "16c37340",
   "metadata": {},
   "outputs": [],
   "source": [
    "# EXAMPLES\n",
    "\n",
    "data = [[\"kumar\",1200],[\"Alex\",1500],[\"Avan\",2500]]\n",
    "\n",
    "for outer in data:\n",
    "    for d2 in outer:\n",
    "        print(d2)\n",
    "        "
   ]
  },
  {
   "cell_type": "markdown",
   "id": "c05208d7",
   "metadata": {},
   "source": [
    "### Daily-usecases\n",
    "\n"
   ]
  },
  {
   "cell_type": "markdown",
   "id": "9225c84f",
   "metadata": {},
   "source": [
    "#### Printing mutliplication table"
   ]
  },
  {
   "cell_type": "code",
   "execution_count": null,
   "id": "d4b8ddb7",
   "metadata": {},
   "outputs": [],
   "source": [
    "for i in range(2, 4):\n",
    "    for j in range(1, 11):\n",
    "        print(i, \"*\", j, \"=\", i*j)\n",
    "    print()\n"
   ]
  },
  {
   "cell_type": "code",
   "execution_count": null,
   "id": "3b215a43",
   "metadata": {},
   "outputs": [],
   "source": []
  }
 ],
 "metadata": {
  "kernelspec": {
   "display_name": "Python 3 (ipykernel)",
   "language": "python",
   "name": "python3"
  },
  "language_info": {
   "codemirror_mode": {
    "name": "ipython",
    "version": 3
   },
   "file_extension": ".py",
   "mimetype": "text/x-python",
   "name": "python",
   "nbconvert_exporter": "python",
   "pygments_lexer": "ipython3",
   "version": "3.10.9"
  }
 },
 "nbformat": 4,
 "nbformat_minor": 5
}
