{
 "cells": [
  {
   "cell_type": "code",
   "execution_count": null,
   "id": "03e91a49",
   "metadata": {},
   "outputs": [],
   "source": [
    "from IPython.core.interactiveshell import InteractiveShell\n",
    "InteractiveShell.ast_node_interactivity = \"all\""
   ]
  },
  {
   "cell_type": "markdown",
   "id": "4cc68bfc",
   "metadata": {},
   "source": [
    "### Data Types Functions\n",
    "\n",
    "\n",
    "- Text Type:\tstr\n",
    "- Numeric Types:\tint, float, complex\n",
    "- Sequence Types:\tlist, tuple, range\n",
    "- Mapping Type:\tdict\n",
    "- Set Types:\tset, frozenset\n",
    "- Boolean Type:\tbool\n",
    "- Binary Types:\tbytes, bytearray, memoryview"
   ]
  },
  {
   "cell_type": "code",
   "execution_count": null,
   "id": "e2094734",
   "metadata": {},
   "outputs": [],
   "source": [
    "x = \"Hello World\"\n",
    "type(x)\n",
    "\n",
    "x = 20\n",
    "type(x)\n",
    "\n",
    "x = 20.5\n",
    "type(x)\n",
    "\n",
    "\n",
    "x = 1j #0+1j\n",
    "type(x)\n",
    "\n",
    "\n",
    "x = [\"apple\", \"banana\", \"cherry\"]\n",
    "type(x)\n",
    "\n",
    "\n",
    "x = (\"apple\", \"banana\", \"cherry\")\n",
    "type(x)\n",
    "\n",
    "\n",
    "x = range(6)\n",
    "type(x)\n",
    "\n",
    "\n",
    "x = {\"name\" : \"John\", \"age\" : 36}\n",
    "type(x)\n",
    "\n",
    "\n",
    "\n",
    "x = {\"apple\", \"banana\", \"cherry\"}\n",
    "type(x)\n",
    "\n",
    "\n",
    "x = frozenset({\"apple\", \"banana\", \"cherry\"})\n",
    "type(x)\n",
    "\n",
    "\n",
    "x = True\n",
    "type(x)\n",
    "\n",
    "\n",
    "x=b\"Hello\"\n",
    "type(x)\n",
    "\n",
    "\n",
    "x=bytearray(5)\n",
    "type(x)\n",
    "\n",
    "\n",
    "x=memoryview(bytes(5))\n",
    "\n",
    "type(x) #print(type(x))"
   ]
  },
  {
   "cell_type": "code",
   "execution_count": null,
   "id": "3b52ae9b",
   "metadata": {},
   "outputs": [],
   "source": [
    "a = 10\n",
    "b = 12\n",
    "print(a+b)\n",
    "print(a/(a-a)) #10/0\n",
    "print(a*b)"
   ]
  },
  {
   "cell_type": "markdown",
   "id": "c7c2d3a7",
   "metadata": {},
   "source": [
    "### fundamental  steps to develop a program \n",
    "\n",
    "- The fundamental phases to develop any program or app or problem statement are\n",
    "\n",
    "\n",
    "#### 1. Algorithm  : Step by Step process to solve any specific task or problem statement.\n",
    "        -written using a single statements in English \n",
    "        -Should Have Definite Start and End  , Should Have Definite Number of steps.\n",
    "        - one problem can have many different algorithms \n",
    "        \n",
    "           ex:Preparing a tea\n",
    "   \n",
    "      ex: Multiply two numbers\n",
    "\n",
    "      STEP 1: START\n",
    "\n",
    "      STEP 2:DECLARE num1, num2\n",
    "\n",
    "      STEP 3: READ num1 ,num2\n",
    "\n",
    "      STEP 4: SET product = num1*num2\n",
    "\n",
    "      STEP 5: PRINT product\n",
    "\n",
    "      STEP6:END\n",
    "  \n",
    "  \n",
    "#### 2. Flow charts : Pictorial Representation of steps  , using symbols\n",
    "\n",
    "\n",
    "\n",
    "\n",
    "#### 3. Pseudocode :  Its similar version of programming code written in plain english , independent of program Lang\n",
    "\n",
    "        - It doesnt require any strict programming languange syntax\n",
    "        - It is easily readable and modular form\n",
    "        - Its is Code like language \n",
    "        ex:\n",
    "        \n",
    "        BEGIN \n",
    "        \n",
    "            DECLARE num\n",
    "            READ num \n",
    "            \n",
    "            IF num MOD 2 is ZERO THEN\n",
    "                PRINT \"EVEN\"\n",
    "            ELSE THEN\n",
    "                PRINT \"ODD\"\n",
    "            ENDIF\n",
    "        END\n",
    "\n",
    "  "
   ]
  },
  {
   "cell_type": "code",
   "execution_count": null,
   "id": "3e76cb81",
   "metadata": {},
   "outputs": [],
   "source": []
  },
  {
   "cell_type": "markdown",
   "id": "c8547b00",
   "metadata": {},
   "source": [
    "### Statements\n",
    "\n",
    "**A program contains**\n",
    "\n",
    "- sequential statements  : Flow of execution is line by line \n",
    "- control statements    : Flow of execution depends on control expression\n",
    "- Iteratative Statements  : Flow of execution on Loops / Repeated Actions\n",
    "\n",
    "\n",
    "\n",
    "#### Conditional Statements\n",
    "\n",
    "- if  else\n",
    "- elif\n",
    "- nested if else\n",
    "\n",
    "**decision making statements**\n",
    "\n",
    "That is where control structures come in. A control structure directs the order of execution of the statements in a program.\n",
    "\n",
    "\n",
    "\n",
    "        if expr:\n",
    "\n",
    "            statement\n",
    "\n",
    "**Python relies on indentation (whitespace at the beginning of a line) to define scope in the code. Other programming languages often use curly-brackets for this purpose.**\n",
    "\n",
    "\n"
   ]
  },
  {
   "cell_type": "code",
   "execution_count": null,
   "id": "d61f072a",
   "metadata": {},
   "outputs": [],
   "source": [
    "# other languages\n",
    "if(condition){\n",
    "    //body\n",
    "}"
   ]
  },
  {
   "cell_type": "code",
   "execution_count": null,
   "id": "b8cd6582",
   "metadata": {},
   "outputs": [],
   "source": [
    "# syntax\n",
    "if condition:\n",
    "    this part of code runs for truthy conditions\n",
    "    statements1\n",
    "    statements2\n",
    "    "
   ]
  },
  {
   "cell_type": "code",
   "execution_count": null,
   "id": "6c4afd89",
   "metadata": {},
   "outputs": [],
   "source": []
  },
  {
   "cell_type": "code",
   "execution_count": null,
   "id": "abdef51a",
   "metadata": {},
   "outputs": [],
   "source": []
  },
  {
   "cell_type": "code",
   "execution_count": null,
   "id": "841caae2",
   "metadata": {},
   "outputs": [],
   "source": [
    "msg = \"Hi\"\n",
    "\n",
    "if msg == \"Hello\":\n",
    "    print(\"Greeted\")\n",
    "    \n",
    "print(\"next lines\")\n",
    "print(10+20)"
   ]
  },
  {
   "cell_type": "code",
   "execution_count": null,
   "id": "f794f776",
   "metadata": {},
   "outputs": [],
   "source": [
    "if 10>20:\n",
    "    print(\"greater\")"
   ]
  },
  {
   "cell_type": "code",
   "execution_count": null,
   "id": "baebe9fa",
   "metadata": {},
   "outputs": [],
   "source": []
  },
  {
   "cell_type": "code",
   "execution_count": null,
   "id": "5188d644",
   "metadata": {},
   "outputs": [],
   "source": [
    "# syntax\n",
    "if condition:\n",
    "    this part of code runs for truthy conditions\n",
    "else:\n",
    "     this part of code runs for false conditions"
   ]
  },
  {
   "cell_type": "code",
   "execution_count": null,
   "id": "30fd500d",
   "metadata": {},
   "outputs": [],
   "source": [
    "if 10>20:\n",
    "    print(\"greater\")\n",
    "else:\n",
    "    print(\"lesser\")"
   ]
  },
  {
   "cell_type": "code",
   "execution_count": null,
   "id": "6905e9bf",
   "metadata": {},
   "outputs": [],
   "source": [
    "if \"a\" > \"A\":\n",
    "    print(\"Hello\")\n",
    "else:\n",
    "    print(\"Bye\")"
   ]
  },
  {
   "cell_type": "code",
   "execution_count": null,
   "id": "6012d8b8",
   "metadata": {},
   "outputs": [],
   "source": [
    "num = 11\n",
    "\n",
    "\n",
    "if (num%2==0):\n",
    "    print(\"EVEN\")\n",
    "    print(\"BLOCK\")\n",
    "else:\n",
    "    print(\"ODD\")\n",
    "    print(\"BLOCK\")"
   ]
  },
  {
   "cell_type": "code",
   "execution_count": null,
   "id": "a045c806",
   "metadata": {},
   "outputs": [],
   "source": [
    "n = int(input(\"enter the n value:\"))\n",
    "\n",
    "if (n%2==0):\n",
    "    print(\"even\")\n",
    "else:\n",
    "    print(\"odd\")"
   ]
  },
  {
   "cell_type": "code",
   "execution_count": null,
   "id": "0fb58c9d",
   "metadata": {},
   "outputs": [],
   "source": [
    "if not True:\n",
    "    print(\"Hello\")\n",
    "else:\n",
    "    print(\"Bye\")"
   ]
  },
  {
   "cell_type": "code",
   "execution_count": null,
   "id": "53e55a47",
   "metadata": {},
   "outputs": [],
   "source": [
    "print(not True)"
   ]
  },
  {
   "cell_type": "code",
   "execution_count": null,
   "id": "e1025386",
   "metadata": {},
   "outputs": [],
   "source": [
    "if 10<1:\n",
    "    print(\"TRUE\")\n",
    "else:\n",
    "    print(\"FALSE\")"
   ]
  },
  {
   "cell_type": "code",
   "execution_count": null,
   "id": "72e2eb3d",
   "metadata": {},
   "outputs": [],
   "source": [
    "print(type(10) is int)"
   ]
  },
  {
   "cell_type": "code",
   "execution_count": null,
   "id": "39d64101",
   "metadata": {},
   "outputs": [],
   "source": [
    "if type(\"10\") is int:\n",
    "    print(\"True\")\n",
    "    print(\"True Block\")\n",
    "else:\n",
    "    print(\"False\")\n",
    "    print(\"False block\")"
   ]
  },
  {
   "cell_type": "code",
   "execution_count": null,
   "id": "228f7c83",
   "metadata": {},
   "outputs": [],
   "source": []
  },
  {
   "cell_type": "code",
   "execution_count": null,
   "id": "457aba87",
   "metadata": {},
   "outputs": [],
   "source": [
    "num1=10\n",
    "num2=10\n",
    "if (num1==num2):\n",
    "    print(\"EQUAL\")\n",
    "    print(\"world\")\n",
    "    print(\"hello\")\n",
    "    print(\"IF BLOCK\")\n",
    "else:\n",
    "    print(\"NOT EQUAL\")"
   ]
  },
  {
   "cell_type": "code",
   "execution_count": null,
   "id": "423ac291",
   "metadata": {},
   "outputs": [],
   "source": [
    "else:\n",
    "    print(\"hello\")"
   ]
  },
  {
   "cell_type": "code",
   "execution_count": null,
   "id": "ff057fed",
   "metadata": {},
   "outputs": [],
   "source": [
    "num1 = 10\n",
    "num2 = 100\n",
    "\n",
    "if num1 < num2: # if True Go Inside Else GOTO to the statement after IF block\n",
    "    print(num2 ,\"Greater\")\n",
    "    print(\"A\")\n",
    "    print(\"B\")\n",
    "    \n",
    "print(\"next statements\")\n",
    "print(\"next next \")"
   ]
  },
  {
   "cell_type": "code",
   "execution_count": null,
   "id": "c11017f3",
   "metadata": {},
   "outputs": [],
   "source": []
  },
  {
   "cell_type": "code",
   "execution_count": null,
   "id": "adca9789",
   "metadata": {},
   "outputs": [],
   "source": [
    "num1 = 1\n",
    "num2 = 4\n",
    "if num1>num2:\n",
    "    print(num1 ,\"Greater\")\n",
    "else:\n",
    "    print(num1 ,\"<\" ,num2)\n",
    "    print('{} is less than {}'.format(num1,num2))# string 2.x\n",
    "    print(f'{num1} is less  than {num2}') #3.x"
   ]
  },
  {
   "cell_type": "code",
   "execution_count": null,
   "id": "ff8c0c3a",
   "metadata": {},
   "outputs": [],
   "source": []
  },
  {
   "cell_type": "code",
   "execution_count": null,
   "id": "1da69c95",
   "metadata": {},
   "outputs": [],
   "source": [
    "if 'bar' in ['bar', 'baz', 'qux']:\n",
    "    print('Expression was true')\n",
    "    print('Executing statement in suite')\n",
    "    print('...')\n",
    "    print('Done.')\n",
    "\n",
    "else:\n",
    "    print(\"Not Present\")\n",
    "print('After conditional')"
   ]
  },
  {
   "cell_type": "code",
   "execution_count": null,
   "id": "cc4cb95d",
   "metadata": {},
   "outputs": [],
   "source": []
  },
  {
   "cell_type": "code",
   "execution_count": null,
   "id": "5aef8f08",
   "metadata": {},
   "outputs": [],
   "source": [
    "if type(\"Kumar\") is str:\n",
    "    print(\"Hey Hi\")"
   ]
  },
  {
   "cell_type": "code",
   "execution_count": null,
   "id": "b43442e2",
   "metadata": {},
   "outputs": [],
   "source": []
  },
  {
   "cell_type": "code",
   "execution_count": null,
   "id": "6205944e",
   "metadata": {},
   "outputs": [],
   "source": [
    "if 'zy' in 'python':                # Truthy\n",
    "    print('yes')\n",
    "else:\n",
    "    print(\"NO\")"
   ]
  },
  {
   "cell_type": "code",
   "execution_count": null,
   "id": "3f99f348",
   "metadata": {},
   "outputs": [],
   "source": []
  },
  {
   "cell_type": "code",
   "execution_count": null,
   "id": "7f57d8e4",
   "metadata": {},
   "outputs": [],
   "source": [
    "tomorrow = \"No Holiday\"\n",
    "\n",
    "if tomorrow == \"Holiday\":\n",
    "    print(\"Plan a Movie !\")\n",
    "\n",
    "else:\n",
    "    print(\"Gotta go Office !\")"
   ]
  },
  {
   "cell_type": "code",
   "execution_count": null,
   "id": "470a362f",
   "metadata": {},
   "outputs": [],
   "source": []
  },
  {
   "cell_type": "code",
   "execution_count": null,
   "id": "ae73aae1",
   "metadata": {},
   "outputs": [],
   "source": [
    "num = int(input()) # default input() will read only strings \"10\" \"10.2\"\n",
    "\n",
    "if (num % 2 == 0): # True\n",
    "    print(\"it is an  even\")\n",
    "\n",
    "else: #False\n",
    "    print(\"it is an odd\")\n",
    "    "
   ]
  },
  {
   "cell_type": "code",
   "execution_count": null,
   "id": "e0b693a6",
   "metadata": {},
   "outputs": [],
   "source": []
  },
  {
   "cell_type": "markdown",
   "id": "201a2446",
   "metadata": {},
   "source": [
    "#### elif\n",
    "\n",
    "- Handling the mutliple conditions \n",
    "- The elif keyword in python a way of saying \"if the previous conditions were not true, then try this condition\"."
   ]
  },
  {
   "cell_type": "code",
   "execution_count": null,
   "id": "38ffdda9",
   "metadata": {},
   "outputs": [],
   "source": [
    "a = 40\n",
    "b = 34\n",
    "if b > a:\n",
    "    print(\"b is greater than a\")\n",
    "elif a%2==0: \n",
    "    print(\"a and b are equal\")\n",
    "else:\n",
    "    print(\"not equal\")\n",
    "\n",
    "print(\"Hello \")"
   ]
  },
  {
   "cell_type": "code",
   "execution_count": null,
   "id": "81c7bda9",
   "metadata": {},
   "outputs": [],
   "source": []
  },
  {
   "cell_type": "code",
   "execution_count": null,
   "id": "bc3a85d6",
   "metadata": {},
   "outputs": [],
   "source": [
    "name = input(\"Enter the Name\")\n",
    "\n",
    "\n",
    "if name == 'Fred':\n",
    "    print('Hello Fred')\n",
    "elif name == 'Xander':\n",
    "    print('Hello Xander')\n",
    "elif name == 'Joe':\n",
    "    print('Hello Joe')\n",
    "elif name == \"Joe\":\n",
    "    print('Hello Arnold')\n",
    "else:\n",
    "    print(\"I don't know who you are!\")\n",
    "\n",
    "print(\"Normal flow\")\n",
    "print(10+20)"
   ]
  },
  {
   "cell_type": "code",
   "execution_count": null,
   "id": "fd8cc69c",
   "metadata": {},
   "outputs": [],
   "source": []
  },
  {
   "cell_type": "markdown",
   "id": "450fbde2",
   "metadata": {},
   "source": [
    "#### multiple if's\n",
    "    - #In multiple if's , each and very condition is checked =>  even if the previous if is true or false"
   ]
  },
  {
   "cell_type": "code",
   "execution_count": null,
   "id": "a51035ab",
   "metadata": {},
   "outputs": [],
   "source": [
    "#in multiple if , each and very condition is checked =>  even if the previous if is true or false.\n",
    "data = 10\n",
    "if data>=10:\n",
    "    print(\"HI\")\n",
    "    \n",
    "if type(data) is int:\n",
    "    print(\"Hey\")\n",
    "    \n",
    "if type(data) is str:\n",
    "    print(\"Hello\")\n",
    "    \n",
    "else:\n",
    "    print(\"Bye Bye\")\n",
    "print(\"Continue from if else\")"
   ]
  },
  {
   "cell_type": "code",
   "execution_count": null,
   "id": "598d42b0",
   "metadata": {},
   "outputs": [],
   "source": []
  },
  {
   "cell_type": "code",
   "execution_count": null,
   "id": "5d2b6ba5",
   "metadata": {},
   "outputs": [],
   "source": [
    "data = 10\n",
    "if data>=10:\n",
    "    print(\"HI\")\n",
    "    \n",
    "elif type(data) is int:\n",
    "    print(\"Hey\")\n",
    "    \n",
    "elif type(data) is str:\n",
    "    print(\"Hello\")\n",
    "    \n",
    "else:\n",
    "    print(\"Bye Bye\")\n",
    "    \n",
    "print(\"Continue from if else\")"
   ]
  },
  {
   "cell_type": "markdown",
   "id": "1951e61c",
   "metadata": {},
   "source": [
    "## Try these\n",
    "    "
   ]
  },
  {
   "cell_type": "code",
   "execution_count": null,
   "id": "87b048e0",
   "metadata": {},
   "outputs": [],
   "source": [
    "#grade example \n",
    "\n",
    "marks = [10,9,8,7,6]\n",
    "\n",
    "sum1 = sum(marks)\n",
    "print(\"sum is \",sum1)\n",
    "n = len(marks)\n",
    "\n",
    "avg = sum1/n\n",
    "\n",
    "print(\"the average is \",avg)\n",
    "\n",
    "print(avg,sum1)\n",
    "\n",
    "if avg > 9:\n",
    "    print(\"A\")\n",
    "elif avg>8:\n",
    "    print(\"B\")\n",
    "elif avg>7:\n",
    "    print(\"C\")\n",
    "elif avg>6:\n",
    "    print(\"D\")\n",
    "else:\n",
    "    print(\"Fail\")"
   ]
  },
  {
   "cell_type": "code",
   "execution_count": null,
   "id": "4f95cc3f",
   "metadata": {},
   "outputs": [],
   "source": []
  },
  {
   "cell_type": "code",
   "execution_count": null,
   "id": "ef3991a8",
   "metadata": {},
   "outputs": [],
   "source": [
    "#grade example \n",
    "\n",
    "marks = [10,9,8,7,6]\n",
    "\n",
    "sum1 = sum(marks)\n",
    "print(\"sum is \",sum1)\n",
    "n = len(marks)\n",
    "avg = sum1/n\n",
    "\n",
    "print(\"the average is \",avg)\n",
    "\n",
    "# print(avg,sum1)\n",
    "\n",
    "if avg > 9:\n",
    "    print(\"A\")\n",
    "if avg>8:\n",
    "    print(\"B\")\n",
    "if avg>7:\n",
    "    print(\"C\")\n",
    "if avg>6:\n",
    "    print(\"D\")\n",
    "else:\n",
    "    print(\"Fail\")\n",
    "\n",
    "                "
   ]
  },
  {
   "cell_type": "code",
   "execution_count": null,
   "id": "d2bac17d",
   "metadata": {},
   "outputs": [],
   "source": []
  },
  {
   "cell_type": "code",
   "execution_count": null,
   "id": "5cfbe641",
   "metadata": {},
   "outputs": [],
   "source": []
  },
  {
   "cell_type": "markdown",
   "id": "6ccf90ef",
   "metadata": {},
   "source": [
    "### nested if\n",
    "    - writing if & else block inside another if & else block\n"
   ]
  },
  {
   "cell_type": "code",
   "execution_count": null,
   "id": "85ae7ef3",
   "metadata": {},
   "outputs": [],
   "source": [
    "passwds = {\"phonepwd\":\"123\"}\n",
    "\n",
    "input_passwd = input(\"enter the passwd to unlock the device: \")\n",
    "\n",
    "if (input_passwd == passwds[\"phonepwd\"]):\n",
    "    print('Welcome unlocked')\n",
    "else:\n",
    "    print('Please try again')"
   ]
  },
  {
   "cell_type": "code",
   "execution_count": null,
   "id": "0fb314ca",
   "metadata": {},
   "outputs": [],
   "source": []
  },
  {
   "cell_type": "code",
   "execution_count": null,
   "id": "2f2794d1",
   "metadata": {},
   "outputs": [],
   "source": [
    "# nested if \n",
    "num = 10\n",
    "if num>2:\n",
    "    num -=2\n",
    "    if num%2==0:\n",
    "        print(num)\n",
    "        num-=3\n",
    "        if num%2==1:\n",
    "            print(num)"
   ]
  },
  {
   "cell_type": "code",
   "execution_count": null,
   "id": "89d39758",
   "metadata": {},
   "outputs": [],
   "source": [
    "lst = [(10,27.2,\"Kumar\"),[297.2,11,\"Rajamoni\"],{10,29.2,\"Radha\"},(12,22.2,\"Ravi\")]\n",
    "\n",
    "for data in lst:\n",
    "    if type(data) is tuple:\n",
    "        for ch in data:\n",
    "            if type(ch) is int:\n",
    "                print(ch)"
   ]
  },
  {
   "cell_type": "code",
   "execution_count": null,
   "id": "b7031833",
   "metadata": {},
   "outputs": [],
   "source": [
    "# voting example \n",
    "\n",
    "age = int(input(\"Enter the Age?: \"))\n",
    "\n",
    "\n",
    "if age>=18:\n",
    "    voter_id = input(\"Do you have Voter Id?: Y/N\")\n",
    "    if voter_id == \"Y\":\n",
    "        print(\"Eligible to vote \")\n",
    "    else:\n",
    "        print(\"Apply for the card\")\n",
    "else:\n",
    "    print(\"not eligible to vote\")\n",
    "   "
   ]
  },
  {
   "cell_type": "code",
   "execution_count": null,
   "id": "15c53c4e",
   "metadata": {},
   "outputs": [],
   "source": []
  },
  {
   "cell_type": "code",
   "execution_count": null,
   "id": "98d427fa",
   "metadata": {},
   "outputs": [],
   "source": [
    "a=int(input(\"Enter num1=\"))\n",
    "b=int(input(\"Enter num2=\"))\n",
    "c=int(input(\"Enter num3=\"))\n",
    "# 3 9 6\n",
    "if a>b:\n",
    "    if a>c:\n",
    "        print(a)\n",
    "    else:\n",
    "        print(c)\n",
    "else:\n",
    "    if(b>c):\n",
    "        print(b)\n",
    "    else:\n",
    "        print(c)"
   ]
  },
  {
   "cell_type": "code",
   "execution_count": null,
   "id": "a7934dd3",
   "metadata": {},
   "outputs": [],
   "source": [
    "# optimized\n",
    "\n",
    "\n",
    "a=int(input(\"Enter num1: \"))\n",
    "b=int(input(\"Enter num2: \"))\n",
    "c=int(input(\"Enter num3: \"))\n",
    "\n",
    "if (a>b and a>c):\n",
    "    print(a)\n",
    "elif (b>a and b>c):\n",
    "    print(b)\n",
    "else:\n",
    "    print(c)"
   ]
  },
  {
   "cell_type": "code",
   "execution_count": null,
   "id": "ddfbc4c6",
   "metadata": {},
   "outputs": [],
   "source": []
  },
  {
   "cell_type": "code",
   "execution_count": null,
   "id": "61c28d71",
   "metadata": {},
   "outputs": [],
   "source": []
  },
  {
   "cell_type": "code",
   "execution_count": null,
   "id": "4f464d40",
   "metadata": {},
   "outputs": [],
   "source": [
    "#excercise \n",
    "\n",
    "\n",
    "a =  int(input()) #5\n",
    "b = int(input())  #2\n",
    "\n",
    "if a>5:\n",
    "    if a>=10:\n",
    "        print(\" If Block It's greater\")\n",
    "    else:\n",
    "        print(\"It's not greater\")\n",
    "else:\n",
    "    a+=5 #a = a+5\n",
    "    b=-5\n",
    "    if(a>=10):\n",
    "        print(\" Else Block It's greater\")\n",
    "    else:\n",
    "        print(\"Lesser\")"
   ]
  },
  {
   "cell_type": "code",
   "execution_count": null,
   "id": "5594063d",
   "metadata": {},
   "outputs": [],
   "source": [
    "num =  int(input(\"Enter the NUM \")) #10\n",
    "if num<=10:\n",
    "    num-=3\n",
    "    if num<=8:\n",
    "        num-=2\n",
    "        if num<=5:\n",
    "            num+=2\n",
    "            if num<=0:\n",
    "                print(\"Hello\")\n",
    "            else:\n",
    "                print(\"Bye\")\n",
    "        else:\n",
    "            print(\"else-1\")\n",
    "    else:\n",
    "        print(\"else -2\")\n",
    "else:\n",
    "    print(\"else -3\")"
   ]
  },
  {
   "cell_type": "code",
   "execution_count": null,
   "id": "01802654",
   "metadata": {},
   "outputs": [],
   "source": []
  },
  {
   "cell_type": "code",
   "execution_count": null,
   "id": "9fc2a28c",
   "metadata": {},
   "outputs": [],
   "source": []
  },
  {
   "cell_type": "markdown",
   "id": "fcfc5ed8",
   "metadata": {},
   "source": [
    "####  Short Hand If else\n",
    "    If you have only one statement to execute, \n",
    "     \n",
    "     you can put it on the same line as the if statement.\n",
    "    "
   ]
  },
  {
   "cell_type": "code",
   "execution_count": null,
   "id": "30d1df30",
   "metadata": {},
   "outputs": [],
   "source": [
    "if type(\"Kumar\") is str:print(\"text data\")\n",
    "else: print(\"non textual\")"
   ]
  },
  {
   "cell_type": "code",
   "execution_count": null,
   "id": "842637f6",
   "metadata": {},
   "outputs": [],
   "source": [
    "a = True  #1\n",
    "\n",
    "b= False  #0\n",
    "\n",
    "if a>b: print(\"A is Greater\")\n",
    "print(a,b)"
   ]
  },
  {
   "cell_type": "code",
   "execution_count": null,
   "id": "c08a68ec",
   "metadata": {},
   "outputs": [],
   "source": []
  },
  {
   "cell_type": "code",
   "execution_count": null,
   "id": "bac8d192",
   "metadata": {},
   "outputs": [],
   "source": [
    "\n",
    "print(\"True\") if a<b else print(\"False\")"
   ]
  },
  {
   "cell_type": "code",
   "execution_count": null,
   "id": "311f8a53",
   "metadata": {},
   "outputs": [],
   "source": []
  },
  {
   "cell_type": "markdown",
   "id": "07e609f9",
   "metadata": {},
   "source": [
    "#### excercise "
   ]
  },
  {
   "cell_type": "code",
   "execution_count": null,
   "id": "ac5a4d39",
   "metadata": {},
   "outputs": [],
   "source": [
    "print(len([]))\n",
    "print(bool(()))\n",
    "print(bool(0))\n",
    "print(bool(0.0))\n",
    "print(bool(\"\"))"
   ]
  },
  {
   "cell_type": "code",
   "execution_count": null,
   "id": "db1688f2",
   "metadata": {},
   "outputs": [],
   "source": [
    "# note : bool(nothing or len : 0) -- False\n",
    "\n",
    "# bool(something) --- True"
   ]
  },
  {
   "cell_type": "code",
   "execution_count": null,
   "id": "fa999b07",
   "metadata": {},
   "outputs": [],
   "source": [
    "print(bool(\"b\"))"
   ]
  },
  {
   "cell_type": "code",
   "execution_count": null,
   "id": "84ac2a14",
   "metadata": {},
   "outputs": [],
   "source": [
    "if \"\":\n",
    "    print(\"hello\")\n",
    "    print(\"True\")\n",
    "else:\n",
    "    print('false block')"
   ]
  },
  {
   "cell_type": "code",
   "execution_count": null,
   "id": "aef18e40",
   "metadata": {},
   "outputs": [],
   "source": [
    "print(bool([10]))"
   ]
  },
  {
   "cell_type": "code",
   "execution_count": null,
   "id": "63eac51e",
   "metadata": {},
   "outputs": [],
   "source": [
    "if [10]:\n",
    "    print(\"hello\")\n",
    "    print(\"True\")\n",
    "else:\n",
    "    print(\"Bye bye\")"
   ]
  },
  {
   "cell_type": "code",
   "execution_count": null,
   "id": "70f718f4",
   "metadata": {},
   "outputs": [],
   "source": [
    "lst = []\n",
    "if lst:\n",
    "    print(max(lst))\n",
    "else:\n",
    "    print(\"lst is empty\")"
   ]
  },
  {
   "cell_type": "code",
   "execution_count": null,
   "id": "c8cf71fe",
   "metadata": {},
   "outputs": [],
   "source": [
    "# summary \n",
    "if \n",
    "if else\n",
    "if elif elif elif .... else\n",
    "if if if .... if else\n",
    "nested if \n",
    "nested if else.\n",
    "\n"
   ]
  },
  {
   "cell_type": "code",
   "execution_count": null,
   "id": "6c73a6cf",
   "metadata": {},
   "outputs": [],
   "source": [
    "print(10%3)\n",
    "print(10//3)\n",
    "expandtabs()"
   ]
  },
  {
   "cell_type": "code",
   "execution_count": null,
   "id": "14925df1",
   "metadata": {},
   "outputs": [],
   "source": [
    "s = \"He\\tll\\to\"\n",
    "\n",
    "s1 = s.expandtabs()\n",
    "\n",
    "print(s1,len(s1))"
   ]
  },
  {
   "cell_type": "code",
   "execution_count": null,
   "id": "d72168d4",
   "metadata": {},
   "outputs": [],
   "source": []
  }
 ],
 "metadata": {
  "kernelspec": {
   "display_name": "Python 3 (ipykernel)",
   "language": "python",
   "name": "python3"
  },
  "language_info": {
   "codemirror_mode": {
    "name": "ipython",
    "version": 3
   },
   "file_extension": ".py",
   "mimetype": "text/x-python",
   "name": "python",
   "nbconvert_exporter": "python",
   "pygments_lexer": "ipython3",
   "version": "3.10.9"
  }
 },
 "nbformat": 4,
 "nbformat_minor": 5
}
