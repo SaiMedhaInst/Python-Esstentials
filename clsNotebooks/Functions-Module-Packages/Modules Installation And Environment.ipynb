{
 "cells": [
  {
   "cell_type": "markdown",
   "metadata": {},
   "source": [
    "#### Installation\n",
    "\n",
    "\n",
    "### what is pip?\n",
    "\n",
    "- pip stands for python inline package manager\n",
    "- pip is the standard package manager for Python. It allows you to install and manage additional packages that are not part of the Python standard library. This tutorial is an introduction to pip for new Pythonistas.\n",
    "\n",
    "- Python is considered a batteries included language. \n",
    "- Python standard library includes an extensive set of packages and modules to help developers with their scripts and applications.\n",
    "\n",
    "\n",
    "\n",
    "\n",
    "\n",
    "\n",
    "\n",
    "#### commands\n",
    "\n",
    "pip --version\n",
    "\n",
    "python -m pip install --upgrade pip\n",
    "\n",
    "pip list it will list all the installed packages\n",
    " \n",
    "pip show  - to show the meta data of the library\n",
    "\n",
    "pip install package_name\n",
    "\n",
    "pip uninstall package_name"
   ]
  },
  {
   "cell_type": "markdown",
   "metadata": {},
   "source": [
    "### virtual environment\n",
    "\n",
    "- A virtual environment is a tool that helps to keep dependencies required by different projects separate by creating isolated python virtual environments for them. This is one of the most important tools that most of the Python developers use\n",
    "\n",
    "- Its like place the all things at one place to develop.\n",
    "\n",
    "#### Why do we need a virtual environment?\n",
    "\n",
    "- for maintaining isolated dependencies for each projects\n",
    "- updating or deleting the libraries wont conflicts the other projects\n",
    "\n",
    "\n",
    "#### How to create?\n",
    "\n",
    "method 1:\n",
    "\n",
    "pip install virtualenv\n",
    "\n",
    "\n",
    "virtualenv --version\n",
    "\n",
    "\n",
    "virtualenv create_of_your_environment\n",
    "\n",
    "\n",
    "method 2:\n",
    "\n",
    " python -m venv nameofenv\n",
    "\n",
    "#### # to activate the env\n",
    "\n",
    ".\\name\\Scripts\\activate\n",
    "\n",
    "#### to deactivate the env\n",
    "- deactivate\n",
    "or\n",
    "- cnt+d"
   ]
  },
  {
   "cell_type": "markdown",
   "metadata": {},
   "source": [
    "### Install multiple modules \n",
    "    > requirements.txt\n",
    "        - flask\n",
    "        - pandad\n",
    "        - numpy\n",
    "    \n",
    "    > pip install -r requirements.txt"
   ]
  },
  {
   "cell_type": "code",
   "execution_count": null,
   "metadata": {},
   "outputs": [],
   "source": []
  }
 ],
 "metadata": {
  "kernelspec": {
   "display_name": "Python 3",
   "language": "python",
   "name": "python3"
  },
  "language_info": {
   "codemirror_mode": {
    "name": "ipython",
    "version": 3
   },
   "file_extension": ".py",
   "mimetype": "text/x-python",
   "name": "python",
   "nbconvert_exporter": "python",
   "pygments_lexer": "ipython3",
   "version": "3.8.8"
  }
 },
 "nbformat": 4,
 "nbformat_minor": 4
}
